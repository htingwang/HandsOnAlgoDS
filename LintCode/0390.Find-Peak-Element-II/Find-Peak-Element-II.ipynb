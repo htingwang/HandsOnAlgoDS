{
 "cells": [
  {
   "cell_type": "markdown",
   "metadata": {},
   "source": [
    "# 390. Find Peak Element II\n",
    "\n",
    "#### https://www.lintcode.com/problem/find-peak-element-ii/"
   ]
  },
  {
   "cell_type": "markdown",
   "metadata": {},
   "source": [
    "# Approach 1: Binary Search"
   ]
  },
  {
   "cell_type": "code",
   "execution_count": 5,
   "metadata": {},
   "outputs": [],
   "source": [
    "class Solution:\n",
    "    # @param A: An list of list integer\n",
    "    # @return: The index of position is a list of integer, for example [2,2]\n",
    "    def findPeakII(self, A):\n",
    "        if not A or not A[0]: return [-1, -1]\n",
    "        left, right, up, down = 0, len(A[0]) - 1, 0, len(A) - 1\n",
    "        while left + 1 < right or up + 1 < down:\n",
    "            if right - left > down - up:\n",
    "                col = (left + right) // 2\n",
    "                row = self.find_col_peak(A, col, up, down)\n",
    "                if self.peak(A, row, col): return [row, col]\n",
    "                if A[row][col - 1] > A[row][col]: right = col\n",
    "                else: left = col\n",
    "            else:\n",
    "                row = (up + down) // 2\n",
    "                col = self.find_row_peak(A, row, left, right)\n",
    "                if self.peak(A, row, col): return [row, col]\n",
    "                if A[row - 1][col] > A[row][col]: down = row\n",
    "                else: up = row\n",
    "        for row in [up, down]:\n",
    "            for col in [left, right]:\n",
    "                if self.peak(A, row, col): return [row, col]\n",
    "        return [-1, -1]\n",
    "    \n",
    "    def peak(self, A, row, col):\n",
    "        return A[row][col] > max(A[row - 1][col], A[row + 1][col], A[row][col - 1], A[row][col + 1])\n",
    "    \n",
    "    def find_row_peak(self, A, row, left, right):\n",
    "        val = max([A[row][col] for col in range(left, right + 1)])\n",
    "        for col in range(left, right + 1):\n",
    "            if A[row][col] == val: return col\n",
    "            \n",
    "    def find_col_peak(self, A, col, up, down):\n",
    "        val = max([A[row][col] for row in range(up, down + 1)])\n",
    "        for row in range(up, down + 1):\n",
    "            if A[row][col] == val: return row"
   ]
  },
  {
   "cell_type": "markdown",
   "metadata": {},
   "source": [
    "# Verification"
   ]
  },
  {
   "cell_type": "code",
   "execution_count": 6,
   "metadata": {},
   "outputs": [
    {
     "name": "stdout",
     "output_type": "stream",
     "text": [
      "Input:    [[1, 2, 3, 4, 5], [16, 41, 23, 22, 6], [15, 17, 24, 21, 7], [14, 18, 19, 20, 8], [13, 12, 11, 10, 9]]\n",
      "Output:   [2, 2]\n",
      "Expected: [1,1] or [2,2]\n",
      "\n"
     ]
    }
   ],
   "source": [
    "testcases = [[[1,2,3,4,5],[16,41,23,22,6],[15,17,24,21,7],[14,18,19,20,8],[13,12,11,10,9]]]\n",
    "expected = [\"[1,1] or [2,2]\"]\n",
    "\n",
    "outputs = []\n",
    "sol = Solution();\n",
    "\n",
    "for case in zip(testcases, expected):\n",
    "    print(\"Input:    \" + str(case[0]))\n",
    "    print(\"Output:   \" + str(sol.findPeakII(case[0])))\n",
    "    print(\"Expected: \" + str(case[1]) + \"\\n\")"
   ]
  }
 ],
 "metadata": {
  "kernelspec": {
   "display_name": "Python 3",
   "language": "python",
   "name": "python3"
  },
  "language_info": {
   "codemirror_mode": {
    "name": "ipython",
    "version": 3
   },
   "file_extension": ".py",
   "mimetype": "text/x-python",
   "name": "python",
   "nbconvert_exporter": "python",
   "pygments_lexer": "ipython3",
   "version": "3.7.3"
  }
 },
 "nbformat": 4,
 "nbformat_minor": 2
}
