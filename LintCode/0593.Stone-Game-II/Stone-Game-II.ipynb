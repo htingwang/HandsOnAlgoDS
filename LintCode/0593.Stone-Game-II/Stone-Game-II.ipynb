{
 "cells": [
  {
   "cell_type": "markdown",
   "metadata": {},
   "source": [
    "# 593. Stone Game II\n",
    "#### https://www.lintcode.com/problem/stone-game-ii"
   ]
  },
  {
   "cell_type": "markdown",
   "metadata": {},
   "source": [
    "# Approach 1: Dynamic Programming"
   ]
  },
  {
   "cell_type": "code",
   "execution_count": 83,
   "metadata": {},
   "outputs": [],
   "source": [
    "import sys\n",
    "class Solution:\n",
    "    \"\"\"\n",
    "    @param A: An integer array\n",
    "    @return: An integer\n",
    "    \"\"\"\n",
    "    def stoneGame2(self, A):\n",
    "        # write your code here\n",
    "        if not A: return 0\n",
    "        n = len(A)\n",
    "        s = [0]\n",
    "        dp = [[sys.maxsize] * (2 * n) for _ in range(2 * n)]\n",
    "        \n",
    "        for i in range(2 * n):\n",
    "            s.append(s[i] + A[i % n])\n",
    "            dp[i][i] = 0 \n",
    "        \n",
    "        for length in range(2, 2 * n + 1):\n",
    "            for i in range(2 * n + 1 - length):\n",
    "                j = i + length - 1\n",
    "                sub_sum = s[j + 1] - s[i]\n",
    "                for k in range(i, j):\n",
    "                    dp[i][j] = min(dp[i][j], dp[i][k] + dp[k + 1][j] + sub_sum)\n",
    "        \n",
    "        res = sys.maxsize\n",
    "        for i in range(n):\n",
    "            res = min(res, dp[i][i + n - 1])\n",
    "        return res"
   ]
  },
  {
   "cell_type": "markdown",
   "metadata": {},
   "source": [
    "# Verification"
   ]
  },
  {
   "cell_type": "code",
   "execution_count": 82,
   "metadata": {},
   "outputs": [
    {
     "name": "stdout",
     "output_type": "stream",
     "text": [
      "Input:    [1, 1, 4, 4]\n",
      "Output:   18\n",
      "Expected: 18\n",
      "\n",
      "Input:    [1, 1, 1, 1]\n",
      "Output:   8\n",
      "Expected: 8\n",
      "\n"
     ]
    }
   ],
   "source": [
    "testcases = [[1,1,4,4],[1,1,1,1]]\n",
    "expected = [18,8]\n",
    "\n",
    "outputs = []\n",
    "sol = Solution();\n",
    "\n",
    "for case in zip(testcases, expected):\n",
    "    print(\"Input:    \" + str(case[0]))\n",
    "    print(\"Output:   \" + str(sol.stoneGame2(case[0])))\n",
    "    print(\"Expected: \" + str(case[1]) + \"\\n\")"
   ]
  }
 ],
 "metadata": {
  "kernelspec": {
   "display_name": "Python 3",
   "language": "python",
   "name": "python3"
  },
  "language_info": {
   "codemirror_mode": {
    "name": "ipython",
    "version": 3
   },
   "file_extension": ".py",
   "mimetype": "text/x-python",
   "name": "python",
   "nbconvert_exporter": "python",
   "pygments_lexer": "ipython3",
   "version": "3.7.3"
  }
 },
 "nbformat": 4,
 "nbformat_minor": 2
}
