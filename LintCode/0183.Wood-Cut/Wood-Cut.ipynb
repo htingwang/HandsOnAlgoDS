{
 "cells": [
  {
   "cell_type": "markdown",
   "metadata": {},
   "source": [
    "# 183. Wood Cut\n",
    "#### https://www.lintcode.com/problem/wood-cut"
   ]
  },
  {
   "cell_type": "markdown",
   "metadata": {},
   "source": [
    "# Approach 1: Binary Search"
   ]
  },
  {
   "cell_type": "code",
   "execution_count": 5,
   "metadata": {},
   "outputs": [],
   "source": [
    "class Solution:\n",
    "    \"\"\"\n",
    "    @param L: Given n pieces of wood with length L[i]\n",
    "    @param k: An integer\n",
    "    @return: The maximum length of the small pieces\n",
    "    \"\"\"\n",
    "    def woodCut(self, L, k):\n",
    "        # write your code here\n",
    "        if not L: return 0\n",
    "        right = max(L)\n",
    "        left = 1\n",
    "        while left <= right:\n",
    "            mid = (left + right) // 2\n",
    "            if self.count(L, mid) >= k:\n",
    "                left = mid + 1\n",
    "            else:\n",
    "                right = mid - 1\n",
    "        return right\n",
    "    def count(self, L, s):\n",
    "        ans = 0\n",
    "        for i in L:\n",
    "            ans += i // s\n",
    "        return ans"
   ]
  },
  {
   "cell_type": "markdown",
   "metadata": {},
   "source": [
    "# Verification"
   ]
  },
  {
   "cell_type": "code",
   "execution_count": 6,
   "metadata": {},
   "outputs": [
    {
     "name": "stdout",
     "output_type": "stream",
     "text": [
      "Input:    ([232, 124, 456], 7)\n",
      "Output:   114\n",
      "Expected: 114\n",
      "\n",
      "Input:    ([1, 2, 3], 7)\n",
      "Output:   0\n",
      "Expected: 0\n",
      "\n",
      "Input:    ([], 15)\n",
      "Output:   0\n",
      "Expected: 0\n",
      "\n"
     ]
    }
   ],
   "source": [
    "testcases = [([232, 124, 456],7),([1, 2, 3],7),([],15)]\n",
    "expected = [114,0,0]\n",
    "\n",
    "outputs = []\n",
    "sol = Solution();\n",
    "\n",
    "for case in zip(testcases, expected):\n",
    "    print(\"Input:    \" + str(case[0]))\n",
    "    print(\"Output:   \" + str(sol.woodCut(case[0][0],case[0][1])))\n",
    "    print(\"Expected: \" + str(case[1]) + \"\\n\")"
   ]
  }
 ],
 "metadata": {
  "kernelspec": {
   "display_name": "Python 3",
   "language": "python",
   "name": "python3"
  },
  "language_info": {
   "codemirror_mode": {
    "name": "ipython",
    "version": 3
   },
   "file_extension": ".py",
   "mimetype": "text/x-python",
   "name": "python",
   "nbconvert_exporter": "python",
   "pygments_lexer": "ipython3",
   "version": "3.7.3"
  }
 },
 "nbformat": 4,
 "nbformat_minor": 2
}
