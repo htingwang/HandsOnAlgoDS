{
 "cells": [
  {
   "cell_type": "markdown",
   "metadata": {},
   "source": [
    "# 397. Longest Continuous Increasing Subsequence\n",
    "#### https://www.lintcode.com/problem/longest-continuous-increasing-subsequence/"
   ]
  },
  {
   "cell_type": "markdown",
   "metadata": {},
   "source": [
    "# Approach 1: Dynamic Programming"
   ]
  },
  {
   "cell_type": "code",
   "execution_count": 1,
   "metadata": {},
   "outputs": [],
   "source": [
    "class Solution:\n",
    "    \"\"\"\n",
    "    @param A: An array of Integer\n",
    "    @return: an integer\n",
    "    \"\"\"\n",
    "    def longestIncreasingContinuousSubsequence(self, A):\n",
    "        # write your code here\n",
    "        if not A: return 0\n",
    "        dp = 2\n",
    "        res = 1\n",
    "        for i in range(2, len(A)):\n",
    "            if (A[i] - A[i - 1]) * (A[i - 1] - A[i - 2]) > 0:\n",
    "                dp += 1\n",
    "            else:\n",
    "                dp = 2\n",
    "            res = max(res, dp)\n",
    "        return res"
   ]
  },
  {
   "cell_type": "markdown",
   "metadata": {},
   "source": [
    "# Verification"
   ]
  },
  {
   "cell_type": "code",
   "execution_count": 3,
   "metadata": {},
   "outputs": [
    {
     "name": "stdout",
     "output_type": "stream",
     "text": [
      "Input:    [5, 1, 2, 3, 4]\n",
      "Output:   4\n",
      "Expected: 4\n",
      "\n",
      "Input:    [10]\n",
      "Output:   1\n",
      "Expected: 1\n",
      "\n",
      "Input:    []\n",
      "Output:   0\n",
      "Expected: 0\n",
      "\n"
     ]
    }
   ],
   "source": [
    "testcases = [[5, 1, 2, 3, 4],[10],[]]\n",
    "expected = [4,1,0]\n",
    "\n",
    "outputs = []\n",
    "sol = Solution();\n",
    "\n",
    "for case in zip(testcases, expected):\n",
    "    print(\"Input:    \" + str(case[0]))\n",
    "    print(\"Output:   \" + str(sol.longestIncreasingContinuousSubsequence(case[0])))\n",
    "    print(\"Expected: \" + str(case[1]) + \"\\n\")"
   ]
  }
 ],
 "metadata": {
  "kernelspec": {
   "display_name": "Python 3",
   "language": "python",
   "name": "python3"
  },
  "language_info": {
   "codemirror_mode": {
    "name": "ipython",
    "version": 3
   },
   "file_extension": ".py",
   "mimetype": "text/x-python",
   "name": "python",
   "nbconvert_exporter": "python",
   "pygments_lexer": "ipython3",
   "version": "3.7.3"
  }
 },
 "nbformat": 4,
 "nbformat_minor": 2
}
