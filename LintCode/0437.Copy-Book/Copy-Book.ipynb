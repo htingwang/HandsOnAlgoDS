{
 "cells": [
  {
   "cell_type": "markdown",
   "metadata": {},
   "source": [
    "# 437. Copy Book\n",
    "#### https://www.lintcode.com/problem/copy-books"
   ]
  },
  {
   "cell_type": "markdown",
   "metadata": {},
   "source": [
    "# Approach 1: Binary Search"
   ]
  },
  {
   "cell_type": "code",
   "execution_count": 39,
   "metadata": {},
   "outputs": [],
   "source": [
    "class Solution:\n",
    "    \"\"\"\n",
    "    @param pages: an array of integers\n",
    "    @param k: An integer\n",
    "    @return: an integer\n",
    "    \"\"\"\n",
    "    def copyBooks(self, pages, k):\n",
    "        # write your code here\n",
    "        if not pages: return 0\n",
    "        left = right = pages[0]\n",
    "        for i in range(1, len(pages)):\n",
    "            left = max(left, pages[i])\n",
    "            right += pages[i]\n",
    "\n",
    "        while left < right:\n",
    "            mid = (left + right) // 2\n",
    "            #print(left, right, mid)\n",
    "            if self.check(pages, k, mid):\n",
    "                right = mid\n",
    "            else:\n",
    "                left = mid + 1\n",
    "        return left\n",
    "    \n",
    "    def check(self, pages, k, time):\n",
    "        num = 1\n",
    "        page_sum = 0\n",
    "        for page in pages:\n",
    "            if page_sum + page <= time:\n",
    "                page_sum += page\n",
    "            else:\n",
    "                page_sum = page\n",
    "                num += 1\n",
    "        return num <= k"
   ]
  },
  {
   "cell_type": "markdown",
   "metadata": {},
   "source": [
    "# Verification"
   ]
  },
  {
   "cell_type": "code",
   "execution_count": 40,
   "metadata": {},
   "outputs": [
    {
     "name": "stdout",
     "output_type": "stream",
     "text": [
      "Input:    ([3, 2, 4], 2)\n",
      "Output:   5\n",
      "Expected: 5\n",
      "\n",
      "Input:    ([3, 2, 4], 3)\n",
      "Output:   4\n",
      "Expected: 4\n",
      "\n",
      "Input:    ([], 1)\n",
      "Output:   0\n",
      "Expected: 0\n",
      "\n",
      "Input:    ([13, 999, 1, 2, 3, 9, 11], 2)\n",
      "Output:   1012\n",
      "Expected: 1012\n",
      "\n"
     ]
    }
   ],
   "source": [
    "testcases = [([3, 2, 4],2),([3, 2, 4],3),([],1),([13,999,1,2,3,9,11],2)]\n",
    "expected = [5,4,0,1012]\n",
    "\n",
    "sol = Solution()\n",
    "\n",
    "for case in zip(testcases, expected):\n",
    "    print(\"Input:    \" + str(case[0]))\n",
    "    print(\"Output:   \" + str(sol.copyBooks(case[0][0],case[0][1])))\n",
    "    print(\"Expected: \" + str(case[1]) + \"\\n\")"
   ]
  }
 ],
 "metadata": {
  "kernelspec": {
   "display_name": "Python 3",
   "language": "python",
   "name": "python3"
  },
  "language_info": {
   "codemirror_mode": {
    "name": "ipython",
    "version": 3
   },
   "file_extension": ".py",
   "mimetype": "text/x-python",
   "name": "python",
   "nbconvert_exporter": "python",
   "pygments_lexer": "ipython3",
   "version": "3.7.3"
  }
 },
 "nbformat": 4,
 "nbformat_minor": 2
}
