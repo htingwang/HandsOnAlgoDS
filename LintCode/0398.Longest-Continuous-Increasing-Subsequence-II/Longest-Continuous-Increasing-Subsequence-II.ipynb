{
 "cells": [
  {
   "cell_type": "markdown",
   "metadata": {},
   "source": [
    "# 398. Longest Continuous Increasing Subsequence II\n",
    "#### https://www.lintcode.com/problem/longest-continuous-increasing-subsequence-ii"
   ]
  },
  {
   "cell_type": "markdown",
   "metadata": {},
   "source": [
    "# Approach 1: Dynamic Programming"
   ]
  },
  {
   "cell_type": "code",
   "execution_count": 26,
   "metadata": {},
   "outputs": [],
   "source": [
    "class Solution:\n",
    "    \"\"\"\n",
    "    @param matrix: A 2D-array of integers\n",
    "    @return: an integer\n",
    "    \"\"\"\n",
    "    def longestContinuousIncreasingSubsequence2(self, matrix):\n",
    "        # write your code here\n",
    "        if not matrix or not matrix[0]: return 0\n",
    "        \n",
    "        m, n = len(matrix), len(matrix[0])\n",
    "        points = []\n",
    "        \n",
    "        for i in range(m):\n",
    "            for j in range(n):\n",
    "                points.append([matrix[i][j], i, j])\n",
    "                \n",
    "        points.sort()\n",
    "        #print(points)\n",
    "        res = 1\n",
    "        longest = {}\n",
    "        for _, (val, i, j) in enumerate(points):\n",
    "            cur = 1\n",
    "            for di, dj in [(-1, 0), (1, 0), (0, -1), (0, 1)]:\n",
    "                ni, nj = i + di, j + dj\n",
    "                if 0 <= ni < m and 0 <= nj < n and (ni, nj) in longest and matrix[ni][nj] < matrix[i][j]:\n",
    "                    cur = max(cur, longest[(ni, nj)] + 1)\n",
    "            longest[(i, j)] = cur\n",
    "            res = max(res, cur)\n",
    "        #print(longest)\n",
    "        return res\n",
    "                "
   ]
  },
  {
   "cell_type": "markdown",
   "metadata": {},
   "source": [
    "# Approach 2: DFS"
   ]
  },
  {
   "cell_type": "code",
   "execution_count": 14,
   "metadata": {},
   "outputs": [],
   "source": [
    "class Solution:\n",
    "    \"\"\"\n",
    "    @param matrix: A 2D-array of integers\n",
    "    @return: an integer\n",
    "    \"\"\"\n",
    "    def longestContinuousIncreasingSubsequence2(self, matrix):\n",
    "        # write your code here\n",
    "        if not matrix or not matrix[0]: return 0\n",
    "        \n",
    "        res = 1\n",
    "        m, n = len(matrix), len(matrix[0])\n",
    "        memo = {}\n",
    "        \n",
    "        for i in range(m):\n",
    "            for j in range(n):\n",
    "                res = max(res, self.dfs(matrix, i, j, memo))\n",
    "        return res\n",
    "    \n",
    "    def dfs(self, matrix, i, j, memo):\n",
    "        if (i, j) in memo:\n",
    "            return memo[(i, j)]\n",
    "        \n",
    "        longest = 1\n",
    "        for di, dj in [(-1, 0), (1, 0), (0, -1), (0, 1)]:\n",
    "            ni, nj = i + di, j + dj\n",
    "            if 0 <= ni < len(matrix) and 0 <= nj < len(matrix[0]) and matrix[ni][nj] > matrix[i][j]:\n",
    "                longest = max(longest, self.dfs(matrix, ni, nj, memo) + 1)\n",
    "                \n",
    "        memo[(i, j)] = longest\n",
    "        return longest"
   ]
  },
  {
   "cell_type": "markdown",
   "metadata": {},
   "source": [
    "# Verification"
   ]
  },
  {
   "cell_type": "code",
   "execution_count": 27,
   "metadata": {},
   "outputs": [
    {
     "name": "stdout",
     "output_type": "stream",
     "text": [
      "Input:    [[1, 2, 3, 4, 5], [16, 17, 24, 23, 6], [15, 18, 25, 22, 7], [14, 19, 20, 21, 8], [13, 12, 11, 10, 9]]\n",
      "Output:   25\n",
      "Expected: 25\n",
      "\n",
      "Input:    [[1, 2], [5, 3]]\n",
      "Output:   4\n",
      "Expected: 4\n",
      "\n"
     ]
    }
   ],
   "source": [
    "testcases = [[\n",
    "      [1, 2, 3, 4, 5],\n",
    "      [16,17,24,23,6],\n",
    "      [15,18,25,22,7],\n",
    "      [14,19,20,21,8],\n",
    "      [13,12,11,10,9]\n",
    "    ],[\n",
    "      [1, 2],\n",
    "      [5, 3]\n",
    "    ]]\n",
    "expected = [25,4]\n",
    "\n",
    "outputs = []\n",
    "sol = Solution();\n",
    "\n",
    "for case in zip(testcases, expected):\n",
    "    print(\"Input:    \" + str(case[0]))\n",
    "    print(\"Output:   \" + str(sol.longestContinuousIncreasingSubsequence2(case[0])))\n",
    "    print(\"Expected: \" + str(case[1]) + \"\\n\")"
   ]
  }
 ],
 "metadata": {
  "kernelspec": {
   "display_name": "Python 3",
   "language": "python",
   "name": "python3"
  }
 },
 "nbformat": 4,
 "nbformat_minor": 2
}
