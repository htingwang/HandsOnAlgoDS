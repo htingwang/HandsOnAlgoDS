{
 "cells": [
  {
   "cell_type": "markdown",
   "metadata": {},
   "source": [
    "# 438. Copy Book II\n",
    "#### https://www.lintcode.com/problem/copy-books-ii"
   ]
  },
  {
   "cell_type": "markdown",
   "metadata": {},
   "source": [
    "# Approach 1: Binary Search"
   ]
  },
  {
   "cell_type": "code",
   "execution_count": 1,
   "metadata": {},
   "outputs": [],
   "source": [
    "class Solution:\n",
    "    \"\"\"\n",
    "    @param n: An integer\n",
    "    @param times: an array of integers\n",
    "    @return: an integer\n",
    "    \"\"\"\n",
    "    def copyBooksII(self, n, times):\n",
    "        # write your code here\n",
    "        if not n: return 0\n",
    "        if not times : return -1\n",
    "        left, right = min(times), max(times) * n\n",
    "        while left < right : \n",
    "            mid  = (left + right) // 2\n",
    "            if self.check(n, times, mid):\n",
    "                right = mid\n",
    "            else:\n",
    "                left = mid + 1\n",
    "        return left\n",
    "    def check(self, n, times, time):\n",
    "        books = 0\n",
    "        for t in times:\n",
    "            books += time // t\n",
    "        return books >= n"
   ]
  },
  {
   "cell_type": "markdown",
   "metadata": {},
   "source": [
    "# Verification"
   ]
  },
  {
   "cell_type": "code",
   "execution_count": 2,
   "metadata": {},
   "outputs": [
    {
     "name": "stdout",
     "output_type": "stream",
     "text": [
      "Input:    (4, [3, 2, 4])\n",
      "Output:   4\n",
      "Expected: 4\n",
      "\n",
      "Input:    (4, [3, 2, 4, 5])\n",
      "Output:   4\n",
      "Expected: 4\n",
      "\n"
     ]
    }
   ],
   "source": [
    "testcases = [(4,[3, 2, 4]),(4,[3, 2, 4, 5])]\n",
    "expected = [4,4]\n",
    "\n",
    "sol = Solution()\n",
    "\n",
    "for case in zip(testcases, expected):\n",
    "    print(\"Input:    \" + str(case[0]))\n",
    "    print(\"Output:   \" + str(sol.copyBooksII(case[0][0],case[0][1])))\n",
    "    print(\"Expected: \" + str(case[1]) + \"\\n\")"
   ]
  }
 ],
 "metadata": {
  "kernelspec": {
   "display_name": "Python 3",
   "language": "python",
   "name": "python3"
  },
  "language_info": {
   "codemirror_mode": {
    "name": "ipython",
    "version": 3
   },
   "file_extension": ".py",
   "mimetype": "text/x-python",
   "name": "python",
   "nbconvert_exporter": "python",
   "pygments_lexer": "ipython3",
   "version": "3.7.3"
  }
 },
 "nbformat": 4,
 "nbformat_minor": 2
}
