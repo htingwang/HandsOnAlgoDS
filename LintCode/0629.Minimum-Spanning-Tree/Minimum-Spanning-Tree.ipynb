{
 "cells": [
  {
   "cell_type": "markdown",
   "metadata": {},
   "source": [
    "# 629. Minimum Spanning Tree\n",
    "#### https://www.lintcode.com/problem/minimum-spanning-tree"
   ]
  },
  {
   "cell_type": "markdown",
   "metadata": {},
   "source": [
    "# Approach 1: Union Find"
   ]
  },
  {
   "cell_type": "code",
   "execution_count": 16,
   "metadata": {},
   "outputs": [],
   "source": [
    "'''\n",
    "Definition for a Connection\n",
    "class Connection:\n",
    "\n",
    "    def __init__(self, city1, city2, cost):\n",
    "        self.city1, self.city2, self.cost = city1, city2, cost\n",
    "'''\n",
    "import functools\n",
    "class Solution:\n",
    "    # @param {Connection[]} connections given a list of connections\n",
    "    # include two cities and cost\n",
    "    # @return {Connection[]} a list of connections from results\n",
    "    def lowestCost(self, connections):\n",
    "        # Write your code here\n",
    "        def comp(a,b):\n",
    "            if a.cost != b.cost: return a.cost - b.cost\n",
    "            if a.city1 < b.city1 : return -1\n",
    "            if a.city1 > b.city1 : return 1\n",
    "            if a.city2 < b.city2: return -1\n",
    "            if a.city2 > b.city2: return 1\n",
    "            return 0\n",
    "        \n",
    "        connections.sort(key = functools.cmp_to_key(comp))\n",
    "        city_to_idx = {}\n",
    "        idx = 0\n",
    "        for connection in connections:\n",
    "            if connection.city1 not in city_to_idx:\n",
    "                city_to_idx[connection.city1] = idx\n",
    "                idx += 1\n",
    "            if connection.city2 not in city_to_idx:\n",
    "                city_to_idx[connection.city2] = idx\n",
    "                idx += 1\n",
    "        self.father = [i for i in range(idx)]\n",
    "        \n",
    "        res = []\n",
    "        for connection in connections:\n",
    "            c1, c2 = self.find(city_to_idx[connection.city1]), self.find(city_to_idx[connection.city2])\n",
    "            if c1 != c2:\n",
    "                self.union(c1, c2)\n",
    "                res.append(connection)\n",
    "        if idx - 1 != len(res): return []\n",
    "        return res\n",
    "        \n",
    "    def find(self, a):\n",
    "        x = a\n",
    "        while x != self.father[x]:\n",
    "            x = self.father[x]\n",
    "        while a != self.father[x]:\n",
    "            a, self.father[a] = self.father[a], x\n",
    "        return x\n",
    "    \n",
    "    def union(self, a, b):\n",
    "        a, b = self.find(a), self.find(b)\n",
    "        if a != b: self.father[a] = b"
   ]
  },
  {
   "cell_type": "markdown",
   "metadata": {},
   "source": [
    "# Verification"
   ]
  },
  {
   "cell_type": "code",
   "execution_count": 17,
   "metadata": {},
   "outputs": [
    {
     "name": "stdout",
     "output_type": "stream",
     "text": [
      "Input:    [['Acity', 'Bcity', 1], ['Acity', 'Ccity', 2], ['Bcity', 'Ccity', 3]]\n",
      "Output:   [['Acity', 'Bcity', 1], ['Acity', 'Ccity', 2]]\n",
      "Expected: [['Acity', 'Bcity', 1], ['Acity', 'Ccity', 2]]\n",
      "\n",
      "Input:    [['Acity', 'Bcity', 2], ['Bcity', 'Dcity', 5], ['Acity', 'Dcity', 4], ['Ccity', 'Ecity', 1]]\n",
      "Output:   []\n",
      "Expected: []\n",
      "\n"
     ]
    }
   ],
   "source": [
    "testcases = [[[\"Acity\",\"Bcity\",1],[\"Acity\",\"Ccity\",2],[\"Bcity\",\"Ccity\",3]],[[\"Acity\",\"Bcity\",2],[\"Bcity\",\"Dcity\",5],[\"Acity\",\"Dcity\",4],[\"Ccity\",\"Ecity\",1]]]\n",
    "expected = [[[\"Acity\",\"Bcity\",1],[\"Acity\",\"Ccity\",2]],[]]\n",
    "\n",
    "outputs = []\n",
    "sol = Solution();\n",
    "\n",
    "class Connection:\n",
    "    def __init__(self, city1, city2, cost):\n",
    "        self.city1, self.city2, self.cost = city1, city2, cost\n",
    "\n",
    "for case in zip(testcases, expected):\n",
    "    print(\"Input:    \" + str(case[0]))\n",
    "    connections = []\n",
    "    for c in case[0]:\n",
    "        connections.append(Connection(c[0],c[1],c[2]))\n",
    "    ans = sol.lowestCost(connections)\n",
    "    outputs = []\n",
    "    for a in ans:\n",
    "        outputs.append([a.city1, a.city2, a.cost])\n",
    "    print(\"Output:   \" + str(outputs))\n",
    "    print(\"Expected: \" + str(case[1]) + \"\\n\")"
   ]
  }
 ],
 "metadata": {
  "kernelspec": {
   "display_name": "Python 3",
   "language": "python",
   "name": "python3"
  },
  "language_info": {
   "codemirror_mode": {
    "name": "ipython",
    "version": 3
   },
   "file_extension": ".py",
   "mimetype": "text/x-python",
   "name": "python",
   "nbconvert_exporter": "python",
   "pygments_lexer": "ipython3",
   "version": "3.7.3"
  }
 },
 "nbformat": 4,
 "nbformat_minor": 2
}
