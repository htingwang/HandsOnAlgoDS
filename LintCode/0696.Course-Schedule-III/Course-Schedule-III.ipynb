{
 "cells": [
  {
   "cell_type": "markdown",
   "metadata": {},
   "source": [
    "# 696. Course Schedule III\n",
    "#### https://www.lintcode.com/problem/course-schedule-iii"
   ]
  },
  {
   "cell_type": "markdown",
   "metadata": {},
   "source": [
    "# Approach 1: Greedy, Max Heap"
   ]
  },
  {
   "cell_type": "code",
   "execution_count": 1,
   "metadata": {},
   "outputs": [],
   "source": [
    "import heapq\n",
    "\n",
    "class Solution:\n",
    "    \"\"\"\n",
    "    @param courses: duration and close day of each course\n",
    "    @return: the maximal number of courses that can be taken\n",
    "    \"\"\"\n",
    "    def scheduleCourse(self, courses):\n",
    "        # write your code here\n",
    "        maxheap = []\n",
    "        courses.sort(key = lambda x:x[1])\n",
    "        time = 0\n",
    "        for course in courses:\n",
    "            heapq.heappush(maxheap, -course[0])\n",
    "            time += course[0]\n",
    "            if time > course[1]:\n",
    "                time += heapq.heappop(maxheap)\n",
    "        return len(maxheap)"
   ]
  },
  {
   "cell_type": "markdown",
   "metadata": {},
   "source": [
    "# Verification"
   ]
  },
  {
   "cell_type": "code",
   "execution_count": 2,
   "metadata": {},
   "outputs": [
    {
     "name": "stdout",
     "output_type": "stream",
     "text": [
      "Input:    [[100, 200], [200, 1300], [1000, 1250], [2000, 3200]]\n",
      "Output:   3\n",
      "Expected: 3\n",
      "\n",
      "Input:    [[100, 50]]\n",
      "Output:   0\n",
      "Expected: 0\n",
      "\n"
     ]
    }
   ],
   "source": [
    "testcases = [[[100, 200], [200, 1300], [1000, 1250], [2000, 3200]],[[100,50]]]\n",
    "expected = [3,0]\n",
    "\n",
    "outputs = []\n",
    "sol = Solution();\n",
    "\n",
    "for case in zip(testcases, expected):\n",
    "    print(\"Input:    \" + str(case[0]))\n",
    "    print(\"Output:   \" + str(sol.scheduleCourse(case[0])))\n",
    "    print(\"Expected: \" + str(case[1]) + \"\\n\")"
   ]
  }
 ],
 "metadata": {
  "kernelspec": {
   "display_name": "Python 3",
   "language": "python",
   "name": "python3"
  },
  "language_info": {
   "codemirror_mode": {
    "name": "ipython",
    "version": 3
   },
   "file_extension": ".py",
   "mimetype": "text/x-python",
   "name": "python",
   "nbconvert_exporter": "python",
   "pygments_lexer": "ipython3",
   "version": "3.7.3"
  }
 },
 "nbformat": 4,
 "nbformat_minor": 2
}
