{
 "cells": [
  {
   "cell_type": "markdown",
   "metadata": {},
   "source": [
    "# 1095. Maximum Swap\n",
    "#### https://www.lintcode.com/problem/maximum-swap"
   ]
  },
  {
   "cell_type": "markdown",
   "metadata": {},
   "source": [
    "# Approach 1"
   ]
  },
  {
   "cell_type": "code",
   "execution_count": 1,
   "metadata": {},
   "outputs": [],
   "source": [
    "class Solution:\n",
    "    \"\"\"\n",
    "    @param num: a non-negative intege\n",
    "    @return: the maximum valued number\n",
    "    \"\"\"\n",
    "    def maximumSwap(self, num):\n",
    "        # Write your code here\n",
    "        A = list(map(int, list(str(num))))\n",
    "        pos = {x: i for i, x in enumerate(A)}\n",
    "        for i, x in enumerate(A):\n",
    "            for j in range(9, x, -1):\n",
    "                if pos.get(j, 0) > i:\n",
    "                    A[i], A[pos[j]] = A[pos[j]], A[i]\n",
    "                    return int(\"\".join(list(map(str, A))))\n",
    "        return num"
   ]
  },
  {
   "cell_type": "markdown",
   "metadata": {},
   "source": [
    "# Verification"
   ]
  },
  {
   "cell_type": "code",
   "execution_count": 3,
   "metadata": {},
   "outputs": [
    {
     "name": "stdout",
     "output_type": "stream",
     "text": [
      "Input:    2736\n",
      "Output:   7236\n",
      "Expected: 7236\n",
      "\n",
      "Input:    9973\n",
      "Output:   9973\n",
      "Expected: 9973\n",
      "\n"
     ]
    }
   ],
   "source": [
    "testcases = [2736,9973]\n",
    "expected = [7236,9973]\n",
    "\n",
    "outputs = []\n",
    "sol = Solution();\n",
    "\n",
    "for case in zip(testcases, expected):\n",
    "    print(\"Input:    \" + str(case[0]))\n",
    "    print(\"Output:   \" + str(sol.maximumSwap(case[0])))\n",
    "    print(\"Expected: \" + str(case[1]) + \"\\n\")"
   ]
  }
 ],
 "metadata": {
  "kernelspec": {
   "display_name": "Python 3",
   "language": "python",
   "name": "python3"
  },
  "language_info": {
   "codemirror_mode": {
    "name": "ipython",
    "version": 3
   },
   "file_extension": ".py",
   "mimetype": "text/x-python",
   "name": "python",
   "nbconvert_exporter": "python",
   "pygments_lexer": "ipython3",
   "version": "3.7.3"
  }
 },
 "nbformat": 4,
 "nbformat_minor": 2
}
