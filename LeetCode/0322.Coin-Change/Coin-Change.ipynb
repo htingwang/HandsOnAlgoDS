{
 "cells": [
  {
   "cell_type": "markdown",
   "metadata": {},
   "source": [
    "# 322. Coin Change\n",
    "#### https://leetcode.com/problems/coin-change/"
   ]
  },
  {
   "cell_type": "markdown",
   "metadata": {},
   "source": [
    "# Approach 1: Dynamic Programming + Array"
   ]
  },
  {
   "cell_type": "code",
   "execution_count": 15,
   "metadata": {},
   "outputs": [],
   "source": [
    "class Solution(object):\n",
    "    def coinChange(self, coins, amount):\n",
    "        \"\"\"\n",
    "        :type coins: List[int]\n",
    "        :type amount: int\n",
    "        :rtype: int\n",
    "        \"\"\"\n",
    "        if amount == 0: return 0\n",
    "        dp = [float('inf')] * (amount + 1)\n",
    "        dp[0] = 0\n",
    "        for i in range(1, amount + 1):\n",
    "            for coin in coins:\n",
    "                if i >= coin:\n",
    "                    dp[i] = min(dp[i], dp[i - coin] + 1)\n",
    "        if dp[amount] == float('inf'): return -1                \n",
    "        return dp[amount]"
   ]
  },
  {
   "cell_type": "markdown",
   "metadata": {},
   "source": [
    "# Approach 2: Dynamic Programming + Hash Table"
   ]
  },
  {
   "cell_type": "code",
   "execution_count": 13,
   "metadata": {},
   "outputs": [],
   "source": [
    "class Solution(object):\n",
    "    def coinChange(self, coins, amount):\n",
    "        \"\"\"\n",
    "        :type coins: List[int]\n",
    "        :type amount: int\n",
    "        :rtype: int\n",
    "        \"\"\"\n",
    "        if amount == 0: return 0\n",
    "        dp = {}\n",
    "        dp[0] = 0\n",
    "        for i in range(1, amount + 1):\n",
    "            dp[i] = float('inf')\n",
    "            for coin in coins:\n",
    "                if i - coin in dp:\n",
    "                    dp[i] = min(dp[i], dp[i - coin] + 1)\n",
    "            if dp[i] == float('inf'): del dp[i]\n",
    "\n",
    "        if amount in dp: return dp[amount]            \n",
    "        return -1"
   ]
  },
  {
   "cell_type": "markdown",
   "metadata": {},
   "source": [
    "# Verification"
   ]
  },
  {
   "cell_type": "code",
   "execution_count": 14,
   "metadata": {},
   "outputs": [
    {
     "name": "stdout",
     "output_type": "stream",
     "text": [
      "Input:    ([1, 2, 5], 11)\n",
      "Output:   3\n",
      "Expected: 3\n",
      "\n",
      "Input:    ([2], 3)\n",
      "Output:   -1\n",
      "Expected: -1\n",
      "\n",
      "Input:    ([186, 419, 83, 408], 6249)\n",
      "Output:   20\n",
      "Expected: 20\n",
      "\n"
     ]
    }
   ],
   "source": [
    "testcases = [([1, 2, 5],11),([2],3),([186,419,83,408],6249)]\n",
    "expected = [3,-1,20]\n",
    "\n",
    "outputs = []\n",
    "sol = Solution();\n",
    "\n",
    "for case in zip(testcases, expected):\n",
    "    print(\"Input:    \" + str(case[0]))\n",
    "    params = \"\"\n",
    "    for p in case[0]:\n",
    "        params += str(p) + \",\"\n",
    "    params = params.rstrip(\",\")\n",
    "    print(\"Output:   \" + str(eval(\"sol.coinChange(\"+params+\")\")))\n",
    "    print(\"Expected: \" + str(case[1]) + \"\\n\")"
   ]
  },
  {
   "cell_type": "code",
   "execution_count": 12,
   "metadata": {},
   "outputs": [
    {
     "name": "stdout",
     "output_type": "stream",
     "text": [
      "9223372036854775807\n",
      "1 cents requires 1 coins: [1]\n",
      "2 cents requires 2 coins: [1, 1]\n",
      "3 cents requires 3 coins: [1, 1, 1]\n",
      "4 cents requires 4 coins: [1, 1, 1, 1]\n",
      "5 cents requires 1 coins: [5]\n",
      "6 cents requires 2 coins: [1, 5]\n",
      "7 cents requires 3 coins: [1, 1, 5]\n",
      "8 cents requires 4 coins: [1, 1, 1, 5]\n",
      "9 cents requires 5 coins: [1, 1, 1, 1, 5]\n",
      "10 cents requires 1 coins: [10]\n",
      "11 cents requires 2 coins: [1, 10]\n",
      "12 cents requires 3 coins: [1, 1, 10]\n",
      "13 cents requires 4 coins: [1, 1, 1, 10]\n",
      "14 cents requires 5 coins: [1, 1, 1, 1, 10]\n",
      "15 cents requires 2 coins: [5, 10]\n",
      "16 cents requires 3 coins: [1, 5, 10]\n",
      "17 cents requires 4 coins: [1, 1, 5, 10]\n",
      "18 cents requires 5 coins: [1, 1, 1, 5, 10]\n",
      "19 cents requires 6 coins: [1, 1, 1, 1, 5, 10]\n",
      "20 cents requires 2 coins: [10, 10]\n",
      "21 cents requires 3 coins: [1, 10, 10]\n",
      "22 cents requires 4 coins: [1, 1, 10, 10]\n",
      "23 cents requires 5 coins: [1, 1, 1, 10, 10]\n",
      "24 cents requires 6 coins: [1, 1, 1, 1, 10, 10]\n",
      "25 cents requires 1 coins: [25]\n",
      "26 cents requires 2 coins: [1, 25]\n",
      "27 cents requires 3 coins: [1, 1, 25]\n",
      "28 cents requires 4 coins: [1, 1, 1, 25]\n",
      "29 cents requires 5 coins: [1, 1, 1, 1, 25]\n",
      "30 cents requires 2 coins: [5, 25]\n",
      "31 cents requires 3 coins: [1, 5, 25]\n",
      "32 cents requires 4 coins: [1, 1, 5, 25]\n",
      "33 cents requires 5 coins: [1, 1, 1, 5, 25]\n",
      "34 cents requires 6 coins: [1, 1, 1, 1, 5, 25]\n",
      "35 cents requires 2 coins: [10, 25]\n",
      "36 cents requires 3 coins: [1, 10, 25]\n",
      "37 cents requires 4 coins: [1, 1, 10, 25]\n",
      "38 cents requires 5 coins: [1, 1, 1, 10, 25]\n",
      "39 cents requires 6 coins: [1, 1, 1, 1, 10, 25]\n",
      "40 cents requires 3 coins: [5, 10, 25]\n",
      "41 cents requires 4 coins: [1, 5, 10, 25]\n",
      "42 cents requires 5 coins: [1, 1, 5, 10, 25]\n",
      "43 cents requires 6 coins: [1, 1, 1, 5, 10, 25]\n",
      "44 cents requires 7 coins: [1, 1, 1, 1, 5, 10, 25]\n",
      "45 cents requires 3 coins: [10, 10, 25]\n",
      "46 cents requires 4 coins: [1, 10, 10, 25]\n",
      "47 cents requires 5 coins: [1, 1, 10, 10, 25]\n",
      "48 cents requires 6 coins: [1, 1, 1, 10, 10, 25]\n",
      "49 cents requires 7 coins: [1, 1, 1, 1, 10, 10, 25]\n",
      "50 cents requires 2 coins: [25, 25]\n",
      "51 cents requires 3 coins: [1, 25, 25]\n",
      "52 cents requires 4 coins: [1, 1, 25, 25]\n",
      "53 cents requires 5 coins: [1, 1, 1, 25, 25]\n",
      "54 cents requires 6 coins: [1, 1, 1, 1, 25, 25]\n",
      "55 cents requires 3 coins: [5, 25, 25]\n",
      "56 cents requires 4 coins: [1, 5, 25, 25]\n",
      "57 cents requires 5 coins: [1, 1, 5, 25, 25]\n",
      "58 cents requires 6 coins: [1, 1, 1, 5, 25, 25]\n",
      "59 cents requires 7 coins: [1, 1, 1, 1, 5, 25, 25]\n",
      "60 cents requires 3 coins: [10, 25, 25]\n",
      "61 cents requires 4 coins: [1, 10, 25, 25]\n",
      "62 cents requires 5 coins: [1, 1, 10, 25, 25]\n",
      "63 cents requires 6 coins: [1, 1, 1, 10, 25, 25]\n",
      "64 cents requires 7 coins: [1, 1, 1, 1, 10, 25, 25]\n",
      "65 cents requires 4 coins: [5, 10, 25, 25]\n",
      "66 cents requires 5 coins: [1, 5, 10, 25, 25]\n",
      "67 cents requires 6 coins: [1, 1, 5, 10, 25, 25]\n",
      "68 cents requires 7 coins: [1, 1, 1, 5, 10, 25, 25]\n",
      "69 cents requires 8 coins: [1, 1, 1, 1, 5, 10, 25, 25]\n",
      "70 cents requires 4 coins: [10, 10, 25, 25]\n",
      "71 cents requires 5 coins: [1, 10, 10, 25, 25]\n",
      "72 cents requires 6 coins: [1, 1, 10, 10, 25, 25]\n",
      "73 cents requires 7 coins: [1, 1, 1, 10, 10, 25, 25]\n",
      "74 cents requires 8 coins: [1, 1, 1, 1, 10, 10, 25, 25]\n",
      "75 cents requires 3 coins: [25, 25, 25]\n",
      "76 cents requires 4 coins: [1, 25, 25, 25]\n",
      "77 cents requires 5 coins: [1, 1, 25, 25, 25]\n",
      "78 cents requires 6 coins: [1, 1, 1, 25, 25, 25]\n",
      "79 cents requires 7 coins: [1, 1, 1, 1, 25, 25, 25]\n",
      "80 cents requires 4 coins: [5, 25, 25, 25]\n",
      "81 cents requires 5 coins: [1, 5, 25, 25, 25]\n",
      "82 cents requires 6 coins: [1, 1, 5, 25, 25, 25]\n",
      "83 cents requires 7 coins: [1, 1, 1, 5, 25, 25, 25]\n",
      "84 cents requires 8 coins: [1, 1, 1, 1, 5, 25, 25, 25]\n",
      "85 cents requires 4 coins: [10, 25, 25, 25]\n",
      "86 cents requires 5 coins: [1, 10, 25, 25, 25]\n",
      "87 cents requires 6 coins: [1, 1, 10, 25, 25, 25]\n",
      "88 cents requires 7 coins: [1, 1, 1, 10, 25, 25, 25]\n",
      "89 cents requires 8 coins: [1, 1, 1, 1, 10, 25, 25, 25]\n",
      "90 cents requires 5 coins: [5, 10, 25, 25, 25]\n",
      "91 cents requires 6 coins: [1, 5, 10, 25, 25, 25]\n",
      "92 cents requires 7 coins: [1, 1, 5, 10, 25, 25, 25]\n",
      "93 cents requires 8 coins: [1, 1, 1, 5, 10, 25, 25, 25]\n",
      "94 cents requires 9 coins: [1, 1, 1, 1, 5, 10, 25, 25, 25]\n",
      "95 cents requires 5 coins: [10, 10, 25, 25, 25]\n",
      "96 cents requires 6 coins: [1, 10, 10, 25, 25, 25]\n",
      "97 cents requires 7 coins: [1, 1, 10, 10, 25, 25, 25]\n",
      "98 cents requires 8 coins: [1, 1, 1, 10, 10, 25, 25, 25]\n",
      "99 cents requires 9 coins: [1, 1, 1, 1, 10, 10, 25, 25, 25]\n"
     ]
    }
   ],
   "source": [
    "# https://stackoverflow.com/questions/3947867/find-the-least-number-of-coins-required-that-can-make-any-change-from-1-to-99-ce\n",
    "coins = [1,5,10,25]\n",
    "d = {} # stores tuples of the form (# of coins, [coin list])\n",
    "\n",
    "# finds the minimum # of coins needed to\n",
    "# make change for some number of cents\n",
    "def m(cents):\n",
    "    if cents in d.keys():\n",
    "        return d[cents]\n",
    "    elif cents > 0:\n",
    "        choices = [(m(cents - x)[0] + 1, m(cents - x)[1] + [x]) for x in coins if cents >= x]\n",
    "\n",
    "        # given a list of tuples, python's min function\n",
    "        # uses the first element of each tuple for comparison\n",
    "        d[cents] = min(choices)\n",
    "        return d[cents]\n",
    "    else:\n",
    "        d[0] = (0, [])\n",
    "        return d[0]\n",
    "import sys\n",
    "print(sys.maxsize)\n",
    "for x in range(1, 100):\n",
    "    val = m(x)\n",
    "    print(x, \"cents requires\", val[0], \"coins:\", val[1])\n",
    "    "
   ]
  }
 ],
 "metadata": {
  "kernelspec": {
   "display_name": "Python 3",
   "language": "python",
   "name": "python3"
  },
  "language_info": {
   "codemirror_mode": {
    "name": "ipython",
    "version": 3
   },
   "file_extension": ".py",
   "mimetype": "text/x-python",
   "name": "python",
   "nbconvert_exporter": "python",
   "pygments_lexer": "ipython3",
   "version": "3.7.3"
  }
 },
 "nbformat": 4,
 "nbformat_minor": 2
}
