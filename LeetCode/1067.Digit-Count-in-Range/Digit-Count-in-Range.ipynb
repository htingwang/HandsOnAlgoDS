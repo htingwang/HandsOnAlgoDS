{
 "cells": [
  {
   "cell_type": "markdown",
   "metadata": {},
   "source": [
    "# 1067. Digit Count in Range\n",
    "#### https://leetcode.com/problems/digit-count-in-range/"
   ]
  },
  {
   "cell_type": "markdown",
   "metadata": {},
   "source": [
    "# Approach 1"
   ]
  },
  {
   "cell_type": "code",
   "execution_count": 5,
   "metadata": {},
   "outputs": [],
   "source": [
    "class Solution(object):\n",
    "    def digitsCount(self, d, low, high):\n",
    "        \"\"\"\n",
    "        :type d: int\n",
    "        :type low: int\n",
    "        :type high: int\n",
    "        :rtype: int\n",
    "        \"\"\"\n",
    "        def count(N):\n",
    "            if N == 0: return 0\n",
    "            if d == 0 and N < 10: return 0\n",
    "            res = 0\n",
    "            if N % 10 > d: res += 1\n",
    "            if N // 10: res += str(N // 10).count(str(d)) * (N % 10)\n",
    "            res += N // 10 if d else N // 10 - 1\n",
    "            res += count(N // 10) * 10\n",
    "            return res\n",
    "        return count(high + 1) - count(low)"
   ]
  },
  {
   "cell_type": "markdown",
   "metadata": {},
   "source": [
    "# Verification"
   ]
  },
  {
   "cell_type": "code",
   "execution_count": 6,
   "metadata": {},
   "outputs": [
    {
     "name": "stdout",
     "output_type": "stream",
     "text": [
      "Input:    (1, 1, 13)\n",
      "Output:   6\n",
      "Expected: 6\n",
      "\n",
      "Input:    (3, 0, 338)\n",
      "Output:   112\n",
      "Expected: 112\n",
      "\n",
      "Input:    (0, 1, 10)\n",
      "Output:   1\n",
      "Expected: 1\n",
      "\n"
     ]
    }
   ],
   "source": [
    "testcases = [(1,1,13),(3,0,338),(0,1,10)]\n",
    "expected = [6,112,1]\n",
    "\n",
    "outputs = []\n",
    "sol = Solution();\n",
    "\n",
    "for case in zip(testcases, expected):\n",
    "    print(\"Input:    \" + str(case[0]))\n",
    "    print(\"Output:   \" + str(sol.digitsCount(case[0][0],case[0][1],case[0][2])))\n",
    "    print(\"Expected: \" + str(case[1]) + \"\\n\")"
   ]
  }
 ],
 "metadata": {
  "kernelspec": {
   "display_name": "Python 3",
   "language": "python",
   "name": "python3"
  },
  "language_info": {
   "codemirror_mode": {
    "name": "ipython",
    "version": 3
   },
   "file_extension": ".py",
   "mimetype": "text/x-python",
   "name": "python",
   "nbconvert_exporter": "python",
   "pygments_lexer": "ipython3",
   "version": "3.7.3"
  }
 },
 "nbformat": 4,
 "nbformat_minor": 2
}
