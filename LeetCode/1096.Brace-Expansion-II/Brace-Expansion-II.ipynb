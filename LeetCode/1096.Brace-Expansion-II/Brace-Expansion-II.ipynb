{
 "cells": [
  {
   "cell_type": "markdown",
   "metadata": {},
   "source": [
    "# 1096. Brace Expansion II\n",
    "#### https://leetcode.com/problems/brace-expansion-ii/"
   ]
  },
  {
   "cell_type": "markdown",
   "metadata": {},
   "source": [
    "# Approach 1"
   ]
  },
  {
   "cell_type": "code",
   "execution_count": 3,
   "metadata": {},
   "outputs": [],
   "source": [
    "class Solution(object):\n",
    "    def braceExpansionII(self, expression):\n",
    "        \"\"\"\n",
    "        :type expression: str\n",
    "        :rtype: List[str]\n",
    "        \"\"\"\n",
    "        def merge(list2, list1):\n",
    "            comb = []\n",
    "            for x in list1:\n",
    "                for y in list2:\n",
    "                    comb.append(x+y)\n",
    "            return comb\n",
    "        \n",
    "        stack = []\n",
    "        i = 0\n",
    "        while i < len(expression):\n",
    "            string = \"\"\n",
    "            while i < len(expression) and expression[i].isalpha():\n",
    "                string = string + expression[i]\n",
    "                i += 1\n",
    "            cur = [string]\n",
    "            if string:\n",
    "                if stack and type(stack[-1]) == list:\n",
    "                    cur = merge(cur, stack.pop())\n",
    "                stack.append(cur)\n",
    "                #continue\n",
    "            \n",
    "            cur = []  \n",
    "            if expression[i] == \"}\": \n",
    "                while stack[-1] != \"{\":\n",
    "                    cur = stack.pop() + cur\n",
    "                    if stack[-1] != \",\": break\n",
    "                    stack.pop()\n",
    "                stack.pop()\n",
    "                if stack and type(stack[-1]) == list:\n",
    "                    cur = merge(cur, stack.pop())\n",
    "                stack.append(cur)\n",
    "            else: stack.append(expression[i])\n",
    "            i += 1\n",
    "            \n",
    "        while len(stack) > 1:\n",
    "            stack.append(merge(stack.pop(), stack.pop()))\n",
    "\n",
    "        return sorted(list(set(stack[0])))"
   ]
  },
  {
   "cell_type": "markdown",
   "metadata": {},
   "source": [
    "# Verification"
   ]
  },
  {
   "cell_type": "code",
   "execution_count": 4,
   "metadata": {},
   "outputs": [
    {
     "name": "stdout",
     "output_type": "stream",
     "text": [
      "Input:    {a,b}{c{d,e}}\n",
      "Output:   ['acd', 'ace', 'bcd', 'bce']\n",
      "Expected: ['acd', 'ace', 'bcd', 'bce']\n",
      "\n",
      "Input:    {{a,z},a{b,c},{ab,z}}\n",
      "Output:   ['a', 'ab', 'ac', 'z']\n",
      "Expected: ['a', 'ab', 'ac', 'z']\n",
      "\n"
     ]
    }
   ],
   "source": [
    "testcases = [\"{a,b}{c{d,e}}\",\"{{a,z},a{b,c},{ab,z}}\"]\n",
    "expected = [[\"acd\",\"ace\",\"bcd\",\"bce\"], [\"a\",\"ab\",\"ac\",\"z\"]]\n",
    "\n",
    "outputs = []\n",
    "sol = Solution();\n",
    "\n",
    "for case in zip(testcases, expected):\n",
    "    print(\"Input:    \" + str(case[0]))\n",
    "    print(\"Output:   \" + str(sol.braceExpansionII(case[0])))\n",
    "    print(\"Expected: \" + str(case[1]) + \"\\n\")"
   ]
  }
 ],
 "metadata": {
  "kernelspec": {
   "display_name": "Python 3",
   "language": "python",
   "name": "python3"
  },
  "language_info": {
   "codemirror_mode": {
    "name": "ipython",
    "version": 3
   },
   "file_extension": ".py",
   "mimetype": "text/x-python",
   "name": "python",
   "nbconvert_exporter": "python",
   "pygments_lexer": "ipython3",
   "version": "3.7.3"
  }
 },
 "nbformat": 4,
 "nbformat_minor": 2
}
