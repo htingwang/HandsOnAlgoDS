{
 "cells": [
  {
   "cell_type": "markdown",
   "metadata": {},
   "source": [
    "# 210. Course Schedule II\n",
    "#### https://leetcode.com/problems/course-schedule-ii/"
   ]
  },
  {
   "cell_type": "markdown",
   "metadata": {},
   "source": [
    "# Approach 1: BFS"
   ]
  },
  {
   "cell_type": "code",
   "execution_count": 5,
   "metadata": {},
   "outputs": [],
   "source": [
    "from collections import deque, defaultdict\n",
    "\n",
    "class Solution(object):\n",
    "    def findOrder(self, numCourses, prerequisites):\n",
    "        \"\"\"\n",
    "        :type numCourses: int\n",
    "        :type prerequisites: List[List[int]]\n",
    "        :rtype: List[int]\n",
    "        \"\"\"\n",
    "        graph = defaultdict(list)\n",
    "        in_degree = [0] * numCourses\n",
    "        \n",
    "        for p in prerequisites:\n",
    "            graph[p[1]].append(p[0])\n",
    "            in_degree[p[0]] += 1\n",
    "            \n",
    "        queue = deque()\n",
    "        for i in range(numCourses):\n",
    "            if in_degree[i] == 0:\n",
    "                queue.append(i)\n",
    "        \n",
    "        res = []\n",
    "        while queue:\n",
    "            cur = queue.popleft()\n",
    "            res.append(cur)\n",
    "            for i in graph[cur]:\n",
    "                in_degree[i] -= 1\n",
    "                if in_degree[i] == 0:\n",
    "                    queue.append(i)\n",
    "                    \n",
    "        return res if len(res) == numCourses else []"
   ]
  },
  {
   "cell_type": "markdown",
   "metadata": {},
   "source": [
    "# Verification"
   ]
  },
  {
   "cell_type": "code",
   "execution_count": 6,
   "metadata": {},
   "outputs": [
    {
     "name": "stdout",
     "output_type": "stream",
     "text": [
      "Input:    (2, [[1, 0]])\n",
      "Output:   [0, 1]\n",
      "Expected: [0, 1]\n",
      "\n",
      "Input:    (2, [[1, 0], [0, 1]])\n",
      "Output:   []\n",
      "Expected: []\n",
      "\n",
      "Input:    (3, [[0, 1], [0, 2], [1, 2]])\n",
      "Output:   [2, 1, 0]\n",
      "Expected: [2, 1, 0]\n",
      "\n",
      "Input:    (4, [[1, 0], [2, 0], [3, 1], [3, 2]])\n",
      "Output:   [0, 1, 2, 3]\n",
      "Expected: [0,1,2,3] or [0,2,1,3]\n",
      "\n"
     ]
    }
   ],
   "source": [
    "testcases = [(2, [[1,0]]),(2, [[1,0],[0,1]]),(3,[[0,1],[0,2],[1,2]]),(4, [[1,0],[2,0],[3,1],[3,2]]),(3,[[1,0],[1,2],[0,1]])]\n",
    "expected = [[0,1],[],[2,1,0],\"[0,1,2,3] or [0,2,1,3]\",[]]\n",
    "\n",
    "outputs = []\n",
    "sol = Solution();\n",
    "\n",
    "for case in zip(testcases, expected):\n",
    "    print(\"Input:    \" + str(case[0]))\n",
    "    print(\"Output:   \" + str(sol.findOrder(case[0][0], case[0][1])))\n",
    "    print(\"Expected: \" + str(case[1]) + \"\\n\")"
   ]
  }
 ],
 "metadata": {
  "kernelspec": {
   "display_name": "Python 3",
   "language": "python",
   "name": "python3"
  },
  "language_info": {
   "codemirror_mode": {
    "name": "ipython",
    "version": 3
   },
   "file_extension": ".py",
   "mimetype": "text/x-python",
   "name": "python",
   "nbconvert_exporter": "python",
   "pygments_lexer": "ipython3",
   "version": "3.7.3"
  }
 },
 "nbformat": 4,
 "nbformat_minor": 2
}
