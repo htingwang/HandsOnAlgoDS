{
 "cells": [
  {
   "cell_type": "markdown",
   "metadata": {},
   "source": [
    "# 855. Exam Room\n",
    "#### https://leetcode.com/problems/exam-room/"
   ]
  },
  {
   "cell_type": "markdown",
   "metadata": {},
   "source": [
    "# Approach 1: Heap, Seat O(logN), Leave (NLogN)"
   ]
  },
  {
   "cell_type": "code",
   "execution_count": 38,
   "metadata": {},
   "outputs": [],
   "source": [
    "import heapq\n",
    "class ExamRoom(object):\n",
    "\n",
    "    def __init__(self, N):\n",
    "        \"\"\"\n",
    "        :type N: int\n",
    "        \"\"\"\n",
    "        self.maxheap = [(-self.dist(-1, N), -1, N)]\n",
    "        self.N = N\n",
    "\n",
    "    def seat(self):\n",
    "        \"\"\"\n",
    "        :rtype: int\n",
    "        \"\"\"\n",
    "        student = 0\n",
    "        d, left, right = heapq.heappop(self.maxheap)\n",
    "        d = -d\n",
    "        if left == -1:\n",
    "            student = 0\n",
    "        elif right == self.N:\n",
    "            student = self.N - 1\n",
    "        else:\n",
    "            student = (left + right) // 2\n",
    "            \n",
    "        heapq.heappush(self.maxheap, (-self.dist(left, student), left, student))\n",
    "        heapq.heappush(self.maxheap, (-self.dist(student, right), student, right))\n",
    "\n",
    "        return student\n",
    "\n",
    "    def leave(self, p):\n",
    "        \"\"\"\n",
    "        :type p: int\n",
    "        :rtype: None\n",
    "        \"\"\"\n",
    "        start = end = 0\n",
    "        remove = []\n",
    "        for d, left, right in self.maxheap:\n",
    "            d = -d\n",
    "            if left == p: \n",
    "                end = right\n",
    "                remove.append((-d, left, right))\n",
    "            if right == p: \n",
    "                start = left\n",
    "                remove.append((-d, left, right))\n",
    "        self.maxheap.remove(remove[0])\n",
    "        self.maxheap.remove(remove[1])\n",
    "        self.maxheap.append((-self.dist(start, end), start, end))\n",
    "        heapq.heapify(self.maxheap)\n",
    "        \n",
    "    def dist(self, left, right):\n",
    "        if left == -1 or right == self.N:\n",
    "            return right - left - 1\n",
    "        else:\n",
    "            return (right - left) // 2"
   ]
  },
  {
   "cell_type": "markdown",
   "metadata": {},
   "source": [
    "# Approach 2: Sorting array, Seat O(N), Leave O(N)"
   ]
  },
  {
   "cell_type": "code",
   "execution_count": 35,
   "metadata": {},
   "outputs": [],
   "source": [
    "import bisect\n",
    "class ExamRoom(object):\n",
    "\n",
    "    def __init__(self, N):\n",
    "        \"\"\"\n",
    "        :type N: int\n",
    "        \"\"\"\n",
    "        self.students = []\n",
    "        self.N = N\n",
    "\n",
    "    def seat(self):\n",
    "        \"\"\"\n",
    "        :rtype: int\n",
    "        \"\"\"\n",
    "        if not self.students:\n",
    "            self.students = [0]\n",
    "            return 0\n",
    "        dist, student = self.students[0], 0\n",
    "\n",
    "        for i in range(1, len(self.students)):\n",
    "            left, right = self.students[i - 1], self.students[i]\n",
    "            if (right - left) // 2 > dist:\n",
    "                dist, student = (right - left) // 2, (left + right) // 2\n",
    "                    \n",
    "        if self.students[-1] != self.N - 1:\n",
    "            if self.N - 1 - self.students[-1] > dist:\n",
    "                student = self.N - 1\n",
    "\n",
    "        bisect.insort(self.students, student)\n",
    "        return student\n",
    "\n",
    "    def leave(self, p):\n",
    "        \"\"\"\n",
    "        :type p: int\n",
    "        :rtype: None\n",
    "        \"\"\"\n",
    "        self.students.remove(p)"
   ]
  },
  {
   "cell_type": "markdown",
   "metadata": {},
   "source": [
    "# Verification"
   ]
  },
  {
   "cell_type": "code",
   "execution_count": 53,
   "metadata": {},
   "outputs": [
    {
     "name": "stdout",
     "output_type": "stream",
     "text": [
      "rrrr\n",
      "Input:    (['ExamRoom', 'seat', 'seat', 'seat', 'seat', 'leave', 'seat'], [[10], [], [], [], [], [4], []])\n",
      "Output:   [None, 0, 9, 4, 2, None, 5]\n",
      "Expected: [None, 0, 9, 4, 2, None, 5]\n",
      "\n"
     ]
    }
   ],
   "source": [
    "testcases = [([\"ExamRoom\",\"seat\",\"seat\",\"seat\",\"seat\",\"leave\",\"seat\"], [[10],[],[],[],[],[4],[]])]\n",
    "expected = [[None,0,9,4,2,None,5]]\n",
    "\n",
    "for case in zip(testcases, expected):\n",
    "    outputs = [None]\n",
    "    sol = ExamRoom(case[0][1][0][0])\n",
    "    print(\"Input:    \" + str(case[0]))\n",
    "    funcs = case[0][0]\n",
    "    params = case[0][1]\n",
    "    for i, func in enumerate(funcs):\n",
    "        param = \"\"\n",
    "        if i:\n",
    "            for p in params[i]:\n",
    "                param += str(p) + \",\"\n",
    "            param = param.strip(\",\")\n",
    "            outputs.append(eval(\"sol.\"+func+\"(\"+param+\")\"))\n",
    "    print(\"Output:   \" + str(outputs))\n",
    "    print(\"Expected: \" + str(case[1]) + \"\\n\")"
   ]
  }
 ],
 "metadata": {
  "kernelspec": {
   "display_name": "Python 3",
   "language": "python",
   "name": "python3"
  },
  "language_info": {
   "codemirror_mode": {
    "name": "ipython",
    "version": 3
   },
   "file_extension": ".py",
   "mimetype": "text/x-python",
   "name": "python",
   "nbconvert_exporter": "python",
   "pygments_lexer": "ipython3",
   "version": "3.7.3"
  }
 },
 "nbformat": 4,
 "nbformat_minor": 2
}
