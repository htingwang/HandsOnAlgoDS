{
 "cells": [
  {
   "cell_type": "markdown",
   "metadata": {},
   "source": [
    "# 785. Is Graph Bipartite\n",
    "#### https://leetcode.com/problems/is-graph-bipartite/"
   ]
  },
  {
   "cell_type": "markdown",
   "metadata": {},
   "source": [
    "# Approach 1: DFS"
   ]
  },
  {
   "cell_type": "code",
   "execution_count": 6,
   "metadata": {},
   "outputs": [],
   "source": [
    "class Solution(object):\n",
    "    def isBipartite(self, graph):\n",
    "        \"\"\"\n",
    "        :type graph: List[List[int]]\n",
    "        :rtype: bool\n",
    "        \"\"\"\n",
    "        colors = [0] * len(graph)\n",
    "        for i in range(len(graph)):\n",
    "            if colors[i] == 0 and not self.is_valid(graph, 1, i, colors):\n",
    "                return False\n",
    "            \n",
    "        return True\n",
    "    \n",
    "    def is_valid(self, graph, color, cur, colors):\n",
    "        if colors[cur] != 0:\n",
    "            return colors[cur] == color\n",
    "        \n",
    "        colors[cur] = color\n",
    "        for i in graph[cur]:\n",
    "            if not self.is_valid(graph, -1 * color, i, colors):\n",
    "                return False\n",
    "            \n",
    "        return True"
   ]
  },
  {
   "cell_type": "markdown",
   "metadata": {},
   "source": [
    "# Approach 2: BFS"
   ]
  },
  {
   "cell_type": "code",
   "execution_count": 11,
   "metadata": {},
   "outputs": [],
   "source": [
    "import collections\n",
    "class Solution(object):\n",
    "    def isBipartite(self, graph):\n",
    "        \"\"\"\n",
    "        :type graph: List[List[int]]\n",
    "        :rtype: bool\n",
    "        \"\"\"\n",
    "        colors = [0] * len(graph)\n",
    "        queue = collections.deque()\n",
    "        \n",
    "        for i in range(len(graph)):\n",
    "            if colors[i] != 0:\n",
    "                continue\n",
    "            colors[i] = 1\n",
    "            queue.append(i)\n",
    "            while queue:\n",
    "                cur = queue.popleft()\n",
    "                for neighbor in graph[cur]:\n",
    "                    if colors[neighbor] == colors[cur]:\n",
    "                        return False\n",
    "                    if colors[neighbor] == 0:\n",
    "                        queue.append(neighbor)\n",
    "                        colors[neighbor] = colors[cur] * (-1)\n",
    "        return True"
   ]
  },
  {
   "cell_type": "markdown",
   "metadata": {},
   "source": [
    "# Approach 3: Union Find"
   ]
  },
  {
   "cell_type": "code",
   "execution_count": 27,
   "metadata": {},
   "outputs": [],
   "source": [
    "class Solution(object):\n",
    "    def isBipartite(self, graph):\n",
    "        \"\"\"\n",
    "        :type graph: List[List[int]]\n",
    "        :rtype: bool\n",
    "        \"\"\"\n",
    "        self.parent = {x : x for x in range(len(graph))}\n",
    "        #print(self.parent)\n",
    "        \n",
    "        for i in range(len(graph)):\n",
    "            if not graph[i]:\n",
    "                continue\n",
    "                \n",
    "            x = self.find(i)\n",
    "            y = self.find(graph[i][0])\n",
    "            if x == y:\n",
    "                return False\n",
    "            \n",
    "            for j in range(1, len(graph[i])):\n",
    "                if self.find(graph[i][j]) == x:\n",
    "                    #print(i, j, x, self.find(j))\n",
    "                    return False\n",
    "                self.parent[self.find(graph[i][j])] = y\n",
    "        return True\n",
    "                \n",
    "    def find(self, x):\n",
    "        a = x\n",
    "        while a != self.parent[a]:\n",
    "            a = self.parent[a]\n",
    "            \n",
    "        while a != self.parent[x]:\n",
    "            x, self.parent[x] = self.parent[x], a\n",
    "        return a"
   ]
  },
  {
   "cell_type": "markdown",
   "metadata": {},
   "source": [
    "# Verification"
   ]
  },
  {
   "cell_type": "code",
   "execution_count": 28,
   "metadata": {},
   "outputs": [
    {
     "name": "stdout",
     "output_type": "stream",
     "text": [
      "Input:    [[1, 3], [0, 2], [1, 3], [0, 2]]\n",
      "{0: 0, 1: 1, 2: 2, 3: 3}\n",
      "Output:   True\n",
      "Expected: True\n",
      "\n",
      "Input:    [[1, 2, 3], [0, 2], [0, 1, 3], [0, 2]]\n",
      "{0: 0, 1: 1, 2: 2, 3: 3}\n",
      "1 1 1 1\n",
      "Output:   False\n",
      "Expected: False\n",
      "\n"
     ]
    }
   ],
   "source": [
    "testcases = [[[1,3], [0,2], [1,3], [0,2]],[[1,2,3], [0,2], [0,1,3], [0,2]]]\n",
    "expected = [True,False]\n",
    "\n",
    "outputs = []\n",
    "sol = Solution();\n",
    "\n",
    "for case in zip(testcases, expected):\n",
    "    print(\"Input:    \" + str(case[0]))\n",
    "    print(\"Output:   \" + str(sol.isBipartite(case[0])))\n",
    "    print(\"Expected: \" + str(case[1]) + \"\\n\")"
   ]
  }
 ],
 "metadata": {
  "kernelspec": {
   "display_name": "Python 3",
   "language": "python",
   "name": "python3"
  },
  "language_info": {
   "codemirror_mode": {
    "name": "ipython",
    "version": 3
   },
   "file_extension": ".py",
   "mimetype": "text/x-python",
   "name": "python",
   "nbconvert_exporter": "python",
   "pygments_lexer": "ipython3",
   "version": "3.7.3"
  }
 },
 "nbformat": 4,
 "nbformat_minor": 2
}
