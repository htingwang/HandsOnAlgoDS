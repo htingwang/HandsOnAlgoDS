{
 "cells": [
  {
   "cell_type": "markdown",
   "metadata": {},
   "source": [
    "# 214. Shortest Palindrome\n",
    "#### https://leetcode.com/problems/shortest-palindrome/"
   ]
  },
  {
   "cell_type": "markdown",
   "metadata": {},
   "source": [
    "# Approach 1: Brute Force"
   ]
  },
  {
   "cell_type": "code",
   "execution_count": 39,
   "metadata": {},
   "outputs": [],
   "source": [
    "class Solution(object):\n",
    "    def shortestPalindrome(self, s):\n",
    "        \"\"\"\n",
    "        :type s: str\n",
    "        :rtype: str\n",
    "        \"\"\"\n",
    "        n = len(s)\n",
    "        if n <= 1: return s\n",
    "        \n",
    "        s_rev = s[:: -1]\n",
    "        \n",
    "        for i in range(n):\n",
    "            if s[: n - i] == s_rev[i:]:\n",
    "                return s_rev[: i] + s\n",
    "            \n",
    "        return \"\""
   ]
  },
  {
   "cell_type": "markdown",
   "metadata": {},
   "source": [
    "# Approach 2: Knuth-Morris-Pratt (KMP)"
   ]
  },
  {
   "cell_type": "code",
   "execution_count": 19,
   "metadata": {},
   "outputs": [],
   "source": [
    "class Solution(object):\n",
    "    def shortestPalindrome(self, s):\n",
    "        \"\"\"\n",
    "        :type s: str\n",
    "        :rtype: str\n",
    "        \"\"\"\n",
    "        if not s: return s\n",
    "        \n",
    "        s_new = s + \"#\" + s[::-1]\n",
    "        n = len(s_new)\n",
    "        kmp = [0] * n\n",
    "        \n",
    "        k = 0\n",
    "        for i in range(1, n):\n",
    "            while k > 0 and s_new[i] != s_new[k]:\n",
    "                k = kmp[k - 1]\n",
    "            if s_new[i] == s_new[k]:\n",
    "                k += 1\n",
    "                kmp[i] = k\n",
    "        \n",
    "        return s[::-1][: len(s) - kmp[-1]] + s"
   ]
  },
  {
   "cell_type": "markdown",
   "metadata": {},
   "source": [
    "# Verification"
   ]
  },
  {
   "cell_type": "code",
   "execution_count": 40,
   "metadata": {},
   "outputs": [
    {
     "name": "stdout",
     "output_type": "stream",
     "text": [
      "Input:    aacecaaa\n",
      "Output:   aaacecaaa\n",
      "Expected: aaacecaaa\n",
      "\n",
      "Input:    abcd\n",
      "Output:   dcbabcd\n",
      "Expected: dcbabcd\n",
      "\n",
      "Input:    ab\n",
      "Output:   bab\n",
      "Expected: bab\n",
      "\n"
     ]
    }
   ],
   "source": [
    "testcases = [\"aacecaaa\",\"abcd\",\"ab\"]\n",
    "expected = [\"aaacecaaa\",\"dcbabcd\",\"bab\"]\n",
    "\n",
    "outputs = []\n",
    "sol = Solution();\n",
    "\n",
    "for case in zip(testcases, expected):\n",
    "    print(\"Input:    \" + str(case[0]))\n",
    "    print(\"Output:   \" + str(sol.shortestPalindrome(case[0])))\n",
    "    print(\"Expected: \" + str(case[1]) + \"\\n\")"
   ]
  }
 ],
 "metadata": {
  "kernelspec": {
   "display_name": "Python 3",
   "language": "python",
   "name": "python3"
  },
  "language_info": {
   "codemirror_mode": {
    "name": "ipython",
    "version": 3
   },
   "file_extension": ".py",
   "mimetype": "text/x-python",
   "name": "python",
   "nbconvert_exporter": "python",
   "pygments_lexer": "ipython3",
   "version": "3.7.3"
  }
 },
 "nbformat": 4,
 "nbformat_minor": 2
}
