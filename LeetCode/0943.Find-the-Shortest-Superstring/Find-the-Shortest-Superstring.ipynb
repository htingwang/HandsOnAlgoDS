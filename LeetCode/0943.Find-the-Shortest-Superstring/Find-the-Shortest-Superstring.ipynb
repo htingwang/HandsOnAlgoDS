{
 "cells": [
  {
   "cell_type": "markdown",
   "metadata": {},
   "source": [
    "# 943. Find the Shortest Superstring\n",
    "#### https://leetcode.com/problems/find-the-shortest-superstring/"
   ]
  },
  {
   "cell_type": "markdown",
   "metadata": {},
   "source": [
    "# Approach 1: Dynamic Programming"
   ]
  },
  {
   "cell_type": "code",
   "execution_count": 52,
   "metadata": {},
   "outputs": [],
   "source": [
    "class Solution(object):\n",
    "    def shortestSuperstring(self, A):\n",
    "        \"\"\"\n",
    "        :type A: List[str]\n",
    "        :rtype: str\n",
    "        \"\"\"\n",
    "        N = len(A)\n",
    "        overlap = [[0] * N for _ in range(N)]\n",
    "        \n",
    "        for i, x in enumerate(A):\n",
    "            for j, y in enumerate(A):\n",
    "                if i != j:\n",
    "                    for ans in range(min(len(x), len(y)), -1, -1):\n",
    "                        if x.endswith(y[:ans]):\n",
    "                            overlap[i][j] = ans\n",
    "                            break\n",
    "        \n",
    "        dp = [[0] * N for _ in range(1 << N)]\n",
    "        parent = [[None] * N for _ in range(1 << N)]\n",
    "        \n",
    "        for mask in range(1, 1 << N):\n",
    "            for bit in range(N):\n",
    "                if (mask >> bit) & 1:\n",
    "                    pmask = mask ^ (1 << bit)\n",
    "                    if pmask == 0: continue\n",
    "                    for i in range(N):\n",
    "                        if (pmask >> i) & 1:\n",
    "                            cur = dp[pmask][i] + overlap[i][bit]\n",
    "                            if cur > dp[mask][bit]:\n",
    "                                dp[mask][bit] = cur\n",
    "                                parent[mask][bit] = i\n",
    "\n",
    "        last = max([(num, i) for i, num in enumerate(dp[-1])])[1]\n",
    "        perm = []\n",
    "        mask = (1 << N) - 1\n",
    "        seen = set()\n",
    "        while last != None:\n",
    "            seen.add(last)\n",
    "            perm.append(last)\n",
    "            mask, last = mask ^ (1 << last), parent[mask][last]\n",
    "        res = [A[perm[-1]]]\n",
    "\n",
    "        for i in range(len(perm) - 2, -1, -1):\n",
    "            word = A[perm[i]]\n",
    "            cur_overlap = overlap[perm[i + 1]][perm[i]]\n",
    "            res.append(word[cur_overlap:])\n",
    "\n",
    "        for i in range(N):\n",
    "            if i not in seen:\n",
    "                res.append(A[i])\n",
    "        return \"\".join(res)"
   ]
  },
  {
   "cell_type": "markdown",
   "metadata": {},
   "source": [
    "# Verification "
   ]
  },
  {
   "cell_type": "code",
   "execution_count": 53,
   "metadata": {},
   "outputs": [
    {
     "name": "stdout",
     "output_type": "stream",
     "text": [
      "Input:    ['alex', 'loves', 'leetcode']\n",
      "Output:   leetcodealexloves\n",
      "Expected: alexlovesleetcode\n",
      "\n",
      "Input:    ['catg', 'ctaagt', 'gcta', 'ttca', 'atgcatc']\n",
      "Output:   gctaagttcatgcatc\n",
      "Expected: gctaagttcatgcatc\n",
      "\n",
      "Input:    ['abcde', 'xyzab']\n",
      "Output:   xyzabcde\n",
      "Expected: xyzabcde\n",
      "\n"
     ]
    }
   ],
   "source": [
    "testcases = [[\"alex\",\"loves\",\"leetcode\"],[\"catg\",\"ctaagt\",\"gcta\",\"ttca\",\"atgcatc\"],[\"abcde\",\"xyzab\"]]\n",
    "expected = [\"alexlovesleetcode\",\"gctaagttcatgcatc\",\"xyzabcde\"]\n",
    "outputs = []\n",
    "sol = Solution();\n",
    "\n",
    "for case in zip(testcases, expected):\n",
    "    print(\"Input:    \" + str(case[0]))\n",
    "    print(\"Output:   \" + str(sol.shortestSuperstring(case[0])))\n",
    "    print(\"Expected: \" + str(case[1]) + \"\\n\")"
   ]
  }
 ],
 "metadata": {
  "kernelspec": {
   "display_name": "Python 3",
   "language": "python",
   "name": "python3"
  },
  "language_info": {
   "codemirror_mode": {
    "name": "ipython",
    "version": 3
   },
   "file_extension": ".py",
   "mimetype": "text/x-python",
   "name": "python",
   "nbconvert_exporter": "python",
   "pygments_lexer": "ipython3",
   "version": "3.7.3"
  }
 },
 "nbformat": 4,
 "nbformat_minor": 2
}
