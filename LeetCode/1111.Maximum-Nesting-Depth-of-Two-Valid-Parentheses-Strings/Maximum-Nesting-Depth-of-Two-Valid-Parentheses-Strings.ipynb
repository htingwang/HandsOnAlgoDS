{
 "cells": [
  {
   "cell_type": "markdown",
   "metadata": {},
   "source": [
    "# 1111. Maximum Nesting Depth of Two Valid Parentheses Strings\n",
    "#### https://leetcode.com/problems/maximum-nesting-depth-of-two-valid-parentheses-strings/"
   ]
  },
  {
   "cell_type": "markdown",
   "metadata": {},
   "source": [
    "# Approach 1"
   ]
  },
  {
   "cell_type": "code",
   "execution_count": 1,
   "metadata": {},
   "outputs": [],
   "source": [
    "class Solution(object):\n",
    "    def maxDepthAfterSplit(self, seq):\n",
    "        \"\"\"\n",
    "        :type seq: str\n",
    "        :rtype: List[int]\n",
    "        \"\"\"\n",
    "        left = right = 0\n",
    "        res = []\n",
    "        for s in seq:\n",
    "            if s == \"(\": \n",
    "                left += 1\n",
    "                if left == right + 1: res.append(0)\n",
    "                else: res.append(1)\n",
    "            if s == \")\": \n",
    "                right += 1\n",
    "                if left == right: res.append(0)\n",
    "                else: res.append(1)\n",
    "        return res"
   ]
  },
  {
   "cell_type": "markdown",
   "metadata": {},
   "source": [
    "# Verification"
   ]
  },
  {
   "cell_type": "code",
   "execution_count": 3,
   "metadata": {},
   "outputs": [
    {
     "name": "stdout",
     "output_type": "stream",
     "text": [
      "Input:    (()())\n",
      "Output:   [0, 1, 1, 1, 1, 0]\n",
      "Expected: [0, 1, 1, 1, 1, 0]\n",
      "\n",
      "Input:    ()(())()\n",
      "Output:   [0, 0, 0, 1, 1, 0, 0, 0]\n",
      "Expected: [0,0,0,1,1,0,1,1] or [0,0,0,1,1,0,0,0]\n",
      "\n"
     ]
    }
   ],
   "source": [
    "testcases = [\"(()())\",\"()(())()\"]\n",
    "expected = [[0,1,1,1,1,0],\"[0,0,0,1,1,0,1,1] or [0,0,0,1,1,0,0,0]\"]\n",
    "\n",
    "outputs = []\n",
    "sol = Solution();\n",
    "\n",
    "for case in zip(testcases, expected):\n",
    "    print(\"Input:    \" + str(case[0]))\n",
    "    print(\"Output:   \" + str(sol.maxDepthAfterSplit(case[0])))\n",
    "    print(\"Expected: \" + str(case[1]) + \"\\n\")"
   ]
  }
 ],
 "metadata": {
  "kernelspec": {
   "display_name": "Python 3",
   "language": "python",
   "name": "python3"
  },
  "language_info": {
   "codemirror_mode": {
    "name": "ipython",
    "version": 3
   },
   "file_extension": ".py",
   "mimetype": "text/x-python",
   "name": "python",
   "nbconvert_exporter": "python",
   "pygments_lexer": "ipython3",
   "version": "3.7.3"
  }
 },
 "nbformat": 4,
 "nbformat_minor": 2
}
