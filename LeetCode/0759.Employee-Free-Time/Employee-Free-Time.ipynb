{
 "cells": [
  {
   "cell_type": "markdown",
   "metadata": {},
   "source": [
    "# 759. Employee Free Time\n",
    "#### https://leetcode.com/problems/employee-free-time/"
   ]
  },
  {
   "cell_type": "markdown",
   "metadata": {},
   "source": [
    "# Approach 1: Sweep Line"
   ]
  },
  {
   "cell_type": "code",
   "execution_count": 1,
   "metadata": {},
   "outputs": [],
   "source": [
    "\n",
    "# Definition for an Interval.\n",
    "class Interval(object):\n",
    "    def __init__(self, start, end):\n",
    "        self.start = start\n",
    "        self.end = end\n",
    "\n",
    "import collections\n",
    "class Solution(object):\n",
    "    def employeeFreeTime(self, schedule):\n",
    "        \"\"\"\n",
    "        :type schedule: list<list<Interval>>\n",
    "        :rtype: list<Interval>\n",
    "        \"\"\"\n",
    "        count = collections.defaultdict(int)\n",
    "        for employee in schedule:\n",
    "            for interval in employee:\n",
    "                count[interval.start] += 1\n",
    "                count[interval.end] -= 1\n",
    "        res = []\n",
    "        start = end = 0\n",
    "        cur = 0\n",
    "        for time, num in sorted(count.items()):\n",
    "            cur += num\n",
    "            if cur == 0:\n",
    "                start = time\n",
    "            elif start != end:\n",
    "                end = time\n",
    "                if start < end:\n",
    "                    res.append(Interval(start, end))\n",
    "                start = end\n",
    "        return res"
   ]
  },
  {
   "cell_type": "markdown",
   "metadata": {},
   "source": [
    "# Verification"
   ]
  },
  {
   "cell_type": "code",
   "execution_count": 4,
   "metadata": {},
   "outputs": [
    {
     "name": "stdout",
     "output_type": "stream",
     "text": [
      "Input:    [[[1, 2], [5, 6]], [[1, 3]], [[4, 10]]]\n",
      "Output:   [[3, 4]]\n",
      "Expected: [[3, 4]]\n",
      "\n"
     ]
    }
   ],
   "source": [
    "testcases = [[[[1,2],[5,6]],[[1,3]],[[4,10]]]]\n",
    "expected = [[[3,4]]]\n",
    "\n",
    "outputs = []\n",
    "sol = Solution();\n",
    "\n",
    "for case in zip(testcases, expected):\n",
    "    print(\"Input:    \" + str(case[0]))\n",
    "    schedule = []\n",
    "    for em in case[0]:\n",
    "        schedule.append([])\n",
    "        for iv in em:\n",
    "            schedule[-1].append(Interval(iv[0], iv[1]))\n",
    "    res = sol.employeeFreeTime(schedule)\n",
    "    outputs = []\n",
    "    for iv in res:\n",
    "        outputs.append([iv.start, iv.end])\n",
    "    print(\"Output:   \" + str(outputs))\n",
    "    print(\"Expected: \" + str(case[1]) + \"\\n\")"
   ]
  }
 ],
 "metadata": {
  "kernelspec": {
   "display_name": "Python 3",
   "language": "python",
   "name": "python3"
  },
  "language_info": {
   "codemirror_mode": {
    "name": "ipython",
    "version": 3
   },
   "file_extension": ".py",
   "mimetype": "text/x-python",
   "name": "python",
   "nbconvert_exporter": "python",
   "pygments_lexer": "ipython3",
   "version": "3.7.3"
  }
 },
 "nbformat": 4,
 "nbformat_minor": 2
}
