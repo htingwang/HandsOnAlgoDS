{
 "cells": [
  {
   "cell_type": "markdown",
   "metadata": {},
   "source": [
    "# 282. Expression Add Operators\n",
    "#### https://leetcode.com/problems/expression-add-operators/"
   ]
  },
  {
   "cell_type": "markdown",
   "metadata": {},
   "source": [
    "# Approach 1"
   ]
  },
  {
   "cell_type": "code",
   "execution_count": 5,
   "metadata": {},
   "outputs": [],
   "source": [
    "class Solution(object):\n",
    "    def addOperators(self, num, target):\n",
    "        \"\"\"\n",
    "        :type num: str\n",
    "        :type target: int\n",
    "        :rtype: List[str]\n",
    "        \"\"\"\n",
    "        res = []\n",
    "        self.dfs(num, target, 0, \"\", 0, 0, res)\n",
    "        return res\n",
    "        \n",
    "    def dfs(self, num, target, idx, eq, total, last, res):\n",
    "        if idx == len(num):\n",
    "            if total == target:\n",
    "                res.append(eq)\n",
    "            return\n",
    "        \n",
    "        for i in range(idx, len(num)):\n",
    "            x = int(num[idx : i + 1])\n",
    "            if idx == 0:\n",
    "                self.dfs(num, target, i + 1, str(x), x, x, res)   \n",
    "            else:\n",
    "                self.dfs(num, target, i + 1, eq + \"+\" + str(x), total + x, x, res)\n",
    "                self.dfs(num, target, i + 1, eq + \"-\" + str(x), total - x, -x, res)\n",
    "                self.dfs(num, target, i + 1, eq + \"*\" + str(x), total - last + last * x, last * x, res)\n",
    "            if x == 0:\n",
    "                break"
   ]
  },
  {
   "cell_type": "markdown",
   "metadata": {},
   "source": [
    "# Verification"
   ]
  },
  {
   "cell_type": "code",
   "execution_count": 6,
   "metadata": {},
   "outputs": [
    {
     "name": "stdout",
     "output_type": "stream",
     "text": [
      "Input:    ('123', 6)\n",
      "Output:   ['1+2+3', '1*2*3']\n",
      "Expected: ['1+2+3', '1*2*3']\n",
      "\n",
      "Input:    ('232', 8)\n",
      "Output:   ['2+3*2', '2*3+2']\n",
      "Expected: ['2*3+2', '2+3*2']\n",
      "\n",
      "Input:    ('105', 5)\n",
      "Output:   ['1*0+5', '10-5']\n",
      "Expected: ['1*0+5', '10-5']\n",
      "\n",
      "Input:    ('00', 0)\n",
      "Output:   ['0+0', '0-0', '0*0']\n",
      "Expected: ['0+0', '0-0', '0*0']\n",
      "\n",
      "Input:    ('3456237490', 9191)\n",
      "Output:   []\n",
      "Expected: []\n",
      "\n"
     ]
    }
   ],
   "source": [
    "testcases = [(\"123\",6),(\"232\",8),(\"105\",5),(\"00\",0),(\"3456237490\",9191)]\n",
    "expected = [[\"1+2+3\", \"1*2*3\"],[\"2*3+2\", \"2+3*2\"],[\"1*0+5\",\"10-5\"],[\"0+0\", \"0-0\", \"0*0\"],[]]\n",
    "\n",
    "outputs = []\n",
    "sol = Solution();\n",
    "\n",
    "for case in zip(testcases, expected):\n",
    "    print(\"Input:    \" + str(case[0]))\n",
    "    print(\"Output:   \" + str(sol.addOperators(case[0][0],case[0][1])))\n",
    "    print(\"Expected: \" + str(case[1]) + \"\\n\")"
   ]
  }
 ],
 "metadata": {
  "kernelspec": {
   "display_name": "Python 3",
   "language": "python",
   "name": "python3"
  },
  "language_info": {
   "codemirror_mode": {
    "name": "ipython",
    "version": 3
   },
   "file_extension": ".py",
   "mimetype": "text/x-python",
   "name": "python",
   "nbconvert_exporter": "python",
   "pygments_lexer": "ipython3",
   "version": "3.7.3"
  }
 },
 "nbformat": 4,
 "nbformat_minor": 2
}
