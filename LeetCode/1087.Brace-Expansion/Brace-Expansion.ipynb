{
 "cells": [
  {
   "cell_type": "markdown",
   "metadata": {},
   "source": [
    "# 1087. Brace Expansion\n",
    "#### https://leetcode.com/problems/brace-expansion/"
   ]
  },
  {
   "cell_type": "markdown",
   "metadata": {},
   "source": [
    "# Approach 1"
   ]
  },
  {
   "cell_type": "code",
   "execution_count": null,
   "metadata": {},
   "outputs": [],
   "source": [
    "class Solution(object):\n",
    "    def expand(self, S):\n",
    "        \"\"\"\n",
    "        :type S: str\n",
    "        :rtype: List[str]\n",
    "        \"\"\"\n",
    "        res = [\"\"]\n",
    "        stack = []\n",
    "        tmp = \"\"\n",
    "        left = 0\n",
    "        for i, c in enumerate(S):\n",
    "            if c.isalpha():\n",
    "                if left:\n",
    "                    stack.append(c)\n",
    "                else:\n",
    "                    tmp = tmp + c\n",
    "            if c == \"{\" or i == len(S) - 1: \n",
    "                left = 1\n",
    "                n = len(stack)\n",
    "                if n: res = res * n\n",
    "                for j, s in enumerate(res):\n",
    "                    if n: res[j] += stack[j // (len(res) // n)]\n",
    "                    res[j] += tmp\n",
    "                stack = []\n",
    "                tmp = \"\"\n",
    "            elif c == \"}\": left = 0\n",
    "            \n",
    "        res.sort()\n",
    "        return res"
   ]
  },
  {
   "cell_type": "markdown",
   "metadata": {},
   "source": [
    "# Approach 2"
   ]
  },
  {
   "cell_type": "code",
   "execution_count": 4,
   "metadata": {},
   "outputs": [],
   "source": [
    "class Solution(object):\n",
    "    def expand(self, S):\n",
    "        \"\"\"\n",
    "        :type S: str\n",
    "        :rtype: List[str]\n",
    "        \"\"\"\n",
    "        stack = []\n",
    "        \n",
    "        i = 0\n",
    "        left = 0\n",
    "        while i < len(S):\n",
    "            cur_str_list = []\n",
    "            cur_str = \"\"\n",
    "            while i < len(S) and (S[i].isalpha() or S[i] == \",\"):\n",
    "                if S[i] != \",\":\n",
    "                    if left:\n",
    "                        cur_str_list.append(S[i])\n",
    "                    else:\n",
    "                        cur_str += S[i]\n",
    "                i += 1\n",
    "                \n",
    "            if cur_str:\n",
    "                stack.append([cur_str])\n",
    "            if cur_str_list:\n",
    "                stack.append(cur_str_list)\n",
    "                \n",
    "            if i < len(S) and S[i] == \"{\":\n",
    "                left = 1\n",
    "            if i < len(S) and S[i] == \"}\":\n",
    "                left = 0\n",
    "                \n",
    "            i += 1\n",
    "        #print(stack)        \n",
    "        while len(stack) > 1:\n",
    "            stack.append(self.merge(stack.pop(), stack.pop()))\n",
    "        stack[0].sort()     \n",
    "        return stack[0]\n",
    "    \n",
    "    def merge(self, list2, list1):\n",
    "        res = []\n",
    "        for s1 in list1:\n",
    "            for s2 in list2:\n",
    "                res.append(s1 + s2)\n",
    "        return res"
   ]
  },
  {
   "cell_type": "markdown",
   "metadata": {},
   "source": [
    "# Verification"
   ]
  },
  {
   "cell_type": "code",
   "execution_count": 6,
   "metadata": {},
   "outputs": [
    {
     "name": "stdout",
     "output_type": "stream",
     "text": [
      "Input:    {a,b}c{d,e}f\n",
      "Output:   ['acdf', 'acef', 'bcdf', 'bcef']\n",
      "Expected: ['acdf', 'acef', 'bcdf', 'bcef']\n",
      "\n",
      "Input:    abcd\n",
      "Output:   ['abcd']\n",
      "Expected: ['abcd']\n",
      "\n"
     ]
    }
   ],
   "source": [
    "testcases = [\"{a,b}c{d,e}f\",\"abcd\"]\n",
    "expected = [[\"acdf\",\"acef\",\"bcdf\",\"bcef\"],[\"abcd\"]]\n",
    "\n",
    "outputs = []\n",
    "sol = Solution();\n",
    "\n",
    "for case in zip(testcases, expected):\n",
    "    print(\"Input:    \" + str(case[0]))\n",
    "    print(\"Output:   \" + str(sol.expand(case[0])))\n",
    "    print(\"Expected: \" + str(case[1]) + \"\\n\")"
   ]
  }
 ],
 "metadata": {
  "kernelspec": {
   "display_name": "Python 3",
   "language": "python",
   "name": "python3"
  },
  "language_info": {
   "codemirror_mode": {
    "name": "ipython",
    "version": 3
   },
   "file_extension": ".py",
   "mimetype": "text/x-python",
   "name": "python",
   "nbconvert_exporter": "python",
   "pygments_lexer": "ipython3",
   "version": "3.7.3"
  }
 },
 "nbformat": 4,
 "nbformat_minor": 2
}
