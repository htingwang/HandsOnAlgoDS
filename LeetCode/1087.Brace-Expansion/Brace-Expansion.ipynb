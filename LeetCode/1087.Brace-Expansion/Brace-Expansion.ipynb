{
 "cells": [
  {
   "cell_type": "markdown",
   "metadata": {},
   "source": [
    "# 1087. Brace Expansion\n",
    "#### https://leetcode.com/problems/brace-expansion/"
   ]
  },
  {
   "cell_type": "markdown",
   "metadata": {},
   "source": [
    "# Approach 1"
   ]
  },
  {
   "cell_type": "code",
   "execution_count": 3,
   "metadata": {},
   "outputs": [],
   "source": [
    "class Solution(object):\n",
    "    def expand(self, S):\n",
    "        \"\"\"\n",
    "        :type S: str\n",
    "        :rtype: List[str]\n",
    "        \"\"\"\n",
    "        res = [\"\"]\n",
    "        stack = []\n",
    "        tmp = \"\"\n",
    "        left = 0\n",
    "        for i, c in enumerate(S):\n",
    "            if c.isalpha():\n",
    "                if left:\n",
    "                    stack.append(c)\n",
    "                else:\n",
    "                    tmp = tmp + c\n",
    "            if c == \"{\" or i == len(S) - 1: \n",
    "                left = 1\n",
    "                n = len(stack)\n",
    "                if n: res = res * n\n",
    "                for j, s in enumerate(res):\n",
    "                    if n: res[j] += stack[j // (len(res) // n)]\n",
    "                    res[j] += tmp\n",
    "                stack = []\n",
    "                tmp = \"\"\n",
    "            elif c == \"}\": left = 0\n",
    "            \n",
    "        res.sort()\n",
    "        return res"
   ]
  },
  {
   "cell_type": "markdown",
   "metadata": {},
   "source": [
    "# Verification"
   ]
  },
  {
   "cell_type": "code",
   "execution_count": 4,
   "metadata": {},
   "outputs": [
    {
     "name": "stdout",
     "output_type": "stream",
     "text": [
      "Input:    {a,b}c{d,e}f\n",
      "Output:   ['acdf', 'acef', 'bcdf', 'bcef']\n",
      "Expected: ['acdf', 'acef', 'bcdf', 'bcef']\n",
      "\n",
      "Input:    abcd\n",
      "Output:   ['abcd']\n",
      "Expected: ['abcd']\n",
      "\n"
     ]
    }
   ],
   "source": [
    "testcases = [\"{a,b}c{d,e}f\",\"abcd\"]\n",
    "expected = [[\"acdf\",\"acef\",\"bcdf\",\"bcef\"],[\"abcd\"]]\n",
    "\n",
    "outputs = []\n",
    "sol = Solution();\n",
    "\n",
    "for case in zip(testcases, expected):\n",
    "    print(\"Input:    \" + str(case[0]))\n",
    "    print(\"Output:   \" + str(sol.expand(case[0])))\n",
    "    print(\"Expected: \" + str(case[1]) + \"\\n\")"
   ]
  }
 ],
 "metadata": {
  "kernelspec": {
   "display_name": "Python 3",
   "language": "python",
   "name": "python3"
  },
  "language_info": {
   "codemirror_mode": {
    "name": "ipython",
    "version": 3
   },
   "file_extension": ".py",
   "mimetype": "text/x-python",
   "name": "python",
   "nbconvert_exporter": "python",
   "pygments_lexer": "ipython3",
   "version": "3.7.3"
  }
 },
 "nbformat": 4,
 "nbformat_minor": 2
}
