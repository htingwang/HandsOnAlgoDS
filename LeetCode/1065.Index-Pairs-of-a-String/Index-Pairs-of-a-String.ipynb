{
 "cells": [
  {
   "cell_type": "markdown",
   "metadata": {},
   "source": [
    "# 1065. Index Pairs of a String\n",
    "#### https://leetcode.com/problems/index-pairs-of-a-string/"
   ]
  },
  {
   "cell_type": "markdown",
   "metadata": {},
   "source": [
    "# Approach 1: Regular Expression"
   ]
  },
  {
   "cell_type": "code",
   "execution_count": 5,
   "metadata": {},
   "outputs": [],
   "source": [
    "import re\n",
    "class Solution(object):\n",
    "    def indexPairs(self, text, words):\n",
    "        \"\"\"\n",
    "        :type text: str\n",
    "        :type words: List[str]\n",
    "        :rtype: List[List[int]]\n",
    "        \"\"\"\n",
    "        res = []\n",
    "        for word in words:\n",
    "            res += [[m.start(), m.start() + len(word) - 1] for m in re.finditer('(?=' + word + ')', text)] \n",
    "        res.sort()\n",
    "        return res"
   ]
  },
  {
   "cell_type": "markdown",
   "metadata": {},
   "source": [
    "# Approach 2: Trie"
   ]
  },
  {
   "cell_type": "code",
   "execution_count": 12,
   "metadata": {},
   "outputs": [],
   "source": [
    "class Solution(object):\n",
    "    def indexPairs(self, text, words):\n",
    "        \"\"\"\n",
    "        :type text: str\n",
    "        :type words: List[str]\n",
    "        :rtype: List[List[int]]\n",
    "        \"\"\"\n",
    "        res = []\n",
    "        root = TrieNode()\n",
    "        for word in words:\n",
    "            node = root\n",
    "            for c in word:\n",
    "                if c not in node.children:\n",
    "                    node.children[c] = TrieNode()\n",
    "                node = node.children[c]\n",
    "            node.is_word = True\n",
    "            \n",
    "        for i in range(len(text)):\n",
    "            j = i\n",
    "            node = root\n",
    "            while j < len(text) and text[j] in node.children:\n",
    "                node = node.children[text[j]]\n",
    "                if node.is_word: res.append([i, j])\n",
    "                j += 1\n",
    "                \n",
    "        res.sort()\n",
    "        return res\n",
    "        \n",
    "class TrieNode(object):\n",
    "    def __init__(self):\n",
    "        self.children = {}\n",
    "        self.is_word = False"
   ]
  },
  {
   "cell_type": "markdown",
   "metadata": {},
   "source": [
    "# Verification"
   ]
  },
  {
   "cell_type": "code",
   "execution_count": 13,
   "metadata": {},
   "outputs": [
    {
     "name": "stdout",
     "output_type": "stream",
     "text": [
      "Input:    ('thestoryofleetcodeandme', ['story', 'fleet', 'leetcode'])\n",
      "Output:   [[3, 7], [9, 13], [10, 17]]\n",
      "Expected: [[3, 7], [9, 13], [10, 17]]\n",
      "\n",
      "Input:    ('ababa', ['aba', 'ab'])\n",
      "Output:   [[0, 1], [0, 2], [2, 3], [2, 4]]\n",
      "Expected: [[0, 1], [0, 2], [2, 3], [2, 4]]\n",
      "\n"
     ]
    }
   ],
   "source": [
    "testcases = [(\"thestoryofleetcodeandme\",[\"story\",\"fleet\",\"leetcode\"]),(\"ababa\",[\"aba\",\"ab\"])]\n",
    "expected = [[[3,7],[9,13],[10,17]],[[0,1],[0,2],[2,3],[2,4]]]\n",
    "\n",
    "outputs = []\n",
    "sol = Solution();\n",
    "\n",
    "for case in zip(testcases, expected):\n",
    "    print(\"Input:    \" + str(case[0]))\n",
    "    print(\"Output:   \" + str(sol.indexPairs(case[0][0],case[0][1])))\n",
    "    print(\"Expected: \" + str(case[1]) + \"\\n\")"
   ]
  }
 ],
 "metadata": {
  "kernelspec": {
   "display_name": "Python 3",
   "language": "python",
   "name": "python3"
  },
  "language_info": {
   "codemirror_mode": {
    "name": "ipython",
    "version": 3
   },
   "file_extension": ".py",
   "mimetype": "text/x-python",
   "name": "python",
   "nbconvert_exporter": "python",
   "pygments_lexer": "ipython3",
   "version": "3.7.3"
  }
 },
 "nbformat": 4,
 "nbformat_minor": 2
}
