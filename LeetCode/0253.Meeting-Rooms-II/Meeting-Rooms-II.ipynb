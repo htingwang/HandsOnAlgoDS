{
 "cells": [
  {
   "cell_type": "markdown",
   "metadata": {},
   "source": [
    "# 253. Meeting Rooms II\n",
    "#### https://leetcode.com/problems/meeting-rooms-ii/"
   ]
  },
  {
   "cell_type": "markdown",
   "metadata": {},
   "source": [
    "# Approach 1: Sweep Line"
   ]
  },
  {
   "cell_type": "code",
   "execution_count": 1,
   "metadata": {},
   "outputs": [],
   "source": [
    "import collections\n",
    "class Solution(object):\n",
    "    def minMeetingRooms(self, intervals):\n",
    "        \"\"\"\n",
    "        :type intervals: List[List[int]]\n",
    "        :rtype: int\n",
    "        \"\"\"\n",
    "        time_to_meetings = collections.defaultdict(int)\n",
    "        for start, end in intervals:\n",
    "            time_to_meetings[start] += 1\n",
    "            time_to_meetings[end] -= 1\n",
    "        \n",
    "        res = 0\n",
    "        count = 0\n",
    "        for time, meetings in sorted(time_to_meetings.items()):\n",
    "            count += meetings\n",
    "            res = max(res, count)\n",
    "        return res"
   ]
  },
  {
   "cell_type": "markdown",
   "metadata": {},
   "source": [
    "# Verification"
   ]
  },
  {
   "cell_type": "code",
   "execution_count": 2,
   "metadata": {},
   "outputs": [
    {
     "name": "stdout",
     "output_type": "stream",
     "text": [
      "Input:    [[0, 30], [5, 10], [15, 20]]\n",
      "Output:   2\n",
      "Expected: 2\n",
      "\n",
      "Input:    [[7, 10], [2, 4]]\n",
      "Output:   1\n",
      "Expected: 1\n",
      "\n"
     ]
    }
   ],
   "source": [
    "testcases = [[[0,30],[5,10],[15,20]],[[7,10],[2,4]]]\n",
    "expected = [2,1]\n",
    "\n",
    "outputs = []\n",
    "sol = Solution();\n",
    "\n",
    "for case in zip(testcases, expected):\n",
    "    print(\"Input:    \" + str(case[0]))\n",
    "    print(\"Output:   \" + str(sol.minMeetingRooms(case[0])))\n",
    "    print(\"Expected: \" + str(case[1]) + \"\\n\")"
   ]
  }
 ],
 "metadata": {
  "kernelspec": {
   "display_name": "Python 3",
   "language": "python",
   "name": "python3"
  },
  "language_info": {
   "codemirror_mode": {
    "name": "ipython",
    "version": 3
   },
   "file_extension": ".py",
   "mimetype": "text/x-python",
   "name": "python",
   "nbconvert_exporter": "python",
   "pygments_lexer": "ipython3",
   "version": "3.7.3"
  }
 },
 "nbformat": 4,
 "nbformat_minor": 2
}
