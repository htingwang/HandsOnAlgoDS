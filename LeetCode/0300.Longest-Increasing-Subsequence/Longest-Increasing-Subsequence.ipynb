{
 "cells": [
  {
   "cell_type": "markdown",
   "metadata": {},
   "source": [
    "# 300. Longest Increasing Subsequence\n",
    "#### https://leetcode.com/problems/find-the-duplicate-number/"
   ]
  },
  {
   "cell_type": "markdown",
   "metadata": {},
   "source": [
    "# Approach 1: Dynamic Programming"
   ]
  },
  {
   "cell_type": "code",
   "execution_count": 29,
   "metadata": {},
   "outputs": [],
   "source": [
    "class Solution(object):\n",
    "    def lengthOfLIS(self, nums):\n",
    "        \"\"\"\n",
    "        :type nums: List[int]\n",
    "        :rtype: int\n",
    "        \"\"\"\n",
    "        if not nums: return 0\n",
    "        n = len(nums)\n",
    "        f = [1] * n\n",
    "        res = 0\n",
    "        for i in range(0, len(nums)):\n",
    "            f[i] = 1\n",
    "            for j in range(i):\n",
    "                if nums[j] < nums[i]:\n",
    "                    f[i] = max(f[i], f[j] + 1)\n",
    "            res = max(res, f[i])\n",
    "        return res"
   ]
  },
  {
   "cell_type": "markdown",
   "metadata": {},
   "source": [
    "# Approach 2: Binary Search"
   ]
  },
  {
   "cell_type": "code",
   "execution_count": 35,
   "metadata": {},
   "outputs": [],
   "source": [
    "class Solution(object):\n",
    "    def lengthOfLIS(self, nums):\n",
    "        \"\"\"\n",
    "        :type nums: List[int]\n",
    "        :rtype: int\n",
    "        \"\"\"\n",
    "        if not nums: return 0\n",
    "        n = len(nums)\n",
    "        min_last = [nums[0]]\n",
    "        for i in range(1, n):\n",
    "            if nums[i] < min_last[0]: min_last[0] = nums[i]\n",
    "            elif nums[i] > min_last[-1]: min_last.append(nums[i])\n",
    "            else:\n",
    "                left, right = 0, len(min_last) - 1\n",
    "                while left < right:\n",
    "                    mid = (left + right) // 2\n",
    "                    if min_last[mid] < nums[i]:\n",
    "                        left = mid + 1\n",
    "                    else:\n",
    "                        right = mid\n",
    "                min_last[left] = nums[i]\n",
    "        return len(min_last)"
   ]
  },
  {
   "cell_type": "markdown",
   "metadata": {},
   "source": [
    "# Verification"
   ]
  },
  {
   "cell_type": "code",
   "execution_count": 36,
   "metadata": {},
   "outputs": [
    {
     "name": "stdout",
     "output_type": "stream",
     "text": [
      "Input:    [10, 9, 2, 5, 3, 4]\n",
      "0 1 0\n",
      "Output:   3\n",
      "Expected: 3\n",
      "\n",
      "Input:    [10, 9, 2, 5, 3, 7, 101, 18]\n",
      "0 1 0\n",
      "0 3 1\n",
      "2 3 2\n",
      "Output:   4\n",
      "Expected: 4\n",
      "\n",
      "Input:    [1, 3, 6, 7, 9, 4, 10, 5, 6]\n",
      "0 4 2\n",
      "0 2 1\n",
      "0 5 2\n",
      "3 5 4\n",
      "3 4 3\n",
      "0 5 2\n",
      "3 5 4\n",
      "3 4 3\n",
      "Output:   6\n",
      "Expected: 6\n",
      "\n",
      "Input:    [4, 10, 4, 3, 8, 9]\n",
      "0 1 0\n",
      "0 1 0\n",
      "Output:   3\n",
      "Expected: 3\n",
      "\n",
      "Input:    [3, 2, 1]\n",
      "Output:   1\n",
      "Expected: 1\n",
      "\n",
      "Input:    [3, 5, 6, 2, 5, 4, 19, 5, 6, 7, 12]\n",
      "0 2 1\n",
      "0 1 0\n",
      "0 2 1\n",
      "0 1 0\n",
      "0 3 1\n",
      "2 3 2\n",
      "0 3 1\n",
      "2 3 2\n",
      "Output:   6\n",
      "Expected: 6\n",
      "\n",
      "Input:    []\n",
      "Output:   0\n",
      "Expected: 0\n",
      "\n"
     ]
    }
   ],
   "source": [
    "testcases = [[10,9,2,5,3,4],[10,9,2,5,3,7,101,18],[1,3,6,7,9,4,10,5,6],[4,10,4,3,8,9],[3,2,1],[3,5,6,2,5,4,19,5,6,7,12],[]]\n",
    "expected = [3,4,6,3,1,6,0]\n",
    "\n",
    "#testcases = testcases[-1:]\n",
    "#expected = expected[-1:]\n",
    "\n",
    "outputs = []\n",
    "sol = Solution();\n",
    "\n",
    "for case in zip(testcases, expected):\n",
    "    print(\"Input:    \" + str(case[0]))\n",
    "    print(\"Output:   \" + str(sol.lengthOfLIS(case[0])))\n",
    "    print(\"Expected: \" + str(case[1]) + \"\\n\")"
   ]
  }
 ],
 "metadata": {
  "kernelspec": {
   "display_name": "Python 3",
   "language": "python",
   "name": "python3"
  },
  "language_info": {
   "codemirror_mode": {
    "name": "ipython",
    "version": 3
   },
   "file_extension": ".py",
   "mimetype": "text/x-python",
   "name": "python",
   "nbconvert_exporter": "python",
   "pygments_lexer": "ipython3",
   "version": "3.7.3"
  }
 },
 "nbformat": 4,
 "nbformat_minor": 2
}
