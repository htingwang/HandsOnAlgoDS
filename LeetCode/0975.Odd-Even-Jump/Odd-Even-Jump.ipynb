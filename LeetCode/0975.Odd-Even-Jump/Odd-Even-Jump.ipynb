{
 "cells": [
  {
   "cell_type": "markdown",
   "metadata": {},
   "source": [
    "# 975. Odd Even Jump\n",
    "#### https://leetcode.com/problems/odd-even-jump/"
   ]
  },
  {
   "cell_type": "markdown",
   "metadata": {},
   "source": [
    "# Approach 1: Monotonous Stack"
   ]
  },
  {
   "cell_type": "code",
   "execution_count": 15,
   "metadata": {},
   "outputs": [],
   "source": [
    "class Solution(object):\n",
    "    def oddEvenJumps(self, A):\n",
    "        \"\"\"\n",
    "        :type A: List[int]\n",
    "        :rtype: int\n",
    "        \"\"\"\n",
    "        n = len(A)\n",
    "\n",
    "        def next_idx(idxs, n):\n",
    "            stack = []\n",
    "            res = [-1] * n\n",
    "            for idx in idxs:\n",
    "                while stack and stack[-1] < idx:\n",
    "                    res[stack.pop()] = idx\n",
    "                stack.append(idx)\n",
    "            return res\n",
    "        \n",
    "        idx_inc = sorted(range(n), key = lambda i: A[i])\n",
    "        odd_next = next_idx(idx_inc, n)\n",
    "        idx_dec = sorted(range(n), key = lambda i: -A[i])\n",
    "        even_next = next_idx(idx_dec, n)\n",
    "        \n",
    "        odd = [False] * n\n",
    "        even = [False] * n\n",
    "        odd[n - 1] = even[n - 1] = True\n",
    "\n",
    "        for i in range(n - 2, -1, -1):\n",
    "            if odd_next[i] != -1:\n",
    "                odd[i] = even[odd_next[i]]\n",
    "            if even_next[i] != -1:\n",
    "                even[i] = odd[even_next[i]]\n",
    "\n",
    "        return sum(odd)       "
   ]
  },
  {
   "cell_type": "markdown",
   "metadata": {},
   "source": [
    "# Verification "
   ]
  },
  {
   "cell_type": "code",
   "execution_count": 16,
   "metadata": {},
   "outputs": [
    {
     "name": "stdout",
     "output_type": "stream",
     "text": [
      "Input:    [10, 13, 12, 14, 15]\n",
      "Output:   2\n",
      "Expected: 2\n",
      "\n",
      "Input:    [2, 3, 1, 1, 4]\n",
      "Output:   3\n",
      "Expected: 3\n",
      "\n",
      "Input:    [5, 1, 3, 4, 2]\n",
      "Output:   3\n",
      "Expected: 3\n",
      "\n"
     ]
    }
   ],
   "source": [
    "testcases = [[10,13,12,14,15],[2,3,1,1,4],[5,1,3,4,2]]\n",
    "expected = [2,3,3]\n",
    "outputs = []\n",
    "sol = Solution();\n",
    "\n",
    "for case in zip(testcases, expected):\n",
    "    print(\"Input:    \" + str(case[0]))\n",
    "    print(\"Output:   \" + str(sol.oddEvenJumps(case[0])))\n",
    "    print(\"Expected: \" + str(case[1]) + \"\\n\")"
   ]
  }
 ],
 "metadata": {
  "kernelspec": {
   "display_name": "Python 3",
   "language": "python",
   "name": "python3"
  },
  "language_info": {
   "codemirror_mode": {
    "name": "ipython",
    "version": 3
   },
   "file_extension": ".py",
   "mimetype": "text/x-python",
   "name": "python",
   "nbconvert_exporter": "python",
   "pygments_lexer": "ipython3",
   "version": "3.7.3"
  }
 },
 "nbformat": 4,
 "nbformat_minor": 2
}
