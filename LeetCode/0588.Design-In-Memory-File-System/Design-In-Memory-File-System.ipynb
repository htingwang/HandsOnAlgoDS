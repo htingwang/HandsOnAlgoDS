{
 "cells": [
  {
   "cell_type": "markdown",
   "metadata": {},
   "source": [
    "# 588. Design In-Memory File System\n",
    "#### https://leetcode.com/problems/design-in-memory-file-system/"
   ]
  },
  {
   "cell_type": "markdown",
   "metadata": {},
   "source": [
    "# Approach 1"
   ]
  },
  {
   "cell_type": "code",
   "execution_count": 1,
   "metadata": {},
   "outputs": [],
   "source": [
    "class Folder(object):\n",
    "    def __init__(self, name):\n",
    "        self.name = name\n",
    "        self.subdirs = []\n",
    "        self.files = []\n",
    "        \n",
    "class File(object):\n",
    "    def __init__(self, name, content):\n",
    "        self.name = name\n",
    "        self.content = content\n",
    "        \n",
    "class FileSystem(object):\n",
    "\n",
    "    def __init__(self):\n",
    "        self.root = Folder(\"/\")\n",
    "        self.maps = {\"/\": self.root}\n",
    "\n",
    "    def ls(self, path):\n",
    "        \"\"\"\n",
    "        :type path: str\n",
    "        :rtype: List[str]\n",
    "        \"\"\"\n",
    "        cur = self.maps[path]\n",
    "        if type(cur) == File:\n",
    "            return [path.rsplit(\"/\", 1)[1]]\n",
    "        res = []\n",
    "        for folder in cur.subdirs:\n",
    "            res.append(folder.name.rsplit(\"/\", 1)[1])\n",
    "        for filename in cur.files:\n",
    "            res.append(filename.name.rsplit(\"/\", 1)[1])\n",
    "        return sorted(res)\n",
    "\n",
    "    def mkdir(self, path):\n",
    "        \"\"\"\n",
    "        :type path: str\n",
    "        :rtype: None\n",
    "        \"\"\"\n",
    "        cur = path.split(\"/\")\n",
    "        pre = \"/\"\n",
    "        cur_path = \"\"\n",
    "        for name in cur[1:]:\n",
    "            cur_path += \"/\" + name\n",
    "            if cur_path not in self.maps:\n",
    "                cur_folder = Folder(cur_path)\n",
    "                self.maps[pre].subdirs.append(cur_folder)\n",
    "                self.maps[cur_path] = cur_folder\n",
    "            pre = cur_path\n",
    "        #print(self.maps)\n",
    "\n",
    "    def addContentToFile(self, filePath, content):\n",
    "        \"\"\"\n",
    "        :type filePath: str\n",
    "        :type content: str\n",
    "        :rtype: None\n",
    "        \"\"\"\n",
    "        folder_s, filename_s = filePath.rsplit(\"/\", 1)\n",
    "        if folder_s == \"\": folder_s = \"/\"\n",
    "        if filePath not in self.maps:\n",
    "            folder = self.maps[folder_s]\n",
    "            new_file = File(filePath, content)\n",
    "            folder.files.append(new_file)\n",
    "            self.maps[filePath] = new_file\n",
    "        else:\n",
    "            self.maps[filePath].content += content\n",
    "            \n",
    "    def readContentFromFile(self, filePath):\n",
    "        \"\"\"\n",
    "        :type filePath: str\n",
    "        :rtype: str\n",
    "        \"\"\"\n",
    "        return self.maps[filePath].content\n",
    "        \n",
    "\n",
    "\n",
    "# Your FileSystem object will be instantiated and called as such:\n",
    "# obj = FileSystem()\n",
    "# param_1 = obj.ls(path)\n",
    "# obj.mkdir(path)\n",
    "# obj.addContentToFile(filePath,content)\n",
    "# param_4 = obj.readContentFromFile(filePath)"
   ]
  },
  {
   "cell_type": "markdown",
   "metadata": {},
   "source": [
    "# Verification"
   ]
  },
  {
   "cell_type": "code",
   "execution_count": 4,
   "metadata": {},
   "outputs": [
    {
     "name": "stdout",
     "output_type": "stream",
     "text": [
      "Input:    (['FileSystem', 'ls', 'mkdir', 'addContentToFile', 'ls', 'readContentFromFile'], [[], ['/'], ['/a/b/c'], ['/a/b/c/d', 'hello'], ['/'], ['/a/b/c/d']])\n",
      "Output:   [None, [], None, None, ['a'], 'hello']\n",
      "Expected: [None, [], None, None, ['a'], 'hello']\n",
      "\n"
     ]
    }
   ],
   "source": [
    "testcases = [([\"FileSystem\",\"ls\",\"mkdir\",\"addContentToFile\",\"ls\",\"readContentFromFile\"],[[],[\"/\"],[\"/a/b/c\"],[\"/a/b/c/d\",\"hello\"],[\"/\"],[\"/a/b/c/d\"]])]\n",
    "expected = [[None, [], None, None, ['a'], 'hello']]\n",
    "\n",
    "for case in zip(testcases, expected):\n",
    "    outputs = [None]\n",
    "    sol = FileSystem()\n",
    "    print(\"Input:    \" + str(case[0]))\n",
    "    funcs = case[0][0]\n",
    "    params = case[0][1]\n",
    "    for i, func in enumerate(funcs):\n",
    "        if i: param = params[i]\n",
    "        if func == \"ls\":\n",
    "            outputs.append(sol.ls(param[0]))\n",
    "        if func == \"mkdir\":\n",
    "            outputs.append(sol.mkdir(param[0]))\n",
    "        if func == \"addContentToFile\":\n",
    "            outputs.append(sol.addContentToFile(param[0], param[1]))\n",
    "        if func == \"readContentFromFile\":\n",
    "            outputs.append(sol.readContentFromFile(param[0]))\n",
    "    print(\"Output:   \" + str(outputs))\n",
    "    print(\"Expected: \" + str(case[1]) + \"\\n\")"
   ]
  }
 ],
 "metadata": {
  "kernelspec": {
   "display_name": "Python 3",
   "language": "python",
   "name": "python3"
  },
  "language_info": {
   "codemirror_mode": {
    "name": "ipython",
    "version": 3
   },
   "file_extension": ".py",
   "mimetype": "text/x-python",
   "name": "python",
   "nbconvert_exporter": "python",
   "pygments_lexer": "ipython3",
   "version": "3.7.3"
  }
 },
 "nbformat": 4,
 "nbformat_minor": 2
}
