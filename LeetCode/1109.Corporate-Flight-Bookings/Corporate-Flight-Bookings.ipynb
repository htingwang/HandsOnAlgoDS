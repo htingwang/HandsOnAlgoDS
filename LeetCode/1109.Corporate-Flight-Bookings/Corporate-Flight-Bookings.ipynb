{
 "cells": [
  {
   "cell_type": "markdown",
   "metadata": {},
   "source": [
    "# 1109. Corporate Flight Bookings\n",
    "#### https://leetcode.com/problems/corporate-flight-bookings/"
   ]
  },
  {
   "cell_type": "markdown",
   "metadata": {},
   "source": [
    "# Approach 1"
   ]
  },
  {
   "cell_type": "code",
   "execution_count": 1,
   "metadata": {},
   "outputs": [],
   "source": [
    "class Solution(object):\n",
    "    def corpFlightBookings(self, bookings, n):\n",
    "        \"\"\"\n",
    "        :type bookings: List[List[int]]\n",
    "        :type n: int\n",
    "        :rtype: List[int]\n",
    "        \"\"\"\n",
    "        res = [0] * n\n",
    "        count = [0] * (n + 1)\n",
    "        \n",
    "        for start, end, seats in bookings:\n",
    "            count[start - 1] += seats\n",
    "            \n",
    "            count[end] -= seats\n",
    "        \n",
    "        cur = 0\n",
    "        for i in range(n):\n",
    "            cur += count[i]\n",
    "            res[i] = cur\n",
    "        return res"
   ]
  },
  {
   "cell_type": "markdown",
   "metadata": {},
   "source": [
    "# Verification"
   ]
  },
  {
   "cell_type": "code",
   "execution_count": 2,
   "metadata": {},
   "outputs": [
    {
     "name": "stdout",
     "output_type": "stream",
     "text": [
      "Input:    ([[1, 2, 10], [2, 3, 20], [2, 5, 25]], 5)\n",
      "Output:   [10, 55, 45, 25, 25]\n",
      "Expected: [10, 55, 45, 25, 25]\n",
      "\n"
     ]
    }
   ],
   "source": [
    "testcases = [([[1,2,10],[2,3,20],[2,5,25]],5)]\n",
    "expected = [[10,55,45,25,25]]\n",
    "\n",
    "outputs = []\n",
    "sol = Solution();\n",
    "\n",
    "for case in zip(testcases, expected):\n",
    "    print(\"Input:    \" + str(case[0]))\n",
    "    print(\"Output:   \" + str(sol.corpFlightBookings(case[0][0],case[0][1])))\n",
    "    print(\"Expected: \" + str(case[1]) + \"\\n\")"
   ]
  }
 ],
 "metadata": {
  "kernelspec": {
   "display_name": "Python 3",
   "language": "python",
   "name": "python3"
  },
  "language_info": {
   "codemirror_mode": {
    "name": "ipython",
    "version": 3
   },
   "file_extension": ".py",
   "mimetype": "text/x-python",
   "name": "python",
   "nbconvert_exporter": "python",
   "pygments_lexer": "ipython3",
   "version": "3.7.3"
  }
 },
 "nbformat": 4,
 "nbformat_minor": 2
}
