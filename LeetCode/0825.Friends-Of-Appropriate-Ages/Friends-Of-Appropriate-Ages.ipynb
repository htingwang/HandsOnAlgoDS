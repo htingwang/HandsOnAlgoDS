{
 "cells": [
  {
   "cell_type": "markdown",
   "metadata": {},
   "source": [
    "# 825. Friends Of Appropriate Ages\n",
    "#### https://leetcode.com/problems/friends-of-appropriate-ages/"
   ]
  },
  {
   "cell_type": "markdown",
   "metadata": {},
   "source": [
    "# Approach 1"
   ]
  },
  {
   "cell_type": "code",
   "execution_count": 1,
   "metadata": {},
   "outputs": [],
   "source": [
    "class Solution(object):\n",
    "    def numFriendRequests(self, ages):\n",
    "        \"\"\"\n",
    "        :type ages: List[int]\n",
    "        :rtype: int\n",
    "        \"\"\"\n",
    "        if len(ages) < 2:\n",
    "            return 0\n",
    "        ages.sort()\n",
    "        left = res = pre = 0\n",
    "        \n",
    "        for right in range(1, len(ages)):\n",
    "            if ages[right] == ages[pre] and ages[right] > 14:\n",
    "                res += right - pre\n",
    "            while left < right and ages[left] <= 0.5 * ages[right] + 7:\n",
    "                left += 1\n",
    "            \n",
    "            res += (right - left)\n",
    "            if ages[right] != ages[pre]:\n",
    "                pre = right\n",
    "            #print(left, right)\n",
    "        return res"
   ]
  },
  {
   "cell_type": "markdown",
   "metadata": {},
   "source": [
    "# Verification"
   ]
  },
  {
   "cell_type": "code",
   "execution_count": 3,
   "metadata": {},
   "outputs": [
    {
     "name": "stdout",
     "output_type": "stream",
     "text": [
      "Input:    [16, 16]\n",
      "Output:   2\n",
      "Expected: 2\n",
      "\n",
      "Input:    [16, 17, 18]\n",
      "Output:   2\n",
      "Expected: 2\n",
      "\n",
      "Input:    [20, 30, 100, 110, 120]\n",
      "Output:   3\n",
      "Expected: 3\n",
      "\n"
     ]
    }
   ],
   "source": [
    "testcases = [[16,16],[16,17,18],[20,30,100,110,120]]\n",
    "expected = [2,2,3]\n",
    "#testcases = testcases[:1]\n",
    "#expected = expected[:1]\n",
    "\n",
    "outputs = []\n",
    "sol = Solution();\n",
    "\n",
    "for case in zip(testcases, expected):\n",
    "    print(\"Input:    \" + str(case[0]))\n",
    "    print(\"Output:   \" + str(sol.numFriendRequests(case[0])))\n",
    "    print(\"Expected: \" + str(case[1]) + \"\\n\")"
   ]
  }
 ],
 "metadata": {
  "kernelspec": {
   "display_name": "Python 3",
   "language": "python",
   "name": "python3"
  },
  "language_info": {
   "codemirror_mode": {
    "name": "ipython",
    "version": 3
   },
   "file_extension": ".py",
   "mimetype": "text/x-python",
   "name": "python",
   "nbconvert_exporter": "python",
   "pygments_lexer": "ipython3",
   "version": "3.7.3"
  }
 },
 "nbformat": 4,
 "nbformat_minor": 2
}
