{
 "cells": [
  {
   "cell_type": "markdown",
   "metadata": {},
   "source": [
    "# 1055. Shortest Way to Form String\n",
    "#### https://leetcode.com/problems/shortest-way-to-form-string/"
   ]
  },
  {
   "cell_type": "markdown",
   "metadata": {},
   "source": [
    "# Approach 1: Dynamic Programming (Time Limit Exceeded)"
   ]
  },
  {
   "cell_type": "code",
   "execution_count": 30,
   "metadata": {},
   "outputs": [],
   "source": [
    "import collections, bisect\n",
    "class Solution(object):\n",
    "    def shortestWay(self, source, target):\n",
    "        \"\"\"\n",
    "        :type source: str\n",
    "        :type target: str\n",
    "        :rtype: int\n",
    "        \"\"\"\n",
    "        if len(set(target)) > len(set(source)):\n",
    "            return -1\n",
    "        \n",
    "        n = len(target)\n",
    "        \n",
    "        char_to_pos = collections.defaultdict(list)\n",
    "        for i, c in enumerate(source):\n",
    "            char_to_pos[c].append(i)\n",
    "        \n",
    "        dp = [[float('inf')] * n for _ in range(n)]\n",
    "        \n",
    "        for i in range(n):\n",
    "            dp[i][i] = 1\n",
    "        \n",
    "        string_to_ways = {}\n",
    "        \n",
    "        for w in range(2, n + 1):\n",
    "            for i in range(n + 1 - w):\n",
    "                j = i + w - 1\n",
    "                if target[i : j + 1] in string_to_ways:\n",
    "                    dp[i][j] = string_to_ways[target[i : j + 1]]\n",
    "                    continue\n",
    "                if self.is_subsequence(target[i : j + 1], char_to_pos):\n",
    "                    dp[i][j] = 1\n",
    "                else:\n",
    "                    for k in range(i, j):\n",
    "                        dp[i][j] = min(dp[i][j], dp[i][k] + dp[k + 1][j])\n",
    "                string_to_ways[target[i : j + 1]] = dp[i][j]\n",
    "        #print(dp)\n",
    "        return dp[0][n - 1]\n",
    "    \n",
    "    def is_subsequence(self, s, char_to_pos):\n",
    "        pivot = -1\n",
    "        for c in s:\n",
    "            cur = bisect.bisect(char_to_pos[c], pivot)\n",
    "            if cur == len(char_to_pos[c]): return False\n",
    "            pivot = char_to_pos[c][cur]\n",
    "        return True"
   ]
  },
  {
   "cell_type": "markdown",
   "metadata": {},
   "source": [
    "# Approach 2: Two Pointers"
   ]
  },
  {
   "cell_type": "code",
   "execution_count": 51,
   "metadata": {},
   "outputs": [],
   "source": [
    "class Solution(object):\n",
    "    def shortestWay(self, source, target):\n",
    "        \"\"\"\n",
    "        :type source: str\n",
    "        :type target: str\n",
    "        :rtype: int\n",
    "        \"\"\"\n",
    "        res = 0\n",
    "        i = j = 0\n",
    "        while i < len(target):\n",
    "            pre = i\n",
    "            for j in range(len(source)):\n",
    "                if i < len(target) and source[j] == target[i]:\n",
    "                    i += 1\n",
    "            if pre == i:\n",
    "                return -1\n",
    "            \n",
    "            pre = i     \n",
    "            res += 1\n",
    "        return res       "
   ]
  },
  {
   "cell_type": "markdown",
   "metadata": {},
   "source": [
    "# Verification"
   ]
  },
  {
   "cell_type": "code",
   "execution_count": 53,
   "metadata": {},
   "outputs": [
    {
     "name": "stdout",
     "output_type": "stream",
     "text": [
      "Input:    ('abc', 'abcbc')\n",
      "Output:   2\n",
      "Expected: 2\n",
      "\n",
      "Time: 0.14591217041015625\n",
      "Input:    ('abc', 'acdbc')\n",
      "Output:   -1\n",
      "Expected: -1\n",
      "\n",
      "Time: 0.03361701965332031\n",
      "Input:    ('xyz', 'xzyxz')\n",
      "Output:   3\n",
      "Expected: 3\n",
      "\n",
      "Time: 0.032901763916015625\n",
      "Input:    ('aaaaa', 'aaaaaaaaaaaaa')\n",
      "Output:   3\n",
      "Expected: 3\n",
      "\n",
      "Time: 0.03361701965332031\n",
      "Input:    ('daknuvixlefqinbdknbabvhqdinoqlpdfrgrykndcbimwppyraimycctlrqmcwop', 'daknuvixlefqinbdknbabvhqdinoqlpdfrgrykndcbimwppyraimycctlrqmcwopdaknuvixlefqinbdknbabvhqdinoqlpdfrgrykndcbimwppyraimycctlrqmcwopdaknuvixlefqinbdknbabvhqdinoqlpdfrgrykndcbimwppyraimycctlrqmcwopdaknuvixlefqinbdknbabvhqdinoqlpdfrgrykndcbimwppyraimycctlrqmcwopdaknuvixlefqinbdknbabvhqdinoqlpdfrgrykndcbimwppyraimycctlrqmcwopdaknuvixlefqinbdknbabvhqdinoqlpdfrgrykndcbimwppyraimycctlrqmcwop')\n",
      "Output:   6\n",
      "Expected: 6\n",
      "\n",
      "Time: 0.15211105346679688\n",
      "Input:    ('xpyofibbsqgzhsnpydyxnqnzkehynwyjbdbvlbdadnaqvnjsrwepfqbltqwchedy', 'xpyofibbsqgzhsnpydyxnqnzkehynwyjbdbvlbdadnaqvnjsrwepfqbltqwchedyxpyofibbsqgzhsnpydyxnqnzkehynwyjbdbvlbdadnaqvnjsrwepfqbltqwchedyxpyofibbsqgzhsnpydyxnqnzkehynwyjbdbvlbdadnaqvnjsrwepfqbltqwchedyxpyofibbsqgzhsnpydyxnqnzkehynwyjbdbvlbdadnaqvnjsrwepfqbltqwchedyxpyofibbsqgzhsnpydyxnqnzkehynwyjbdbvlbdadnaqvnjsrwepfqbltqwchedyxpyofibbsqgzhsnpydyxnqnzkehynwyjbdbvlbdadnaqvnjsrwepfqbltqwchedyxpyofibbsqgzhsnpydyxnqnzkehynwyjbdbvlbdadnaqvnjsrwepfqbltqwchedy')\n",
      "Output:   7\n",
      "Expected: 7\n",
      "\n",
      "Time: 0.16999244689941406\n"
     ]
    }
   ],
   "source": [
    "import time\n",
    "testcases = [(\"abc\",\"abcbc\"),(\"abc\",\"acdbc\"),(\"xyz\",\"xzyxz\"),(\"aaaaa\",\"aaaaaaaaaaaaa\"),(\"daknuvixlefqinbdknbabvhqdinoqlpdfrgrykndcbimwppyraimycctlrqmcwop\",\"daknuvixlefqinbdknbabvhqdinoqlpdfrgrykndcbimwppyraimycctlrqmcwopdaknuvixlefqinbdknbabvhqdinoqlpdfrgrykndcbimwppyraimycctlrqmcwopdaknuvixlefqinbdknbabvhqdinoqlpdfrgrykndcbimwppyraimycctlrqmcwopdaknuvixlefqinbdknbabvhqdinoqlpdfrgrykndcbimwppyraimycctlrqmcwopdaknuvixlefqinbdknbabvhqdinoqlpdfrgrykndcbimwppyraimycctlrqmcwopdaknuvixlefqinbdknbabvhqdinoqlpdfrgrykndcbimwppyraimycctlrqmcwop\"),(\"xpyofibbsqgzhsnpydyxnqnzkehynwyjbdbvlbdadnaqvnjsrwepfqbltqwchedy\",\"xpyofibbsqgzhsnpydyxnqnzkehynwyjbdbvlbdadnaqvnjsrwepfqbltqwchedyxpyofibbsqgzhsnpydyxnqnzkehynwyjbdbvlbdadnaqvnjsrwepfqbltqwchedyxpyofibbsqgzhsnpydyxnqnzkehynwyjbdbvlbdadnaqvnjsrwepfqbltqwchedyxpyofibbsqgzhsnpydyxnqnzkehynwyjbdbvlbdadnaqvnjsrwepfqbltqwchedyxpyofibbsqgzhsnpydyxnqnzkehynwyjbdbvlbdadnaqvnjsrwepfqbltqwchedyxpyofibbsqgzhsnpydyxnqnzkehynwyjbdbvlbdadnaqvnjsrwepfqbltqwchedyxpyofibbsqgzhsnpydyxnqnzkehynwyjbdbvlbdadnaqvnjsrwepfqbltqwchedy\")]\n",
    "expected = [2,-1,3,3,6,7]\n",
    "\n",
    "outputs = []\n",
    "sol = Solution();\n",
    "\n",
    "for case in zip(testcases, expected):\n",
    "    print(\"Input:    \" + str(case[0][:100]))\n",
    "    pre = time.time()\n",
    "    print(\"Output:   \" + str(sol.shortestWay(case[0][0],case[0][1])))\n",
    "    print(\"Expected: \" + str(case[1]) + \"\\n\")\n",
    "    print(\"Time: \" + str((time.time() - pre)*1000))"
   ]
  }
 ],
 "metadata": {
  "kernelspec": {
   "display_name": "Python 3",
   "language": "python",
   "name": "python3"
  },
  "language_info": {
   "codemirror_mode": {
    "name": "ipython",
    "version": 3
   },
   "file_extension": ".py",
   "mimetype": "text/x-python",
   "name": "python",
   "nbconvert_exporter": "python",
   "pygments_lexer": "ipython3",
   "version": "3.7.3"
  }
 },
 "nbformat": 4,
 "nbformat_minor": 2
}
