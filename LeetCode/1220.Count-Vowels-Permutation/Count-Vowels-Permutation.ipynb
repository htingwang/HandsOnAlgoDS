{
 "cells": [
  {
   "cell_type": "markdown",
   "metadata": {},
   "source": [
    "# 1220. Count Vowels Permutation\n",
    "#### https://leetcode.com/problems/count-vowels-permutation/"
   ]
  },
  {
   "cell_type": "markdown",
   "metadata": {},
   "source": [
    "# Approach 1"
   ]
  },
  {
   "cell_type": "code",
   "execution_count": 1,
   "metadata": {},
   "outputs": [],
   "source": [
    "class Solution(object):\n",
    "    def countVowelPermutation(self, n):\n",
    "        \"\"\"\n",
    "        :type n: int\n",
    "        :rtype: int\n",
    "        \"\"\"\n",
    "        count = [1] * 5\n",
    "        \n",
    "        for i in range(1, n):\n",
    "            a = count[1] + count[2] + count[4]\n",
    "            e = count[0] + count[2]\n",
    "            i = count[1] + count[3]\n",
    "            o = count[2]\n",
    "            u = count[2] + count[3]\n",
    "            count = [a, e, i, o, u]\n",
    "            \n",
    "        return sum(count) % (10**9 + 7)"
   ]
  },
  {
   "cell_type": "markdown",
   "metadata": {},
   "source": [
    "# Verification"
   ]
  },
  {
   "cell_type": "code",
   "execution_count": 2,
   "metadata": {},
   "outputs": [
    {
     "name": "stdout",
     "output_type": "stream",
     "text": [
      "Input:    1\n",
      "Output:   5\n",
      "Expected: 5\n",
      "\n",
      "Input:    2\n",
      "Output:   10\n",
      "Expected: 10\n",
      "\n",
      "Input:    5\n",
      "Output:   68\n",
      "Expected: 68\n",
      "\n"
     ]
    }
   ],
   "source": [
    "testcases = [1,2,5]\n",
    "expected = [5,10,68]\n",
    "\n",
    "outputs = []\n",
    "sol = Solution();\n",
    "\n",
    "for case in zip(testcases, expected):\n",
    "    print(\"Input:    \" + str(case[0]))\n",
    "    print(\"Output:   \" + str(sol.countVowelPermutation(case[0])))\n",
    "    print(\"Expected: \" + str(case[1]) + \"\\n\")"
   ]
  }
 ],
 "metadata": {
  "kernelspec": {
   "display_name": "Python 3",
   "language": "python",
   "name": "python3"
  },
  "language_info": {
   "codemirror_mode": {
    "name": "ipython",
    "version": 3
   },
   "file_extension": ".py",
   "mimetype": "text/x-python",
   "name": "python",
   "nbconvert_exporter": "python",
   "pygments_lexer": "ipython3",
   "version": "3.7.3"
  }
 },
 "nbformat": 4,
 "nbformat_minor": 2
}
