{
 "cells": [
  {
   "cell_type": "markdown",
   "metadata": {},
   "source": [
    "# 1066. Campus Bikes II\n",
    "#### https://leetcode.com/problems/campus-bikes-ii/"
   ]
  },
  {
   "cell_type": "markdown",
   "metadata": {},
   "source": [
    "# Approach 1: Priority Queue"
   ]
  },
  {
   "cell_type": "code",
   "execution_count": 3,
   "metadata": {},
   "outputs": [],
   "source": [
    "import heapq\n",
    "class Solution(object):\n",
    "    def assignBikes(self, workers, bikes):\n",
    "        \"\"\"\n",
    "        :type workers: List[List[int]]\n",
    "        :type bikes: List[List[int]]\n",
    "        :rtype: int\n",
    "        \"\"\"\n",
    "        def dis(i, j):\n",
    "            return abs(workers[i][0] - bikes[j][0]) + abs(workers[i][1] - bikes[j][1])\n",
    "        minheap = [[0, 0, 0]]\n",
    "        seen = set()\n",
    "        while True:\n",
    "            d, w, taken = heapq.heappop(minheap)\n",
    "            if taken in seen: continue\n",
    "            seen.add(taken)\n",
    "            if w == len(workers): return d\n",
    "            for j in range(len(bikes)): \n",
    "                if taken & (1 << j) == 0:\n",
    "                    heapq.heappush(minheap, [d + dis(w, j), w + 1, taken | (1 << j)])"
   ]
  },
  {
   "cell_type": "markdown",
   "metadata": {},
   "source": [
    "# Verification"
   ]
  },
  {
   "cell_type": "code",
   "execution_count": 4,
   "metadata": {},
   "outputs": [
    {
     "name": "stdout",
     "output_type": "stream",
     "text": [
      "Input:    ([[0, 0], [2, 1]], [[1, 2], [3, 3]])\n",
      "Output:   6\n",
      "Expected: 6\n",
      "\n",
      "Input:    ([[0, 0], [1, 1], [2, 0]], [[1, 0], [2, 2], [2, 1]])\n",
      "Output:   4\n",
      "Expected: 4\n",
      "\n"
     ]
    }
   ],
   "source": [
    "testcases = [([[0,0],[2,1]],[[1,2],[3,3]]),([[0,0],[1,1],[2,0]],[[1,0],[2,2],[2,1]])]\n",
    "expected = [6,4]\n",
    "\n",
    "outputs = []\n",
    "sol = Solution();\n",
    "\n",
    "for case in zip(testcases, expected):\n",
    "    print(\"Input:    \" + str(case[0]))\n",
    "    print(\"Output:   \" + str(sol.assignBikes(case[0][0],case[0][1])))\n",
    "    print(\"Expected: \" + str(case[1]) + \"\\n\")"
   ]
  }
 ],
 "metadata": {
  "kernelspec": {
   "display_name": "Python 3",
   "language": "python",
   "name": "python3"
  },
  "language_info": {
   "codemirror_mode": {
    "name": "ipython",
    "version": 3
   },
   "file_extension": ".py",
   "mimetype": "text/x-python",
   "name": "python",
   "nbconvert_exporter": "python",
   "pygments_lexer": "ipython3",
   "version": "3.7.3"
  }
 },
 "nbformat": 4,
 "nbformat_minor": 2
}
