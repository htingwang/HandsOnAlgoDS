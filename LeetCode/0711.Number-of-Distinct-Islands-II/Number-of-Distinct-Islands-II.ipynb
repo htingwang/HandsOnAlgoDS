{
 "cells": [
  {
   "cell_type": "markdown",
   "metadata": {},
   "source": [
    "# 711. Number of Distinct Islands II\n",
    "#### https://leetcode.com/problems/number-of-distinct-islands-ii/"
   ]
  },
  {
   "cell_type": "markdown",
   "metadata": {},
   "source": [
    "# Approach 1: BFS"
   ]
  },
  {
   "cell_type": "code",
   "execution_count": 54,
   "metadata": {},
   "outputs": [],
   "source": [
    "import collections\n",
    "class Solution(object):\n",
    "    def numDistinctIslands2(self, grid):\n",
    "        \"\"\"\n",
    "        :type grid: List[List[int]]\n",
    "        :rtype: int\n",
    "        \"\"\"\n",
    "        queue = collections.deque()\n",
    "        shapes = set()\n",
    "        seen = set()\n",
    "        row, col = len(grid), len(grid[0])\n",
    "        \n",
    "        for i in range(row):\n",
    "            for j in range(col):\n",
    "                if grid[i][j] and (i, j) not in seen:\n",
    "                    queue.append((i, j))\n",
    "                    seen.add((i, j))\n",
    "                    shape = []\n",
    "                    while queue:\n",
    "                        cur_i, cur_j = queue.popleft()\n",
    "                        shape.append((cur_i, cur_j))\n",
    "                        for ni, nj in [(cur_i - 1, cur_j), (cur_i + 1, cur_j), (cur_i, cur_j - 1), (cur_i, cur_j + 1)]:\n",
    "                            if 0 <= ni < row and 0 <= nj < col and grid[ni][nj] and (ni, nj) not in seen:\n",
    "                                queue.append((ni, nj))\n",
    "                                seen.add((ni, nj))\n",
    "                    shapes.add(self.canonical(shape))\n",
    "        return len(shapes)\n",
    "    \n",
    "    def canonical(self, shape):\n",
    "        ans = []\n",
    "        for i in range(4):\n",
    "            cur_1 = []\n",
    "            cur_2 = []\n",
    "            \n",
    "            for x, y in shape:\n",
    "                cur_1.append(complex(x, y) * (1j ** i))\n",
    "                cur_2.append(complex(y, x) * (1j ** i))\n",
    "            w1 = complex(min(z.real for z in cur_1),\n",
    "                    min(z.imag for z in cur_1))\n",
    "            w2 = complex(min(z.real for z in cur_2),\n",
    "                    min(z.imag for z in cur_2))\n",
    "            for j in range(len(cur_1)):\n",
    "                cur_1[j] = str(cur_1[j] - w1)\n",
    "            for j in range(len(cur_2)):\n",
    "                cur_2[j] = str(cur_2[j] - w2)\n",
    "\n",
    "            ans = max(ans, sorted(cur_1))\n",
    "            ans = max(ans, sorted(cur_2))\n",
    "\n",
    "        return tuple(ans)"
   ]
  },
  {
   "cell_type": "markdown",
   "metadata": {},
   "source": [
    "# Verification"
   ]
  },
  {
   "cell_type": "code",
   "execution_count": 55,
   "metadata": {},
   "outputs": [
    {
     "name": "stdout",
     "output_type": "stream",
     "text": [
      "Input:    [[1, 1, 0, 0, 0], [1, 0, 0, 0, 0], [0, 0, 0, 0, 1], [0, 0, 0, 1, 1]]\n",
      "Output:   1\n",
      "Expected: 1\n",
      "\n"
     ]
    }
   ],
   "source": [
    "testcases = [[[1,1,0,0,0],\n",
    "              [1,0,0,0,0],\n",
    "              [0,0,0,0,1],\n",
    "              [0,0,0,1,1]]]\n",
    "expected = [1]\n",
    "\n",
    "#testcases = testcases[:1]\n",
    "#expected = expected[:1]\n",
    "\n",
    "outputs = []\n",
    "sol = Solution();\n",
    "\n",
    "for case in zip(testcases, expected):\n",
    "    print(\"Input:    \" + str(case[0]))\n",
    "    print(\"Output:   \" + str(sol.numDistinctIslands2(case[0])))\n",
    "    print(\"Expected: \" + str(case[1]) + \"\\n\")"
   ]
  }
 ],
 "metadata": {
  "kernelspec": {
   "display_name": "Python 3",
   "language": "python",
   "name": "python3"
  },
  "language_info": {
   "codemirror_mode": {
    "name": "ipython",
    "version": 3
   },
   "file_extension": ".py",
   "mimetype": "text/x-python",
   "name": "python",
   "nbconvert_exporter": "python",
   "pygments_lexer": "ipython3",
   "version": "3.7.3"
  }
 },
 "nbformat": 4,
 "nbformat_minor": 2
}
