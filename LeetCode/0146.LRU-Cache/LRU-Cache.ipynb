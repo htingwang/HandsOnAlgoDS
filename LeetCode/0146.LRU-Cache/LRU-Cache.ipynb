{
 "cells": [
  {
   "cell_type": "markdown",
   "metadata": {},
   "source": [
    "# 146. LRU Cache\n",
    "#### https://leetcode.com/problems/lru-cache/"
   ]
  },
  {
   "cell_type": "markdown",
   "metadata": {},
   "source": [
    "# Approach 1: Ordered Dictionary"
   ]
  },
  {
   "cell_type": "code",
   "execution_count": 8,
   "metadata": {},
   "outputs": [],
   "source": [
    "from collections import OrderedDict\n",
    "class LRUCache(object):\n",
    "\n",
    "    def __init__(self, capacity):\n",
    "        \"\"\"\n",
    "        :type capacity: int\n",
    "        \"\"\"\n",
    "        self.capacity = capacity\n",
    "        self.ordered_dict = OrderedDict()\n",
    "\n",
    "    def get(self, key):\n",
    "        \"\"\"\n",
    "        :type key: int\n",
    "        :rtype: int\n",
    "        \"\"\"\n",
    "        if key not in self.ordered_dict: return -1\n",
    "        self.ordered_dict.move_to_end(key)\n",
    "        return self.ordered_dict[key]\n",
    "        \n",
    "\n",
    "    def put(self, key, value):\n",
    "        \"\"\"\n",
    "        :type key: int\n",
    "        :type value: int\n",
    "        :rtype: None\n",
    "        \"\"\"\n",
    "        if key in self.ordered_dict:\n",
    "            self.ordered_dict.move_to_end(key)\n",
    "        self.ordered_dict[key] = value\n",
    "        if len(self.ordered_dict) > self.capacity:\n",
    "            self.ordered_dict.popitem(last = False)\n",
    "        \n",
    "\n",
    "\n",
    "# Your LRUCache object will be instantiated and called as such:\n",
    "# obj = LRUCache(capacity)\n",
    "# param_1 = obj.get(key)\n",
    "# obj.put(key,value)"
   ]
  },
  {
   "cell_type": "markdown",
   "metadata": {},
   "source": [
    "# Approach 2: HashMap + Double Linked List"
   ]
  },
  {
   "cell_type": "code",
   "execution_count": 25,
   "metadata": {},
   "outputs": [],
   "source": [
    "class DoubleLinkedList():\n",
    "    def __init__(self):\n",
    "        self.key = {}\n",
    "        self.val = 0\n",
    "        self.prev = None\n",
    "        self.next = None\n",
    "        \n",
    "class LRUCache(object):\n",
    "\n",
    "    def __init__(self, capacity):\n",
    "        \"\"\"\n",
    "        :type capacity: int\n",
    "        \"\"\"\n",
    "        self.cache = {}\n",
    "        self.size = 0\n",
    "        self.capacity = capacity\n",
    "        self.head = DoubleLinkedList()\n",
    "        self.tail = DoubleLinkedList()\n",
    "        self.head.next = self.tail\n",
    "        self.tail.prev = self.head   \n",
    "        \n",
    "    def _add_node(self, node):\n",
    "        node.next = self.head.next\n",
    "        node.next.prev = node\n",
    "        node.prev = self.head\n",
    "        self.head.next = node\n",
    "        \n",
    "    def _remove_node(self, node):\n",
    "        node.prev.next = node.next\n",
    "        node.next.prev = node.prev\n",
    "        \n",
    "    def _move_to_head(self, node):\n",
    "        self._remove_node(node)\n",
    "        self._add_node(node)\n",
    "        \n",
    "    def _pop_tail(self):\n",
    "        self._remove_node(self.tail.prev)\n",
    "        \n",
    "    def get(self, key):\n",
    "        \"\"\"\n",
    "        :type key: int\n",
    "        :rtype: int\n",
    "        \"\"\"\n",
    "        if key not in self.cache: return -1\n",
    "        node = self.cache[key]\n",
    "        self._move_to_head(node)\n",
    "\n",
    "        return node.value\n",
    "\n",
    "    def put(self, key, value):\n",
    "        \"\"\"\n",
    "        :type key: int\n",
    "        :type value: int\n",
    "        :rtype: None\n",
    "        \"\"\"\n",
    "        if key in self.cache:\n",
    "            node = self.cache[key]\n",
    "            self._move_to_head(node)\n",
    "        else:\n",
    "            node = DoubleLinkedList()\n",
    "            node.key = key\n",
    "            self.cache[key] = node\n",
    "            self._add_node(node)\n",
    "            self.size += 1\n",
    "            if self.size > self.capacity:\n",
    "                del self.cache[self.tail.prev.key]\n",
    "                self._pop_tail()\n",
    "                self.size -= 1\n",
    "        node.value = value\n",
    "\n",
    "\n",
    "# Your LRUCache object will be instantiated and called as such:\n",
    "# obj = LRUCache(capacity)\n",
    "# param_1 = obj.get(key)\n",
    "# obj.put(key,value)"
   ]
  },
  {
   "cell_type": "markdown",
   "metadata": {},
   "source": [
    "# Verification"
   ]
  },
  {
   "cell_type": "code",
   "execution_count": 26,
   "metadata": {},
   "outputs": [
    {
     "name": "stdout",
     "output_type": "stream",
     "text": [
      "Input:    (['LRUCache', 'put', 'put', 'get', 'put', 'get', 'put', 'get', 'get', 'get'], [[2], [1, 1], [2, 2], [1], [3, 3], [2], [4, 4], [1], [3], [4]])\n",
      "Output:   [None, None, None, 1, None, -1, None, -1, 3, 4]\n",
      "Expected: [None, None, None, 1, None, -1, None, -1, 3, 4]\n",
      "\n"
     ]
    }
   ],
   "source": [
    "testcases = [([\"LRUCache\",\"put\",\"put\",\"get\",\"put\",\"get\",\"put\",\"get\",\"get\",\"get\"],[[2],[1,1],[2,2],[1],[3,3],[2],[4,4],[1],[3],[4]])]\n",
    "expected = [[None,None,None,1,None,-1,None,-1,3,4]]\n",
    "\n",
    "for case in zip(testcases, expected):\n",
    "    outputs = [None]\n",
    "    sol = LRUCache(case[0][1][0][0])\n",
    "    print(\"Input:    \" + str(case[0]))\n",
    "    funcs = case[0][0]\n",
    "    params = case[0][1]\n",
    "    for i, func in enumerate(funcs):\n",
    "        if i: param = params[i]\n",
    "        if func == \"put\":\n",
    "            outputs.append(sol.put(param[0], param[1]))\n",
    "        if func == \"get\":\n",
    "            outputs.append(sol.get(param[0]))\n",
    "    print(\"Output:   \" + str(outputs))\n",
    "    print(\"Expected: \" + str(case[1]) + \"\\n\")"
   ]
  }
 ],
 "metadata": {
  "kernelspec": {
   "display_name": "Python 3",
   "language": "python",
   "name": "python3"
  },
  "language_info": {
   "codemirror_mode": {
    "name": "ipython",
    "version": 3
   },
   "file_extension": ".py",
   "mimetype": "text/x-python",
   "name": "python",
   "nbconvert_exporter": "python",
   "pygments_lexer": "ipython3",
   "version": "3.7.3"
  }
 },
 "nbformat": 4,
 "nbformat_minor": 2
}
