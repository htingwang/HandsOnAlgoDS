{
 "cells": [
  {
   "cell_type": "markdown",
   "metadata": {},
   "source": [
    "# 146. LRU Cache\n",
    "#### https://leetcode.com/problems/lru-cache/"
   ]
  },
  {
   "cell_type": "markdown",
   "metadata": {},
   "source": [
    "# Approach 1: Ordered Dictionary"
   ]
  },
  {
   "cell_type": "code",
   "execution_count": 8,
   "metadata": {},
   "outputs": [],
   "source": [
    "from collections import OrderedDict\n",
    "class LRUCache(object):\n",
    "\n",
    "    def __init__(self, capacity):\n",
    "        \"\"\"\n",
    "        :type capacity: int\n",
    "        \"\"\"\n",
    "        self.capacity = capacity\n",
    "        self.ordered_dict = OrderedDict()\n",
    "\n",
    "    def get(self, key):\n",
    "        \"\"\"\n",
    "        :type key: int\n",
    "        :rtype: int\n",
    "        \"\"\"\n",
    "        if key not in self.ordered_dict: return -1\n",
    "        self.ordered_dict.move_to_end(key)\n",
    "        return self.ordered_dict[key]\n",
    "        \n",
    "\n",
    "    def put(self, key, value):\n",
    "        \"\"\"\n",
    "        :type key: int\n",
    "        :type value: int\n",
    "        :rtype: None\n",
    "        \"\"\"\n",
    "        if key in self.ordered_dict:\n",
    "            self.ordered_dict.move_to_end(key)\n",
    "        self.ordered_dict[key] = value\n",
    "        if len(self.ordered_dict) > self.capacity:\n",
    "            self.ordered_dict.popitem(last = False)\n",
    "        \n",
    "\n",
    "\n",
    "# Your LRUCache object will be instantiated and called as such:\n",
    "# obj = LRUCache(capacity)\n",
    "# param_1 = obj.get(key)\n",
    "# obj.put(key,value)"
   ]
  },
  {
   "cell_type": "markdown",
   "metadata": {},
   "source": [
    "# Approach 2: HashMap + Double Linked List"
   ]
  },
  {
   "cell_type": "code",
   "execution_count": 25,
   "metadata": {},
   "outputs": [],
   "source": [
    "class Node(object):\n",
    "    \n",
    "    def __init__(self, key, value):\n",
    "        self.key = key\n",
    "        self.value = value\n",
    "        self.next = None\n",
    "        self.prev = None\n",
    "        \n",
    "class LRUCache(object):\n",
    "\n",
    "    def __init__(self, capacity):\n",
    "        \"\"\"\n",
    "        :type capacity: int\n",
    "        \"\"\"\n",
    "        self.capacity = capacity\n",
    "        self.key_to_node = {}\n",
    "        self.head = None\n",
    "\n",
    "    def get(self, key):\n",
    "        \"\"\"\n",
    "        :type key: int\n",
    "        :rtype: int\n",
    "        \"\"\"\n",
    "        #print(\"get \"+str(key))\n",
    "        if key in self.key_to_node:\n",
    "            node = self.key_to_node[key]\n",
    "            self.update(node)\n",
    "            return node.value\n",
    "        return -1\n",
    "\n",
    "    def put(self, key, value):\n",
    "        \"\"\"\n",
    "        :type key: int\n",
    "        :type value: int\n",
    "        :rtype: None\n",
    "        \"\"\"\n",
    "        #print(\"put \"+str(key)+\" \"+str(value))\n",
    "        if self.capacity == 0:\n",
    "            return\n",
    "        \n",
    "        if key in self.key_to_node:\n",
    "            node = self.key_to_node[key]\n",
    "            node.value = value\n",
    "            self.update(node)\n",
    "            return\n",
    "        \n",
    "        if self.capacity == len(self.key_to_node):\n",
    "            self.delete(self.head.prev)\n",
    "        \n",
    "        self.insert(Node(key, value))\n",
    "        \n",
    "            \n",
    "    def insert(self, node):\n",
    "        if self.head:\n",
    "            node.next = self.head\n",
    "            node.prev = self.head.prev\n",
    "            self.head.prev = node\n",
    "            node.prev.next = node\n",
    "        else:\n",
    "            node.prev = node\n",
    "            node.next = node\n",
    "        self.head = node\n",
    "        self.key_to_node[node.key] = node\n",
    "        \n",
    "        \n",
    "    def delete(self, node):\n",
    "        #print(\"del \"+str(node.key))\n",
    "        if node.prev == node:\n",
    "            self.head = None\n",
    "        elif self.head == node:\n",
    "            self.head = node.next\n",
    "        node.prev.next = node.next\n",
    "        node.next.prev = node.prev\n",
    "        del self.key_to_node[node.key]\n",
    "        \n",
    "    def update(self, node):\n",
    "        self.delete(node)\n",
    "        self.insert(node)\n",
    "        #print(\"update \"+str(self.head.key)+\" \"+str(self.head.prev.key))\n",
    "        \n",
    "        \n",
    "\n",
    "\n",
    "# Your LRUCache object will be instantiated and called as such:\n",
    "# obj = LRUCache(capacity)\n",
    "# param_1 = obj.get(key)\n",
    "# obj.put(key,value)"
   ]
  },
  {
   "cell_type": "markdown",
   "metadata": {},
   "source": [
    "# Verification"
   ]
  },
  {
   "cell_type": "code",
   "execution_count": 26,
   "metadata": {},
   "outputs": [
    {
     "name": "stdout",
     "output_type": "stream",
     "text": [
      "Input:    (['LRUCache', 'put', 'put', 'get', 'put', 'get', 'put', 'get', 'get', 'get'], [[2], [1, 1], [2, 2], [1], [3, 3], [2], [4, 4], [1], [3], [4]])\n",
      "Output:   [None, None, None, 1, None, -1, None, -1, 3, 4]\n",
      "Expected: [None, None, None, 1, None, -1, None, -1, 3, 4]\n",
      "\n"
     ]
    }
   ],
   "source": [
    "testcases = [([\"LRUCache\",\"put\",\"put\",\"get\",\"put\",\"get\",\"put\",\"get\",\"get\",\"get\"],[[2],[1,1],[2,2],[1],[3,3],[2],[4,4],[1],[3],[4]])]\n",
    "expected = [[None,None,None,1,None,-1,None,-1,3,4]]\n",
    "\n",
    "for case in zip(testcases, expected):\n",
    "    outputs = [None]\n",
    "    sol = LRUCache(case[0][1][0][0])\n",
    "    print(\"Input:    \" + str(case[0]))\n",
    "    funcs = case[0][0]\n",
    "    params = case[0][1]\n",
    "    for i, func in enumerate(funcs):\n",
    "        if i: param = params[i]\n",
    "        if func == \"put\":\n",
    "            outputs.append(sol.put(param[0], param[1]))\n",
    "        if func == \"get\":\n",
    "            outputs.append(sol.get(param[0]))\n",
    "    print(\"Output:   \" + str(outputs))\n",
    "    print(\"Expected: \" + str(case[1]) + \"\\n\")"
   ]
  }
 ],
 "metadata": {
  "kernelspec": {
   "display_name": "Python 3",
   "language": "python",
   "name": "python3"
  },
  "language_info": {
   "codemirror_mode": {
    "name": "ipython",
    "version": 3
   },
   "file_extension": ".py",
   "mimetype": "text/x-python",
   "name": "python",
   "nbconvert_exporter": "python",
   "pygments_lexer": "ipython3",
   "version": "3.7.3"
  }
 },
 "nbformat": 4,
 "nbformat_minor": 2
}
