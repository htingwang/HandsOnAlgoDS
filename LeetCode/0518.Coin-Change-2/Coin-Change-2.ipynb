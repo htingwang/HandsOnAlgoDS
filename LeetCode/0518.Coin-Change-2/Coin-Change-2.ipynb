{
 "cells": [
  {
   "cell_type": "markdown",
   "metadata": {},
   "source": [
    "# 518. Coin Change 2\n",
    "#### https://leetcode.com/problems/coin-change-2/"
   ]
  },
  {
   "cell_type": "markdown",
   "metadata": {},
   "source": [
    "# Approach 1-1: Dynamic Programming"
   ]
  },
  {
   "cell_type": "code",
   "execution_count": 7,
   "metadata": {},
   "outputs": [],
   "source": [
    "class Solution(object):\n",
    "    def change(self, amount, coins):\n",
    "        \"\"\"\n",
    "        :type amount: int\n",
    "        :type coins: List[int]\n",
    "        :rtype: int\n",
    "        \"\"\"\n",
    "        dp = [[0] * (amount + 1) for _ in range(len(coins) + 1)]\n",
    "        dp[0][0] = 1\n",
    "        for i in range(1, len(coins) + 1):\n",
    "            dp[i][0] = 1\n",
    "            for j in range(1, amount + 1):\n",
    "                dp[i][j] = dp[i - 1][j]\n",
    "                if j >= coins[i - 1]:\n",
    "                    dp[i][j] += dp[i][j - coins[i - 1]]\n",
    "        return dp[len(coins)][amount]"
   ]
  },
  {
   "cell_type": "markdown",
   "metadata": {},
   "source": [
    "# Approach 1-2: Dynamic Programming, Rolling Array"
   ]
  },
  {
   "cell_type": "code",
   "execution_count": 8,
   "metadata": {},
   "outputs": [],
   "source": [
    "class Solution(object):\n",
    "    def change(self, amount, coins):\n",
    "        \"\"\"\n",
    "        :type amount: int\n",
    "        :type coins: List[int]\n",
    "        :rtype: int\n",
    "        \"\"\"\n",
    "        dp = [0] * (amount + 1)\n",
    "        dp[0] = 1\n",
    "        for i in range(1, len(coins) + 1):\n",
    "            for j in range(1, amount + 1):\n",
    "                if j >= coins[i - 1]:\n",
    "                    dp[j] += dp[j - coins[i - 1]]\n",
    "        return dp[amount]\n",
    "        # i = 1, coin = 1, dp[1] += dp[1-1] = 1 (1)\n",
    "        #                  dp[2] += dp[2-1] = 1 (1,1)\n",
    "        #                  dp[3] += dp[3-1] = 1 (1,1,1)\n",
    "        #                  dp[4] += dp[4-1] = 1 (1,1,1,1)\n",
    "        #                  dp[5] += dp[5-1] = 1 (1,1,1,1,1)\n",
    "        # i = 2, coin = 2, dp[1] += dp[1-2] = 1\n",
    "        #                  dp[2] += dp[2-2] = 2 (2)\n",
    "        #                  dp[3] += dp[3-2] = 2 (1,2)\n",
    "        #                  dp[4] += dp[4-2] = 3 (1,1,2),(2,2)\n",
    "        #                  dp[5] += dp[5-2] = 3 (1,1,1,2),(1,2,2)\n",
    "        # i = 3, coin = 5, dp[1] += dp[1-5] = 1\n",
    "        #                  dp[2] += dp[2-5] = 2\n",
    "        #                  dp[3] += dp[3-5] = 2\n",
    "        #                  dp[4] += dp[4-5] = 3\n",
    "        #                  dp[5] += dp[5-5] = 4 (5)"
   ]
  },
  {
   "cell_type": "markdown",
   "metadata": {},
   "source": [
    "# Verification"
   ]
  },
  {
   "cell_type": "code",
   "execution_count": 10,
   "metadata": {},
   "outputs": [
    {
     "name": "stdout",
     "output_type": "stream",
     "text": [
      "Input: (5, [1, 2, 5])\n",
      "Output: 4\n",
      "Expected: 4\n",
      "\n",
      "Input: (3, [2])\n",
      "Output: 0\n",
      "Expected: 0\n",
      "\n",
      "Input: (10, [10])\n",
      "Output: 1\n",
      "Expected: 1\n",
      "\n"
     ]
    }
   ],
   "source": [
    "testcases = [(5,[1, 2, 5]),(3,[2]),(10,[10])]\n",
    "answers = [4,0,1]\n",
    "\n",
    "sol = Solution();\n",
    "for case in zip(testcases, answers):\n",
    "    print(\"Input: \" + str(case[0])[:100])\n",
    "    print(\"Output: \" + str(sol.change(case[0][0],case[0][1])))\n",
    "    print(\"Expected: \" + str(case[1]) + \"\\n\")"
   ]
  },
  {
   "cell_type": "code",
   "execution_count": 11,
   "metadata": {},
   "outputs": [],
   "source": [
    "class Solution(object):\n",
    "    def change_combinations(self, amount, coins):\n",
    "        \"\"\"\n",
    "        :type amount: int\n",
    "        :type coins: List[int]\n",
    "        :rtype: List[List[int]]\n",
    "        \"\"\"\n",
    "        res = []\n",
    "        for i in range(len(coins)):\n",
    "            self.dfs(amount, coins, i, [], res)\n",
    "        return res\n",
    "    def dfs(self, amount, coins, start, cur, res):\n",
    "        if amount < 0: return\n",
    "        if amount == 0:\n",
    "            res.append(cur[::])\n",
    "        \n",
    "        \n",
    "        "
   ]
  },
  {
   "cell_type": "code",
   "execution_count": null,
   "metadata": {},
   "outputs": [],
   "source": [
    "testcases = [(5,[1, 2, 5]),(3,[2]),(10,[10])]\n",
    "answers = [4,0,1]\n",
    "\n",
    "sol = Solution();\n",
    "for case in zip(testcases, answers):\n",
    "    print(\"Input: \" + str(case[0])[:100])\n",
    "    print(\"Output: \" + str(sol.change_combinations(case[0][0],case[0][1])))\n",
    "    print(\"Expected: \" + str(case[1]) + \"\\n\")"
   ]
  }
 ],
 "metadata": {
  "kernelspec": {
   "display_name": "Python 3",
   "language": "python",
   "name": "python3"
  },
  "language_info": {
   "codemirror_mode": {
    "name": "ipython",
    "version": 3
   },
   "file_extension": ".py",
   "mimetype": "text/x-python",
   "name": "python",
   "nbconvert_exporter": "python",
   "pygments_lexer": "ipython3",
   "version": "3.7.3"
  }
 },
 "nbformat": 4,
 "nbformat_minor": 2
}
