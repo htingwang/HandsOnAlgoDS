{
 "cells": [
  {
   "cell_type": "markdown",
   "metadata": {},
   "source": [
    "# 78. Subsets\n",
    "#### https://leetcode.com/problems/subsets/"
   ]
  },
  {
   "cell_type": "markdown",
   "metadata": {},
   "source": [
    "# Approach 1: Iteration"
   ]
  },
  {
   "cell_type": "code",
   "execution_count": 9,
   "metadata": {},
   "outputs": [],
   "source": [
    "class Solution(object):\n",
    "    def subsets(self, nums):\n",
    "        \"\"\"\n",
    "        :type nums: List[int]\n",
    "        :rtype: List[List[int]]\n",
    "        \"\"\"\n",
    "        res = [[]]\n",
    "        \n",
    "        for num in nums:\n",
    "            count = len(res)\n",
    "            for i in range(count):\n",
    "                cur = list(res[i])\n",
    "                cur.append(num)\n",
    "                res.append(cur)\n",
    "        return res"
   ]
  },
  {
   "cell_type": "markdown",
   "metadata": {},
   "source": [
    "# Approach 2: DFS"
   ]
  },
  {
   "cell_type": "code",
   "execution_count": 19,
   "metadata": {},
   "outputs": [],
   "source": [
    "class Solution(object):\n",
    "    def subsets(self, nums):\n",
    "        \"\"\"\n",
    "        :type nums: List[int]\n",
    "        :rtype: List[List[int]]\n",
    "        \"\"\"\n",
    "        res = []\n",
    "        cur = []\n",
    "        self.dfs(nums, 0, cur, res)\n",
    "        return res\n",
    "    \n",
    "    def dfs(self, nums, start, cur, res):\n",
    "        res.append(list(cur))\n",
    "        for i in range(start, len(nums)):\n",
    "            cur.append(nums[i])\n",
    "            self.dfs(nums, i + 1, cur, res)\n",
    "            cur.pop()\n",
    "    # start = 0 ([]), i = 0, start = 1 ([1]),  i = 1, start = 2 ([1, 2]), i = 2, start = 3 ([1, 2, 3])\n",
    "    #                                          i = 2, start = 3 ([1, 3])\n",
    "    #                 i = 1, start = 2 ([2]),  i = 2, start = 3 ([2, 3])\n",
    "    #                 i = 2, start = 3 ([3])"
   ]
  },
  {
   "cell_type": "markdown",
   "metadata": {},
   "source": [
    "# Approach 3: Bit Manipulation"
   ]
  },
  {
   "cell_type": "code",
   "execution_count": 22,
   "metadata": {},
   "outputs": [],
   "source": [
    "class Solution(object):\n",
    "    def subsets(self, nums):\n",
    "        \"\"\"\n",
    "        :type nums: List[int]\n",
    "        :rtype: List[List[int]]\n",
    "        \"\"\"\n",
    "        n = len(nums)\n",
    "        res = []\n",
    "        for i in range(2 ** n):\n",
    "            cur = []\n",
    "            for j, num in enumerate(nums):\n",
    "                if i & (1 << j):\n",
    "                    cur.append(num)\n",
    "            res.append(list(cur))\n",
    "        return res"
   ]
  },
  {
   "cell_type": "markdown",
   "metadata": {},
   "source": [
    "# Verification"
   ]
  },
  {
   "cell_type": "code",
   "execution_count": 23,
   "metadata": {},
   "outputs": [
    {
     "name": "stdout",
     "output_type": "stream",
     "text": [
      "Input:    [1, 2, 3]\n",
      "Output:   [[], [1], [2], [1, 2], [3], [1, 3], [2, 3], [1, 2, 3]]\n",
      "Expected: [[3], [1], [2], [1, 2, 3], [1, 3], [2, 3], [1, 2], []]\n",
      "\n"
     ]
    }
   ],
   "source": [
    "testcases = [[1,2,3]]\n",
    "expected = [[\n",
    "  [3],\n",
    "  [1],\n",
    "  [2],\n",
    "  [1,2,3],\n",
    "  [1,3],\n",
    "  [2,3],\n",
    "  [1,2],\n",
    "  []\n",
    "]]\n",
    "\n",
    "outputs = []\n",
    "sol = Solution();\n",
    "\n",
    "for case in zip(testcases, expected):\n",
    "    print(\"Input:    \" + str(case[0]))\n",
    "    print(\"Output:   \" + str(sol.subsets(case[0])))\n",
    "    print(\"Expected: \" + str(case[1]) + \"\\n\")"
   ]
  }
 ],
 "metadata": {
  "kernelspec": {
   "display_name": "Python 3",
   "language": "python",
   "name": "python3"
  },
  "language_info": {
   "codemirror_mode": {
    "name": "ipython",
    "version": 3
   },
   "file_extension": ".py",
   "mimetype": "text/x-python",
   "name": "python",
   "nbconvert_exporter": "python",
   "pygments_lexer": "ipython3",
   "version": "3.7.3"
  }
 },
 "nbformat": 4,
 "nbformat_minor": 2
}
