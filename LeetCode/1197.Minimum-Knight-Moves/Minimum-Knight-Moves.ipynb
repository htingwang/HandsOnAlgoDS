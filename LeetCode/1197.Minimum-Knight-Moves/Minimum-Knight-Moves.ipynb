{
 "cells": [
  {
   "cell_type": "markdown",
   "metadata": {},
   "source": [
    "# 1197. Minimum Knight Moves\n",
    "#### https://leetcode.com/problems/minimum-knight-moves/"
   ]
  },
  {
   "cell_type": "markdown",
   "metadata": {},
   "source": [
    "# Approach 1: BFS"
   ]
  },
  {
   "cell_type": "code",
   "execution_count": 5,
   "metadata": {},
   "outputs": [],
   "source": [
    "import collections\n",
    "class Solution(object):\n",
    "    def minKnightMoves(self, x, y):\n",
    "        \"\"\"\n",
    "        :type x: int\n",
    "        :type y: int\n",
    "        :rtype: int\n",
    "        \"\"\"\n",
    "        # 2 steps: (0, 0), (2, -1), (1, 1)\n",
    "        # 3 steps: (0, 0), (-2, -1), (-1, 1), (1, 0)\n",
    "        # 2 steps: (0, 0), (-2, 1), (0, 2)\n",
    "        # 4 steps: (0, 0), (-2, -1), (-1, 1), (1, 0), (2, 2)\n",
    "        direction = set([(-2, 1), (-1, 2), (1, 2), (2, 1), (2, -1), (1, -2)])\n",
    "        x = abs(x)\n",
    "        y = abs(y) \n",
    "        dist = {(0, 0): 0}\n",
    "        queue = collections.deque([(0, 0)])\n",
    "        \n",
    "        while queue:\n",
    "            i, j = queue.popleft()\n",
    "            if (i, j) == (x, y):\n",
    "                return dist[(x, y)]\n",
    "            \n",
    "            for di, dj in direction:\n",
    "                ni, nj = i + di, j + dj\n",
    "                if (ni, nj) not in dist and ni >= -2 and nj >= -2:\n",
    "                    queue.append((ni, nj))\n",
    "                    dist[(ni, nj)] = dist[(i, j)] + 1\n",
    "                    \n",
    "        return -1"
   ]
  },
  {
   "cell_type": "markdown",
   "metadata": {},
   "source": [
    "# Approach 2: Dynamic Programming"
   ]
  },
  {
   "cell_type": "code",
   "execution_count": 30,
   "metadata": {},
   "outputs": [],
   "source": [
    "import collections\n",
    "class Solution(object):\n",
    "    def minKnightMoves(self, x, y):\n",
    "        \"\"\"\n",
    "        :type x: int\n",
    "        :type y: int\n",
    "        :rtype: int\n",
    "        \"\"\"\n",
    "        x = abs(x)\n",
    "        y = abs(y)\n",
    "        dist = {(0, 0): 0, (1, 1): 2, (0, 2): 2}\n",
    "        \n",
    "        def dfs(x, y):\n",
    "            #print(x, y)\n",
    "            if (x, y) in dist:\n",
    "                return dist[(x, y)]\n",
    "            if (y, x) in dist:\n",
    "                return dist[(y, x)]\n",
    "            dist[(x, y)] = min(dfs(abs(x - 2), abs(y - 1)), dfs(abs(x - 1), abs(y - 2))) + 1\n",
    "            return dist[(x, y)]\n",
    "        \n",
    "        return dfs(x, y)"
   ]
  },
  {
   "attachments": {},
   "cell_type": "markdown",
   "metadata": {},
   "source": [
    "# Approach 3: Math\n",
    "https://jsfiddle.net/graemian/5qgvr1ba/11/\n",
    "\n",
    "<p><img src=\"https://github.com/htingwang/HandsOnAlgoDS/blob/master/LeetCode/1197.Minimum-Knight-Moves/img/1197.png\" width=30% align=\"left\"></br>"
   ]
  },
  {
   "cell_type": "code",
   "execution_count": 33,
   "metadata": {},
   "outputs": [],
   "source": [
    "import collections\n",
    "class Solution(object):\n",
    "    def minKnightMoves(self, x, y):\n",
    "        \"\"\"\n",
    "        :type x: int\n",
    "        :type y: int\n",
    "        :rtype: int\n",
    "        \"\"\"\n",
    "        x = abs(x)\n",
    "        y = abs(y)\n",
    "        \n",
    "        if y > x:\n",
    "            x, y = y, x\n",
    "            \n",
    "        if (x, y) == (2, 2):\n",
    "            return 4\n",
    "        \n",
    "        if (x, y) == (1, 0):\n",
    "            return 3\n",
    "        \n",
    "        delta = x - y\n",
    "        if y <= delta:\n",
    "            return delta - 2 * ((delta - y) // 4)\n",
    "        else:\n",
    "            return delta - 2 * ((delta - y) // 3)"
   ]
  },
  {
   "cell_type": "markdown",
   "metadata": {},
   "source": [
    "# Verification"
   ]
  },
  {
   "cell_type": "code",
   "execution_count": 34,
   "metadata": {},
   "outputs": [
    {
     "name": "stdout",
     "output_type": "stream",
     "text": [
      "Input:    (2, 1)\n",
      "Output:   1\n",
      "Expected: 1\n",
      "\n",
      "Input:    (5, 5)\n",
      "Output:   4\n",
      "Expected: 4\n",
      "\n",
      "Input:    (-99, 142)\n",
      "Output:   81\n",
      "Expected: 81\n",
      "\n",
      "Input:    (3, 0)\n",
      "Output:   3\n",
      "Expected: 3\n",
      "\n"
     ]
    }
   ],
   "source": [
    "testcases = [(2,1),(5,5),(-99,142),(3,0)]\n",
    "expected = [1,4,81,3]\n",
    "\n",
    "outputs = []\n",
    "sol = Solution();\n",
    "\n",
    "for case in zip(testcases, expected):\n",
    "    print(\"Input:    \" + str(case[0]))\n",
    "    print(\"Output:   \" + str(sol.minKnightMoves(case[0][0],case[0][1])))\n",
    "    print(\"Expected: \" + str(case[1]) + \"\\n\")"
   ]
  }
 ],
 "metadata": {
  "kernelspec": {
   "display_name": "Python 3",
   "language": "python",
   "name": "python3"
  },
  "language_info": {
   "codemirror_mode": {
    "name": "ipython",
    "version": 3
   },
   "file_extension": ".py",
   "mimetype": "text/x-python",
   "name": "python",
   "nbconvert_exporter": "python",
   "pygments_lexer": "ipython3",
   "version": "3.7.3"
  }
 },
 "nbformat": 4,
 "nbformat_minor": 2
}
