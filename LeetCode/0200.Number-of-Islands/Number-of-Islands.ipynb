{
 "cells": [
  {
   "cell_type": "markdown",
   "metadata": {},
   "source": [
    "# 200. Number of Islands\n",
    "#### https://leetcode.com/problems/number-of-islands/"
   ]
  },
  {
   "cell_type": "markdown",
   "metadata": {},
   "source": [
    "# Approach 1: DFS"
   ]
  },
  {
   "cell_type": "code",
   "execution_count": 6,
   "metadata": {},
   "outputs": [],
   "source": [
    "class Solution(object):\n",
    "    def numIslands(self, grid):\n",
    "        \"\"\"\n",
    "        :type grid: List[List[str]]\n",
    "        :rtype: int\n",
    "        \"\"\"\n",
    "        if not grid or not grid[0]: return 0\n",
    "        m, n = len(grid), len(grid[0])\n",
    "        res = 0\n",
    "        for i in range(m):\n",
    "            for j in range(n):\n",
    "                if grid[i][j] == \"1\":\n",
    "                    res += 1\n",
    "                    self.dfs(grid, i, j)\n",
    "        return res\n",
    "    def dfs(self, grid, i, j):\n",
    "        grid[i][j] = \"0\"\n",
    "        for di, dj in [(-1, 0), (1, 0), (0, -1), (0, 1)]:\n",
    "            ni, nj = i + di, j + dj\n",
    "            if 0 <= ni < len(grid) and 0 <= nj < len(grid[0]) and grid[ni][nj] == \"1\":\n",
    "                self.dfs(grid, ni, nj)"
   ]
  },
  {
   "cell_type": "markdown",
   "metadata": {},
   "source": [
    "# Approach 2: BFS"
   ]
  },
  {
   "cell_type": "code",
   "execution_count": 12,
   "metadata": {},
   "outputs": [],
   "source": [
    "class Solution(object):\n",
    "    def numIslands(self, grid):\n",
    "        \"\"\"\n",
    "        :type grid: List[List[str]]\n",
    "        :rtype: int\n",
    "        \"\"\"\n",
    "        if not grid or not grid[0]: return 0\n",
    "        m, n = len(grid), len(grid[0])\n",
    "        stack = []\n",
    "        res = 0\n",
    "        for i in range(m):\n",
    "            for j in range(n):\n",
    "                if grid[i][j] == \"1\":\n",
    "                    res += 1\n",
    "                    stack.append((i, j))\n",
    "                    while stack:\n",
    "                        cur_i, cur_j = stack.pop()\n",
    "                        grid[cur_i][cur_j] = \"0\"\n",
    "                        for di, dj in [(-1, 0), (1, 0), (0, -1), (0, 1)]:\n",
    "                            ni, nj = cur_i + di, cur_j + dj\n",
    "                            if 0 <= ni < m and 0 <= nj < n and grid[ni][nj] == \"1\":\n",
    "                                stack.append((ni, nj))                             \n",
    "        return res"
   ]
  },
  {
   "cell_type": "markdown",
   "metadata": {},
   "source": [
    "# Approach 3: Union Find"
   ]
  },
  {
   "cell_type": "code",
   "execution_count": 22,
   "metadata": {},
   "outputs": [],
   "source": [
    "class Solution(object):\n",
    "    def numIslands(self, grid):\n",
    "        \"\"\"\n",
    "        :type grid: List[List[str]]\n",
    "        :rtype: int\n",
    "        \"\"\"\n",
    "        if not grid or not grid[0]: return 0\n",
    "        m, n = len(grid), len(grid[0])\n",
    "        self.father = {}\n",
    "        self.size = 0\n",
    "        for i in range(m):\n",
    "            for j in range(n):\n",
    "                if grid[i][j] == \"1\":\n",
    "                    self.insert(i * n + j)\n",
    "                    #print(self.father)\n",
    "                    for di, dj in [(-1, 0), (0, -1)]:\n",
    "                        ni, nj = i + di, j + dj\n",
    "                        if 0 <= ni < m and 0 <= nj < n and grid[ni][nj] == \"1\":\n",
    "                            self.union(i * n + j, ni * n + nj)\n",
    "        return self.size\n",
    "    \n",
    "    def insert(self, a):\n",
    "        if a not in self.father:\n",
    "            self.father[a] = a\n",
    "            self.size += 1\n",
    "            \n",
    "    def find(self, a):\n",
    "        x = a\n",
    "        while self.father[x] != x:\n",
    "            x = self.father[x]\n",
    "        while self.father[a] != x:\n",
    "            a, self.father[a] = self.father[a], x\n",
    "        return x\n",
    "    \n",
    "    def union(self, a, b):\n",
    "        a, b = self.find(a), self.find(b)\n",
    "        if a != b:\n",
    "            self.father[a] = b\n",
    "            self.size -= 1"
   ]
  },
  {
   "cell_type": "markdown",
   "metadata": {},
   "source": [
    "# Verification"
   ]
  },
  {
   "cell_type": "code",
   "execution_count": 23,
   "metadata": {},
   "outputs": [
    {
     "name": "stdout",
     "output_type": "stream",
     "text": [
      "Input: [['1', '1', '1', '1', '0'], ['1', '1', '0', '1', '0'], ['1', '1', '0', '0', '0'], ['0', '0', '0', '0', '0']]\n",
      "Output: 1\n",
      "Expected: 1\n",
      "\n",
      "Input: [['1', '1', '0', '0', '0'], ['1', '1', '0', '0', '0'], ['0', '0', '1', '0', '0'], ['0', '0', '0', '1', '1']]\n",
      "Output: 3\n",
      "Expected: 3\n",
      "\n",
      "Input: [['1', '1', '1', '1', '1', '1', '1'], ['0', '0', '0', '0', '0', '0', '1'], ['1', '1', '1', '1', '1', '0', '1'], ['1', '0', '0', '0', '1', '0', '1'], ['1', '0', '1', '0', '1', '0', '1'], ['1', '0', '1', '1', '1', '0', '1'], ['1', '1', '1', '1', '1', '1', '1']]\n",
      "Output: 1\n",
      "Expected: 1\n",
      "\n"
     ]
    }
   ],
   "source": [
    "testcases = [[[\"1\",\"1\",\"1\",\"1\",\"0\"],[\"1\",\"1\",\"0\",\"1\",\"0\"],[\"1\",\"1\",\"0\",\"0\",\"0\"],[\"0\",\"0\",\"0\",\"0\",\"0\"]],[[\"1\",\"1\",\"0\",\"0\",\"0\"],[\"1\",\"1\",\"0\",\"0\",\"0\"],[\"0\",\"0\",\"1\",\"0\",\"0\"],[\"0\",\"0\",\"0\",\"1\",\"1\"]],[[\"1\",\"1\",\"1\",\"1\",\"1\",\"1\",\"1\"],[\"0\",\"0\",\"0\",\"0\",\"0\",\"0\",\"1\"],[\"1\",\"1\",\"1\",\"1\",\"1\",\"0\",\"1\"],[\"1\",\"0\",\"0\",\"0\",\"1\",\"0\",\"1\"],[\"1\",\"0\",\"1\",\"0\",\"1\",\"0\",\"1\"],[\"1\",\"0\",\"1\",\"1\",\"1\",\"0\",\"1\"],[\"1\",\"1\",\"1\",\"1\",\"1\",\"1\",\"1\"]]]\n",
    "answers = [1,3,1]\n",
    "\n",
    "sol = Solution();\n",
    "for case in zip(testcases, answers):\n",
    "    print(\"Input: \" + str(case[0]))\n",
    "    print(\"Output: \" + str(sol.numIslands(case[0])))\n",
    "    print(\"Expected: \" + str(case[1]) + \"\\n\")"
   ]
  }
 ],
 "metadata": {
  "kernelspec": {
   "display_name": "Python 3",
   "language": "python",
   "name": "python3"
  },
  "language_info": {
   "codemirror_mode": {
    "name": "ipython",
    "version": 3
   },
   "file_extension": ".py",
   "mimetype": "text/x-python",
   "name": "python",
   "nbconvert_exporter": "python",
   "pygments_lexer": "ipython3",
   "version": "3.7.3"
  }
 },
 "nbformat": 4,
 "nbformat_minor": 2
}
