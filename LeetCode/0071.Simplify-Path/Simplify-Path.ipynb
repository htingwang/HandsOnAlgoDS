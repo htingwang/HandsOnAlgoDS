{
 "cells": [
  {
   "cell_type": "markdown",
   "metadata": {},
   "source": [
    "# 71. Simplify Path\n",
    "#### https://leetcode.com/problems/simplify-path/"
   ]
  },
  {
   "cell_type": "markdown",
   "metadata": {},
   "source": [
    "# Approach 1: Stack"
   ]
  },
  {
   "cell_type": "code",
   "execution_count": 54,
   "metadata": {},
   "outputs": [],
   "source": [
    "class Solution(object):\n",
    "    def simplifyPath(self, path):\n",
    "        \"\"\"\n",
    "        :type path: str\n",
    "        :rtype: str\n",
    "        \"\"\"\n",
    "        stack = []\n",
    "        \n",
    "        i = 0\n",
    "        while i < len(path):\n",
    "            while i < len(path) and path[i] == \"/\":\n",
    "                i += 1\n",
    "                \n",
    "            j = i\n",
    "            while j < len(path) and path[j] != \"/\":\n",
    "                j += 1\n",
    "                \n",
    "            if path[i : j] == \"..\":\n",
    "                if stack: stack.pop()\n",
    "            elif path[i : j] != \".\" and i != j:\n",
    "                stack.append(path[i : j])\n",
    "            i = j\n",
    "        print(stack)\n",
    "        res = \"\"\n",
    "        for name in stack:\n",
    "            res += \"/\" + name\n",
    "        return res if stack else \"/\""
   ]
  },
  {
   "cell_type": "code",
   "execution_count": 56,
   "metadata": {},
   "outputs": [
    {
     "name": "stdout",
     "output_type": "stream",
     "text": [
      "['/anaconda3/lib/python3.7/site-packages/ipykernel_launcher.py', '-f', '/Users/puggy/Library/Jupyter/runtime/kernel-4414a299-8d46-4b6d-9744-49d93c7ae164.json']\n"
     ]
    },
    {
     "ename": "TypeError",
     "evalue": "insert() takes exactly 2 arguments (1 given)",
     "output_type": "error",
     "traceback": [
      "\u001b[0;31m---------------------------------------------------------------------------\u001b[0m",
      "\u001b[0;31mTypeError\u001b[0m                                 Traceback (most recent call last)",
      "\u001b[0;32m<ipython-input-56-d103d2650b1c>\u001b[0m in \u001b[0;36m<module>\u001b[0;34m\u001b[0m\n\u001b[1;32m      2\u001b[0m \u001b[0mprint\u001b[0m\u001b[0;34m(\u001b[0m\u001b[0msys\u001b[0m\u001b[0;34m.\u001b[0m\u001b[0margv\u001b[0m\u001b[0;34m)\u001b[0m\u001b[0;34m\u001b[0m\u001b[0;34m\u001b[0m\u001b[0m\n\u001b[1;32m      3\u001b[0m \u001b[0mtest\u001b[0m \u001b[0;34m=\u001b[0m \u001b[0;34m[\u001b[0m\u001b[0;34m]\u001b[0m\u001b[0;34m\u001b[0m\u001b[0;34m\u001b[0m\u001b[0m\n\u001b[0;32m----> 4\u001b[0;31m \u001b[0mtest\u001b[0m\u001b[0;34m.\u001b[0m\u001b[0minsert\u001b[0m\u001b[0;34m(\u001b[0m\u001b[0;34m\"a\"\u001b[0m\u001b[0;34m)\u001b[0m\u001b[0;34m\u001b[0m\u001b[0;34m\u001b[0m\u001b[0m\n\u001b[0m",
      "\u001b[0;31mTypeError\u001b[0m: insert() takes exactly 2 arguments (1 given)"
     ]
    }
   ],
   "source": [
    "import sys\n",
    "print(sys.argv)\n",
    "test = []\n",
    "test.insert(\"a\")"
   ]
  },
  {
   "cell_type": "markdown",
   "metadata": {},
   "source": [
    "# Verification"
   ]
  },
  {
   "cell_type": "code",
   "execution_count": 53,
   "metadata": {},
   "outputs": [
    {
     "name": "stdout",
     "output_type": "stream",
     "text": [
      "Input:    /home/\n",
      "['home']\n",
      "Output:   /home\n",
      "Expected: /home\n",
      "\n",
      "Input:    /../\n",
      "[]\n",
      "Output:   /\n",
      "Expected: /\n",
      "\n",
      "Input:    /home//foo/\n",
      "['home', 'foo']\n",
      "Output:   /home/foo\n",
      "Expected: /home/foo\n",
      "\n",
      "Input:    /a/./b/../../c/\n",
      "['c']\n",
      "Output:   /c\n",
      "Expected: /c\n",
      "\n",
      "Input:    /a//b////c/d//././/..\n",
      "['a', 'b', 'c']\n",
      "Output:   /a/b/c\n",
      "Expected: /a/b/c\n",
      "\n"
     ]
    }
   ],
   "source": [
    "testcases = [\"/home/\",\"/../\",\"/home//foo/\",\"/a/./b/../../c/\",\"/a//b////c/d//././/..\"]\n",
    "expected = [\"/home\",\"/\",\"/home/foo\",\"/c\",\"/a/b/c\"]\n",
    "\n",
    "outputs = []\n",
    "sol = Solution();\n",
    "\n",
    "for case in zip(testcases, expected):\n",
    "    print(\"Input:    \" + str(case[0]))\n",
    "    print(\"Output:   \" + str(sol.simplifyPath(case[0])))\n",
    "    print(\"Expected: \" + str(case[1]) + \"\\n\")"
   ]
  }
 ],
 "metadata": {
  "kernelspec": {
   "display_name": "Python 3",
   "language": "python",
   "name": "python3"
  },
  "language_info": {
   "codemirror_mode": {
    "name": "ipython",
    "version": 3
   },
   "file_extension": ".py",
   "mimetype": "text/x-python",
   "name": "python",
   "nbconvert_exporter": "python",
   "pygments_lexer": "ipython3",
   "version": "3.7.3"
  }
 },
 "nbformat": 4,
 "nbformat_minor": 2
}
