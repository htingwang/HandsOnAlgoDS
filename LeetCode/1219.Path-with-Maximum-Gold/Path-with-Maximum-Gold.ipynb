{
 "cells": [
  {
   "cell_type": "markdown",
   "metadata": {},
   "source": [
    "# 1219. Path with Maximum Gold\n",
    "#### https://leetcode.com/problems/path-with-maximum-gold/"
   ]
  },
  {
   "cell_type": "markdown",
   "metadata": {},
   "source": [
    "# Approach 1"
   ]
  },
  {
   "cell_type": "code",
   "execution_count": 1,
   "metadata": {},
   "outputs": [],
   "source": [
    "class Solution(object):\n",
    "    def getMaximumGold(self, grid):\n",
    "        \"\"\"\n",
    "        :type grid: List[List[int]]\n",
    "        :rtype: int\n",
    "        \"\"\"\n",
    "        if not grid or not grid[0]:\n",
    "            return 0\n",
    "        \n",
    "        row, col = len(grid), len(grid[0])\n",
    "        self.res = 0\n",
    "        seen = set()\n",
    "        \n",
    "        for i in range(row):\n",
    "            for j in range(col):\n",
    "                self.dfs(i, j, seen, row, col, grid, grid[i][j])\n",
    "        return self.res\n",
    "    \n",
    "    def dfs(self, i, j, seen, row, col, grid, score):\n",
    "        if not grid[i][j]:\n",
    "            return\n",
    "        seen.add((i, j))\n",
    "        self.res = max(self.res, score)\n",
    "        for ni, nj in [(i + 1, j), (i - 1, j), (i, j + 1), (i, j - 1)]:\n",
    "            if 0 <= ni < row and 0 <= nj < col and (ni, nj) not in seen:\n",
    "                self.dfs(ni, nj, seen, row, col, grid, score + grid[ni][nj])\n",
    "        seen.remove((i, j))"
   ]
  },
  {
   "cell_type": "markdown",
   "metadata": {},
   "source": [
    "# Verification"
   ]
  },
  {
   "cell_type": "code",
   "execution_count": 2,
   "metadata": {},
   "outputs": [
    {
     "name": "stdout",
     "output_type": "stream",
     "text": [
      "Input:    [[0, 6, 0], [5, 8, 7], [0, 9, 0]]\n",
      "Output:   24\n",
      "Expected: 24\n",
      "\n",
      "Input:    [[1, 0, 7], [2, 0, 6], [3, 4, 5], [0, 3, 0], [9, 0, 20]]\n",
      "Output:   28\n",
      "Expected: 28\n",
      "\n"
     ]
    }
   ],
   "source": [
    "testcases = [[[0,6,0],[5,8,7],[0,9,0]],[[1,0,7],[2,0,6],[3,4,5],[0,3,0],[9,0,20]]]\n",
    "expected = [24,28]\n",
    "\n",
    "outputs = []\n",
    "sol = Solution();\n",
    "\n",
    "for case in zip(testcases, expected):\n",
    "    print(\"Input:    \" + str(case[0]))\n",
    "    print(\"Output:   \" + str(sol.getMaximumGold(case[0])))\n",
    "    print(\"Expected: \" + str(case[1]) + \"\\n\")"
   ]
  }
 ],
 "metadata": {
  "kernelspec": {
   "display_name": "Python 3",
   "language": "python",
   "name": "python3"
  },
  "language_info": {
   "codemirror_mode": {
    "name": "ipython",
    "version": 3
   },
   "file_extension": ".py",
   "mimetype": "text/x-python",
   "name": "python",
   "nbconvert_exporter": "python",
   "pygments_lexer": "ipython3",
   "version": "3.7.3"
  }
 },
 "nbformat": 4,
 "nbformat_minor": 2
}
