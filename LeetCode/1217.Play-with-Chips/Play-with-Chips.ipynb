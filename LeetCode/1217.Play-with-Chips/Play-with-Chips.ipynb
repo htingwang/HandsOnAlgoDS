{
 "cells": [
  {
   "cell_type": "markdown",
   "metadata": {},
   "source": [
    "# 1217. Play with Chips\n",
    "#### https://leetcode.com/problems/play-with-chips/"
   ]
  },
  {
   "cell_type": "markdown",
   "metadata": {},
   "source": [
    "# Approach 1"
   ]
  },
  {
   "cell_type": "code",
   "execution_count": 1,
   "metadata": {},
   "outputs": [],
   "source": [
    "class Solution(object):\n",
    "    def minCostToMoveChips(self, chips):\n",
    "        \"\"\"\n",
    "        :type chips: List[int]\n",
    "        :rtype: int\n",
    "        \"\"\"\n",
    "        odd = 0\n",
    "        even = 0\n",
    "        for chip in chips:\n",
    "            if chip % 2 == 0:\n",
    "                even += 1\n",
    "            else:\n",
    "                odd += 1\n",
    "        return min(even, odd)"
   ]
  },
  {
   "cell_type": "markdown",
   "metadata": {},
   "source": [
    "# Verification"
   ]
  },
  {
   "cell_type": "code",
   "execution_count": 2,
   "metadata": {},
   "outputs": [
    {
     "name": "stdout",
     "output_type": "stream",
     "text": [
      "Input:    [1, 2, 3]\n",
      "Output:   1\n",
      "Expected: 1\n",
      "\n",
      "Input:    [2, 2, 2, 3, 3]\n",
      "Output:   2\n",
      "Expected: 2\n",
      "\n"
     ]
    }
   ],
   "source": [
    "testcases = [[1,2,3],[2,2,2,3,3]]\n",
    "expected = [1,2]\n",
    "\n",
    "outputs = []\n",
    "sol = Solution();\n",
    "\n",
    "for case in zip(testcases, expected):\n",
    "    print(\"Input:    \" + str(case[0]))\n",
    "    print(\"Output:   \" + str(sol.minCostToMoveChips(case[0])))\n",
    "    print(\"Expected: \" + str(case[1]) + \"\\n\")"
   ]
  }
 ],
 "metadata": {
  "kernelspec": {
   "display_name": "Python 3",
   "language": "python",
   "name": "python3"
  },
  "language_info": {
   "codemirror_mode": {
    "name": "ipython",
    "version": 3
   },
   "file_extension": ".py",
   "mimetype": "text/x-python",
   "name": "python",
   "nbconvert_exporter": "python",
   "pygments_lexer": "ipython3",
   "version": "3.7.3"
  }
 },
 "nbformat": 4,
 "nbformat_minor": 2
}
