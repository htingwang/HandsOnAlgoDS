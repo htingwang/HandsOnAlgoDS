{
 "cells": [
  {
   "cell_type": "markdown",
   "metadata": {},
   "source": [
    "# 675. Cut Off Trees for Golf Event\n",
    "#### https://leetcode.com/problems/redundant-connection-ii/"
   ]
  },
  {
   "cell_type": "markdown",
   "metadata": {},
   "source": [
    "# Approach 1"
   ]
  },
  {
   "cell_type": "code",
   "execution_count": 34,
   "metadata": {},
   "outputs": [],
   "source": [
    "import heapq\n",
    "from collections import deque\n",
    "\n",
    "class Solution(object):\n",
    "    def cutOffTree(self, forest):\n",
    "        \"\"\"\n",
    "        :type forest: List[List[int]]\n",
    "        :rtype: int\n",
    "        \"\"\"\n",
    "        minheap = []\n",
    "        m, n = len(forest), len(forest[0])\n",
    "        res = 0\n",
    "        \n",
    "        for i in range(m):\n",
    "            for j in range(n):\n",
    "                if forest[i][j] > 1:\n",
    "                    heapq.heappush(minheap, (forest[i][j], (i, j)))\n",
    "        start = (0, 0) \n",
    "        #print(minheap)\n",
    "        while minheap:\n",
    "            _, cur = heapq.heappop(minheap)\n",
    "            dist = self.path_distance(forest, start, cur)\n",
    "            if dist == -1: return -1\n",
    "            forest[cur[0]][cur[1]] = 1\n",
    "            res += dist\n",
    "            start = cur\n",
    "        return res\n",
    "    \n",
    "    def path_distance(self, forest, start, end):\n",
    "        #print(start, end)\n",
    "        queue = deque()\n",
    "        queue.append((start[0], start[1]))\n",
    "        dist = {(start[0], start[1]): 0}\n",
    "        while queue:\n",
    "            i, j = queue.popleft()\n",
    "            if (i, j) == end: \n",
    "                return dist[(i, j)]\n",
    "            for ni, nj in [(i - 1, j), (i + 1, j), (i, j - 1), (i, j + 1)]:\n",
    "                if 0 <= ni < len(forest) and 0 <= nj < len(forest[0]) and (ni, nj) not in dist and forest[ni][nj] >= 1:\n",
    "                    dist[(ni, nj)] = dist[(i, j)] + 1\n",
    "                    queue.append((ni, nj))\n",
    "        return -1"
   ]
  },
  {
   "cell_type": "markdown",
   "metadata": {},
   "source": [
    "# Verification"
   ]
  },
  {
   "cell_type": "code",
   "execution_count": 35,
   "metadata": {},
   "outputs": [
    {
     "name": "stdout",
     "output_type": "stream",
     "text": [
      "Input:    [[1, 2, 3], [0, 0, 4], [7, 6, 5]]\n",
      "[(2, (0, 1)), (3, (0, 2)), (4, (1, 2)), (7, (2, 0)), (6, (2, 1)), (5, (2, 2))]\n",
      "(0, 0) (0, 1)\n",
      "(0, 1) (0, 2)\n",
      "(0, 2) (1, 2)\n",
      "(1, 2) (2, 2)\n",
      "(2, 2) (2, 1)\n",
      "(2, 1) (2, 0)\n",
      "Output:   6\n",
      "Expected: 6\n",
      "\n",
      "Input:    [[1, 2, 3], [0, 0, 0], [7, 6, 5]]\n",
      "[(2, (0, 1)), (3, (0, 2)), (7, (2, 0)), (6, (2, 1)), (5, (2, 2))]\n",
      "(0, 0) (0, 1)\n",
      "(0, 1) (0, 2)\n",
      "(0, 2) (2, 2)\n",
      "Output:   -1\n",
      "Expected: -1\n",
      "\n",
      "Input:    [[2, 3, 4], [0, 0, 5], [8, 7, 6]]\n",
      "[(2, (0, 0)), (3, (0, 1)), (4, (0, 2)), (5, (1, 2)), (8, (2, 0)), (7, (2, 1)), (6, (2, 2))]\n",
      "(0, 0) (0, 0)\n",
      "(0, 0) (0, 1)\n",
      "(0, 1) (0, 2)\n",
      "(0, 2) (1, 2)\n",
      "(1, 2) (2, 2)\n",
      "(2, 2) (2, 1)\n",
      "(2, 1) (2, 0)\n",
      "Output:   6\n",
      "Expected: 6\n",
      "\n",
      "Input:    [[54581641, 64080174, 24346381, 69107959], [86374198, 61363882, 68783324, 79706116], [668150, 92178815, 89819108, 94701471], [83920491, 22724204, 46281641, 47531096], [89078499, 18904913, 25462145, 60813308]]\n",
      "[(668150, (2, 0)), (18904913, (4, 1)), (22724204, (3, 1)), (24346381, (0, 2)), (60813308, (4, 3)), (61363882, (1, 1)), (46281641, (3, 2)), (64080174, (0, 1)), (25462145, (4, 2)), (86374198, (1, 0)), (89819108, (2, 2)), (94701471, (2, 3)), (83920491, (3, 0)), (68783324, (1, 2)), (54581641, (0, 0)), (79706116, (1, 3)), (89078499, (4, 0)), (69107959, (0, 3)), (47531096, (3, 3)), (92178815, (2, 1))]\n",
      "(0, 0) (2, 0)\n",
      "(2, 0) (4, 1)\n",
      "(4, 1) (3, 1)\n",
      "(3, 1) (0, 2)\n",
      "(0, 2) (4, 2)\n",
      "(4, 2) (3, 2)\n",
      "(3, 2) (3, 3)\n",
      "(3, 3) (0, 0)\n",
      "(0, 0) (4, 3)\n",
      "(4, 3) (1, 1)\n",
      "(1, 1) (0, 1)\n",
      "(0, 1) (1, 2)\n",
      "(1, 2) (0, 3)\n",
      "(0, 3) (1, 3)\n",
      "(1, 3) (3, 0)\n",
      "(3, 0) (1, 0)\n",
      "(1, 0) (4, 0)\n",
      "(4, 0) (2, 2)\n",
      "(2, 2) (2, 1)\n",
      "(2, 1) (2, 3)\n",
      "Output:   57\n",
      "Expected: 57\n",
      "\n"
     ]
    }
   ],
   "source": [
    "import pandas as pd\n",
    "testcases = [[\n",
    " [1,2,3],\n",
    " [0,0,4],\n",
    " [7,6,5]\n",
    "],\n",
    "[\n",
    " [1,2,3],\n",
    " [0,0,0],\n",
    " [7,6,5]\n",
    "],\n",
    "[\n",
    " [2,3,4],\n",
    " [0,0,5],\n",
    " [8,7,6]\n",
    "],[[54581641,64080174,24346381,69107959],[86374198,61363882,68783324,79706116],[668150,92178815,89819108,94701471],[83920491,22724204,46281641,47531096],[89078499,18904913,25462145,60813308]]]\n",
    "expected = [6,-1,6,57]\n",
    "\n",
    "#testcases = testcases[:1]\n",
    "#expected = expected[:1]\n",
    "\n",
    "outputs = []\n",
    "sol = Solution();\n",
    "\n",
    "for case in zip(testcases, expected):\n",
    "    print(\"Input:    \" + str(case[0]))\n",
    "    print(\"Output:   \" + str(sol.cutOffTree(case[0])))\n",
    "    print(\"Expected: \" + str(case[1]) + \"\\n\")"
   ]
  }
 ],
 "metadata": {
  "kernelspec": {
   "display_name": "Python 3",
   "language": "python",
   "name": "python3"
  },
  "language_info": {
   "codemirror_mode": {
    "name": "ipython",
    "version": 3
   },
   "file_extension": ".py",
   "mimetype": "text/x-python",
   "name": "python",
   "nbconvert_exporter": "python",
   "pygments_lexer": "ipython3",
   "version": "3.7.3"
  }
 },
 "nbformat": 4,
 "nbformat_minor": 2
}
