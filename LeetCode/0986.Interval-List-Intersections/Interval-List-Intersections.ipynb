{
 "cells": [
  {
   "cell_type": "markdown",
   "metadata": {},
   "source": [
    "# 986. Interval List Intersections\n",
    "#### https://leetcode.com/problems/interval-list-intersections/"
   ]
  },
  {
   "cell_type": "markdown",
   "metadata": {},
   "source": [
    "# Approach 1: Swipe Line"
   ]
  },
  {
   "cell_type": "code",
   "execution_count": 10,
   "metadata": {},
   "outputs": [],
   "source": [
    "import sys\n",
    "class Solution(object):\n",
    "    def intervalIntersection(self, A, B):\n",
    "        \"\"\"\n",
    "        :type A: List[List[int]]\n",
    "        :type B: List[List[int]]\n",
    "        :rtype: List[List[int]]\n",
    "        \"\"\"\n",
    "        count = {}\n",
    "        for x in A:\n",
    "            if x[0] not in count: count[x[0]] = [0, 0]\n",
    "            if x[1] not in count: count[x[1]] = [0, 0]\n",
    "            count[x[0]][0] += 1\n",
    "            count[x[1]][0] -= 1\n",
    "        for x in B:\n",
    "            if x[0] not in count: count[x[0]] = [0, 0]\n",
    "            if x[1] not in count: count[x[1]] = [0, 0]\n",
    "            count[x[0]][1] += 1\n",
    "            count[x[1]][1] -= 1\n",
    "        res = []\n",
    "        cur = end = 0\n",
    "        start = sys.maxsize\n",
    "        for key in sorted(count):\n",
    "            cur += count[key][0] + count[key][1]\n",
    "            if cur == 2:\n",
    "                start = key\n",
    "            if cur < 2:\n",
    "                end = key\n",
    "                if start < end: res.append([start, end])\n",
    "                start = sys.maxsize\n",
    "                if count[key][0] * count[key][1] == -1:\n",
    "                    res.append([key, key])\n",
    "        return res"
   ]
  },
  {
   "cell_type": "markdown",
   "metadata": {},
   "source": [
    "# Approach 2: Merge Intervals"
   ]
  },
  {
   "cell_type": "code",
   "execution_count": 12,
   "metadata": {},
   "outputs": [],
   "source": [
    "import sys\n",
    "class Solution(object):\n",
    "    def intervalIntersection(self, A, B):\n",
    "        \"\"\"\n",
    "        :type A: List[List[int]]\n",
    "        :type B: List[List[int]]\n",
    "        :rtype: List[List[int]]\n",
    "        \"\"\"\n",
    "        i = j = 0\n",
    "        res = []\n",
    "        while i < len(A) and j < len(B):\n",
    "            start = max(A[i][0], B[j][0])\n",
    "            end = min(A[i][1], B[j][1])\n",
    "            if start <= end: res.append([start, end])\n",
    "            if A[i][1] < B[j][1]: i += 1\n",
    "            else: j += 1\n",
    "        return res"
   ]
  },
  {
   "cell_type": "markdown",
   "metadata": {},
   "source": [
    "# Verification"
   ]
  },
  {
   "cell_type": "code",
   "execution_count": 13,
   "metadata": {},
   "outputs": [
    {
     "name": "stdout",
     "output_type": "stream",
     "text": [
      "Input:    ([[0, 2], [5, 10], [13, 23], [24, 25]], [[1, 5], [8, 12], [15, 24], [25, 26]])\n",
      "Output:   [[1, 2], [5, 5], [8, 10], [15, 23], [24, 24], [25, 25]]\n",
      "Expected: [[1, 2], [5, 5], [8, 10], [15, 23], [24, 24], [25, 25]]\n",
      "\n"
     ]
    }
   ],
   "source": [
    "testcases = [([[0,2],[5,10],[13,23],[24,25]],[[1,5],[8,12],[15,24],[25,26]])]\n",
    "expected = [[[1,2],[5,5],[8,10],[15,23],[24,24],[25,25]]]\n",
    "\n",
    "outputs = []\n",
    "sol = Solution();\n",
    "\n",
    "for case in zip(testcases, expected):\n",
    "    print(\"Input:    \" + str(case[0]))\n",
    "    print(\"Output:   \" + str(sol.intervalIntersection(case[0][0],case[0][1])))\n",
    "    print(\"Expected: \" + str(case[1]) + \"\\n\")"
   ]
  }
 ],
 "metadata": {
  "kernelspec": {
   "display_name": "Python 3",
   "language": "python",
   "name": "python3"
  },
  "language_info": {
   "codemirror_mode": {
    "name": "ipython",
    "version": 3
   },
   "file_extension": ".py",
   "mimetype": "text/x-python",
   "name": "python",
   "nbconvert_exporter": "python",
   "pygments_lexer": "ipython3",
   "version": "3.7.3"
  }
 },
 "nbformat": 4,
 "nbformat_minor": 2
}
