{
 "cells": [
  {
   "cell_type": "markdown",
   "metadata": {},
   "source": [
    "# 315. Count of Smaller Numbers After Self\n",
    "#### https://leetcode.com/problems/count-of-smaller-numbers-after-self/"
   ]
  },
  {
   "cell_type": "markdown",
   "metadata": {},
   "source": [
    "# Approach 1: Binary Index Tree"
   ]
  },
  {
   "cell_type": "code",
   "execution_count": 8,
   "metadata": {},
   "outputs": [],
   "source": [
    "class Solution(object):\n",
    "    def countSmaller(self, nums):\n",
    "        \"\"\"\n",
    "        :type nums: List[int]\n",
    "        :rtype: List[int]\n",
    "        \"\"\"\n",
    "        rank, N, res = {val: i + 1 for i, val in enumerate(sorted(nums))}, len(nums), []\n",
    "        BITree = [0] * (N + 1)\n",
    "        print(rank)\n",
    "        def update(i):\n",
    "            while i <= N:\n",
    "                BITree[i] += 1\n",
    "                print(i, i & -i)\n",
    "                i += (i & -i)\n",
    "\n",
    "        def getSum(i):\n",
    "            s = 0\n",
    "            while i:\n",
    "                s += BITree[i]\n",
    "                #print(i, i & -i)\n",
    "                i -= (i & -i)\n",
    "            return s\n",
    "\n",
    "        for x in reversed(nums):\n",
    "            print(x, rank[x],getSum(rank[x] - 1))\n",
    "            res += getSum(rank[x] - 1),\n",
    "            update(rank[x])\n",
    "            print(BITree)\n",
    "        return res[::-1]"
   ]
  },
  {
   "cell_type": "markdown",
   "metadata": {},
   "source": [
    "# Verification"
   ]
  },
  {
   "cell_type": "code",
   "execution_count": 9,
   "metadata": {},
   "outputs": [
    {
     "name": "stdout",
     "output_type": "stream",
     "text": [
      "Input:    [5, 2, 6, 1]\n",
      "{1: 1, 2: 2, 5: 3, 6: 4}\n",
      "1 1 0\n",
      "1 1\n",
      "2 2\n",
      "4 4\n",
      "[0, 1, 1, 0, 1]\n",
      "6 4 1\n",
      "4 4\n",
      "[0, 1, 1, 0, 2]\n",
      "2 2 1\n",
      "2 2\n",
      "4 4\n",
      "[0, 1, 2, 0, 3]\n",
      "5 3 2\n",
      "3 1\n",
      "4 4\n",
      "[0, 1, 2, 1, 4]\n",
      "Output:   [2, 1, 1, 0]\n",
      "Expected: [2, 1, 1, 0]\n",
      "\n"
     ]
    }
   ],
   "source": [
    "testcases = [[5,2,6,1]]\n",
    "expected = [[2,1,1,0]]\n",
    "\n",
    "outputs = []\n",
    "sol = Solution();\n",
    "\n",
    "for case in zip(testcases, expected):\n",
    "    print(\"Input:    \" + str(case[0]))\n",
    "    print(\"Output:   \" + str(sol.countSmaller(case[0])))\n",
    "    print(\"Expected: \" + str(case[1]) + \"\\n\")"
   ]
  }
 ],
 "metadata": {
  "kernelspec": {
   "display_name": "Python 3",
   "language": "python",
   "name": "python3"
  },
  "language_info": {
   "codemirror_mode": {
    "name": "ipython",
    "version": 3
   },
   "file_extension": ".py",
   "mimetype": "text/x-python",
   "name": "python",
   "nbconvert_exporter": "python",
   "pygments_lexer": "ipython3",
   "version": "3.7.3"
  }
 },
 "nbformat": 4,
 "nbformat_minor": 2
}
