{
 "cells": [
  {
   "cell_type": "markdown",
   "metadata": {},
   "source": [
    "# 308. Range Sum Query 2D - Mutable\n",
    "#### https://leetcode.com/problems/range-sum-query-2d-mutable/"
   ]
  },
  {
   "cell_type": "markdown",
   "metadata": {},
   "source": [
    "# Approach 1"
   ]
  },
  {
   "cell_type": "code",
   "execution_count": 52,
   "metadata": {},
   "outputs": [],
   "source": [
    "class NumMatrix(object):\n",
    "\n",
    "    def __init__(self, matrix):\n",
    "        \"\"\"\n",
    "        :type matrix: List[List[int]]\n",
    "        \"\"\"\n",
    "        if not matrix or not matrix[0]: return\n",
    "        \n",
    "        m, n = len(matrix), len(matrix[0])\n",
    "        self.m, self.n = m, n\n",
    "        self.mat = [[0] * (n) for _ in range(m)]\n",
    "        self.bit = [[0] * (n + 1) for _ in range(m + 1)]\n",
    "        for i in range(m):\n",
    "            for j in range(n):\n",
    "                self.update(i, j, matrix[i][j])\n",
    "        \n",
    "\n",
    "    def update(self, row, col, val):\n",
    "        \"\"\"\n",
    "        :type row: int\n",
    "        :type col: int\n",
    "        :type val: int\n",
    "        :rtype: None\n",
    "        \"\"\"\n",
    "        delta = val - self.mat[row][col]\n",
    "        i = row + 1\n",
    "        while i <= self.m:\n",
    "            j = col + 1\n",
    "            while j <= self.n:\n",
    "                self.bit[i][j] += delta\n",
    "                j += (j & -j)\n",
    "            i += (i & -i)\n",
    "        self.mat[row][col] = val\n",
    "            \n",
    "    def query(self, row, col):\n",
    "        res = 0\n",
    "        i = row\n",
    "        while i > 0:\n",
    "            j = col\n",
    "            while j > 0:\n",
    "                res += self.bit[i][j]\n",
    "                j -= (j & -j)\n",
    "            i -= (i & -i)\n",
    "        return res\n",
    "        \n",
    "\n",
    "    def sumRegion(self, row1, col1, row2, col2):\n",
    "        \"\"\"\n",
    "        :type row1: int\n",
    "        :type col1: int\n",
    "        :type row2: int\n",
    "        :type col2: int\n",
    "        :rtype: int\n",
    "        \"\"\"\n",
    "        return self.query(row2 + 1, col2 + 1) - self.query(row1, col2 + 1) - self.query(row2 + 1, col1) + self.query(row1, col1)\n",
    "        \n",
    "\n",
    "\n",
    "# Your NumMatrix object will be instantiated and called as such:\n",
    "# obj = NumMatrix(matrix)\n",
    "# obj.update(row,col,val)\n",
    "# param_2 = obj.sumRegion(row1,col1,row2,col2)"
   ]
  },
  {
   "cell_type": "markdown",
   "metadata": {},
   "source": [
    "# Verification"
   ]
  },
  {
   "cell_type": "code",
   "execution_count": 53,
   "metadata": {},
   "outputs": [
    {
     "name": "stdout",
     "output_type": "stream",
     "text": [
      "Input:    (['NumMatrix', 'sumRegion', 'update', 'sumRegion'], [[[3, 0, 1, 4, 2], [5, 6, 3, 2, 1], [1, 2, 0, 1, 5], [4, 1, 0, 1, 7], [1, 0, 3, 0, 5]], [2, 1, 4, 3], [3, 2, 2], [2, 1, 4, 3]])\n",
      "2 1 4 3\n",
      "2 1 4 3\n",
      "Output:   [None, 8, None, 10]\n",
      "Expected: [None, 8, None, 10]\n",
      "\n"
     ]
    }
   ],
   "source": [
    "testcases = [([\"NumMatrix\",\"sumRegion\",\"update\",\"sumRegion\"],[[\n",
    "  [3, 0, 1, 4, 2],\n",
    "  [5, 6, 3, 2, 1],\n",
    "  [1, 2, 0, 1, 5],\n",
    "  [4, 1, 0, 1, 7],\n",
    "  [1, 0, 3, 0, 5]\n",
    "],[2,1,4,3],[3,2,2],[2,1,4,3]])]\n",
    "expected = [[None,8,None,10]]\n",
    "\n",
    "for case in zip(testcases, expected):\n",
    "    outputs = [None]\n",
    "    sol = NumMatrix(case[0][1][0])\n",
    "    print(\"Input:    \" + str(case[0]))\n",
    "    funcs = case[0][0]\n",
    "    params = case[0][1]\n",
    "    for i, func in enumerate(funcs):\n",
    "        if i: param = params[i]\n",
    "        if func == \"sumRegion\":\n",
    "            outputs.append(sol.sumRegion(param[0], param[1], param[2], param[3]))\n",
    "        if func == \"update\":\n",
    "            outputs.append(sol.update(param[0], param[1], param[2]))\n",
    "    print(\"Output:   \" + str(outputs))\n",
    "    print(\"Expected: \" + str(case[1]) + \"\\n\")"
   ]
  }
 ],
 "metadata": {
  "kernelspec": {
   "display_name": "Python 3",
   "language": "python",
   "name": "python3"
  },
  "language_info": {
   "codemirror_mode": {
    "name": "ipython",
    "version": 3
   },
   "file_extension": ".py",
   "mimetype": "text/x-python",
   "name": "python",
   "nbconvert_exporter": "python",
   "pygments_lexer": "ipython3",
   "version": "3.7.3"
  }
 },
 "nbformat": 4,
 "nbformat_minor": 2
}
