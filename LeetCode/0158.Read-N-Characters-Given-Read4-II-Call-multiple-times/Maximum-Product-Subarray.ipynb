{
 "cells": [
  {
   "cell_type": "markdown",
   "metadata": {},
   "source": [
    "# 152. Maximum Product Subarray\n",
    "#### https://leetcode.com/problems/maximum-product-subarray/"
   ]
  },
  {
   "cell_type": "markdown",
   "metadata": {},
   "source": [
    "# Approach 1: Dynamic Programming"
   ]
  },
  {
   "cell_type": "code",
   "execution_count": 1,
   "metadata": {},
   "outputs": [],
   "source": [
    "class Solution(object):\n",
    "    def maxProduct(self, nums):\n",
    "        \"\"\"\n",
    "        :type nums: List[int]\n",
    "        :rtype: int\n",
    "        \"\"\"\n",
    "        dp = [[num for num in nums] for _ in range(2)] \n",
    "        res = nums[0]\n",
    "        for i in range(1, len(nums)):\n",
    "            dp[0][i] = max(nums[i], nums[i] * dp[0][i - 1], nums[i] * dp[1][i - 1])\n",
    "            dp[1][i] = min(nums[i], nums[i] * dp[0][i - 1], nums[i] * dp[1][i - 1])\n",
    "            res = max(res, dp[0][i])\n",
    "        return res       "
   ]
  },
  {
   "cell_type": "markdown",
   "metadata": {},
   "source": [
    "# Verification"
   ]
  },
  {
   "cell_type": "code",
   "execution_count": 3,
   "metadata": {},
   "outputs": [
    {
     "name": "stdout",
     "output_type": "stream",
     "text": [
      "Input:    [2, 3, -2, 4]\n",
      "Output:   6\n",
      "Expected: 6\n",
      "\n",
      "Input:    [-2, 0, -1]\n",
      "Output:   0\n",
      "Expected: 0\n",
      "\n",
      "Input:    [-2, 3, -4]\n",
      "Output:   24\n",
      "Expected: 24\n",
      "\n"
     ]
    }
   ],
   "source": [
    "testcases = [[2,3,-2,4],[-2,0,-1],[-2,3,-4]]\n",
    "expected = [6,0,24]\n",
    "\n",
    "outputs = []\n",
    "sol = Solution();\n",
    "\n",
    "for case in zip(testcases, expected):\n",
    "    print(\"Input:    \" + str(case[0]))\n",
    "    print(\"Output:   \" + str(sol.maxProduct(case[0])))\n",
    "    print(\"Expected: \" + str(case[1]) + \"\\n\")"
   ]
  }
 ],
 "metadata": {
  "kernelspec": {
   "display_name": "Python 3",
   "language": "python",
   "name": "python3"
  },
  "language_info": {
   "codemirror_mode": {
    "name": "ipython",
    "version": 3
   },
   "file_extension": ".py",
   "mimetype": "text/x-python",
   "name": "python",
   "nbconvert_exporter": "python",
   "pygments_lexer": "ipython3",
   "version": "3.7.3"
  }
 },
 "nbformat": 4,
 "nbformat_minor": 2
}
