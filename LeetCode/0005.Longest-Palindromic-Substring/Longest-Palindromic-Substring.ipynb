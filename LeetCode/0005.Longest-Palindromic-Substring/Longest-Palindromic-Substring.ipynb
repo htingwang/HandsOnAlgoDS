{
 "cells": [
  {
   "cell_type": "markdown",
   "metadata": {},
   "source": [
    "# 5. Longest Palindromic Substring\n",
    "#### https://leetcode.com/problems/longest-palindromic-substring/"
   ]
  },
  {
   "cell_type": "markdown",
   "metadata": {},
   "source": [
    "# Approach 1: Expand Around Center"
   ]
  },
  {
   "cell_type": "code",
   "execution_count": 4,
   "metadata": {},
   "outputs": [],
   "source": [
    "class Solution(object):\n",
    "    def longestPalindrome(self, s):\n",
    "        \"\"\"\n",
    "        :type s: str\n",
    "        :rtype: str\n",
    "        \"\"\"\n",
    "        max_len = idx = 0\n",
    "        for i in range(len(s)):\n",
    "            len1 = self.expand_around_center(s, i, i)\n",
    "            len2 = self.expand_around_center(s, i, i + 1)\n",
    "            #print(i, len1, len2)\n",
    "            cur = max(len1, len2)\n",
    "            if cur > max_len:\n",
    "                max_len = cur\n",
    "                idx = i\n",
    "        return s[idx - (max_len - 1) // 2 : idx + max_len // 2 + 1]\n",
    "        \n",
    "    def expand_around_center(self, s, left, right):\n",
    "        while left >= 0 and right < len(s) and s[left]  == s[right]:\n",
    "            left -= 1\n",
    "            right += 1\n",
    "        return right - left - 1"
   ]
  },
  {
   "cell_type": "markdown",
   "metadata": {},
   "source": [
    "# Approach 2: Manacher's Algorithm"
   ]
  },
  {
   "cell_type": "code",
   "execution_count": 25,
   "metadata": {},
   "outputs": [],
   "source": [
    "class Solution(object):\n",
    "    def longestPalindrome(self, s):\n",
    "        \"\"\"\n",
    "        :type s: str\n",
    "        :rtype: str\n",
    "        \"\"\"\n",
    "        n = len(s)\n",
    "        t = [\"#\"] * (2 * n + 1) + [\"$\"] + [\"&\"]\n",
    "        for i in range(n):\n",
    "            t[2 * i + 1] = s[i]\n",
    "            \n",
    "        dist = [1] * (2 * n + 1)\n",
    "        center = border = 0\n",
    "        max_len = idx = 0\n",
    "        print(t)\n",
    "        for i in range(1, 2 * n):\n",
    "            if i < border:\n",
    "                dist[i] = min(border - i, dist[2 * center - i])\n",
    "            else:\n",
    "                dist[i] = 1\n",
    "            while t[i + dist[i]] == t[i - dist[i]]: dist[i] += 1\n",
    "            if i + dist[i] > border:\n",
    "                center, border = i, i + dist[i]\n",
    "            if dist[i] > max_len:\n",
    "                max_len = dist[i]\n",
    "                idx = i\n",
    "        print(idx, max_len, dist)\n",
    "        return s[(idx - max_len + 1) // 2 : (idx + max_len) // 2]"
   ]
  },
  {
   "cell_type": "markdown",
   "metadata": {},
   "source": [
    "# Verification"
   ]
  },
  {
   "cell_type": "code",
   "execution_count": 26,
   "metadata": {},
   "outputs": [
    {
     "name": "stdout",
     "output_type": "stream",
     "text": [
      "Input:    babad\n",
      "['#', 'b', '#', 'a', '#', 'b', '#', 'a', '#', 'd', '#', '$', '&']\n",
      "3 4 [1, 2, 1, 4, 1, 4, 1, 2, 1, 2, 1]\n",
      "Output:   bab\n",
      "Expected: bab\n",
      "\n",
      "Input:    cbbd\n",
      "['#', 'c', '#', 'b', '#', 'b', '#', 'd', '#', '$', '&']\n",
      "4 3 [1, 2, 1, 2, 3, 2, 1, 2, 1]\n",
      "Output:   bb\n",
      "Expected: bb\n",
      "\n",
      "Input:    aba\n",
      "['#', 'a', '#', 'b', '#', 'a', '#', '$', '&']\n",
      "3 4 [1, 2, 1, 4, 1, 2, 1]\n",
      "Output:   aba\n",
      "Expected: aba\n",
      "\n"
     ]
    }
   ],
   "source": [
    "testcases = [\"babad\",\"cbbd\",\"aba\"]\n",
    "expected = [\"bab\",\"bb\",\"aba\"]\n",
    "\n",
    "outputs = []\n",
    "sol = Solution();\n",
    "\n",
    "for case in zip(testcases, expected):\n",
    "    print(\"Input:    \" + str(case[0]))\n",
    "    print(\"Output:   \" + str(sol.longestPalindrome(case[0])))\n",
    "    print(\"Expected: \" + str(case[1]) + \"\\n\")"
   ]
  }
 ],
 "metadata": {
  "kernelspec": {
   "display_name": "Python 3",
   "language": "python",
   "name": "python3"
  },
  "language_info": {
   "codemirror_mode": {
    "name": "ipython",
    "version": 3
   },
   "file_extension": ".py",
   "mimetype": "text/x-python",
   "name": "python",
   "nbconvert_exporter": "python",
   "pygments_lexer": "ipython3",
   "version": "3.7.3"
  }
 },
 "nbformat": 4,
 "nbformat_minor": 2
}
