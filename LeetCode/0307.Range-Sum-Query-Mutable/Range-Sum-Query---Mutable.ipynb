{
 "cells": [
  {
   "cell_type": "markdown",
   "metadata": {},
   "source": [
    "# 307. Range Sum Query - Mutable\n",
    "#### https://leetcode.com/problems/range-sum-query-mutable/"
   ]
  },
  {
   "cell_type": "markdown",
   "metadata": {},
   "source": [
    "# Approach 1"
   ]
  },
  {
   "cell_type": "code",
   "execution_count": 10,
   "metadata": {},
   "outputs": [],
   "source": [
    "class NumArray(object):\n",
    "\n",
    "    def __init__(self, nums):\n",
    "        \"\"\"\n",
    "        :type nums: List[int]\n",
    "        \"\"\"\n",
    "        self.BITree = [0] * (len(nums) + 1)\n",
    "        self.nums = [0] * len(nums)\n",
    "\n",
    "        for i, num in enumerate(nums):\n",
    "            self.update(i, num)\n",
    "        \n",
    "    def update(self, i, val):\n",
    "        \"\"\"\n",
    "        :type i: int\n",
    "        :type val: int\n",
    "        :rtype: None\n",
    "        \"\"\"\n",
    "        delta = val - self.nums[i]\n",
    "        self.nums[i] = val\n",
    "        i += 1\n",
    "        while i < len(self.BITree):\n",
    "            self.BITree[i] += delta\n",
    "            i += (i & -i)\n",
    "        \n",
    "    def query(self, i):   \n",
    "        res = 0\n",
    "        while i > 0:\n",
    "            res += self.BITree[i]\n",
    "            i -= (i & -i)\n",
    "        return res\n",
    "\n",
    "    def sumRange(self, i, j):\n",
    "        \"\"\"\n",
    "        :type i: int\n",
    "        :type j: int\n",
    "        :rtype: int\n",
    "        \"\"\"\n",
    "        return self.query(j + 1) - self.query(i)"
   ]
  },
  {
   "cell_type": "markdown",
   "metadata": {},
   "source": [
    "# Verification"
   ]
  },
  {
   "cell_type": "code",
   "execution_count": 15,
   "metadata": {},
   "outputs": [
    {
     "name": "stdout",
     "output_type": "stream",
     "text": [
      "Input:    (['NumArray', 'sumRange', 'update', 'sumRange'], [[[1, 3, 5]], [0, 2], [1, 2], [0, 2]])\n",
      "Output:   [None, 9, None, 8]\n",
      "Expected: [None, 9, None, 8]\n",
      "\n"
     ]
    }
   ],
   "source": [
    "testcases = [([\"NumArray\",\"sumRange\",\"update\",\"sumRange\"],[[[1,3,5]],[0,2],[1,2],[0,2]])]\n",
    "expected = [[None,9,None,8]]\n",
    "\n",
    "for case in zip(testcases, expected):\n",
    "    outputs = [None]\n",
    "    sol = NumArray(case[0][1][0][0])\n",
    "    print(\"Input:    \" + str(case[0]))\n",
    "    funcs = case[0][0]\n",
    "    params = case[0][1]\n",
    "    for i, func in enumerate(funcs):\n",
    "        if i: param = params[i]\n",
    "        if func == \"sumRange\":\n",
    "            outputs.append(sol.sumRange(param[0], param[1]))\n",
    "        if func == \"update\":\n",
    "            outputs.append(sol.update(param[0], param[1]))\n",
    "    print(\"Output:   \" + str(outputs))\n",
    "    print(\"Expected: \" + str(case[1]) + \"\\n\")"
   ]
  }
 ],
 "metadata": {
  "kernelspec": {
   "display_name": "Python 3",
   "language": "python",
   "name": "python3"
  },
  "language_info": {
   "codemirror_mode": {
    "name": "ipython",
    "version": 3
   },
   "file_extension": ".py",
   "mimetype": "text/x-python",
   "name": "python",
   "nbconvert_exporter": "python",
   "pygments_lexer": "ipython3",
   "version": "3.7.3"
  }
 },
 "nbformat": 4,
 "nbformat_minor": 2
}
