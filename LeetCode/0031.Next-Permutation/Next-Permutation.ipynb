{
 "cells": [
  {
   "cell_type": "markdown",
   "metadata": {},
   "source": [
    "# 31. Next Permutation\n",
    "#### https://leetcode.com/problems/next-permutation/"
   ]
  },
  {
   "cell_type": "markdown",
   "metadata": {},
   "source": [
    "# Approach 1"
   ]
  },
  {
   "cell_type": "code",
   "execution_count": 10,
   "metadata": {},
   "outputs": [],
   "source": [
    "class Solution(object):\n",
    "    def nextPermutation(self, nums):\n",
    "        \"\"\"\n",
    "        :type nums: List[int]\n",
    "        :rtype: None Do not return anything, modify nums in-place instead.\n",
    "        \"\"\"\n",
    "        for i in range(len(nums) - 2, -1, -1):\n",
    "            if nums[i] < nums[i + 1]:\n",
    "                for j in range(len(nums) - 1, i, -1):\n",
    "                    if nums[j] > nums[i]:\n",
    "                        nums[i], nums[j] = nums[j], nums[i]\n",
    "                        left, right = i + 1, len(nums) - 1   \n",
    "                        while left < right:\n",
    "                            nums[left], nums[right] = nums[right], nums[left]\n",
    "                            left += 1\n",
    "                            right -= 1\n",
    "                        return\n",
    "        nums.sort()"
   ]
  },
  {
   "cell_type": "markdown",
   "metadata": {},
   "source": [
    "# Verification"
   ]
  },
  {
   "cell_type": "code",
   "execution_count": 11,
   "metadata": {},
   "outputs": [
    {
     "name": "stdout",
     "output_type": "stream",
     "text": [
      "Input:    [1, 2, 3]\n",
      "Output:   [1, 3, 2]\n",
      "Expected: [1, 3, 2]\n",
      "\n",
      "Input:    [3, 2, 1]\n",
      "Output:   [1, 2, 3]\n",
      "Expected: [1, 2, 3]\n",
      "\n",
      "Input:    [1, 1, 5]\n",
      "Output:   [1, 5, 1]\n",
      "Expected: [1, 5, 1]\n",
      "\n"
     ]
    }
   ],
   "source": [
    "testcases = [[1,2,3],[3,2,1],[1,1,5]]\n",
    "expected = [[1,3,2],[1,2,3],[1,5,1]]\n",
    "\n",
    "outputs = []\n",
    "sol = Solution();\n",
    "\n",
    "for case in zip(testcases, expected):\n",
    "    print(\"Input:    \" + str(case[0]))\n",
    "    sol.nextPermutation(case[0])\n",
    "    print(\"Output:   \" + str(case[0]))\n",
    "    print(\"Expected: \" + str(case[1]) + \"\\n\")"
   ]
  }
 ],
 "metadata": {
  "kernelspec": {
   "display_name": "Python 3",
   "language": "python",
   "name": "python3"
  },
  "language_info": {
   "codemirror_mode": {
    "name": "ipython",
    "version": 3
   },
   "file_extension": ".py",
   "mimetype": "text/x-python",
   "name": "python",
   "nbconvert_exporter": "python",
   "pygments_lexer": "ipython3",
   "version": "3.7.3"
  }
 },
 "nbformat": 4,
 "nbformat_minor": 2
}
