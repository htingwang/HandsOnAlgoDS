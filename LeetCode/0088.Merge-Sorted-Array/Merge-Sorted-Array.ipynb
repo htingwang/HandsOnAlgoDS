{
 "cells": [
  {
   "cell_type": "markdown",
   "metadata": {},
   "source": [
    "# 88. Merge Sorted Array\n",
    "#### https://leetcode.com/problems/merge-sorted-array/"
   ]
  },
  {
   "cell_type": "markdown",
   "metadata": {},
   "source": [
    "# Approach 1"
   ]
  },
  {
   "cell_type": "code",
   "execution_count": 5,
   "metadata": {},
   "outputs": [],
   "source": [
    "class Solution(object):\n",
    "    def merge(self, nums1, m, nums2, n):\n",
    "        \"\"\"\n",
    "        :type nums1: List[int]\n",
    "        :type m: int\n",
    "        :type nums2: List[int]\n",
    "        :type n: int\n",
    "        :rtype: None Do not return anything, modify nums1 in-place instead.\n",
    "        \"\"\"\n",
    "        p = m + n - 1\n",
    "        p1 = m - 1\n",
    "        p2 = n - 1\n",
    "        while p1 >= 0 and p2 >= 0:\n",
    "            if nums1[p1] < nums2[p2]:\n",
    "                nums1[p] = nums2[p2]\n",
    "                p2 -= 1\n",
    "            else:\n",
    "                nums1[p] = nums1[p1]\n",
    "                p1 -= 1\n",
    "            p -= 1\n",
    "        # add missing elements from nums2\n",
    "        nums1[:p2 + 1] = nums2[:p2 + 1]"
   ]
  },
  {
   "cell_type": "markdown",
   "metadata": {},
   "source": [
    "# Verification"
   ]
  },
  {
   "cell_type": "code",
   "execution_count": 7,
   "metadata": {},
   "outputs": [
    {
     "name": "stdout",
     "output_type": "stream",
     "text": [
      "Input:    ([1, 2, 3, 0, 0, 0], 3, [2, 5, 6], 3)\n",
      "Output:   [1, 2, 2, 3, 5, 6]\n",
      "Expected: [1, 2, 2, 3, 5, 6]\n",
      "\n",
      "Input:    ([0], 0, [1], 1)\n",
      "Output:   [1]\n",
      "Expected: [1]\n",
      "\n"
     ]
    }
   ],
   "source": [
    "testcases = [([1,2,3,0,0,0],3,[2,5,6],3),([0],0,[1],1)]\n",
    "expected = [[1,2,2,3,5,6],[1]]\n",
    "\n",
    "outputs = []\n",
    "sol = Solution();\n",
    "\n",
    "for case in zip(testcases, expected):\n",
    "    print(\"Input:    \" + str(case[0]))\n",
    "    sol.merge(case[0][0],case[0][1],case[0][2],case[0][3])\n",
    "    print(\"Output:   \" + str(case[0][0]))\n",
    "    print(\"Expected: \" + str(case[1]) + \"\\n\")"
   ]
  }
 ],
 "metadata": {
  "kernelspec": {
   "display_name": "Python 3",
   "language": "python",
   "name": "python3"
  },
  "language_info": {
   "codemirror_mode": {
    "name": "ipython",
    "version": 3
   },
   "file_extension": ".py",
   "mimetype": "text/x-python",
   "name": "python",
   "nbconvert_exporter": "python",
   "pygments_lexer": "ipython3",
   "version": "3.7.3"
  }
 },
 "nbformat": 4,
 "nbformat_minor": 2
}
