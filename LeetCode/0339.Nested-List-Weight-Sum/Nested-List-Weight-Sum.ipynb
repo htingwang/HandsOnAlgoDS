{
 "cells": [
  {
   "cell_type": "markdown",
   "metadata": {},
   "source": [
    "# 339. Nested List Weight Sum\n",
    "#### https://leetcode.com/problems/nested-list-weight-sum/"
   ]
  },
  {
   "cell_type": "markdown",
   "metadata": {},
   "source": [
    "# Approach 1: Stack"
   ]
  },
  {
   "cell_type": "code",
   "execution_count": 19,
   "metadata": {},
   "outputs": [],
   "source": [
    "class Solution(object):\n",
    "    def depthSum(self, nestedList):\n",
    "        \"\"\"\n",
    "        :type nestedList: List[NestedInteger]\n",
    "        :rtype: int\n",
    "        \"\"\"\n",
    "        stack = []\n",
    "        res = 0\n",
    "        for elem in nestedList:\n",
    "            level = 1\n",
    "            stack.append((elem, level))\n",
    "            while stack:\n",
    "                cur, level = stack.pop()\n",
    "                if cur.isInteger():\n",
    "                    res += cur.getInteger() * level\n",
    "                else:\n",
    "                    for cur_elem in cur.getList():\n",
    "                        stack.append((cur_elem, level + 1))\n",
    "        return res"
   ]
  },
  {
   "cell_type": "markdown",
   "metadata": {},
   "source": [
    "# Verification"
   ]
  },
  {
   "cell_type": "code",
   "execution_count": 21,
   "metadata": {},
   "outputs": [
    {
     "name": "stdout",
     "output_type": "stream",
     "text": [
      "Input:    [[1,1],2,[1,1]]\n",
      "Output:   10\n",
      "Expected: 10\n",
      "\n",
      "Input:    [1,[4,[6]]]\n",
      "Output:   27\n",
      "Expected: 27\n",
      "\n"
     ]
    }
   ],
   "source": [
    "testcases = [\"[[1,1],2,[1,1]]\",\"[1,[4,[6]]]\"]\n",
    "expected = [10,27]\n",
    "\n",
    "outputs = []\n",
    "sol = Solution();\n",
    "\n",
    "for case in zip(testcases, expected):\n",
    "    print(\"Input:    \" + str(case[0]))\n",
    "    in1 = stringToNestedIntegerList(case[0])\n",
    "    print(\"Output:   \" + str(sol.depthSum(stringToNestedIntegerList(case[0]))))\n",
    "    print(\"Expected: \" + str(case[1]) + \"\\n\")"
   ]
  },
  {
   "cell_type": "code",
   "execution_count": 13,
   "metadata": {},
   "outputs": [],
   "source": [
    "import json\n",
    "\n",
    "class NestedInteger(object):\n",
    "    def __init__(self, value=None):\n",
    "        \"\"\"\n",
    "        If value is not specified, initializes an empty list.\n",
    "        Otherwise initializes a single integer equal to value.\n",
    "        \"\"\"\n",
    "        if value:\n",
    "            self.nested = value\n",
    "        else:\n",
    "            self.nested = []\n",
    "        \n",
    "\n",
    "    def isInteger(self):\n",
    "        \"\"\"\n",
    "        @return True if this NestedInteger holds a single integer, rather than a nested list.\n",
    "        :rtype bool\n",
    "        \"\"\"\n",
    "        if isinstance(self.nested, int): return True\n",
    "        return False\n",
    "\n",
    "    def add(self, elem):\n",
    "        \"\"\"\n",
    "        Set this NestedInteger to hold a nested list and adds a nested integer elem to it.\n",
    "        :rtype void\n",
    "        \"\"\"\n",
    "        self.nested.append(elem)\n",
    "        \n",
    "    def setInteger(self, value):\n",
    "        \"\"\"\n",
    "        Set this NestedInteger to hold a single integer equal to value.\n",
    "        :rtype void\n",
    "        \"\"\"\n",
    "        self.nested = value\n",
    "\n",
    "    def getInteger(self):\n",
    "        \"\"\"\n",
    "        @return the single integer that this NestedInteger holds, if it holds a single integer\n",
    "        Return None if this NestedInteger holds a nested list\n",
    "        :rtype int\n",
    "        \"\"\"\n",
    "        if isinstance(self.nested, int): return self.nested\n",
    "        return None\n",
    "\n",
    "    def getList(self):\n",
    "        \"\"\"\n",
    "        @return the nested list that this NestedInteger holds, if it holds a nested list\n",
    "        Return None if this NestedInteger holds a single integer\n",
    "        :rtype List[NestedInteger]\n",
    "        \"\"\"\n",
    "        if isinstance(self.nested, list): return self.nested\n",
    "        return None\n",
    "        \n",
    "def stringToNestedInteger(input):\n",
    "    def tokenToNestedInteger(token):\n",
    "        root = NestedInteger()\n",
    "        if isinstance(token, list):\n",
    "            for i in range(0, len(token)):\n",
    "                root.add(tokenToNestedInteger(token[i]))\n",
    "        elif isinstance(token, int):\n",
    "            root.setInteger(token)\n",
    "        return root\n",
    "\n",
    "    token = json.loads(input)\n",
    "    return tokenToNestedInteger(token)\n",
    "\n",
    "def stringToNestedIntegerList(input):\n",
    "    nestedIntegerTokenList = json.loads(input)\n",
    "    nestedIntegerList = list()\n",
    "    for nestedIntegerToken in nestedIntegerTokenList:\n",
    "        nestedInteger = stringToNestedInteger(json.dumps(nestedIntegerToken))\n",
    "        nestedIntegerList.append(nestedInteger)\n",
    "    return nestedIntegerList"
   ]
  }
 ],
 "metadata": {
  "kernelspec": {
   "display_name": "Python 3",
   "language": "python",
   "name": "python3"
  },
  "language_info": {
   "codemirror_mode": {
    "name": "ipython",
    "version": 3
   },
   "file_extension": ".py",
   "mimetype": "text/x-python",
   "name": "python",
   "nbconvert_exporter": "python",
   "pygments_lexer": "ipython3",
   "version": "3.7.3"
  }
 },
 "nbformat": 4,
 "nbformat_minor": 2
}
