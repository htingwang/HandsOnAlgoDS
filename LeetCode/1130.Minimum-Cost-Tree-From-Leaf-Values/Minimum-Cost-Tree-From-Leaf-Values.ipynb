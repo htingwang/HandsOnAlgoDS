{
 "cells": [
  {
   "cell_type": "markdown",
   "metadata": {},
   "source": [
    "# 1130. Minimum Cost Tree From Leaf Values\n",
    "#### https://leetcode.com/problems/minimum-cost-tree-from-leaf-values/"
   ]
  },
  {
   "cell_type": "markdown",
   "metadata": {},
   "source": [
    "# Approach 1: Stack"
   ]
  },
  {
   "cell_type": "code",
   "execution_count": 1,
   "metadata": {},
   "outputs": [],
   "source": [
    "import sys\n",
    "class Solution(object):\n",
    "    def mctFromLeafValues(self, arr):\n",
    "        \"\"\"\n",
    "        :type arr: List[int]\n",
    "        :rtype: int\n",
    "        \"\"\"\n",
    "        stack = [sys.maxsize]\n",
    "        res = 0\n",
    "        for a in arr:\n",
    "            while stack[-1] <= a:\n",
    "                cur = stack.pop()\n",
    "                res += cur * min(stack[-1], a)\n",
    "            stack.append(a)\n",
    "        while len(stack) > 2:\n",
    "            res += stack.pop() * stack[-1]\n",
    "        return res"
   ]
  },
  {
   "cell_type": "markdown",
   "metadata": {},
   "source": [
    "# Verification"
   ]
  },
  {
   "cell_type": "code",
   "execution_count": 2,
   "metadata": {},
   "outputs": [
    {
     "name": "stdout",
     "output_type": "stream",
     "text": [
      "Input:    [6, 2, 4]\n",
      "Output:   32\n",
      "Expected: 32\n",
      "\n",
      "Input:    [7, 12, 8, 10]\n",
      "Output:   284\n",
      "Expected: 284\n",
      "\n",
      "Input:    [6, 5, 4, 3, 7, 8, 9]\n",
      "Output:   232\n",
      "Expected: 232\n",
      "\n"
     ]
    }
   ],
   "source": [
    "testcases = [[6,2,4],[7,12,8,10],[6,5,4,3,7,8,9]]\n",
    "expected = [32,284,232]\n",
    "\n",
    "outputs = []\n",
    "sol = Solution();\n",
    "\n",
    "for case in zip(testcases, expected):\n",
    "    print(\"Input:    \" + str(case[0]))\n",
    "    print(\"Output:   \" + str(sol.mctFromLeafValues(case[0])))\n",
    "    print(\"Expected: \" + str(case[1]) + \"\\n\")"
   ]
  }
 ],
 "metadata": {
  "kernelspec": {
   "display_name": "Python 3",
   "language": "python",
   "name": "python3"
  },
  "language_info": {
   "codemirror_mode": {
    "name": "ipython",
    "version": 3
   },
   "file_extension": ".py",
   "mimetype": "text/x-python",
   "name": "python",
   "nbconvert_exporter": "python",
   "pygments_lexer": "ipython3",
   "version": "3.7.3"
  }
 },
 "nbformat": 4,
 "nbformat_minor": 2
}
