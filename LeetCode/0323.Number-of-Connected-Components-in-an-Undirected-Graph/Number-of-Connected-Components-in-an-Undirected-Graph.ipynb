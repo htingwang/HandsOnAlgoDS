{
 "cells": [
  {
   "cell_type": "markdown",
   "metadata": {},
   "source": [
    "# 323. Number of Connected Components in an Undirected Graph\n",
    "#### https://leetcode.com/problems/number-of-connected-components-in-an-undirected-graph/"
   ]
  },
  {
   "cell_type": "markdown",
   "metadata": {},
   "source": [
    "# Approach 1: Union Find"
   ]
  },
  {
   "cell_type": "code",
   "execution_count": 2,
   "metadata": {},
   "outputs": [],
   "source": [
    "class Solution(object):\n",
    "    def countComponents(self, n, edges):\n",
    "        \"\"\"\n",
    "        :type n: int\n",
    "        :type edges: List[List[int]]\n",
    "        :rtype: int\n",
    "        \"\"\"\n",
    "\n",
    "        def insert(a):\n",
    "            if a not in self.father:\n",
    "                self.father[a] = a\n",
    "                self.size += 1\n",
    "        def find(a):\n",
    "            x = a\n",
    "            while x != self.father[x]:\n",
    "                x = self.father[x]\n",
    "                \n",
    "            while x != self.father[a]:\n",
    "                a, self.father[a] = self.father[a], x\n",
    "            return x\n",
    "        def union(a, b):\n",
    "            A, B = find(a), find(b)\n",
    "            if A != B:\n",
    "                self.father[A] = B\n",
    "                self.size -= 1\n",
    "        self.size = 0\n",
    "        self.father = {}    \n",
    "        for i in range(n):\n",
    "            insert(i)\n",
    "        for x, y in edges:\n",
    "            union(x, y)\n",
    "          \n",
    "        return self.size\n",
    "                "
   ]
  },
  {
   "cell_type": "markdown",
   "metadata": {},
   "source": [
    "# Approach 2: BFS"
   ]
  },
  {
   "cell_type": "code",
   "execution_count": 17,
   "metadata": {},
   "outputs": [],
   "source": [
    "class Solution(object):\n",
    "    def countComponents(self, n, edges):\n",
    "        \"\"\"\n",
    "        :type n: int\n",
    "        :type edges: List[List[int]]\n",
    "        :rtype: int\n",
    "        \"\"\"\n",
    "        graph = [[] for _ in range(n)]\n",
    "        for x, y in edges:\n",
    "            graph[x].append(y)\n",
    "            graph[y].append(x)\n",
    "        seen = set()\n",
    "        res = 0\n",
    "        for i in range(n):\n",
    "            if i in seen: continue\n",
    "            res += 1\n",
    "            stack = [i]\n",
    "            while stack:\n",
    "                seen.add(cur)\n",
    "                for j in graph[cur]:\n",
    "                    if j not in seen: stack.append(j)\n",
    "        return res"
   ]
  },
  {
   "cell_type": "markdown",
   "metadata": {},
   "source": [
    "# Verification"
   ]
  },
  {
   "cell_type": "code",
   "execution_count": 18,
   "metadata": {},
   "outputs": [
    {
     "name": "stdout",
     "output_type": "stream",
     "text": [
      "Input:    (5, [[0, 1], [1, 2], [3, 4]])\n",
      "Output:   2\n",
      "Expected: 2\n",
      "\n",
      "Input:    (5, [[0, 1], [1, 2], [2, 3], [3, 4]])\n",
      "Output:   1\n",
      "Expected: 1\n",
      "\n",
      "Input:    (6, [])\n",
      "Output:   6\n",
      "Expected: 6\n",
      "\n"
     ]
    }
   ],
   "source": [
    "testcases = [(5,[[0, 1], [1, 2], [3, 4]]),(5,[[0, 1], [1, 2], [2, 3], [3, 4]]),(6, [])]\n",
    "expected = [2,1,6]\n",
    "\n",
    "outputs = []\n",
    "sol = Solution();\n",
    "\n",
    "for case in zip(testcases, expected):\n",
    "    print(\"Input:    \" + str(case[0]))\n",
    "    print(\"Output:   \" + str(sol.countComponents(case[0][0],case[0][1])))\n",
    "    print(\"Expected: \" + str(case[1]) + \"\\n\")"
   ]
  }
 ],
 "metadata": {
  "kernelspec": {
   "display_name": "Python 3",
   "language": "python",
   "name": "python3"
  },
  "language_info": {
   "codemirror_mode": {
    "name": "ipython",
    "version": 3
   },
   "file_extension": ".py",
   "mimetype": "text/x-python",
   "name": "python",
   "nbconvert_exporter": "python",
   "pygments_lexer": "ipython3",
   "version": "3.7.3"
  }
 },
 "nbformat": 4,
 "nbformat_minor": 2
}
