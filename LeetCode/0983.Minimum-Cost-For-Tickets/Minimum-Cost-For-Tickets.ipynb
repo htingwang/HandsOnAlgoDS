{
 "cells": [
  {
   "cell_type": "markdown",
   "metadata": {},
   "source": [
    "# 983. Minimum Cost For Tickets\n",
    "#### https://leetcode.com/problems/minimum-cost-for-tickets/"
   ]
  },
  {
   "cell_type": "markdown",
   "metadata": {},
   "source": [
    "# Approach 1: Dynamic Programming"
   ]
  },
  {
   "cell_type": "code",
   "execution_count": 1,
   "metadata": {},
   "outputs": [],
   "source": [
    "class Solution(object):\n",
    "    def mincostTickets(self, days, costs):\n",
    "        \"\"\"\n",
    "        :type days: List[int]\n",
    "        :type costs: List[int]\n",
    "        :rtype: int\n",
    "        \"\"\"\n",
    "        dp = [0] * (len(days) + 1)\n",
    "        dp[1] = min(costs)\n",
    "        anchor = 1\n",
    "        for i in range(2, len(dp)):\n",
    "            dp[i] = dp[1] + dp[i - 1]\n",
    "            j = anchor\n",
    "            check = 0\n",
    "            while j < i:\n",
    "                if days[i - 1] - days[j - 1] < 7 and check <= 1:\n",
    "                    dp[i] = min(dp[i], dp[j - 1] + costs[1])\n",
    "                    check += 1\n",
    "                elif days[i - 1] - days[j - 1] < 30 and check == 0:\n",
    "                    dp[i] = min(dp[i], dp[j - 1] + costs[2])\n",
    "                    check += 1\n",
    "                    anchor = j\n",
    "                j += 1\n",
    "        return dp[len(days)]"
   ]
  },
  {
   "cell_type": "markdown",
   "metadata": {},
   "source": [
    "# Verification"
   ]
  },
  {
   "cell_type": "code",
   "execution_count": 2,
   "metadata": {},
   "outputs": [
    {
     "name": "stdout",
     "output_type": "stream",
     "text": [
      "Input:    ([1, 4, 6, 7, 8, 20], [7, 2, 15])\n",
      "Output:   6\n",
      "Expected: 6\n",
      "\n",
      "Input:    ([1, 4, 6, 7, 8, 20], [2, 7, 15])\n",
      "Output:   11\n",
      "Expected: 11\n",
      "\n",
      "Input:    ([1, 2, 3, 4, 5, 6, 7, 8, 9, 10, 30, 31], [2, 7, 15])\n",
      "Output:   17\n",
      "Expected: 17\n",
      "\n"
     ]
    }
   ],
   "source": [
    "testcases = [([1,4,6,7,8,20],[7,2,15]),([1,4,6,7,8,20],[2,7,15]),([1,2,3,4,5,6,7,8,9,10,30,31],[2,7,15])]\n",
    "expected = [6,11,17]\n",
    "\n",
    "#testcases = testcases[:1]\n",
    "#expected = expected[:1]\n",
    "\n",
    "outputs = [None]\n",
    "sol = Solution();\n",
    "\n",
    "for case in zip(testcases, expected):\n",
    "    print(\"Input:    \" + str(case[0]))\n",
    "    print(\"Output:   \" + str(sol.mincostTickets(case[0][0],case[0][1])))\n",
    "    print(\"Expected: \" + str(case[1]) + \"\\n\")"
   ]
  }
 ],
 "metadata": {
  "kernelspec": {
   "display_name": "Python 3",
   "language": "python",
   "name": "python3"
  },
  "language_info": {
   "codemirror_mode": {
    "name": "ipython",
    "version": 3
   },
   "file_extension": ".py",
   "mimetype": "text/x-python",
   "name": "python",
   "nbconvert_exporter": "python",
   "pygments_lexer": "ipython3",
   "version": "3.7.3"
  }
 },
 "nbformat": 4,
 "nbformat_minor": 2
}
