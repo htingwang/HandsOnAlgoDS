{
 "cells": [
  {
   "cell_type": "markdown",
   "metadata": {},
   "source": [
    "# 392. Is Subsequence\n",
    "#### https://leetcode.com/problems/is-subsequence/"
   ]
  },
  {
   "cell_type": "markdown",
   "metadata": {},
   "source": [
    "# Approach 1: Two Pointers"
   ]
  },
  {
   "cell_type": "code",
   "execution_count": 4,
   "metadata": {},
   "outputs": [],
   "source": [
    "class Solution(object):\n",
    "    def isSubsequence(self, s, t):\n",
    "        \"\"\"\n",
    "        :type s: str\n",
    "        :type t: str\n",
    "        :rtype: bool\n",
    "        \"\"\"\n",
    "        if not s: return True\n",
    "        j = 0\n",
    "        for i in range(len(t)):\n",
    "            if s[j] == t[i]:\n",
    "                j += 1\n",
    "                \n",
    "            if j == len(s):\n",
    "                return True\n",
    "        \n",
    "        return False"
   ]
  },
  {
   "cell_type": "markdown",
   "metadata": {},
   "source": [
    "# Approach 2: Hash Table + Binary Search"
   ]
  },
  {
   "cell_type": "code",
   "execution_count": 29,
   "metadata": {},
   "outputs": [],
   "source": [
    "import collections\n",
    "import bisect\n",
    "class Solution(object):\n",
    "    def isSubsequence(self, s, t):\n",
    "        \"\"\"\n",
    "        :type s: str\n",
    "        :type t: str\n",
    "        :rtype: bool\n",
    "        \"\"\"\n",
    "        char_to_pos = collections.defaultdict(list)\n",
    "        for i, c in enumerate(t):\n",
    "            char_to_pos[c].append(i)\n",
    "        \n",
    "        pivot = -1\n",
    "        \n",
    "        for i, c in enumerate(s):\n",
    "            cur = bisect.bisect(char_to_pos[c], pivot)\n",
    "            if cur == len(char_to_pos[c]): return False\n",
    "            pivot = char_to_pos[c][cur]\n",
    "            \n",
    "        return True"
   ]
  },
  {
   "cell_type": "markdown",
   "metadata": {},
   "source": [
    "# Verification"
   ]
  },
  {
   "cell_type": "code",
   "execution_count": 30,
   "metadata": {},
   "outputs": [
    {
     "name": "stdout",
     "output_type": "stream",
     "text": [
      "Input:    ('abc', 'ahbgdc')\n",
      "Output:   True\n",
      "Expected: True\n",
      "\n",
      "Input:    ('axc', 'ahbgdc')\n",
      "Output:   False\n",
      "Expected: False\n",
      "\n"
     ]
    }
   ],
   "source": [
    "testcases = [(\"abc\",\"ahbgdc\"),(\"axc\",\"ahbgdc\")]\n",
    "expected = [True,False]\n",
    "\n",
    "outputs = []\n",
    "sol = Solution();\n",
    "\n",
    "for case in zip(testcases, expected):\n",
    "    print(\"Input:    \" + str(case[0]))\n",
    "    print(\"Output:   \" + str(sol.isSubsequence(case[0][0],case[0][1])))\n",
    "    print(\"Expected: \" + str(case[1]) + \"\\n\")"
   ]
  }
 ],
 "metadata": {
  "kernelspec": {
   "display_name": "Python 3",
   "language": "python",
   "name": "python3"
  },
  "language_info": {
   "codemirror_mode": {
    "name": "ipython",
    "version": 3
   },
   "file_extension": ".py",
   "mimetype": "text/x-python",
   "name": "python",
   "nbconvert_exporter": "python",
   "pygments_lexer": "ipython3",
   "version": "3.7.3"
  }
 },
 "nbformat": 4,
 "nbformat_minor": 2
}
