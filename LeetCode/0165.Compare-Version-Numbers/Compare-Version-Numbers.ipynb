{
 "cells": [
  {
   "cell_type": "markdown",
   "metadata": {},
   "source": [
    "# 165. Compare Version Numbers\n",
    "#### https://leetcode.com/problems/compare-version-numbers/"
   ]
  },
  {
   "cell_type": "markdown",
   "metadata": {},
   "source": [
    "# Approach 1"
   ]
  },
  {
   "cell_type": "code",
   "execution_count": 9,
   "metadata": {},
   "outputs": [],
   "source": [
    "class Solution(object):\n",
    "    def compareVersion(self, version1, version2):\n",
    "        \"\"\"\n",
    "        :type version1: str\n",
    "        :type version2: str\n",
    "        :rtype: int\n",
    "        \"\"\"\n",
    "        v1 = version1.split(\".\")\n",
    "        v2 = version2.split(\".\")\n",
    "        i = j = 0\n",
    "        num1 = num2 = 0\n",
    "        for i in range(max(len(v1), len(v2))):\n",
    "            cur1 = cur2 = 0\n",
    "            if i < len(v1):\n",
    "                cur1 = int(v1[i])\n",
    "            if i < len(v2):\n",
    "                cur2 = int(v2[i])\n",
    "            if cur1 > cur2: return 1\n",
    "            if cur2 > cur1: return -1\n",
    "        return 0"
   ]
  },
  {
   "cell_type": "markdown",
   "metadata": {},
   "source": [
    "# Verification"
   ]
  },
  {
   "cell_type": "code",
   "execution_count": 10,
   "metadata": {},
   "outputs": [
    {
     "name": "stdout",
     "output_type": "stream",
     "text": [
      "Input: ('0.1', '1.1')\n",
      "Output: -1\n",
      "Expected: -1\n",
      "\n",
      "Input: ('1.0.1', '1')\n",
      "Output: 1\n",
      "Expected: 1\n",
      "\n",
      "Input: ('7.5.2.4', '7.5.3')\n",
      "Output: -1\n",
      "Expected: -1\n",
      "\n",
      "Input: ('1.01', '1.001')\n",
      "Output: 0\n",
      "Expected: 0\n",
      "\n",
      "Input: ('1.0', '1.0.0')\n",
      "Output: 0\n",
      "Expected: 0\n",
      "\n"
     ]
    }
   ],
   "source": [
    "testcases = [(\"0.1\",\"1.1\"),(\"1.0.1\",\"1\"),(\"7.5.2.4\",\"7.5.3\"),(\"1.01\",\"1.001\"),(\"1.0\",\"1.0.0\")]\n",
    "answers = [-1,1,-1,0,0]\n",
    "sol = Solution();\n",
    "for case in zip(testcases, answers):\n",
    "    print(\"Input: \" + str(case[0]))\n",
    "    print(\"Output: \" + str(sol.compareVersion(case[0][0],case[0][1])))\n",
    "    print(\"Expected: \" + str(case[1]) + \"\\n\")"
   ]
  }
 ],
 "metadata": {
  "kernelspec": {
   "display_name": "Python 3",
   "language": "python",
   "name": "python3"
  },
  "language_info": {
   "codemirror_mode": {
    "name": "ipython",
    "version": 3
   },
   "file_extension": ".py",
   "mimetype": "text/x-python",
   "name": "python",
   "nbconvert_exporter": "python",
   "pygments_lexer": "ipython3",
   "version": "3.7.3"
  }
 },
 "nbformat": 4,
 "nbformat_minor": 2
}
