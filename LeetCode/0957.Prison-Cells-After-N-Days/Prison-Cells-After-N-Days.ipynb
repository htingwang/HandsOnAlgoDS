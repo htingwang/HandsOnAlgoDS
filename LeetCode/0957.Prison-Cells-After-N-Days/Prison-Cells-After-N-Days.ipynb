{
 "cells": [
  {
   "cell_type": "markdown",
   "metadata": {},
   "source": [
    "# 957. Prison Cells After N Days\n",
    "#### https://leetcode.com/problems/prison-cells-after-n-days/"
   ]
  },
  {
   "cell_type": "markdown",
   "metadata": {},
   "source": [
    "# Approach 1"
   ]
  },
  {
   "cell_type": "code",
   "execution_count": 24,
   "metadata": {},
   "outputs": [],
   "source": [
    "class Solution(object):\n",
    "    def prisonAfterNDays(self, cells, N):\n",
    "        \"\"\"\n",
    "        :type cells: List[int]\n",
    "        :type N: int\n",
    "        :rtype: List[int]\n",
    "        \"\"\"\n",
    "        if N == 0: return cells\n",
    "        reverse = False\n",
    "        idx = (N - 1) % 14\n",
    "        if idx >= 7: reverse = True\n",
    "        idx %= 7\n",
    "        cells = self.prison_after_one_day(cells)\n",
    "        res = []\n",
    "        for i in range(idx):\n",
    "            cells = self.prison_after_one_day(cells)\n",
    "        if reverse: cells.reverse()    \n",
    "        return cells\n",
    "    \n",
    "    def prison_after_one_day(self, cells):\n",
    "        res = [0] * len(cells)\n",
    "        for i in range(1, len(cells) - 1):\n",
    "            if cells[i - 1] == cells[i + 1]: res[i] = 1\n",
    "        return res"
   ]
  },
  {
   "cell_type": "markdown",
   "metadata": {},
   "source": [
    "# Verification "
   ]
  },
  {
   "cell_type": "code",
   "execution_count": 25,
   "metadata": {},
   "outputs": [
    {
     "name": "stdout",
     "output_type": "stream",
     "text": [
      "Input:    ([0, 1, 0, 1, 1, 0, 0, 1], 7)\n",
      "False\n",
      "Output:   [0, 0, 1, 1, 0, 0, 0, 0]\n",
      "Expected: [0, 0, 1, 1, 0, 0, 0, 0]\n",
      "\n",
      "Input:    ([1, 0, 0, 1, 0, 0, 1, 0], 1000000000)\n",
      "False\n",
      "Output:   [0, 0, 1, 1, 1, 1, 1, 0]\n",
      "Expected: [0, 0, 1, 1, 1, 1, 1, 0]\n",
      "\n",
      "Input:    ([1, 1, 0, 0, 0, 0, 0, 1], 8)\n",
      "True\n",
      "Output:   [0, 0, 1, 1, 1, 0, 0, 0]\n",
      "Expected: [0, 0, 1, 1, 1, 0, 0, 0]\n",
      "\n"
     ]
    }
   ],
   "source": [
    "import pandas as pd\n",
    "testcases = [([0,1,0,1,1,0,0,1],7),([1,0,0,1,0,0,1,0],1000000000),([1,1,0,0,0,0,0,1],8)]\n",
    "expected = [[0,0,1,1,0,0,0,0],[0,0,1,1,1,1,1,0],[0,0,1,1,1,0,0,0]]\n",
    "outputs = []\n",
    "sol = Solution();\n",
    "\n",
    "for case in zip(testcases, expected):\n",
    "    print(\"Input:    \" + str(case[0]))\n",
    "    print(\"Output:   \" + str(sol.prisonAfterNDays(case[0][0],case[0][1])))\n",
    "    print(\"Expected: \" + str(case[1]) + \"\\n\")"
   ]
  }
 ],
 "metadata": {
  "kernelspec": {
   "display_name": "Python 3",
   "language": "python",
   "name": "python3"
  },
  "language_info": {
   "codemirror_mode": {
    "name": "ipython",
    "version": 3
   },
   "file_extension": ".py",
   "mimetype": "text/x-python",
   "name": "python",
   "nbconvert_exporter": "python",
   "pygments_lexer": "ipython3",
   "version": "3.7.3"
  }
 },
 "nbformat": 4,
 "nbformat_minor": 2
}
