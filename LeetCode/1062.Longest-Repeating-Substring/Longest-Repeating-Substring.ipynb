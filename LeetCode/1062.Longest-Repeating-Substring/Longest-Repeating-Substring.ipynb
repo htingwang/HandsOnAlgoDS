{
 "cells": [
  {
   "cell_type": "markdown",
   "metadata": {},
   "source": [
    "# 1062. Longest Repeating Substring\n",
    "#### https://leetcode.com/problems/longest-repeating-substring/"
   ]
  },
  {
   "cell_type": "markdown",
   "metadata": {},
   "source": [
    "# Approach 1: Binary Search"
   ]
  },
  {
   "cell_type": "code",
   "execution_count": 3,
   "metadata": {},
   "outputs": [],
   "source": [
    "class Solution(object):\n",
    "    def longestRepeatingSubstring(self, S):\n",
    "        \"\"\"\n",
    "        :type S: str\n",
    "        :rtype: int\n",
    "        \"\"\"\n",
    "        n = len(S)\n",
    "        if n <= 1: return 0\n",
    "        \n",
    "        left, right = 1, n\n",
    "        while left <= right:\n",
    "            mid = (left + right) // 2\n",
    "            if self.search(S, mid, n) == -1:\n",
    "                right = mid - 1\n",
    "            else:\n",
    "                left = mid + 1\n",
    "        return left - 1\n",
    "            \n",
    "    def search(self, S, L, n):\n",
    "        mod = 2 ** 31 - 1\n",
    "        seen = set()\n",
    "        \n",
    "        power = 1\n",
    "        for i in range(L - 1):\n",
    "            power = (power * 31) % mod\n",
    "            \n",
    "        hashcode = 0\n",
    "        for i in range(n):\n",
    "            hashcode = (hashcode * 31 + ord(S[i])) % mod\n",
    "            if i >= L - 1:\n",
    "                if hashcode in seen:\n",
    "                    return i\n",
    "                seen.add(hashcode)\n",
    "                hashcode = (hashcode - power * ord(S[i - L + 1])) % mod\n",
    "                \n",
    "        return -1"
   ]
  },
  {
   "cell_type": "markdown",
   "metadata": {},
   "source": [
    "# Verification"
   ]
  },
  {
   "cell_type": "code",
   "execution_count": 4,
   "metadata": {},
   "outputs": [
    {
     "name": "stdout",
     "output_type": "stream",
     "text": [
      "Input:    abcd\n",
      "Output:   0\n",
      "Expected: 0\n",
      "\n",
      "Input:    abbaba\n",
      "Output:   2\n",
      "Expected: 2\n",
      "\n",
      "Input:    aabcaabdaab\n",
      "Output:   3\n",
      "Expected: 3\n",
      "\n",
      "Input:    aaaaa\n",
      "Output:   4\n",
      "Expected: 4\n",
      "\n"
     ]
    }
   ],
   "source": [
    "testcases = [\"abcd\",\"abbaba\",\"aabcaabdaab\",\"aaaaa\"]\n",
    "expected = [0,2,3,4]\n",
    "\n",
    "outputs = []\n",
    "sol = Solution();\n",
    "\n",
    "for case in zip(testcases, expected):\n",
    "    print(\"Input:    \" + str(case[0]))\n",
    "    print(\"Output:   \" + str(sol.longestRepeatingSubstring(case[0])))\n",
    "    print(\"Expected: \" + str(case[1]) + \"\\n\")"
   ]
  }
 ],
 "metadata": {
  "kernelspec": {
   "display_name": "Python 3",
   "language": "python",
   "name": "python3"
  },
  "language_info": {
   "codemirror_mode": {
    "name": "ipython",
    "version": 3
   },
   "file_extension": ".py",
   "mimetype": "text/x-python",
   "name": "python",
   "nbconvert_exporter": "python",
   "pygments_lexer": "ipython3",
   "version": "3.7.3"
  }
 },
 "nbformat": 4,
 "nbformat_minor": 2
}
