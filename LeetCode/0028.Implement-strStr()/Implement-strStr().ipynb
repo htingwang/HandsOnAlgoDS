{
 "cells": [
  {
   "cell_type": "markdown",
   "metadata": {},
   "source": [
    "# 28. Implement strStr()\n",
    "#### https://leetcode.com/problems/implement-strstr/"
   ]
  },
  {
   "cell_type": "markdown",
   "metadata": {},
   "source": [
    "# Approach 1: Rabin Karp"
   ]
  },
  {
   "cell_type": "code",
   "execution_count": 21,
   "metadata": {},
   "outputs": [],
   "source": [
    "class Solution(object):\n",
    "    def strStr(self, haystack, needle):\n",
    "        \"\"\"\n",
    "        :type haystack: str\n",
    "        :type needle: str\n",
    "        :rtype: int\n",
    "        \"\"\"\n",
    "        if not needle: return 0\n",
    "        \n",
    "        mod = 100000\n",
    "        n, m = len(haystack), len(needle)\n",
    "        \n",
    "        power = 1\n",
    "        target_code = 0\n",
    "        for i in range(m - 1):\n",
    "            power = (power * 31) % mod\n",
    "        for i in range(m):\n",
    "            target_code = (target_code * 31 + ord(needle[i]) - ord('a')) % mod\n",
    "\n",
    "        hash_code = 0\n",
    "        for i in range(n):\n",
    "            hash_code = (hash_code * 31 + ord(haystack[i]) - ord('a')) % mod\n",
    "            if i >= m - 1:\n",
    "                if hash_code == target_code and haystack[i - m + 1 : i + 1] == needle:\n",
    "                    return i - m + 1\n",
    "                hash_code = (hash_code - (ord(haystack[i - m + 1]) - ord('a')) * power) % mod\n",
    "        return -1"
   ]
  },
  {
   "cell_type": "markdown",
   "metadata": {},
   "source": [
    "# Approach 2: Knuth-Morris-Pratt (KMP)"
   ]
  },
  {
   "cell_type": "code",
   "execution_count": 24,
   "metadata": {},
   "outputs": [],
   "source": [
    "class Solution(object):\n",
    "    def strStr(self, haystack, needle):\n",
    "        \"\"\"\n",
    "        :type haystack: str\n",
    "        :type needle: str\n",
    "        :rtype: int\n",
    "        \"\"\"\n",
    "        n, m = len(haystack), len(needle)\n",
    "        if not m: return 0\n",
    "        if not n: return -1\n",
    "        \n",
    "        kmp = [0] * m\n",
    "        k = 0\n",
    "        for i in range(1, m):\n",
    "            while k > 0 and needle[i] != needle[k]:\n",
    "                k = kmp[k - 1]\n",
    "            if needle[i] == needle[k]:\n",
    "                k += 1\n",
    "                kmp[i] = k\n",
    "        k = 0        \n",
    "        for i in range(n):\n",
    "            while k > 0 and haystack[i] != needle[k]:\n",
    "                k = kmp[k - 1]\n",
    "            if haystack[i] == needle[k]:\n",
    "                k += 1\n",
    "            if k == m: return i - m + 1\n",
    "        return -1"
   ]
  },
  {
   "cell_type": "markdown",
   "metadata": {},
   "source": [
    "# Verification"
   ]
  },
  {
   "cell_type": "code",
   "execution_count": 25,
   "metadata": {},
   "outputs": [
    {
     "name": "stdout",
     "output_type": "stream",
     "text": [
      "Input:    ('hello', 'll')\n",
      "Output:   2\n",
      "Expected: 2\n",
      "\n",
      "Input:    ('aaaaa', 'bba')\n",
      "Output:   -1\n",
      "Expected: -1\n",
      "\n",
      "Input:    ('', '')\n",
      "Output:   0\n",
      "Expected: 0\n",
      "\n",
      "Input:    ('a', 'a')\n",
      "Output:   0\n",
      "Expected: 0\n",
      "\n",
      "Input:    ('mississippi', 'issi')\n",
      "Output:   1\n",
      "Expected: 1\n",
      "\n"
     ]
    }
   ],
   "source": [
    "testcases = [(\"hello\",\"ll\"),(\"aaaaa\",\"bba\"),(\"\",\"\"),(\"a\",\"a\"),(\"mississippi\",\"issi\")]\n",
    "expected = [2,-1,0,0,1]\n",
    "\n",
    "outputs = []\n",
    "sol = Solution();\n",
    "\n",
    "for case in zip(testcases, expected):\n",
    "    print(\"Input:    \" + str(case[0]))\n",
    "    print(\"Output:   \" + str(sol.strStr(case[0][0],case[0][1])))\n",
    "    print(\"Expected: \" + str(case[1]) + \"\\n\")"
   ]
  }
 ],
 "metadata": {
  "kernelspec": {
   "display_name": "Python 3",
   "language": "python",
   "name": "python3"
  },
  "language_info": {
   "codemirror_mode": {
    "name": "ipython",
    "version": 3
   },
   "file_extension": ".py",
   "mimetype": "text/x-python",
   "name": "python",
   "nbconvert_exporter": "python",
   "pygments_lexer": "ipython3",
   "version": "3.7.3"
  }
 },
 "nbformat": 4,
 "nbformat_minor": 2
}
