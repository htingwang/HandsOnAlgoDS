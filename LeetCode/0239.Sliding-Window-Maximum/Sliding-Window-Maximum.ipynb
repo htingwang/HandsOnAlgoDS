{
 "cells": [
  {
   "cell_type": "markdown",
   "metadata": {},
   "source": [
    "# 239. Sliding Window Maximum\n",
    "#### https://leetcode.com/problems/sliding-window-maximum/"
   ]
  },
  {
   "cell_type": "markdown",
   "metadata": {},
   "source": [
    "# Approach 1"
   ]
  },
  {
   "cell_type": "code",
   "execution_count": 3,
   "metadata": {},
   "outputs": [],
   "source": [
    "import collections\n",
    "class Solution(object):\n",
    "    def maxSlidingWindow(self, nums, k):\n",
    "        \"\"\"\n",
    "        :type nums: List[int]\n",
    "        :type k: int\n",
    "        :rtype: List[int]\n",
    "        \"\"\"\n",
    "        res = []\n",
    "        queue = collections.deque()\n",
    "        for i, num in enumerate(nums):\n",
    "            while queue and nums[queue[-1]] < num:\n",
    "                queue.pop()\n",
    "            queue.append(i)\n",
    "            if i >= k - 1:\n",
    "                res.append(nums[queue[0]])\n",
    "                if queue[0] == i - k + 1:\n",
    "                    queue.popleft()\n",
    "        return res"
   ]
  },
  {
   "cell_type": "markdown",
   "metadata": {},
   "source": [
    "# Verification"
   ]
  },
  {
   "cell_type": "code",
   "execution_count": 4,
   "metadata": {},
   "outputs": [
    {
     "name": "stdout",
     "output_type": "stream",
     "text": [
      "Input:    ([1, 3, -1, -3, 5, 3, 6, 7], 3)\n",
      "Output:   [3, 3, 5, 5, 6, 7]\n",
      "Expected: [3, 3, 5, 5, 6, 7]\n",
      "\n",
      "Input:    ([1, 3, 1, 2, 0, 5], 3)\n",
      "Output:   [3, 3, 2, 5]\n",
      "Expected: [3, 3, 2, 5]\n",
      "\n"
     ]
    }
   ],
   "source": [
    "testcases = [([1,3,-1,-3,5,3,6,7],3),([1,3,1,2,0,5],3)]\n",
    "expected = [[3,3,5,5,6,7],[3,3,2,5]]\n",
    "\n",
    "outputs = []\n",
    "sol = Solution();\n",
    "\n",
    "for case in zip(testcases, expected):\n",
    "    print(\"Input:    \" + str(case[0]))\n",
    "    print(\"Output:   \" + str(sol.maxSlidingWindow(case[0][0],case[0][1])))\n",
    "    print(\"Expected: \" + str(case[1]) + \"\\n\")"
   ]
  }
 ],
 "metadata": {
  "kernelspec": {
   "display_name": "Python 3",
   "language": "python",
   "name": "python3"
  },
  "language_info": {
   "codemirror_mode": {
    "name": "ipython",
    "version": 3
   },
   "file_extension": ".py",
   "mimetype": "text/x-python",
   "name": "python",
   "nbconvert_exporter": "python",
   "pygments_lexer": "ipython3",
   "version": "3.7.3"
  }
 },
 "nbformat": 4,
 "nbformat_minor": 2
}
