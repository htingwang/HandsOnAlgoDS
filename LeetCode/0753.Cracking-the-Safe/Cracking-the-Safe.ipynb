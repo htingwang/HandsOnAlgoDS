{
 "cells": [
  {
   "cell_type": "markdown",
   "metadata": {},
   "source": [
    "# 753. Cracking the Safe\n",
    "#### https://leetcode.com/problems/cracking-the-safe/"
   ]
  },
  {
   "cell_type": "markdown",
   "metadata": {},
   "source": [
    "# Approach 1: DFS"
   ]
  },
  {
   "cell_type": "code",
   "execution_count": 21,
   "metadata": {},
   "outputs": [],
   "source": [
    "class Solution(object):\n",
    "    def crackSafe(self, n, k):\n",
    "        \"\"\"\n",
    "        :type n: int\n",
    "        :type k: int\n",
    "        :rtype: str\n",
    "        \"\"\"      \n",
    "        code = set()\n",
    "\n",
    "        def guesscode(n, k, cur, code, res):\n",
    "            res[0] = cur\n",
    "            for i in range(k - 1, -1, -1):\n",
    "                sub = cur[-(n - 1) : ] + str(i) if n > 1 else str(i)\n",
    "                if sub not in code:\n",
    "                    code.add(sub)\n",
    "                    guesscode(n, k, cur + str(i), code, res)\n",
    "                    break\n",
    "        res = [\"\"]\n",
    "        cur = \"0\" * n\n",
    "        code.add(cur)\n",
    "        guesscode(n, k, cur, code, res)   \n",
    "        return res[0]"
   ]
  },
  {
   "cell_type": "markdown",
   "metadata": {},
   "source": [
    "# Verification"
   ]
  },
  {
   "cell_type": "code",
   "execution_count": 22,
   "metadata": {},
   "outputs": [
    {
     "name": "stdout",
     "output_type": "stream",
     "text": [
      "Input:    (2, 5)\n",
      "00\n",
      "Output:   00443424140332313022120110\n",
      "Expected: 00443424140332313022120110\n",
      "\n"
     ]
    }
   ],
   "source": [
    "testcases = [(2,5)]\n",
    "expected = [\"00443424140332313022120110\"]\n",
    "\n",
    "outputs = []\n",
    "sol = Solution();\n",
    "\n",
    "for case in zip(testcases, expected):\n",
    "    print(\"Input:    \" + str(case[0]))\n",
    "    print(\"Output:   \" + str(sol.crackSafe(case[0][0],case[0][1])))\n",
    "    print(\"Expected: \" + str(case[1]) + \"\\n\")"
   ]
  }
 ],
 "metadata": {
  "kernelspec": {
   "display_name": "Python 3",
   "language": "python",
   "name": "python3"
  },
  "language_info": {
   "codemirror_mode": {
    "name": "ipython",
    "version": 3
   },
   "file_extension": ".py",
   "mimetype": "text/x-python",
   "name": "python",
   "nbconvert_exporter": "python",
   "pygments_lexer": "ipython3",
   "version": "3.7.3"
  }
 },
 "nbformat": 4,
 "nbformat_minor": 2
}
