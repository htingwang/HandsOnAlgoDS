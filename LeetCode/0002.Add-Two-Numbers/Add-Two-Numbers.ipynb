{
 "cells": [
  {
   "cell_type": "markdown",
   "metadata": {},
   "source": [
    "# 2. Add Two Numbers\n",
    "#### https://leetcode.com/problems/add-two-numbers/"
   ]
  },
  {
   "cell_type": "markdown",
   "metadata": {},
   "source": [
    "# Approach 1: Two Pointers"
   ]
  },
  {
   "cell_type": "code",
   "execution_count": 7,
   "metadata": {},
   "outputs": [],
   "source": [
    "# Definition for singly-linked list.\n",
    "# class ListNode(object):\n",
    "#     def __init__(self, x):\n",
    "#         self.val = x\n",
    "#         self.next = None\n",
    "\n",
    "class Solution(object):\n",
    "    def addTwoNumbers(self, l1, l2):\n",
    "        \"\"\"\n",
    "        :type l1: ListNode\n",
    "        :type l2: ListNode\n",
    "        :rtype: ListNode\n",
    "        \"\"\"\n",
    "        c = 0\n",
    "        dummy = ListNode(0)\n",
    "        node = dummy\n",
    "        while l1 or l2:\n",
    "            s1 = s2 = 0\n",
    "            if l1: \n",
    "                s1 = l1.val\n",
    "                l1 = l1.next\n",
    "            if l2: \n",
    "                s2 = l2.val\n",
    "                l2 = l2.next\n",
    "            s = s1 + s2 + c\n",
    "            c = 0\n",
    "            if s >= 10: \n",
    "                c = 1\n",
    "                s -= 10\n",
    "            node.next = ListNode(s)\n",
    "            node = node.next\n",
    "        if c: node.next = ListNode(c)\n",
    "        return dummy.next            "
   ]
  },
  {
   "cell_type": "markdown",
   "metadata": {},
   "source": [
    "# Verification"
   ]
  },
  {
   "cell_type": "code",
   "execution_count": 8,
   "metadata": {},
   "outputs": [
    {
     "name": "stdout",
     "output_type": "stream",
     "text": [
      "Input:    ('[2,4,3]', '[5,6,4]')\n",
      "Output:   [7, 0, 8]\n",
      "Expected: [7, 0, 8]\n",
      "\n"
     ]
    }
   ],
   "source": [
    "testcases = [(\"[2,4,3]\",\"[5,6,4]\")]\n",
    "expected = [[7,0,8]]\n",
    "\n",
    "outputs = []\n",
    "sol = Solution();\n",
    "\n",
    "for case in zip(testcases, expected):\n",
    "    print(\"Input:    \" + str(case[0]))\n",
    "    l1 = stringToListNode(case[0][0])\n",
    "    l2 = stringToListNode(case[0][1])\n",
    "    output = sol.addTwoNumbers(l1, l2)\n",
    "    print(\"Output:   \" + str(listNodeToString(output)))\n",
    "    print(\"Expected: \" + str(case[1]) + \"\\n\")"
   ]
  },
  {
   "cell_type": "code",
   "execution_count": 5,
   "metadata": {},
   "outputs": [],
   "source": [
    "# Definition for singly-linked list.\n",
    "class ListNode(object):\n",
    "    def __init__(self, val):\n",
    "        self.val = val\n",
    "        self.next = None\n",
    "        \n",
    "import json\n",
    "def stringToListNode(input):\n",
    "    # Generate list from the input\n",
    "    numbers = json.loads(input)\n",
    "\n",
    "    # Now convert that list into linked list\n",
    "    dummyRoot = ListNode(0)\n",
    "    ptr = dummyRoot\n",
    "    for number in numbers:\n",
    "        ptr.next = ListNode(number)\n",
    "        ptr = ptr.next\n",
    "\n",
    "    ptr = dummyRoot.next\n",
    "    return ptr\n",
    "\n",
    "def listNodeToString(node):\n",
    "    if not node:\n",
    "        return \"[]\"\n",
    "\n",
    "    result = \"\"\n",
    "    while node:\n",
    "        result += str(node.val) + \", \"\n",
    "        node = node.next\n",
    "    return \"[\" + result[:-2] + \"]\""
   ]
  }
 ],
 "metadata": {
  "kernelspec": {
   "display_name": "Python 3",
   "language": "python",
   "name": "python3"
  }
 },
 "nbformat": 4,
 "nbformat_minor": 2
}
