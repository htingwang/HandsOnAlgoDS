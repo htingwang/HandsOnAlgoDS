{
 "cells": [
  {
   "cell_type": "markdown",
   "metadata": {},
   "source": [
    "# 56. Merge Intervals\n",
    "#### https://leetcode.com/problems/merge-intervals/"
   ]
  },
  {
   "cell_type": "markdown",
   "metadata": {},
   "source": [
    "# Approach 1"
   ]
  },
  {
   "cell_type": "code",
   "execution_count": 5,
   "metadata": {},
   "outputs": [],
   "source": [
    "class Solution(object):\n",
    "    def merge(self, intervals):\n",
    "        \"\"\"\n",
    "        :type intervals: List[List[int]]\n",
    "        :rtype: List[List[int]]\n",
    "        \"\"\"\n",
    "        intervals.sort()\n",
    "        res = []\n",
    "        for i in range(len(intervals)):\n",
    "            if not res:\n",
    "                res.append(intervals[i])\n",
    "            else:\n",
    "                if intervals[i][0] <= res[-1][1]:\n",
    "                    res[-1][1] = max(res[-1][1], intervals[i][1])\n",
    "                else:\n",
    "                    res.append(intervals[i])\n",
    "        return res"
   ]
  },
  {
   "cell_type": "markdown",
   "metadata": {},
   "source": [
    "# Verification"
   ]
  },
  {
   "cell_type": "code",
   "execution_count": 6,
   "metadata": {},
   "outputs": [
    {
     "name": "stdout",
     "output_type": "stream",
     "text": [
      "Input:    [[1, 3], [2, 6], [8, 10], [15, 18]]\n",
      "Output:   [[1, 6], [8, 10], [15, 18]]\n",
      "Expected: [[1, 6], [8, 10], [15, 18]]\n",
      "\n",
      "Input:    [[1, 4], [4, 5]]\n",
      "Output:   [[1, 5]]\n",
      "Expected: [[1, 5]]\n",
      "\n",
      "Input:    [[1, 4], [2, 3]]\n",
      "Output:   [[1, 4]]\n",
      "Expected: [[1, 4]]\n",
      "\n",
      "Input:    [[1, 4], [0, 4]]\n",
      "Output:   [[0, 4]]\n",
      "Expected: [[0, 4]]\n",
      "\n"
     ]
    }
   ],
   "source": [
    "testcases = [[[1,3],[2,6],[8,10],[15,18]],[[1,4],[4,5]],[[1,4],[2,3]],[[1,4],[0,4]]]\n",
    "expected = [[[1,6],[8,10],[15,18]],[[1,5]],[[1,4]],[[0,4]]]\n",
    "\n",
    "outputs = []\n",
    "sol = Solution();\n",
    "\n",
    "for case in zip(testcases, expected):\n",
    "    print(\"Input:    \" + str(case[0]))\n",
    "    print(\"Output:   \" + str(sol.merge(case[0])))\n",
    "    print(\"Expected: \" + str(case[1]) + \"\\n\")"
   ]
  }
 ],
 "metadata": {
  "kernelspec": {
   "display_name": "Python 3",
   "language": "python",
   "name": "python3"
  },
  "language_info": {
   "codemirror_mode": {
    "name": "ipython",
    "version": 3
   },
   "file_extension": ".py",
   "mimetype": "text/x-python",
   "name": "python",
   "nbconvert_exporter": "python",
   "pygments_lexer": "ipython3",
   "version": "3.7.3"
  }
 },
 "nbformat": 4,
 "nbformat_minor": 2
}
