{
 "cells": [
  {
   "cell_type": "markdown",
   "metadata": {},
   "source": [
    "# 74. Search a 2D Matrix\n",
    "#### https://leetcode.com/problems/search-a-2d-matrix/"
   ]
  },
  {
   "cell_type": "markdown",
   "metadata": {},
   "source": [
    "# Approach 1: Binary Search"
   ]
  },
  {
   "cell_type": "code",
   "execution_count": 2,
   "metadata": {},
   "outputs": [],
   "source": [
    "class Solution(object):\n",
    "    def searchMatrix(self, matrix, target):\n",
    "        \"\"\"\n",
    "        :type matrix: List[List[int]]\n",
    "        :type target: int\n",
    "        :rtype: bool\n",
    "        \"\"\"\n",
    "        if not matrix or not matrix[0]:\n",
    "            return False\n",
    "        \n",
    "        row, col = len(matrix), len(matrix[0])\n",
    "        left, right = 0, row * col - 1\n",
    "        \n",
    "        while left <= right:\n",
    "            mid = left + (right - left) // 2\n",
    "            cur = matrix[mid // col][mid % col]\n",
    "            if cur == target:\n",
    "                return True\n",
    "            if cur < target:\n",
    "                left = mid + 1\n",
    "            else:\n",
    "                right = mid - 1\n",
    "                \n",
    "        return False"
   ]
  },
  {
   "cell_type": "markdown",
   "metadata": {},
   "source": [
    "# Verification"
   ]
  },
  {
   "cell_type": "code",
   "execution_count": 3,
   "metadata": {},
   "outputs": [
    {
     "name": "stdout",
     "output_type": "stream",
     "text": [
      "Input:    ([[1, 3, 5, 7], [10, 11, 16, 20], [23, 30, 34, 50]], 3)\n",
      "Output:   True\n",
      "Expected: True\n",
      "\n",
      "Input:    ([[1, 3, 5, 7], [10, 11, 16, 20], [23, 30, 34, 50]], 13)\n",
      "Output:   False\n",
      "Expected: False\n",
      "\n"
     ]
    }
   ],
   "source": [
    "testcases = [([\n",
    "  [1,   3,  5,  7],\n",
    "  [10, 11, 16, 20],\n",
    "  [23, 30, 34, 50]\n",
    "],3),([\n",
    "  [1,   3,  5,  7],\n",
    "  [10, 11, 16, 20],\n",
    "  [23, 30, 34, 50]\n",
    "],13)]\n",
    "expected = [True, False]\n",
    "\n",
    "outputs = []\n",
    "sol = Solution();\n",
    "\n",
    "for case in zip(testcases, expected):\n",
    "    print(\"Input:    \" + str(case[0]))\n",
    "    print(\"Output:   \" + str(sol.searchMatrix(case[0][0], case[0][1])))\n",
    "    print(\"Expected: \" + str(case[1]) + \"\\n\")"
   ]
  }
 ],
 "metadata": {
  "kernelspec": {
   "display_name": "Python 3",
   "language": "python",
   "name": "python3"
  },
  "language_info": {
   "codemirror_mode": {
    "name": "ipython",
    "version": 3
   },
   "file_extension": ".py",
   "mimetype": "text/x-python",
   "name": "python",
   "nbconvert_exporter": "python",
   "pygments_lexer": "ipython3",
   "version": "3.7.3"
  }
 },
 "nbformat": 4,
 "nbformat_minor": 2
}
