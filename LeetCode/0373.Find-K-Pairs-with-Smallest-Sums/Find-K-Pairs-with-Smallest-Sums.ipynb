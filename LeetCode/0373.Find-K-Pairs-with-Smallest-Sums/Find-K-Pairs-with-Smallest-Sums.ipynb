{
 "cells": [
  {
   "cell_type": "markdown",
   "metadata": {},
   "source": [
    "# 373. Find K Pairs with Smallest Sums\n",
    "#### https://leetcode.com/problems/find-k-pairs-with-smallest-sums/"
   ]
  },
  {
   "cell_type": "markdown",
   "metadata": {},
   "source": [
    "# Approach 1:"
   ]
  },
  {
   "cell_type": "code",
   "execution_count": 1,
   "metadata": {},
   "outputs": [],
   "source": [
    "class Solution(object):\n",
    "    def kSmallestPairs(self, nums1, nums2, k):\n",
    "        \"\"\"\n",
    "        :type nums1: List[int]\n",
    "        :type nums2: List[int]\n",
    "        :type k: int\n",
    "        :rtype: List[List[int]]\n",
    "        \"\"\"\n",
    "        if not nums1 or not nums2 or k == 0: return []\n",
    "        l1, l2 = len(nums1), len(nums2)\n",
    "        idx = [0] * l1\n",
    "        sz = min(l1 * l2, k)\n",
    "        res = []\n",
    "        for t in range(sz):\n",
    "            cur = 0\n",
    "            s = float('inf')\n",
    "            for i in range(l1):\n",
    "                #print(t, i, idx, )\n",
    "                if idx[i] < l2 and nums1[i] + nums2[idx[i]] < s:\n",
    "                    cur = i\n",
    "                    s = nums1[cur] + nums2[idx[cur]]\n",
    "            \n",
    "            res.append([nums1[cur], nums2[idx[cur]]])    \n",
    "            idx[cur] += 1\n",
    "        return res"
   ]
  },
  {
   "cell_type": "markdown",
   "metadata": {},
   "source": [
    "# Verification"
   ]
  },
  {
   "cell_type": "code",
   "execution_count": 2,
   "metadata": {},
   "outputs": [
    {
     "name": "stdout",
     "output_type": "stream",
     "text": [
      "Input:    ([1, 7, 11], [2, 4, 6], 3)\n",
      "Output:   [[1, 2], [1, 4], [1, 6]]\n",
      "Expected: [[1, 2], [1, 4], [1, 6]]\n",
      "\n",
      "Input:    ([1, 1, 2], [1, 2, 3], 2)\n",
      "Output:   [[1, 1], [1, 1]]\n",
      "Expected: [[1, 1], [1, 1]]\n",
      "\n",
      "Input:    ([1, 2], [3], 3)\n",
      "Output:   [[1, 3], [2, 3]]\n",
      "Expected: [[1, 3], [2, 3]]\n",
      "\n"
     ]
    }
   ],
   "source": [
    "testcases = [([1,7,11],[2,4,6],3),([1,1,2],[1,2,3],2),([1,2],[3],3)]\n",
    "expected = [[[1,2],[1,4],[1,6]],[[1,1],[1,1]],[[1,3],[2,3]]]\n",
    "\n",
    "outputs = []\n",
    "sol = Solution();\n",
    "\n",
    "for case in zip(testcases, expected):\n",
    "    print(\"Input:    \" + str(case[0]))\n",
    "    print(\"Output:   \" + str(sol.kSmallestPairs(case[0][0],case[0][1],case[0][2])))\n",
    "    print(\"Expected: \" + str(case[1]) + \"\\n\")"
   ]
  }
 ],
 "metadata": {
  "kernelspec": {
   "display_name": "Python 3",
   "language": "python",
   "name": "python3"
  },
  "language_info": {
   "codemirror_mode": {
    "name": "ipython",
    "version": 3
   },
   "file_extension": ".py",
   "mimetype": "text/x-python",
   "name": "python",
   "nbconvert_exporter": "python",
   "pygments_lexer": "ipython3",
   "version": "3.7.3"
  }
 },
 "nbformat": 4,
 "nbformat_minor": 2
}
