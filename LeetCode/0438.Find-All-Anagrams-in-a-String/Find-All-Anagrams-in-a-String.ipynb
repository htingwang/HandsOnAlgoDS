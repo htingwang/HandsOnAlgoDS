{
 "cells": [
  {
   "cell_type": "markdown",
   "metadata": {},
   "source": [
    "# 438. Find All Anagrams in a String\n",
    "#### https://leetcode.com/problems/find-all-anagrams-in-a-string/"
   ]
  },
  {
   "cell_type": "markdown",
   "metadata": {},
   "source": [
    "# Approach 1: Hash Table"
   ]
  },
  {
   "cell_type": "code",
   "execution_count": 1,
   "metadata": {},
   "outputs": [],
   "source": [
    "import collections\n",
    "class Solution(object):\n",
    "    def findAnagrams(self, s, p):\n",
    "        \"\"\"\n",
    "        :type s: str\n",
    "        :type p: str\n",
    "        :rtype: List[int]\n",
    "        \"\"\"\n",
    "        if not s: return []\n",
    "        res = []\n",
    "        n = len(p)\n",
    "        pivot = len(set(p))\n",
    "        count = collections.Counter(p)\n",
    "        cur = 0\n",
    "        for i in range(len(s)):\n",
    "            if s[i] in count:\n",
    "                count[s[i]] -= 1\n",
    "                if count[s[i]] == 0:\n",
    "                    cur += 1\n",
    "            if cur == pivot:\n",
    "                res.append(i - n + 1)\n",
    "            if i >= n - 1:\n",
    "                if s[i - n + 1] in count:\n",
    "                    count[s[i - n + 1]] += 1\n",
    "                    if count[s[i - n + 1]] == 1:\n",
    "                        cur -= 1\n",
    "        return res"
   ]
  },
  {
   "cell_type": "markdown",
   "metadata": {},
   "source": [
    "# Verification"
   ]
  },
  {
   "cell_type": "code",
   "execution_count": 3,
   "metadata": {},
   "outputs": [
    {
     "name": "stdout",
     "output_type": "stream",
     "text": [
      "Input:    ('cbaebabacd', 'abc')\n",
      "Output:   [0, 6]\n",
      "Expected: [0, 6]\n",
      "\n",
      "Input:    ('abab', 'ab')\n",
      "Output:   [0, 1, 2]\n",
      "Expected: [0, 1, 2]\n",
      "\n"
     ]
    }
   ],
   "source": [
    "testcases = [(\"cbaebabacd\",\"abc\"),(\"abab\",\"ab\")]\n",
    "expected = [[0,6],[0,1,2]]\n",
    "\n",
    "outputs = []\n",
    "sol = Solution();\n",
    "\n",
    "for case in zip(testcases, expected):\n",
    "    print(\"Input:    \" + str(case[0]))\n",
    "    print(\"Output:   \" + str(sol.findAnagrams(case[0][0],case[0][1])))\n",
    "    print(\"Expected: \" + str(case[1]) + \"\\n\")"
   ]
  }
 ],
 "metadata": {
  "kernelspec": {
   "display_name": "Python 3",
   "language": "python",
   "name": "python3"
  },
  "language_info": {
   "codemirror_mode": {
    "name": "ipython",
    "version": 3
   },
   "file_extension": ".py",
   "mimetype": "text/x-python",
   "name": "python",
   "nbconvert_exporter": "python",
   "pygments_lexer": "ipython3",
   "version": "3.7.3"
  }
 },
 "nbformat": 4,
 "nbformat_minor": 2
}
