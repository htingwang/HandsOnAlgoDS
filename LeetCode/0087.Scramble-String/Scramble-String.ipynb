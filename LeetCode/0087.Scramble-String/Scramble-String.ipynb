{
 "cells": [
  {
   "cell_type": "markdown",
   "metadata": {},
   "source": [
    "# 87. Scramble String\n",
    "#### https://leetcode.com/problems/scramble-string/"
   ]
  },
  {
   "cell_type": "markdown",
   "metadata": {},
   "source": [
    "# Approach 1: Dynamic Programming"
   ]
  },
  {
   "cell_type": "code",
   "execution_count": 41,
   "metadata": {},
   "outputs": [],
   "source": [
    "class Solution(object):\n",
    "    def isScramble(self, s1, s2):\n",
    "        \"\"\"\n",
    "        :type s1: str\n",
    "        :type s2: str\n",
    "        :rtype: bool\n",
    "        \"\"\"\n",
    "        if len(s1) != len(s2): return False\n",
    "        if s1 == s2: return True\n",
    "        if sorted(s1) != sorted(s2): return False\n",
    "        \n",
    "        n = len(s1)\n",
    "        dp = [[[False] * (n + 1) for _ in range(n)] for __ in range(n)]\n",
    "        \n",
    "        for l in range(1, n + 1):\n",
    "            for i in range(n - l + 1):\n",
    "                for j in range(n - l + 1):\n",
    "                    if l == 1:\n",
    "                        dp[i][j][l] = s1[i] == s2[j]\n",
    "                        continue\n",
    "                    for k in range(1, l):\n",
    "                        if dp[i][j][k] and dp[i + k][j + k][l - k]:\n",
    "                            dp[i][j][l] = True\n",
    "                            break\n",
    "                        if dp[i][j + l - k][k] and dp[i + k][j][l - k]:\n",
    "                            dp[i][j][l] = True\n",
    "                            break\n",
    "        return dp[0][0][n]"
   ]
  },
  {
   "cell_type": "markdown",
   "metadata": {},
   "source": [
    "# Approach 2: DFS"
   ]
  },
  {
   "cell_type": "code",
   "execution_count": 36,
   "metadata": {},
   "outputs": [],
   "source": [
    "class Solution(object):\n",
    "    def isScramble(self, s1, s2):\n",
    "        \"\"\"\n",
    "        :type s1: str\n",
    "        :type s2: str\n",
    "        :rtype: bool\n",
    "        \"\"\"\n",
    "        if len(s1) != len(s2): return False\n",
    "        if s1 == s2: return True\n",
    "        if sorted(s1) != sorted(s2): return False\n",
    "        \n",
    "        for i in range(1, len(s1)):\n",
    "            s11 = s1[: i]\n",
    "            s12 = s1[i :]\n",
    "            s21 = s2[: i]\n",
    "            s22 = s2[i :]\n",
    "            if self.isScramble(s11, s21) and self.isScramble(s12, s22): return True\n",
    "            s21 = s2[len(s1) - i :]\n",
    "            s22 = s2[: len(s1) - i]\n",
    "            if self.isScramble(s11, s21) and self.isScramble(s12, s22): return True\n",
    "            \n",
    "        return False"
   ]
  },
  {
   "cell_type": "markdown",
   "metadata": {},
   "source": [
    "# Verification"
   ]
  },
  {
   "cell_type": "code",
   "execution_count": 42,
   "metadata": {},
   "outputs": [
    {
     "name": "stdout",
     "output_type": "stream",
     "text": [
      "Input:    ('great', 'rgeat')\n",
      "Output:   True\n",
      "Expected: True\n",
      "\n",
      "Input:    ('abcde', 'caebd')\n",
      "Output:   False\n",
      "Expected: False\n",
      "\n",
      "Input:    ('vsgqrxvxyojzuznigvosftggtjjcefwnnxsrrdnjntyadhkflthltidpwpnwxmgmgfnwftvdyonozuvdtbuuxzcwnmvkpqqggrxn', 'svqgxrxvoyzjzuinvgsotfggjtcjfenwxnrsdrjntnayhdfktllhitpdpwwnmxmgfgwntfdvoyonuzdvbtuuzxwcmnkvqpgqrgnx')\n",
      "Output:   True\n",
      "Expected: True\n",
      "\n"
     ]
    }
   ],
   "source": [
    "testcases = [(\"great\",\"rgeat\"),(\"abcde\",\"caebd\"),(\"vsgqrxvxyojzuznigvosftggtjjcefwnnxsrrdnjntyadhkflthltidpwpnwxmgmgfnwftvdyonozuvdtbuuxzcwnmvkpqqggrxn\",\"svqgxrxvoyzjzuinvgsotfggjtcjfenwxnrsdrjntnayhdfktllhitpdpwwnmxmgfgwntfdvoyonuzdvbtuuzxwcmnkvqpgqrgnx\"\n",
    ")]\n",
    "expected = [True,False,True]\n",
    "\n",
    "outputs = []\n",
    "sol = Solution();\n",
    "\n",
    "for case in zip(testcases, expected):\n",
    "    print(\"Input:    \" + str(case[0]))\n",
    "    print(\"Output:   \" + str(sol.isScramble(case[0][0],case[0][1])))\n",
    "    print(\"Expected: \" + str(case[1]) + \"\\n\")"
   ]
  }
 ],
 "metadata": {
  "kernelspec": {
   "display_name": "Python 3",
   "language": "python",
   "name": "python3"
  },
  "language_info": {
   "codemirror_mode": {
    "name": "ipython",
    "version": 3
   },
   "file_extension": ".py",
   "mimetype": "text/x-python",
   "name": "python",
   "nbconvert_exporter": "python",
   "pygments_lexer": "ipython3",
   "version": "3.7.3"
  }
 },
 "nbformat": 4,
 "nbformat_minor": 2
}
