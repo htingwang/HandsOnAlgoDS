{
 "cells": [
  {
   "cell_type": "markdown",
   "metadata": {},
   "source": [
    "# 973. K Closest Points to Origin\n",
    "#### https://leetcode.com/problems/k-closest-points-to-origin/"
   ]
  },
  {
   "cell_type": "markdown",
   "metadata": {},
   "source": [
    "# Approach 1: Quick Select"
   ]
  },
  {
   "cell_type": "code",
   "execution_count": 22,
   "metadata": {},
   "outputs": [],
   "source": [
    "class Solution(object):\n",
    "    def kClosest(self, points, K):\n",
    "        \"\"\"\n",
    "        :type points: List[List[int]]\n",
    "        :type K: int\n",
    "        :rtype: List[List[int]]\n",
    "        \"\"\"\n",
    "        self.quickSelect(points, 0, len(points) - 1, K)\n",
    "        res = []\n",
    "        for i in range(K):\n",
    "            res.append(points[i])\n",
    "        return res\n",
    "    \n",
    "    def quickSelect(self, points, start, end, K):\n",
    "        if start >= end: return\n",
    "        left, right = start, end\n",
    "        mid = (left + right) // 2\n",
    "        pivot = points[mid][0] ** 2 + points[mid][1] ** 2\n",
    "        while left <= right:\n",
    "            while left <= right and points[left][0] ** 2 + points[left][1] ** 2 < pivot:\n",
    "                left += 1\n",
    "            while left <= right and points[right][0] ** 2 + points[right][1] ** 2 > pivot:\n",
    "                right -= 1\n",
    "            if left <= right:\n",
    "                points[left], points[right] = points[right], points[left]\n",
    "                left += 1\n",
    "                right -= 1\n",
    "        if start + K - 1 <= right:\n",
    "            return self.quickSelect(points, start, right, K)\n",
    "        if start + K - 1 >= left:\n",
    "            return self.quickSelect(points, left, end, K - (left - start))\n",
    "        return"
   ]
  },
  {
   "cell_type": "markdown",
   "metadata": {},
   "source": [
    "# Verification "
   ]
  },
  {
   "cell_type": "code",
   "execution_count": 23,
   "metadata": {},
   "outputs": [
    {
     "name": "stdout",
     "output_type": "stream",
     "text": [
      "Input:    ([[1, 3], [-2, 2]], 1)\n",
      "Output:   [[-2, 2]]\n",
      "Expected: [[-2, 2]]\n",
      "\n",
      "Input:    ([[3, 3], [5, -1], [-2, 4]], 2)\n",
      "Output:   [[3, 3], [-2, 4]]\n",
      "Expected: [[3, 3], [-2, 4]]\n",
      "\n",
      "Input:    ([[-2, 10], [-4, -8], [10, 7], [-4, -7]], 3)\n",
      "Output:   [[-4, -7], [-4, -8], [-2, 10]]\n",
      "Expected: [[-4, -7], [-4, -8], [-2, 10]]\n",
      "\n"
     ]
    }
   ],
   "source": [
    "testcases = [([[1,3],[-2,2]], 1), ([[3,3],[5,-1],[-2,4]],2),([[-2,10],[-4,-8],[10,7],[-4,-7]],3)]\n",
    "expected = [[[-2,2]],[[3,3],[-2,4]],[[-4,-7],[-4,-8],[-2,10]]]\n",
    "outputs = []\n",
    "sol = Solution();\n",
    "\n",
    "for case in zip(testcases, expected):\n",
    "    print(\"Input:    \" + str(case[0]))\n",
    "    print(\"Output:   \" + str(sol.kClosest(case[0][0],case[0][1])))\n",
    "    print(\"Expected: \" + str(case[1]) + \"\\n\")"
   ]
  }
 ],
 "metadata": {
  "kernelspec": {
   "display_name": "Python 3",
   "language": "python",
   "name": "python3"
  },
  "language_info": {
   "codemirror_mode": {
    "name": "ipython",
    "version": 3
   },
   "file_extension": ".py",
   "mimetype": "text/x-python",
   "name": "python",
   "nbconvert_exporter": "python",
   "pygments_lexer": "ipython3",
   "version": "3.7.3"
  }
 },
 "nbformat": 4,
 "nbformat_minor": 2
}
