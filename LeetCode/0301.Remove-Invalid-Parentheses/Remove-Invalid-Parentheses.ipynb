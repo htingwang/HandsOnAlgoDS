{
 "cells": [
  {
   "cell_type": "markdown",
   "metadata": {},
   "source": [
    "# 301. Remove Invalid Parentheses\n",
    "#### https://leetcode.com/problems/remove-invalid-parentheses/"
   ]
  },
  {
   "cell_type": "markdown",
   "metadata": {},
   "source": [
    "# Approach 1: DFS"
   ]
  },
  {
   "cell_type": "code",
   "execution_count": 55,
   "metadata": {},
   "outputs": [],
   "source": [
    "class Solution(object):\n",
    "    def removeInvalidParentheses(self, s):\n",
    "        \"\"\"\n",
    "        :type s: str\n",
    "        :rtype: List[str]\n",
    "        \"\"\"\n",
    "        left = right = 0\n",
    "        for c in s:\n",
    "            if c == \"(\":\n",
    "                left += 1\n",
    "            if c == \")\":\n",
    "                if left > 0:\n",
    "                    left -= 1\n",
    "                else:\n",
    "                    right += 1\n",
    "        res = []\n",
    "        #print(left, right)\n",
    "        self.dfs(s, 0, left, right, res)\n",
    "        return list(set(res))\n",
    "    \n",
    "    def dfs(self, s, start, left, right, res): \n",
    "        #print(s, left, right)\n",
    "        #if s == \"(()()())\":\n",
    "        #    print(left, right, s, res)\n",
    "        if res and len(s) < len(res[-1]):\n",
    "            return\n",
    "        \n",
    "        if left == 0 and right == 0 and self.is_valid_parentheses(s):\n",
    "            if not res or len(s) == len(res[-1]):\n",
    "                res.append(s)\n",
    "            return\n",
    "        \n",
    "        for i in range(start, len(s)):\n",
    "            if i > 0 and s[i] == s[i - 1]:\n",
    "                continue\n",
    "            if s[i] == \"(\":\n",
    "                self.dfs(s[: i ] + s[i + 1: ], i, left - 1, right, res)\n",
    "            if s[i] == \")\":\n",
    "                self.dfs(s[: i ] + s[i + 1: ], i, left, right - 1, res)\n",
    "                \n",
    "    def is_valid_parentheses(self, s):\n",
    "        left = right = 0\n",
    "        for c in s:\n",
    "            if c == \"(\":\n",
    "                left += 1\n",
    "            if c == \")\":\n",
    "                if left > 0:\n",
    "                    left -= 1\n",
    "                else:\n",
    "                    right += 1\n",
    "                if right > left:\n",
    "                    return False\n",
    "        return left == right == 0"
   ]
  },
  {
   "cell_type": "markdown",
   "metadata": {},
   "source": [
    "# Approach 2: BFS"
   ]
  },
  {
   "cell_type": "code",
   "execution_count": 57,
   "metadata": {},
   "outputs": [],
   "source": [
    "import collections\n",
    "class Solution(object):\n",
    "    def removeInvalidParentheses(self, s):\n",
    "        \"\"\"\n",
    "        :type s: str\n",
    "        :rtype: List[str]\n",
    "        \"\"\"\n",
    "    \n",
    "        res = []\n",
    "        seen = set()\n",
    "        \n",
    "        queue = collections.deque([s])\n",
    "        seen.add(s)\n",
    "        while queue:\n",
    "            cur = queue.popleft()\n",
    "            if (not res or len(cur) == len(res[-1])) and self.is_valid(cur):\n",
    "                #print(cur)\n",
    "                res.append(cur)\n",
    "                \n",
    "            for i in range(len(cur)):\n",
    "                if cur[i] == \"(\" or cur[i] == \")\":\n",
    "                    next_s = cur[:i] + cur[i + 1:]\n",
    "                    if next_s not in seen and (not res or len(next_s) >= len(res[-1])):\n",
    "                        queue.append(next_s)\n",
    "                        seen.add(next_s)\n",
    "        return res\n",
    "    \n",
    "    def is_valid(self, s):\n",
    "        left = right = 0\n",
    "        for c in s:\n",
    "            if c == \"(\":\n",
    "                left += 1\n",
    "            if c == \")\":\n",
    "                if left:\n",
    "                    left -= 1\n",
    "                else:\n",
    "                    right += 1\n",
    "        #print(s, left, right)\n",
    "        return left == right == 0   "
   ]
  },
  {
   "cell_type": "markdown",
   "metadata": {},
   "source": [
    "# Verification"
   ]
  },
  {
   "cell_type": "code",
   "execution_count": 58,
   "metadata": {},
   "outputs": [
    {
     "name": "stdout",
     "output_type": "stream",
     "text": [
      "Input:    ()())()\n",
      "Output:   ['(())()', '()()()']\n",
      "Expected: ['()()()', '(())()']\n",
      "\n",
      "Time: 0.30112266540527344\n",
      "\n",
      "Input:    (a)())()\n",
      "Output:   ['(a())()', '(a)()()']\n",
      "Expected: ['(a)()()', '(a())()']\n",
      "\n",
      "Time: 0.17189979553222656\n",
      "\n",
      "Input:    )(\n",
      "Output:   ['']\n",
      "Expected: ['']\n",
      "\n",
      "Time: 0.08487701416015625\n",
      "\n",
      "Input:    (()()()(()\n",
      "Output:   ['()()()()', '(())()()', '(()())()', '(()()())']\n",
      "Expected: ['()()()()', '(())()()', '(()())()', '(()()())']\n",
      "\n",
      "Time: 0.5550384521484375\n",
      "\n",
      "Input:    (()))e())()\n",
      "Output:   ['(()e())()', '(())e()()']\n",
      "Expected: ['(()e())()', '(())e()()']\n",
      "\n",
      "Time: 0.4420280456542969\n",
      "\n"
     ]
    }
   ],
   "source": [
    "import time\n",
    "testcases = [ \"()())()\",\"(a)())()\",\")(\",\"(()()()(()\",\"(()))e())()\"]\n",
    "expected = [[\"()()()\", \"(())()\"],[\"(a)()()\", \"(a())()\"],[\"\"],[\"()()()()\",\"(())()()\",\"(()())()\",\"(()()())\"],['(()e())()', '(())e()()']]\n",
    "\n",
    "outputs = []\n",
    "sol = Solution();\n",
    "\n",
    "for case in zip(testcases, expected):\n",
    "    print(\"Input:    \" + str(case[0]))\n",
    "    pre = time.time()\n",
    "    print(\"Output:   \" + str(sol.removeInvalidParentheses(case[0])))\n",
    "    print(\"Expected: \" + str(case[1]) + \"\\n\")\n",
    "    print(\"Time: \" + str((time.time() - pre) * 1000) + \"\\n\")"
   ]
  }
 ],
 "metadata": {
  "kernelspec": {
   "display_name": "Python 3",
   "language": "python",
   "name": "python3"
  },
  "language_info": {
   "codemirror_mode": {
    "name": "ipython",
    "version": 3
   },
   "file_extension": ".py",
   "mimetype": "text/x-python",
   "name": "python",
   "nbconvert_exporter": "python",
   "pygments_lexer": "ipython3",
   "version": "3.7.3"
  }
 },
 "nbformat": 4,
 "nbformat_minor": 2
}
