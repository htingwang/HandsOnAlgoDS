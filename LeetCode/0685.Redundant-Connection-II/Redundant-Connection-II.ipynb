{
 "cells": [
  {
   "cell_type": "markdown",
   "metadata": {},
   "source": [
    "# 685. Redundant Connection II\n",
    "#### https://leetcode.com/problems/redundant-connection-ii/"
   ]
  },
  {
   "cell_type": "markdown",
   "metadata": {},
   "source": [
    "# Approach 1: Union Find"
   ]
  },
  {
   "cell_type": "code",
   "execution_count": 7,
   "metadata": {},
   "outputs": [],
   "source": [
    "class Solution(object):\n",
    "    def findRedundantDirectedConnection(self, edges):\n",
    "        \"\"\"\n",
    "        :type edges: List[List[int]]\n",
    "        :rtype: List[int]\n",
    "        \"\"\"\n",
    "        n = len(edges)\n",
    "        first = second = [-1, -1]\n",
    "        father = [-1] * (n + 1)\n",
    "        \n",
    "        for i, [u, v] in enumerate(edges):\n",
    "            if father[v] == -1:\n",
    "                father[v] = u\n",
    "            else:\n",
    "                first = [father[v], v]\n",
    "                second = [u, v]\n",
    "                edges[i][1] = 0\n",
    "        #print(first, second)\n",
    "        father = [-1] * (n + 1)\n",
    "        for u, v in edges:\n",
    "            if v == 0: continue\n",
    "            x = self.find(father, u)\n",
    "            y = self.find(father, v)\n",
    "            #print(u, v, x, y)\n",
    "            if x == y: \n",
    "                if first[0] == -1: return [u, v]\n",
    "                return first\n",
    "            father[v] = u \n",
    "        return second\n",
    "            \n",
    "    def find(self, father, node):\n",
    "        while father[node] != -1:\n",
    "            node = father[node]\n",
    "        return node"
   ]
  },
  {
   "cell_type": "markdown",
   "metadata": {},
   "source": [
    "# Verification"
   ]
  },
  {
   "cell_type": "code",
   "execution_count": 8,
   "metadata": {},
   "outputs": [
    {
     "name": "stdout",
     "output_type": "stream",
     "text": [
      "Input:    [[1, 2], [1, 3], [2, 3]]\n",
      "[1, 3] [2, 3]\n",
      "1 2 1 2\n",
      "1 3 1 3\n",
      "Output:   [2, 3]\n",
      "Expected: [2, 3]\n",
      "\n",
      "Input:    [[1, 2], [2, 3], [3, 4], [4, 1], [1, 5]]\n",
      "[-1, -1] [-1, -1]\n",
      "1 2 1 2\n",
      "2 3 1 3\n",
      "3 4 1 4\n",
      "4 1 1 1\n",
      "Output:   [4, 1]\n",
      "Expected: [4, 1]\n",
      "\n",
      "Input:    [[1, 2], [2, 3], [4, 1], [3, 1]]\n",
      "[4, 1] [3, 1]\n",
      "1 2 1 2\n",
      "2 3 1 3\n",
      "4 1 4 1\n",
      "Output:   [3, 1]\n",
      "Expected: [3, 1]\n",
      "\n",
      "Input:    [[1, 2], [2, 3], [3, 1], [4, 1]]\n",
      "[3, 1] [4, 1]\n",
      "1 2 1 2\n",
      "2 3 1 3\n",
      "3 1 1 1\n",
      "Output:   [3, 1]\n",
      "Expected: [3, 1]\n",
      "\n",
      "Input:    [[2, 1], [3, 1], [4, 2], [1, 4]]\n",
      "[2, 1] [3, 1]\n",
      "2 1 2 1\n",
      "4 2 4 2\n",
      "1 4 4 4\n",
      "Output:   [2, 1]\n",
      "Expected: [2, 1]\n",
      "\n"
     ]
    }
   ],
   "source": [
    "import pandas as pd\n",
    "testcases = [[[1,2], [1,3], [2,3]], [[1,2], [2,3], [3,4], [4,1], [1,5]], [[1,2], [2,3], [4,1], [3,1]], [[1,2], [2,3], [3,1], [4,1]], [[2,1], [3,1], [4,2], [1,4]]]\n",
    "expected = [[2,3], [4,1], [3,1], [3,1], [2,1]]\n",
    "\n",
    "#testcases = testcases[:1]\n",
    "#expected = expected[:1]\n",
    "\n",
    "outputs = []\n",
    "sol = Solution();\n",
    "\n",
    "for case in zip(testcases, expected):\n",
    "    print(\"Input:    \" + str(case[0]))\n",
    "    print(\"Output:   \" + str(sol.findRedundantDirectedConnection(case[0])))\n",
    "    print(\"Expected: \" + str(case[1]) + \"\\n\")"
   ]
  }
 ],
 "metadata": {
  "kernelspec": {
   "display_name": "Python 3",
   "language": "python",
   "name": "python3"
  },
  "language_info": {
   "codemirror_mode": {
    "name": "ipython",
    "version": 3
   },
   "file_extension": ".py",
   "mimetype": "text/x-python",
   "name": "python",
   "nbconvert_exporter": "python",
   "pygments_lexer": "ipython3",
   "version": "3.7.3"
  }
 },
 "nbformat": 4,
 "nbformat_minor": 2
}
