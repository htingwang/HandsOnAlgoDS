{
 "cells": [
  {
   "cell_type": "markdown",
   "metadata": {},
   "source": [
    "# 67. Add Binary\n",
    "#### https://leetcode.com/problems/add-binary/"
   ]
  },
  {
   "cell_type": "markdown",
   "metadata": {},
   "source": [
    "# Approach 1"
   ]
  },
  {
   "cell_type": "code",
   "execution_count": 5,
   "metadata": {},
   "outputs": [],
   "source": [
    "class Solution(object):\n",
    "    def addBinary(self, a, b):\n",
    "        \"\"\"\n",
    "        :type a: str\n",
    "        :type b: str\n",
    "        :rtype: str\n",
    "        \"\"\"\n",
    "        carry = 0\n",
    "        i, j = len(a) - 1, len(b) - 1\n",
    "        res = []\n",
    "        \n",
    "        while i >= 0 or j >= 0:\n",
    "            s1 = int(a[i]) if i >= 0 else 0\n",
    "            s2 = int(b[j]) if j >= 0 else 0\n",
    "\n",
    "            s = s1 + s2 + carry\n",
    "            carry = s >> 1\n",
    "            res.append(str(s % 2))\n",
    "            \n",
    "            i -= 1\n",
    "            j -= 1\n",
    "        if carry:\n",
    "            res.append(\"1\")\n",
    "            \n",
    "        return \"\".join(res[::-1])"
   ]
  },
  {
   "cell_type": "markdown",
   "metadata": {},
   "source": [
    "# Verification"
   ]
  },
  {
   "cell_type": "code",
   "execution_count": 6,
   "metadata": {},
   "outputs": [
    {
     "name": "stdout",
     "output_type": "stream",
     "text": [
      "Input:    ('11', '1')\n",
      "1 1\n",
      "1 0\n",
      "Output:   100\n",
      "Expected: 100\n",
      "\n",
      "Input:    ('1010', '1011')\n",
      "0 1\n",
      "1 1\n",
      "0 0\n",
      "1 1\n",
      "Output:   10101\n",
      "Expected: 10101\n",
      "\n"
     ]
    }
   ],
   "source": [
    "testcases = [(\"11\",\"1\"),(\"1010\",\"1011\")]\n",
    "expected = [\"100\",\"10101\"]\n",
    "\n",
    "outputs = []\n",
    "sol = Solution();\n",
    "\n",
    "for case in zip(testcases, expected):\n",
    "    print(\"Input:    \" + str(case[0]))\n",
    "    print(\"Output:   \" + str(sol.addBinary(case[0][0], case[0][1])))\n",
    "    print(\"Expected: \" + str(case[1]) + \"\\n\")"
   ]
  }
 ],
 "metadata": {
  "kernelspec": {
   "display_name": "Python 3",
   "language": "python",
   "name": "python3"
  },
  "language_info": {
   "codemirror_mode": {
    "name": "ipython",
    "version": 3
   },
   "file_extension": ".py",
   "mimetype": "text/x-python",
   "name": "python",
   "nbconvert_exporter": "python",
   "pygments_lexer": "ipython3",
   "version": "3.7.3"
  }
 },
 "nbformat": 4,
 "nbformat_minor": 2
}
