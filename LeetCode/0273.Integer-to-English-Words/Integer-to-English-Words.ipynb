{
 "cells": [
  {
   "cell_type": "markdown",
   "metadata": {},
   "source": [
    "# 273. Integer to English Words\n",
    "#### https://leetcode.com/problems/integer-to-english-words/"
   ]
  },
  {
   "cell_type": "markdown",
   "metadata": {},
   "source": [
    "# Approach 1"
   ]
  },
  {
   "cell_type": "code",
   "execution_count": 39,
   "metadata": {},
   "outputs": [],
   "source": [
    "class Solution(object):\n",
    "    def numberToWords(self, num):\n",
    "        \"\"\"\n",
    "        :type num: int\n",
    "        :rtype: str\n",
    "        \"\"\"\n",
    "        if num == 0: return \"Zero\"\n",
    "        ones = [\"One\", \"Two\", \"Three\", \"Four\", \"Five\", \"Six\", \"Seven\", \"Eight\", \"Nine\"]\n",
    "        tens = [\"Ten\", \"Twenty\", \"Thirty\", \"Forty\", \"Fifty\", \"Sixty\", \"Seventy\", \"Eighty\", \"Ninety\"]\n",
    "        one_tens = [\"Ten\", \"Eleven\", \"Twelve\", \"Thirteen\", \"Fourteen\", \"Fifteen\", \"Sixteen\", \"Seventeen\", \"Eighteen\", \"Nineteen\"]\n",
    "        tris = [\"Hundred\", \"Thousand\", \"Million\", \"Billion\"]\n",
    "        res = []\n",
    "        nums = [int(x) for x in str(num)]\n",
    "        n = len(nums)\n",
    "        for i in range(n):\n",
    "            j = n - 1 - i\n",
    "            # 非十位數填one~ten\n",
    "            if j % 3 != 1 and 1 <= nums[i] <= 9:\n",
    "                # 如果在個位數，但十位數是10~19\"不\"填 \n",
    "                if i == 0 or j % 3 != 0 or nums[i - 1] != 1:\n",
    "                    res.append(ones[nums[i] - 1])\n",
    "            # 個位數時填入thousand~billion, 但如果前面已經是thousand~billion就不填\n",
    "            if j % 3 == 0 and j // 3 and res[-1] not in set(tris[1:]): \n",
    "                res.append(tris[j // 3])\n",
    "            # 十位數的處理\n",
    "            if j % 3 == 1:\n",
    "                # twenty~ninety\n",
    "                if 2 <= nums[i] <= 9:\n",
    "                    res.append(tens[nums[i] - 1])\n",
    "                # 十位數是1時填ten, eleven~nineteen\n",
    "                if nums[i] == 1:\n",
    "                    res.append(one_tens[nums[i + 1]])\n",
    "            # 百位數如果數字1~9就加上hundred\n",
    "            if j % 3 == 2:\n",
    "                if 1 <= nums[i] <= 9:\n",
    "                    res.append(tris[0])\n",
    "\n",
    "        return \" \".join(res)"
   ]
  },
  {
   "cell_type": "markdown",
   "metadata": {},
   "source": [
    "# Verification"
   ]
  },
  {
   "cell_type": "code",
   "execution_count": 40,
   "metadata": {},
   "outputs": [
    {
     "name": "stdout",
     "output_type": "stream",
     "text": [
      "Input:    123\n",
      "Output:   One Hundred Twenty Three\n",
      "Expected: One Hundred Twenty Three\n",
      "\n",
      "Input:    12345\n",
      "Output:   Twelve Thousand Three Hundred Forty Five\n",
      "Expected: Twelve Thousand Three Hundred Forty Five\n",
      "\n",
      "Input:    1234567\n",
      "Output:   One Million Two Hundred Thirty Four Thousand Five Hundred Sixty Seven\n",
      "Expected: One Million Two Hundred Thirty Four Thousand Five Hundred Sixty Seven\n",
      "\n",
      "Input:    1234567891\n",
      "Output:   One Billion Two Hundred Thirty Four Million Five Hundred Sixty Seven Thousand Eight Hundred Ninety One\n",
      "Expected: One Billion Two Hundred Thirty Four Million Five Hundred Sixty Seven Thousand Eight Hundred Ninety One\n",
      "\n",
      "Input:    1000000\n",
      "Output:   One Million\n",
      "Expected: One Million\n",
      "\n",
      "Input:    10000\n",
      "Output:   Ten Thousand\n",
      "Expected: Ten Thousand\n",
      "\n",
      "Input:    100000\n",
      "Output:   One Hundred Thousand\n",
      "Expected: One Hundred Thousand\n",
      "\n"
     ]
    }
   ],
   "source": [
    "testcases = [123,12345,1234567,1234567891,1000000,10000,100000]\n",
    "expected = [\"One Hundred Twenty Three\",\"Twelve Thousand Three Hundred Forty Five\",\"One Million Two Hundred Thirty Four Thousand Five Hundred Sixty Seven\",\"One Billion Two Hundred Thirty Four Million Five Hundred Sixty Seven Thousand Eight Hundred Ninety One\",\"One Million\",\"Ten Thousand\",\"One Hundred Thousand\"]\n",
    "\n",
    "outputs = []\n",
    "sol = Solution();\n",
    "\n",
    "for case in zip(testcases, expected):\n",
    "    print(\"Input:    \" + str(case[0]))\n",
    "    print(\"Output:   \" + str(sol.numberToWords(case[0])))\n",
    "    print(\"Expected: \" + str(case[1]) + \"\\n\")"
   ]
  }
 ],
 "metadata": {
  "kernelspec": {
   "display_name": "Python 3",
   "language": "python",
   "name": "python3"
  },
  "language_info": {
   "codemirror_mode": {
    "name": "ipython",
    "version": 3
   },
   "file_extension": ".py",
   "mimetype": "text/x-python",
   "name": "python",
   "nbconvert_exporter": "python",
   "pygments_lexer": "ipython3",
   "version": "3.7.3"
  }
 },
 "nbformat": 4,
 "nbformat_minor": 2
}
