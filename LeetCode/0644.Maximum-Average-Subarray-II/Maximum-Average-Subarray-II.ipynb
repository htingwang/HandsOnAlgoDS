{
 "cells": [
  {
   "cell_type": "markdown",
   "metadata": {},
   "source": [
    "# 644. Maximum Average Subarray II\n",
    "#### https://leetcode.com/problems/maximum-average-subarray-ii/"
   ]
  },
  {
   "cell_type": "markdown",
   "metadata": {},
   "source": [
    "# Approach 1: Binary Search"
   ]
  },
  {
   "cell_type": "code",
   "execution_count": 18,
   "metadata": {},
   "outputs": [],
   "source": [
    "class Solution(object):\n",
    "    def findMaxAverage(self, nums, k):\n",
    "        \"\"\"\n",
    "        :type nums: List[int]\n",
    "        :type k: int\n",
    "        :rtype: float\n",
    "        \"\"\"\n",
    "        left = right = nums[0]\n",
    "        for num in nums:\n",
    "            left = min(left, num)\n",
    "            right = max(right, num)\n",
    "            \n",
    "        while left + 1e-5 < right:\n",
    "            mid = (left + right) / 2.0\n",
    "            if self.check_subarray(nums, k, mid):\n",
    "                left = mid\n",
    "            else:\n",
    "                right = mid\n",
    "        return left\n",
    "    \n",
    "    def check_subarray(self, nums, k, average):\n",
    "        s = [0] * len(nums)\n",
    "        s[0] = nums[0] - average\n",
    "        for i in range(len(nums) - 1):\n",
    "            s[i + 1] = s[i] + nums[i + 1] - average\n",
    "        min_prefix = 0\n",
    "        for i in range(k - 1, len(nums)):\n",
    "            if s[i] - min_prefix >= 0: return True\n",
    "            min_prefix = min(min_prefix, s[i - k + 1])\n",
    "        return False"
   ]
  },
  {
   "cell_type": "markdown",
   "metadata": {},
   "source": [
    "# Verification"
   ]
  },
  {
   "cell_type": "code",
   "execution_count": 19,
   "metadata": {},
   "outputs": [
    {
     "name": "stdout",
     "output_type": "stream",
     "text": [
      "Input:    ([1, 12, -5, -6, 50, 3], 4)\n",
      "Output:   12.749995231628418\n",
      "Expected: 12.75\n",
      "\n",
      "Input:    ([1, 12, -5, -6, 50, 3], 5)\n",
      "Output:   10.799997329711914\n",
      "Expected: 10.8\n",
      "\n",
      "Input:    ([1, 12, -5, -6, 50, 3], 6)\n",
      "Output:   9.166662216186523\n",
      "Expected: 9.166667\n",
      "\n"
     ]
    }
   ],
   "source": [
    "testcases = [([1,12,-5,-6,50,3],4),([1,12,-5,-6,50,3],5),([1,12,-5,-6,50,3],6)]\n",
    "expected = [12.75,10.8,9.166667]\n",
    "\n",
    "#testcases = testcases[-1:]\n",
    "#expected = expected[-1:]\n",
    "\n",
    "outputs = []\n",
    "sol = Solution();\n",
    "\n",
    "for case in zip(testcases, expected):\n",
    "    print(\"Input:    \" + str(case[0]))\n",
    "    print(\"Output:   \" + str(sol.findMaxAverage(case[0][0],case[0][1])))\n",
    "    print(\"Expected: \" + str(case[1]) + \"\\n\")"
   ]
  }
 ],
 "metadata": {
  "kernelspec": {
   "display_name": "Python 3",
   "language": "python",
   "name": "python3"
  },
  "language_info": {
   "codemirror_mode": {
    "name": "ipython",
    "version": 3
   },
   "file_extension": ".py",
   "mimetype": "text/x-python",
   "name": "python",
   "nbconvert_exporter": "python",
   "pygments_lexer": "ipython3",
   "version": "3.7.3"
  }
 },
 "nbformat": 4,
 "nbformat_minor": 2
}
