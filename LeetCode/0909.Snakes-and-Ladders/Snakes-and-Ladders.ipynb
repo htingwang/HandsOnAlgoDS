{
 "cells": [
  {
   "cell_type": "markdown",
   "metadata": {},
   "source": [
    "# 909. Snakes and Ladders\n",
    "#### https://leetcode.com/problems/snakes-and-ladders/"
   ]
  },
  {
   "cell_type": "markdown",
   "metadata": {},
   "source": [
    "# Approach 1"
   ]
  },
  {
   "cell_type": "code",
   "execution_count": 25,
   "metadata": {},
   "outputs": [],
   "source": [
    "from collections import deque\n",
    "class Solution(object):\n",
    "    def snakesAndLadders(self, board):\n",
    "        \"\"\"\n",
    "        :type board: List[List[int]]\n",
    "        :rtype: int\n",
    "        \"\"\"\n",
    "        if not board or not board[0]: return 0\n",
    "        res = 0\n",
    "        m, n = len(board), len(board[0])\n",
    "        \n",
    "        dist = {1: 0}\n",
    "        queue = deque([1])\n",
    "        while queue:\n",
    "            cur = queue.popleft()\n",
    "            if cur == m * n: return dist[cur]\n",
    "            for k in range(cur + 1, min(cur + 7, m * n + 1)):\n",
    "                i, j = self.convert_num_to_pos(m, n, k)\n",
    "                #print(i, j, k)\n",
    "                if board[i][j] != -1:\n",
    "                    k = board[i][j]\n",
    "                if k not in dist:\n",
    "                    dist[k] = dist[cur] + 1\n",
    "                    queue.append(k)\n",
    "        return -1\n",
    "    \n",
    "    def convert_num_to_pos(self, m, n, num):\n",
    "        i = m - 1 - (num - 1) // n\n",
    "        j = (num - 1) % n\n",
    "        if (m - 1 - i) % 2 == 1:\n",
    "            j = n - 1 - j\n",
    "        return (i, j)    "
   ]
  },
  {
   "cell_type": "markdown",
   "metadata": {},
   "source": [
    "# Verification"
   ]
  },
  {
   "cell_type": "code",
   "execution_count": 26,
   "metadata": {},
   "outputs": [
    {
     "name": "stdout",
     "output_type": "stream",
     "text": [
      "Input:    [[-1, -1, -1, -1, -1, -1], [-1, -1, -1, -1, -1, -1], [-1, -1, -1, -1, -1, -1], [-1, 35, -1, -1, 13, -1], [-1, -1, -1, -1, -1, -1], [-1, 15, -1, -1, -1, -1]]\n",
      "Output:   4\n",
      "Expected: 4\n",
      "\n",
      "Input:    [[-1, -1], [-1, 3]]\n",
      "Output:   1\n",
      "Expected: 1\n",
      "\n"
     ]
    }
   ],
   "source": [
    "testcases = [[[-1,-1,-1,-1,-1,-1],[-1,-1,-1,-1,-1,-1],[-1,-1,-1,-1,-1,-1],[-1,35,-1,-1,13,-1],[-1,-1,-1,-1,-1,-1],[-1,15,-1,-1,-1,-1]],[[-1,-1],[-1,3]]]\n",
    "expected = [4,1]\n",
    "\n",
    "outputs = []\n",
    "sol = Solution();\n",
    "\n",
    "for case in zip(testcases, expected):\n",
    "    print(\"Input:    \" + str(case[0]))\n",
    "    print(\"Output:   \" + str(sol.snakesAndLadders(case[0])))\n",
    "    print(\"Expected: \" + str(case[1]) + \"\\n\")"
   ]
  }
 ],
 "metadata": {
  "kernelspec": {
   "display_name": "Python 3",
   "language": "python",
   "name": "python3"
  },
  "language_info": {
   "codemirror_mode": {
    "name": "ipython",
    "version": 3
   },
   "file_extension": ".py",
   "mimetype": "text/x-python",
   "name": "python",
   "nbconvert_exporter": "python",
   "pygments_lexer": "ipython3",
   "version": "3.7.3"
  }
 },
 "nbformat": 4,
 "nbformat_minor": 2
}
