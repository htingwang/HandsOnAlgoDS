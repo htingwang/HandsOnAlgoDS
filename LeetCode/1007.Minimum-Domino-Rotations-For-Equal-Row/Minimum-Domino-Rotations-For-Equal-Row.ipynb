{
 "cells": [
  {
   "cell_type": "markdown",
   "metadata": {},
   "source": [
    "# 1007. Minimum Domino Rotations For Equal Row\n",
    "#### https://leetcode.com/problems/minimum-domino-rotations-for-equal-row/"
   ]
  },
  {
   "cell_type": "markdown",
   "metadata": {},
   "source": [
    "# Approach 1: Greedy"
   ]
  },
  {
   "cell_type": "code",
   "execution_count": 1,
   "metadata": {},
   "outputs": [],
   "source": [
    "class Solution(object):\n",
    "    def minDominoRotations(self, A, B):\n",
    "        \"\"\"\n",
    "        :type A: List[int]\n",
    "        :type B: List[int]\n",
    "        :rtype: int\n",
    "        \"\"\"\n",
    "        res = [0] * 4\n",
    "        n = len(A)\n",
    "        \n",
    "        for i in range(n):\n",
    "            if A[i] != A[0]:\n",
    "                if B[i] == A[0]:\n",
    "                    res[0] += 1\n",
    "                else:\n",
    "                    res[0] = float('inf')\n",
    "                    res[1] = float('inf')\n",
    "                    break\n",
    "            elif B[i] != A[0]:\n",
    "                res[1] += 1\n",
    "                \n",
    "        for i in range(n):        \n",
    "            if A[i] != B[0]:\n",
    "                if B[i] == B[0]:\n",
    "                    res[2] += 1\n",
    "                else:\n",
    "                    res[2] = float('inf')\n",
    "                    res[3] = float('inf')\n",
    "                    break\n",
    "            elif B[i] != B[0]:\n",
    "                res[3] += 1\n",
    "        #print(res)\n",
    "\n",
    "        return min(res) if min(res) != float('inf') else -1"
   ]
  },
  {
   "cell_type": "markdown",
   "metadata": {},
   "source": [
    "# Verification"
   ]
  },
  {
   "cell_type": "code",
   "execution_count": 2,
   "metadata": {},
   "outputs": [
    {
     "name": "stdout",
     "output_type": "stream",
     "text": [
      "Input:    ([2, 1, 2, 4, 2, 2], [5, 2, 6, 2, 3, 2])\n",
      "Output:   2\n",
      "Expected: 2\n",
      "\n",
      "Input:    ([3, 5, 1, 2, 3], [3, 6, 3, 3, 4])\n",
      "Output:   -1\n",
      "Expected: -1\n",
      "\n",
      "Input:    ([1, 2, 1, 1, 1, 2, 2, 2], [2, 1, 2, 2, 2, 2, 2, 2])\n",
      "Output:   1\n",
      "Expected: 1\n",
      "\n"
     ]
    }
   ],
   "source": [
    "testcases = [([2,1,2,4,2,2],[5,2,6,2,3,2]),([3,5,1,2,3],[3,6,3,3,4]),([1,2,1,1,1,2,2,2],[2,1,2,2,2,2,2,2])]\n",
    "expected = [2,-1,1]\n",
    "\n",
    "outputs = []\n",
    "sol = Solution();\n",
    "\n",
    "for case in zip(testcases, expected):\n",
    "    print(\"Input:    \" + str(case[0]))\n",
    "    print(\"Output:   \" + str(sol.minDominoRotations(case[0][0],case[0][1])))\n",
    "    print(\"Expected: \" + str(case[1]) + \"\\n\")"
   ]
  }
 ],
 "metadata": {
  "kernelspec": {
   "display_name": "Python 3",
   "language": "python",
   "name": "python3"
  },
  "language_info": {
   "codemirror_mode": {
    "name": "ipython",
    "version": 3
   },
   "file_extension": ".py",
   "mimetype": "text/x-python",
   "name": "python",
   "nbconvert_exporter": "python",
   "pygments_lexer": "ipython3",
   "version": "3.7.3"
  }
 },
 "nbformat": 4,
 "nbformat_minor": 2
}
