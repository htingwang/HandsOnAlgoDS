{
 "cells": [
  {
   "cell_type": "markdown",
   "metadata": {},
   "source": [
    "# 733. Flood Fill\n",
    "#### https://leetcode.com/problems/flood-fill/"
   ]
  },
  {
   "cell_type": "markdown",
   "metadata": {},
   "source": [
    "# Approach 1: BFS"
   ]
  },
  {
   "cell_type": "code",
   "execution_count": 3,
   "metadata": {},
   "outputs": [],
   "source": [
    "from collections import deque\n",
    "class Solution(object):\n",
    "    def floodFill(self, image, sr, sc, newColor):\n",
    "        \"\"\"\n",
    "        :type image: List[List[int]]\n",
    "        :type sr: int\n",
    "        :type sc: int\n",
    "        :type newColor: int\n",
    "        :rtype: List[List[int]]\n",
    "        \"\"\"\n",
    "        if image[sr][sc] == newColor: return image\n",
    "        queue = deque()\n",
    "        queue.append((sr, sc))\n",
    "        old_color = image[sr][sc]\n",
    "        image[sr][sc] = newColor\n",
    "        \n",
    "        while queue:\n",
    "            i, j = queue.popleft()\n",
    "            for ni, nj in [(i - 1, j), (i + 1, j), (i, j - 1), (i, j + 1)]:\n",
    "                if 0 <= ni < len(image) and 0 <= nj < len(image[0]) and image[ni][nj] == old_color:\n",
    "                    image[ni][nj] = newColor\n",
    "                    queue.append((ni, nj))\n",
    "                    \n",
    "        return image"
   ]
  },
  {
   "cell_type": "markdown",
   "metadata": {},
   "source": [
    "# Approach 2: DFS"
   ]
  },
  {
   "cell_type": "code",
   "execution_count": 4,
   "metadata": {},
   "outputs": [],
   "source": [
    "from collections import deque\n",
    "class Solution(object):\n",
    "    def floodFill(self, image, sr, sc, newColor):\n",
    "        \"\"\"\n",
    "        :type image: List[List[int]]\n",
    "        :type sr: int\n",
    "        :type sc: int\n",
    "        :type newColor: int\n",
    "        :rtype: List[List[int]]\n",
    "        \"\"\"\n",
    "        old_color = image[sr][sc]\n",
    "        if old_color == newColor: return image\n",
    "        \n",
    "        def dfs(sr, sc):\n",
    "            image[sr][sc] = newColor\n",
    "            for dr, dc in [(-1, 0), (1, 0), (0, -1), (0, 1)]:\n",
    "                nr, nc = sr + dr, sc + dc\n",
    "                if 0 <= nr < len(image) and 0 <= nc < len(image[0]) and image[nr][nc] == old_color:\n",
    "                    dfs(nr, nc)\n",
    "                    \n",
    "        dfs(sr, sc)\n",
    "        return image"
   ]
  },
  {
   "cell_type": "markdown",
   "metadata": {},
   "source": [
    "# Verification"
   ]
  },
  {
   "cell_type": "code",
   "execution_count": 5,
   "metadata": {},
   "outputs": [
    {
     "name": "stdout",
     "output_type": "stream",
     "text": [
      "Input:    ([[1, 1, 1], [1, 1, 0], [1, 0, 1]], 1, 1, 2)\n",
      "Output:   [[2, 2, 2], [2, 2, 0], [2, 0, 1]]\n",
      "Expected: [[2, 2, 2], [2, 2, 0], [2, 0, 1]]\n",
      "\n",
      "Input:    ([[0, 0, 0], [0, 1, 1]], 1, 1, 1)\n",
      "Output:   [[0, 0, 0], [0, 1, 1]]\n",
      "Expected: [[0, 0, 0], [0, 1, 1]]\n",
      "\n"
     ]
    }
   ],
   "source": [
    "testcases = [([[1,1,1],[1,1,0],[1,0,1]],1,1,2),([[0,0,0],[0,1,1]],1,1,1)]\n",
    "expected = [[[2,2,2],[2,2,0],[2,0,1]],[[0,0,0],[0,1,1]]]\n",
    "\n",
    "outputs = []\n",
    "sol = Solution();\n",
    "\n",
    "for case in zip(testcases, expected):\n",
    "    print(\"Input:    \" + str(case[0]))\n",
    "    print(\"Output:   \" + str(sol.floodFill(case[0][0],case[0][1],case[0][2],case[0][3])))\n",
    "    print(\"Expected: \" + str(case[1]) + \"\\n\")"
   ]
  }
 ],
 "metadata": {
  "kernelspec": {
   "display_name": "Python 3",
   "language": "python",
   "name": "python3"
  },
  "language_info": {
   "codemirror_mode": {
    "name": "ipython",
    "version": 3
   },
   "file_extension": ".py",
   "mimetype": "text/x-python",
   "name": "python",
   "nbconvert_exporter": "python",
   "pygments_lexer": "ipython3",
   "version": "3.7.3"
  }
 },
 "nbformat": 4,
 "nbformat_minor": 2
}
