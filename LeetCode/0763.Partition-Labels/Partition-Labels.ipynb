{
 "cells": [
  {
   "cell_type": "markdown",
   "metadata": {},
   "source": [
    "# 763. Partition Labels\n",
    "#### https://leetcode.com/problems/partition-labels/"
   ]
  },
  {
   "cell_type": "markdown",
   "metadata": {},
   "source": [
    "# Approach 1"
   ]
  },
  {
   "cell_type": "code",
   "execution_count": 10,
   "metadata": {},
   "outputs": [],
   "source": [
    "from collections import Counter\n",
    "class Solution(object):\n",
    "    def partitionLabels(self, S):\n",
    "        \"\"\"\n",
    "        :type S: str\n",
    "        :rtype: List[int]\n",
    "        \"\"\"\n",
    "        if not S: return []\n",
    "        count = Counter(S)\n",
    "        res = []\n",
    "        sub_len = rest_num = 0\n",
    "        sub_count = {}\n",
    "        for i, c in enumerate(S):\n",
    "            if c not in sub_count:\n",
    "                sub_count[c] = count[c] - 1\n",
    "                rest_num += sub_count[c]\n",
    "            else:\n",
    "                sub_count[c] -= 1\n",
    "                rest_num -= 1\n",
    "            sub_len += 1\n",
    "            if rest_num == 0:\n",
    "                res.append(sub_len)\n",
    "                sub_len = 0\n",
    "        return res"
   ]
  },
  {
   "cell_type": "markdown",
   "metadata": {},
   "source": [
    "# Verification"
   ]
  },
  {
   "cell_type": "code",
   "execution_count": 11,
   "metadata": {},
   "outputs": [
    {
     "name": "stdout",
     "output_type": "stream",
     "text": [
      "Input:    ababcbacadefegdehijhklij\n",
      "Output:   [9, 7, 8]\n",
      "Expected: [9, 7, 8]\n",
      "\n",
      "Input:    caedbdedda\n",
      "Output:   [1, 9]\n",
      "Expected: [1, 9]\n",
      "\n"
     ]
    }
   ],
   "source": [
    "testcases = [\"ababcbacadefegdehijhklij\",\"caedbdedda\"]\n",
    "expected = [[9,7,8],[1,9]]\n",
    "#testcases = testcases[:1]\n",
    "#expected = expected[:1]\n",
    "\n",
    "outputs = []\n",
    "sol = Solution();\n",
    "\n",
    "for case in zip(testcases, expected):\n",
    "    print(\"Input:    \" + str(case[0]))\n",
    "    print(\"Output:   \" + str(sol.partitionLabels(case[0])))\n",
    "    print(\"Expected: \" + str(case[1]) + \"\\n\")"
   ]
  }
 ],
 "metadata": {
  "kernelspec": {
   "display_name": "Python 3",
   "language": "python",
   "name": "python3"
  },
  "language_info": {
   "codemirror_mode": {
    "name": "ipython",
    "version": 3
   },
   "file_extension": ".py",
   "mimetype": "text/x-python",
   "name": "python",
   "nbconvert_exporter": "python",
   "pygments_lexer": "ipython3",
   "version": "3.7.3"
  }
 },
 "nbformat": 4,
 "nbformat_minor": 2
}
