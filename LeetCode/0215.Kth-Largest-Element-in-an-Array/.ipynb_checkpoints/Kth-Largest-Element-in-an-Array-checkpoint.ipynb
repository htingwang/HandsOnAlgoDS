{
 "cells": [
  {
   "cell_type": "markdown",
   "metadata": {},
   "source": [
    "# 215. Kth Largest Element in an Array\n",
    "#### https://leetcode.com/problems/kth-largest-element-in-an-array/"
   ]
  },
  {
   "cell_type": "markdown",
   "metadata": {},
   "source": [
    "# Approach 1: Quick Select"
   ]
  },
  {
   "cell_type": "code",
   "execution_count": 5,
   "metadata": {},
   "outputs": [],
   "source": [
    "class Solution(object):\n",
    "    def findKthLargest(self, nums, k):\n",
    "        \"\"\"\n",
    "        :type nums: List[int]\n",
    "        :type k: int\n",
    "        :rtype: int\n",
    "        \"\"\"\n",
    "        self.quick_select(nums, 0, len(nums) - 1, k - 1)\n",
    "        return nums[k - 1]\n",
    "    \n",
    "    def quick_select(self, nums, start, end, k):\n",
    "        if start >= end:\n",
    "            return\n",
    "        left, right = start, end\n",
    "        mid = left + (right - left) // 2\n",
    "        pivot = nums[mid]\n",
    "        while left <= right:\n",
    "            while left <= right and nums[left] > pivot:\n",
    "                left += 1\n",
    "            while left <= right and nums[right] < pivot:\n",
    "                right -= 1\n",
    "            if left <= right:\n",
    "                nums[left], nums[right] = nums[right], nums[left]\n",
    "                left += 1\n",
    "                right -= 1\n",
    "        if start + k <= right:\n",
    "            return self.quick_select(nums, start, right, k)\n",
    "        if start + k >= left:\n",
    "            return self.quick_select(nums, left, end, start + k - left)\n",
    "        return"
   ]
  },
  {
   "cell_type": "markdown",
   "metadata": {},
   "source": [
    "# Verification"
   ]
  },
  {
   "cell_type": "code",
   "execution_count": 6,
   "metadata": {},
   "outputs": [
    {
     "name": "stdout",
     "output_type": "stream",
     "text": [
      "Input:    ([3, 2, 1, 5, 6, 4], 2)\n",
      "Output:   5\n",
      "Expected: 5\n",
      "\n",
      "Input:    ([3, 2, 3, 1, 2, 4, 5, 5, 6], 4)\n",
      "Output:   4\n",
      "Expected: 4\n",
      "\n",
      "Input:    ([3, 2, 3, 1, 2, 4, 5, 5, 6, 7, 7, 8, 2, 3, 1, 1, 1, 10, 11, 5, 6, 2, 4, 7, 8, 5, 6], 20)\n",
      "Output:   2\n",
      "Expected: 2\n",
      "\n"
     ]
    }
   ],
   "source": [
    "testcases = [([3,2,1,5,6,4],2),([3,2,3,1,2,4,5,5,6],4),([3,2,3,1,2,4,5,5,6,7,7,8,2,3,1,1,1,10,11,5,6,2,4,7,8,5,6],20)]\n",
    "expected = [5,4,2]\n",
    "\n",
    "outputs = []\n",
    "sol = Solution();\n",
    "\n",
    "for case in zip(testcases, expected):\n",
    "    print(\"Input:    \" + str(case[0]))\n",
    "    print(\"Output:   \" + str(sol.findKthLargest(case[0][0],case[0][1])))\n",
    "    print(\"Expected: \" + str(case[1]) + \"\\n\")"
   ]
  }
 ],
 "metadata": {
  "kernelspec": {
   "display_name": "Python 3",
   "language": "python",
   "name": "python3"
  },
  "language_info": {
   "codemirror_mode": {
    "name": "ipython",
    "version": 3
   },
   "file_extension": ".py",
   "mimetype": "text/x-python",
   "name": "python",
   "nbconvert_exporter": "python",
   "pygments_lexer": "ipython3",
   "version": "3.7.3"
  }
 },
 "nbformat": 4,
 "nbformat_minor": 2
}
