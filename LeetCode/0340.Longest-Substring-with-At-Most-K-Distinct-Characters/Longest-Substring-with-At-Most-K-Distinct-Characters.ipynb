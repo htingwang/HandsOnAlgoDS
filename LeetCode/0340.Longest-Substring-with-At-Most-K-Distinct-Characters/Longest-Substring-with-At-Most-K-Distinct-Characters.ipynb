{
 "cells": [
  {
   "cell_type": "markdown",
   "metadata": {},
   "source": [
    "# 340. Longest Substring with At Most K Distinct Characters\n",
    "#### https://leetcode.com/problems/longest-substring-with-at-most-k-distinct-characters/"
   ]
  },
  {
   "cell_type": "markdown",
   "metadata": {},
   "source": [
    "# Approach 1: Two Pointers + Hash Table"
   ]
  },
  {
   "cell_type": "code",
   "execution_count": 4,
   "metadata": {},
   "outputs": [],
   "source": [
    "import collections\n",
    "class Solution(object):\n",
    "    def lengthOfLongestSubstringKDistinct(self, s, k):\n",
    "        \"\"\"\n",
    "        :type s: str\n",
    "        :type k: int\n",
    "        :rtype: int\n",
    "        \"\"\"\n",
    "        left = right = res = 0\n",
    "        count = collections.defaultdict(int)\n",
    "        for right in range(len(s)):\n",
    "            count[s[right]] += 1\n",
    "            while left <= right and len(count) == k + 1:\n",
    "                count[s[left]] -= 1\n",
    "                if count[s[left]] == 0:\n",
    "                    del count[s[left]]        \n",
    "                left += 1\n",
    "            res = max(res, right - left + 1)\n",
    "        return res"
   ]
  },
  {
   "cell_type": "markdown",
   "metadata": {},
   "source": [
    "# Verification"
   ]
  },
  {
   "cell_type": "code",
   "execution_count": 5,
   "metadata": {},
   "outputs": [
    {
     "name": "stdout",
     "output_type": "stream",
     "text": [
      "Input:    ('eceba', 2)\n",
      "Output:   3\n",
      "Expected: 3\n",
      "\n",
      "Input:    ('aa', 1)\n",
      "Output:   2\n",
      "Expected: 2\n",
      "\n",
      "Input:    ('a', 0)\n",
      "Output:   0\n",
      "Expected: 0\n",
      "\n"
     ]
    }
   ],
   "source": [
    "testcases = [(\"eceba\",2),(\"aa\",1),(\"a\",0),(\"ababffzzeee\",2)]\n",
    "expected = [3,2,0]\n",
    "\n",
    "outputs = []\n",
    "sol = Solution();\n",
    "\n",
    "for case in zip(testcases, expected):\n",
    "    print(\"Input:    \" + str(case[0]))\n",
    "    print(\"Output:   \" + str(sol.lengthOfLongestSubstringKDistinct(case[0][0],case[0][1])))\n",
    "    print(\"Expected: \" + str(case[1]) + \"\\n\")"
   ]
  }
 ],
 "metadata": {
  "kernelspec": {
   "display_name": "Python 3",
   "language": "python",
   "name": "python3"
  },
  "language_info": {
   "codemirror_mode": {
    "name": "ipython",
    "version": 3
   },
   "file_extension": ".py",
   "mimetype": "text/x-python",
   "name": "python",
   "nbconvert_exporter": "python",
   "pygments_lexer": "ipython3",
   "version": "3.7.3"
  }
 },
 "nbformat": 4,
 "nbformat_minor": 2
}
