{
 "cells": [
  {
   "cell_type": "markdown",
   "metadata": {},
   "source": [
    "# 482. License Key Formatting\n",
    "#### https://leetcode.com/problems/license-key-formatting/"
   ]
  },
  {
   "cell_type": "markdown",
   "metadata": {},
   "source": [
    "# Approach 1"
   ]
  },
  {
   "cell_type": "code",
   "execution_count": 1,
   "metadata": {},
   "outputs": [],
   "source": [
    "class Solution(object):\n",
    "    def licenseKeyFormatting(self, S, K):\n",
    "        \"\"\"\n",
    "        :type S: str\n",
    "        :type K: int\n",
    "        :rtype: str\n",
    "        \"\"\"\n",
    "        string = \"\".join(S.upper().split(\"-\"))\n",
    "        \n",
    "        if K >= len(string):\n",
    "            return string\n",
    "\n",
    "        res = string[: len(string) % K]\n",
    "        \n",
    "        for i in range(len(string) % K, len(string), K):\n",
    "            res += \"-\" + string[i : i + K]\n",
    "\n",
    "        return res if res[0] != \"-\" else res[1:]"
   ]
  },
  {
   "cell_type": "markdown",
   "metadata": {},
   "source": [
    "# Verification"
   ]
  },
  {
   "cell_type": "code",
   "execution_count": 3,
   "metadata": {},
   "outputs": [
    {
     "name": "stdout",
     "output_type": "stream",
     "text": [
      "Input: ('5F3Z-2e-9-w', 4)\n",
      "Output: 5F3Z-2E9W\n",
      "Expected: 5F3Z-2E9W\n",
      "\n",
      "Input: ('2-5g-3-J', 2)\n",
      "Output: 2-5G-3J\n",
      "Expected: 2-5G-3J\n",
      "\n"
     ]
    }
   ],
   "source": [
    "testcases = [(\"5F3Z-2e-9-w\",4),(\"2-5g-3-J\",2)]\n",
    "answers = [\"5F3Z-2E9W\",\"2-5G-3J\"]\n",
    "\n",
    "sol = Solution();\n",
    "for case in zip(testcases, answers):\n",
    "    print(\"Input: \" + str(case[0])[:100])\n",
    "    print(\"Output: \" + str(sol.licenseKeyFormatting(case[0][0],case[0][1])))\n",
    "    print(\"Expected: \" + str(case[1]) + \"\\n\")"
   ]
  }
 ],
 "metadata": {
  "kernelspec": {
   "display_name": "Python 3",
   "language": "python",
   "name": "python3"
  },
  "language_info": {
   "codemirror_mode": {
    "name": "ipython",
    "version": 3
   },
   "file_extension": ".py",
   "mimetype": "text/x-python",
   "name": "python",
   "nbconvert_exporter": "python",
   "pygments_lexer": "ipython3",
   "version": "3.7.3"
  }
 },
 "nbformat": 4,
 "nbformat_minor": 2
}
