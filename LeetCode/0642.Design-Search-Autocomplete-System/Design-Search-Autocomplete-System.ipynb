{
 "cells": [
  {
   "cell_type": "markdown",
   "metadata": {},
   "source": [
    "# 642. Design Search Autocomplete System\n",
    "#### https://leetcode.com/problems/design-search-autocomplete-system/"
   ]
  },
  {
   "cell_type": "markdown",
   "metadata": {},
   "source": [
    "# Approach 1"
   ]
  },
  {
   "cell_type": "code",
   "execution_count": 1,
   "metadata": {},
   "outputs": [],
   "source": [
    "class TrieNode(object):\n",
    "    def __init__(self):\n",
    "        self.children = {}\n",
    "        self.times = 0\n",
    "        \n",
    "class AutocompleteSystem(object):\n",
    "\n",
    "    def __init__(self, sentences, times):\n",
    "        \"\"\"\n",
    "        :type sentences: List[str]\n",
    "        :type times: List[int]\n",
    "        \"\"\"\n",
    "        self.root = TrieNode()\n",
    "        self.cur = \"\"\n",
    "        for i in range(len(sentences)):\n",
    "            self.insert(sentences[i], times[i])\n",
    "        \n",
    "    def insert(self, sentence, times):\n",
    "        node = self.root\n",
    "        for c in sentence:\n",
    "            if c not in node.children:\n",
    "                node.children[c] = TrieNode()\n",
    "            node = node.children[c]\n",
    "        node.times += times\n",
    "        \n",
    "    def lookup(self, sentence):\n",
    "        node = self.root\n",
    "        for c in sentence:\n",
    "            if c not in node.children:\n",
    "                return []\n",
    "            node = node.children[c]\n",
    "        res = []\n",
    "        self.traverse(node, sentence, res)\n",
    "        return res\n",
    "    \n",
    "    def traverse(self, node, sentence, res):\n",
    "        if node.times:\n",
    "            res.append((node.times, sentence))\n",
    "        for c in node.children:\n",
    "            self.traverse(node.children[c], sentence + c, res)\n",
    "    \n",
    "    def input(self, c):\n",
    "        \"\"\"\n",
    "        :type c: str\n",
    "        :rtype: List[str]\n",
    "        \"\"\"\n",
    "        if c == \"#\":\n",
    "            self.insert(self.cur, 1)\n",
    "            self.cur = \"\"\n",
    "            return []\n",
    "        self.cur += c\n",
    "        candidates = self.lookup(self.cur)\n",
    "        candidates.sort(key = lambda x:(-x[0], x[1]))\n",
    "\n",
    "        res = []\n",
    "        for i in range(min(len(candidates), 3)):\n",
    "            res.append(candidates[i][1])\n",
    "        return res\n",
    "        \n",
    "# Your AutocompleteSystem object will be instantiated and called as such:\n",
    "# obj = AutocompleteSystem(sentences, times)\n",
    "# param_1 = obj.input(c)"
   ]
  },
  {
   "cell_type": "markdown",
   "metadata": {},
   "source": [
    "# Verification"
   ]
  },
  {
   "cell_type": "code",
   "execution_count": 8,
   "metadata": {},
   "outputs": [
    {
     "name": "stdout",
     "output_type": "stream",
     "text": [
      "Input:    (['AutocompleteSystem', 'input', 'input', 'input', 'input'], [[['i love you', 'island', 'iroman', 'i love leetcode'], [5, 3, 2, 2]], ['i'], [' '], ['a'], ['#']])\n",
      "Output:   [None, ['i love you', 'island', 'i love leetcode'], ['i love you', 'i love leetcode'], [], []]\n",
      "Expected: [None, ['i love you', 'island', 'i love leetcode'], ['i love you', 'i love leetcode'], [], []]\n",
      "\n"
     ]
    }
   ],
   "source": [
    "testcases = [([\"AutocompleteSystem\",\"input\",\"input\",\"input\",\"input\"],[[[\"i love you\",\"island\",\"iroman\",\"i love leetcode\"],[5,3,2,2]],[\"i\"],[\" \"],[\"a\"],[\"#\"]])]\n",
    "expected = [[None,[\"i love you\",\"island\",\"i love leetcode\"],[\"i love you\",\"i love leetcode\"],[],[]]]\n",
    "\n",
    "\n",
    "for case in zip(testcases, expected):\n",
    "    outputs = [None]\n",
    "    print(\"Input:    \" + str(case[0]))\n",
    "    sol = AutocompleteSystem(case[0][1][0][0], case[0][1][0][1])\n",
    "    \n",
    "    funcs = case[0][0]\n",
    "    params = case[0][1]\n",
    "    for i, func in enumerate(funcs):\n",
    "        if i: param = params[i][0]\n",
    "        if func == \"input\":\n",
    "            outputs.append(sol.input(param))\n",
    "    print(\"Output:   \" + str(outputs))\n",
    "    print(\"Expected: \" + str(case[1]) + \"\\n\")"
   ]
  }
 ],
 "metadata": {
  "kernelspec": {
   "display_name": "Python 3",
   "language": "python",
   "name": "python3"
  },
  "language_info": {
   "codemirror_mode": {
    "name": "ipython",
    "version": 3
   },
   "file_extension": ".py",
   "mimetype": "text/x-python",
   "name": "python",
   "nbconvert_exporter": "python",
   "pygments_lexer": "ipython3",
   "version": "3.7.3"
  }
 },
 "nbformat": 4,
 "nbformat_minor": 2
}
