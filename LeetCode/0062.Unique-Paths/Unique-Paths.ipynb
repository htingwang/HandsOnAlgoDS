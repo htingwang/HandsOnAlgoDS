{
 "cells": [
  {
   "cell_type": "markdown",
   "metadata": {},
   "source": [
    "# 62. Unique Paths\n",
    "#### https://leetcode.com/problems/unique-paths/"
   ]
  },
  {
   "cell_type": "markdown",
   "metadata": {},
   "source": [
    "# Approach 1-1: Dynamic Programming"
   ]
  },
  {
   "cell_type": "code",
   "execution_count": 1,
   "metadata": {},
   "outputs": [],
   "source": [
    "class Solution(object):\n",
    "    def uniquePaths(self, m, n):\n",
    "        \"\"\"\n",
    "        :type m: int\n",
    "        :type n: int\n",
    "        :rtype: int\n",
    "        \"\"\"\n",
    "        dp = [[0] * m for _ in range(n)]\n",
    "        for i in range(n):\n",
    "            dp[i][0] = 1\n",
    "        for j in range(m):\n",
    "            dp[0][j] = 1\n",
    "            \n",
    "        for i in range(1, n):\n",
    "            for j in range(1, m):\n",
    "                dp[i][j] = dp[i - 1][j] + dp[i][j - 1]\n",
    "        return dp[n - 1][m - 1]"
   ]
  },
  {
   "cell_type": "markdown",
   "metadata": {},
   "source": [
    "# Approach 1-2: Dynamic Programming (Rolling Array)"
   ]
  },
  {
   "cell_type": "code",
   "execution_count": 2,
   "metadata": {},
   "outputs": [],
   "source": [
    "class Solution(object):\n",
    "    def uniquePaths(self, m, n):\n",
    "        \"\"\"\n",
    "        :type m: int\n",
    "        :type n: int\n",
    "        :rtype: int\n",
    "        \"\"\"\n",
    "        dp = [[0] * m for _ in range(2)]\n",
    "        for i in range(2):\n",
    "            dp[i][0] = 1\n",
    "        for j in range(m):\n",
    "            dp[0][j] = 1\n",
    "            \n",
    "        for i in range(1, n):\n",
    "            for j in range(1, m):\n",
    "                dp[i % 2][j] = dp[(i - 1) % 2][j] + dp[i % 2][j - 1]\n",
    "        return dp[(n - 1) % 2][m - 1]"
   ]
  },
  {
   "cell_type": "markdown",
   "metadata": {},
   "source": [
    "# Approach 1-3: Dynamic Programming (1D Array)"
   ]
  },
  {
   "cell_type": "code",
   "execution_count": null,
   "metadata": {},
   "outputs": [],
   "source": [
    "class Solution(object):\n",
    "    def uniquePaths(self, m, n):\n",
    "        \"\"\"\n",
    "        :type m: int\n",
    "        :type n: int\n",
    "        :rtype: int\n",
    "        \"\"\"\n",
    "        dp = [0] * m\n",
    "        for j in range(m):\n",
    "            dp[j] = 1\n",
    "            \n",
    "        for i in range(1, n):\n",
    "            for j in range(1, m):\n",
    "                dp[j] += dp[j - 1]\n",
    "        return dp[m - 1]"
   ]
  },
  {
   "cell_type": "markdown",
   "metadata": {},
   "source": [
    "# Approach 2: Combination"
   ]
  },
  {
   "cell_type": "code",
   "execution_count": 5,
   "metadata": {},
   "outputs": [],
   "source": [
    "import operator as op\n",
    "from functools import reduce\n",
    "class Solution(object):\n",
    "    def uniquePaths(self, m, n):\n",
    "        \"\"\"\n",
    "        :type m: int\n",
    "        :type n: int\n",
    "        :rtype: int\n",
    "        \"\"\"\n",
    "        def ncr(n, r):\n",
    "            r = min(r, n-r)\n",
    "            numer = reduce(op.mul, range(n, n-r, -1), 1)\n",
    "            denom = reduce(op.mul, range(1, r+1), 1)\n",
    "            return numer / denom\n",
    "        return ncr(m + n - 2, n - 1)\n",
    "        "
   ]
  },
  {
   "cell_type": "markdown",
   "metadata": {},
   "source": [
    "# Verification"
   ]
  },
  {
   "cell_type": "code",
   "execution_count": 6,
   "metadata": {},
   "outputs": [
    {
     "name": "stdout",
     "output_type": "stream",
     "text": [
      "Input:    (3, 2)\n",
      "Output:   3.0\n",
      "Expected: 3\n",
      "\n",
      "Input:    [7, 3]\n",
      "Output:   28.0\n",
      "Expected: 28\n",
      "\n"
     ]
    }
   ],
   "source": [
    "import pandas as pd\n",
    "testcases = [(3,2), [7,3]]\n",
    "expected = [3,28]\n",
    "\n",
    "outputs = []\n",
    "sol = Solution();\n",
    "\n",
    "for case in zip(testcases, expected):\n",
    "    print(\"Input:    \" + str(case[0]))\n",
    "    print(\"Output:   \" + str(sol.uniquePaths(case[0][0], case[0][1])))\n",
    "    print(\"Expected: \" + str(case[1]) + \"\\n\")"
   ]
  }
 ],
 "metadata": {
  "kernelspec": {
   "display_name": "Python 3",
   "language": "python",
   "name": "python3"
  },
  "language_info": {
   "codemirror_mode": {
    "name": "ipython",
    "version": 3
   },
   "file_extension": ".py",
   "mimetype": "text/x-python",
   "name": "python",
   "nbconvert_exporter": "python",
   "pygments_lexer": "ipython3",
   "version": "3.7.3"
  }
 },
 "nbformat": 4,
 "nbformat_minor": 2
}
