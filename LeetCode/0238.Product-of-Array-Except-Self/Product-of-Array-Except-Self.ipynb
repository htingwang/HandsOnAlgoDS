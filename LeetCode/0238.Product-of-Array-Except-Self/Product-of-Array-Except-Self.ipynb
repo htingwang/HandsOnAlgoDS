{
 "cells": [
  {
   "cell_type": "markdown",
   "metadata": {},
   "source": [
    "# 238. Product of Array Except Self\n",
    "#### https://leetcode.com/problems/product-of-array-except-self/"
   ]
  },
  {
   "cell_type": "markdown",
   "metadata": {},
   "source": [
    "# Approach 1: Linear time, Space O(n)"
   ]
  },
  {
   "cell_type": "code",
   "execution_count": 4,
   "metadata": {},
   "outputs": [],
   "source": [
    "class Solution(object):\n",
    "    def productExceptSelf(self, nums):\n",
    "        \"\"\"\n",
    "        :type nums: List[int]\n",
    "        :rtype: List[int]\n",
    "        \"\"\"\n",
    "        left = [1] * len(nums)\n",
    "        right = [1] * len(nums)\n",
    "        \n",
    "        # left儲存所有左邊的乘積\n",
    "        for i in range(1, len(nums)):\n",
    "            left[i] = left[i - 1] * nums[i - 1]\n",
    "            \n",
    "        # right儲存所有右邊的乘積    \n",
    "        for i in range(len(nums) - 2, -1, -1):\n",
    "            right[i] = right[i + 1] * nums[i + 1]\n",
    "            \n",
    "        return [left[i] * right[i] for i in range(len(nums))]"
   ]
  },
  {
   "cell_type": "markdown",
   "metadata": {},
   "source": [
    "# Approach2: Linear time, Space O(1)"
   ]
  },
  {
   "cell_type": "code",
   "execution_count": 9,
   "metadata": {},
   "outputs": [],
   "source": [
    "class Solution(object):\n",
    "    def productExceptSelf(self, nums):\n",
    "        \"\"\"\n",
    "        :type nums: List[int]\n",
    "        :rtype: List[int]\n",
    "        \"\"\"\n",
    "        # 與Approach1同，但用res的空間做操作\n",
    "        \n",
    "        res = [1] * len(nums)\n",
    "        \n",
    "        # [1, 2, 3,4]\n",
    "        # [1, 1, 2,6] left\n",
    "        # [24,12,4,1] right\n",
    "        \n",
    "        # 儲存所有左邊的乘積\n",
    "        for i in range(1, len(nums)):\n",
    "            res[i] = res[i - 1] * nums[i - 1]\n",
    "         \n",
    "        # right儲存所有右邊的乘積\n",
    "        right = 1\n",
    "        for i in range(len(nums) - 2, -1, -1):\n",
    "            right *= nums[i + 1]\n",
    "            res[i] *= right\n",
    "            \n",
    "        return res"
   ]
  },
  {
   "cell_type": "markdown",
   "metadata": {},
   "source": [
    "# Verification"
   ]
  },
  {
   "cell_type": "code",
   "execution_count": 10,
   "metadata": {},
   "outputs": [
    {
     "name": "stdout",
     "output_type": "stream",
     "text": [
      "Input:    [1, 2, 3, 4]\n",
      "[1, 1, 2, 6]\n",
      "Output:   [24, 12, 8, 6]\n",
      "Expected: [24, 12, 8, 6]\n",
      "\n"
     ]
    }
   ],
   "source": [
    "testcases = [[1,2,3,4]]\n",
    "expected = [[24,12,8,6]]\n",
    "\n",
    "outputs = []\n",
    "sol = Solution();\n",
    "\n",
    "for case in zip(testcases, expected):\n",
    "    print(\"Input:    \" + str(case[0]))\n",
    "    print(\"Output:   \" + str(sol.productExceptSelf(case[0])))\n",
    "    print(\"Expected: \" + str(case[1]) + \"\\n\")"
   ]
  }
 ],
 "metadata": {
  "kernelspec": {
   "display_name": "Python 3",
   "language": "python",
   "name": "python3"
  },
  "language_info": {
   "codemirror_mode": {
    "name": "ipython",
    "version": 3
   },
   "file_extension": ".py",
   "mimetype": "text/x-python",
   "name": "python",
   "nbconvert_exporter": "python",
   "pygments_lexer": "ipython3",
   "version": "3.7.3"
  }
 },
 "nbformat": 4,
 "nbformat_minor": 2
}
