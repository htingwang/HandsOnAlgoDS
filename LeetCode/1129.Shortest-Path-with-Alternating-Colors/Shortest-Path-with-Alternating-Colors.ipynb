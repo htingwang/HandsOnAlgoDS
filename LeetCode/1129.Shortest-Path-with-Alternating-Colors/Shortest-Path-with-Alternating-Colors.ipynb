{
 "cells": [
  {
   "cell_type": "markdown",
   "metadata": {},
   "source": [
    "# 1129. Shortest Path with Alternating Colors\n",
    "#### https://leetcode.com/problems/shortest-path-with-alternating-colors/"
   ]
  },
  {
   "cell_type": "markdown",
   "metadata": {},
   "source": [
    "# Approach 1: BFS"
   ]
  },
  {
   "cell_type": "code",
   "execution_count": 7,
   "metadata": {},
   "outputs": [],
   "source": [
    "import sys\n",
    "import collections\n",
    "class Solution(object):\n",
    "    def shortestAlternatingPaths(self, n, red_edges, blue_edges):\n",
    "        \"\"\"\n",
    "        :type n: int\n",
    "        :type red_edges: List[List[int]]\n",
    "        :type blue_edges: List[List[int]]\n",
    "        :rtype: List[int]\n",
    "        \"\"\"\n",
    "        G = [[[], []] for _ in range(n)]\n",
    "        for i, j in red_edges: G[i][0].append(j)\n",
    "        for i, j in blue_edges: G[i][1].append(j)\n",
    "        sols = [[sys.maxsize, sys.maxsize] for _ in range(n)]\n",
    "        sols[0] = [0, 0]\n",
    "        queue = collections.deque([[0, 0], [0, 1]])\n",
    "        while queue:\n",
    "            node, color = queue.popleft()\n",
    "            for next_node in G[node][color]:\n",
    "                if sols[next_node][color] == sys.maxsize:\n",
    "                    sols[next_node][color] = sols[node][1 - color] + 1\n",
    "                    queue.append([next_node, 1 - color])\n",
    "        res = []\n",
    "        for sol in sols:\n",
    "            cur = min(sol)\n",
    "            if cur == sys.maxsize: res.append(-1)\n",
    "            else: res.append(cur)\n",
    "        return res"
   ]
  },
  {
   "cell_type": "markdown",
   "metadata": {},
   "source": [
    "# Verification"
   ]
  },
  {
   "cell_type": "code",
   "execution_count": 8,
   "metadata": {},
   "outputs": [
    {
     "name": "stdout",
     "output_type": "stream",
     "text": [
      "Input:    (3, [[0, 1], [1, 2]], [])\n",
      "Output:   [0, 1, -1]\n",
      "Expected: [0, 1, -1]\n",
      "\n",
      "Input:    (3, [[0, 1]], [[2, 1]])\n",
      "Output:   [0, 1, -1]\n",
      "Expected: [0, 1, -1]\n",
      "\n",
      "Input:    (3, [[1, 0]], [[2, 1]])\n",
      "Output:   [0, -1, -1]\n",
      "Expected: [0, -1, -1]\n",
      "\n",
      "Input:    (3, [[0, 1]], [[1, 2]])\n",
      "Output:   [0, 1, 2]\n",
      "Expected: [0, 1, 2]\n",
      "\n",
      "Input:    (3, [[0, 1], [0, 2]], [[1, 0]])\n",
      "Output:   [0, 1, 1]\n",
      "Expected: [0, 1, 1]\n",
      "\n"
     ]
    }
   ],
   "source": [
    "testcases = [(3,[[0,1],[1,2]],[]),(3,[[0,1]],[[2,1]]),(3,[[1,0]],[[2,1]]),(3,[[0,1]],[[1,2]]),(3,[[0,1],[0,2]],[[1,0]])]\n",
    "expected = [[0,1,-1],[0,1,-1],[0,-1,-1],[0,1,2],[0,1,1]]\n",
    "\n",
    "outputs = []\n",
    "sol = Solution();\n",
    "\n",
    "for case in zip(testcases, expected):\n",
    "    print(\"Input:    \" + str(case[0]))\n",
    "    print(\"Output:   \" + str(sol.shortestAlternatingPaths(case[0][0],case[0][1],case[0][2])))\n",
    "    print(\"Expected: \" + str(case[1]) + \"\\n\")"
   ]
  }
 ],
 "metadata": {
  "kernelspec": {
   "display_name": "Python 3",
   "language": "python",
   "name": "python3"
  },
  "language_info": {
   "codemirror_mode": {
    "name": "ipython",
    "version": 3
   },
   "file_extension": ".py",
   "mimetype": "text/x-python",
   "name": "python",
   "nbconvert_exporter": "python",
   "pygments_lexer": "ipython3",
   "version": "3.7.3"
  }
 },
 "nbformat": 4,
 "nbformat_minor": 2
}
