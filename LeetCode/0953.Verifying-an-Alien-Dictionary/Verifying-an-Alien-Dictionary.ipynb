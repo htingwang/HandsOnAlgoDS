{
 "cells": [
  {
   "cell_type": "markdown",
   "metadata": {},
   "source": [
    "# 953. Verifying an Alien Dictionary\n",
    "#### https://leetcode.com/problems/verifying-an-alien-dictionary/"
   ]
  },
  {
   "cell_type": "markdown",
   "metadata": {},
   "source": [
    "# Approach 1"
   ]
  },
  {
   "cell_type": "code",
   "execution_count": 1,
   "metadata": {},
   "outputs": [],
   "source": [
    "class Solution(object):\n",
    "    def isAlienSorted(self, words, order):\n",
    "        \"\"\"\n",
    "        :type words: List[str]\n",
    "        :type order: str\n",
    "        :rtype: bool\n",
    "        \"\"\"\n",
    "        char_to_idx = {c: i for i, c in enumerate(order)}\n",
    "        \n",
    "        for i in range(len(words) - 1):\n",
    "            word1, word2 = words[i], words[i + 1]\n",
    "            for i in range(min(len(word1), len(word2))):\n",
    "                if char_to_idx[word2[i]] > char_to_idx[word1[i]]:\n",
    "                    break\n",
    "                if char_to_idx[word2[i]] < char_to_idx[word1[i]]:\n",
    "                    #print(i)\n",
    "                    return False\n",
    "            if word1[i - 1] == word2[i - 1] and len(word1) > len(word2):\n",
    "                return False\n",
    "        return True"
   ]
  },
  {
   "cell_type": "markdown",
   "metadata": {},
   "source": [
    "# Verification "
   ]
  },
  {
   "cell_type": "code",
   "execution_count": 2,
   "metadata": {},
   "outputs": [
    {
     "name": "stdout",
     "output_type": "stream",
     "text": [
      "Input:    (['hello', 'leetcode'], 'hlabcdefgijkmnopqrstuvwxyz')\n",
      "Output:   True\n",
      "Expected: True\n",
      "\n",
      "Input:    (['word', 'world', 'row'], 'worldabcefghijkmnpqstuvxyz')\n",
      "Output:   False\n",
      "Expected: False\n",
      "\n",
      "Input:    (['apple', 'app'], 'abcdefghijklmnopqrstuvwxyz')\n",
      "Output:   False\n",
      "Expected: False\n",
      "\n"
     ]
    }
   ],
   "source": [
    "testcases = [([\"hello\",\"leetcode\"],\"hlabcdefgijkmnopqrstuvwxyz\"),([\"word\",\"world\",\"row\"],\"worldabcefghijkmnpqstuvxyz\"),([\"apple\",\"app\"],\"abcdefghijklmnopqrstuvwxyz\")]\n",
    "expected = [True, False, False]\n",
    "outputs = []\n",
    "sol = Solution();\n",
    "\n",
    "for case in zip(testcases, expected):\n",
    "    print(\"Input:    \" + str(case[0]))\n",
    "    print(\"Output:   \" + str(sol.isAlienSorted(case[0][0],case[0][1])))\n",
    "    print(\"Expected: \" + str(case[1]) + \"\\n\")"
   ]
  }
 ],
 "metadata": {
  "kernelspec": {
   "display_name": "Python 3",
   "language": "python",
   "name": "python3"
  },
  "language_info": {
   "codemirror_mode": {
    "name": "ipython",
    "version": 3
   },
   "file_extension": ".py",
   "mimetype": "text/x-python",
   "name": "python",
   "nbconvert_exporter": "python",
   "pygments_lexer": "ipython3",
   "version": "3.7.3"
  }
 },
 "nbformat": 4,
 "nbformat_minor": 2
}
