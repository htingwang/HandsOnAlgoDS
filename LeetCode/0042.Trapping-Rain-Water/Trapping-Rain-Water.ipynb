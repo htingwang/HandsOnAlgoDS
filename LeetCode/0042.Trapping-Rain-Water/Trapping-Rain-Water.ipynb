{
 "cells": [
  {
   "cell_type": "markdown",
   "metadata": {},
   "source": [
    "# 42. Trapping Rain Water\n",
    "#### https://leetcode.com/problems/trapping-rain-water/"
   ]
  },
  {
   "cell_type": "markdown",
   "metadata": {},
   "source": [
    "# Approach 1: Stack"
   ]
  },
  {
   "cell_type": "code",
   "execution_count": 1,
   "metadata": {},
   "outputs": [],
   "source": [
    "class Solution(object):\n",
    "    def trap(self, height):\n",
    "        \"\"\"\n",
    "        :type height: List[int]\n",
    "        :rtype: int\n",
    "        \"\"\"\n",
    "        stack = []\n",
    "        res = 0\n",
    "        for i, h in enumerate(height):\n",
    "            while stack and height[stack[-1]] < h:\n",
    "                pop = stack.pop()\n",
    "                if stack:\n",
    "                    top = stack[-1] \n",
    "                    res += (min(height[top], h) - height[pop]) * (i - top - 1)\n",
    "            stack.append(i)\n",
    "            \n",
    "        return res"
   ]
  },
  {
   "cell_type": "markdown",
   "metadata": {},
   "source": [
    "# Verification"
   ]
  },
  {
   "cell_type": "code",
   "execution_count": 3,
   "metadata": {},
   "outputs": [
    {
     "name": "stdout",
     "output_type": "stream",
     "text": [
      "Input:    [0, 1, 0, 2, 1, 0, 1, 3, 2, 1, 2, 1]\n",
      "Output:   6\n",
      "Expected: 6\n",
      "\n",
      "Input:    [4, 2, 3]\n",
      "Output:   1\n",
      "Expected: 1\n",
      "\n"
     ]
    }
   ],
   "source": [
    "testcases = [[0,1,0,2,1,0,1,3,2,1,2,1],[4,2,3]]\n",
    "expected = [6,1]\n",
    "\n",
    "outputs = []\n",
    "sol = Solution();\n",
    "\n",
    "for case in zip(testcases, expected):\n",
    "    print(\"Input:    \" + str(case[0]))\n",
    "    print(\"Output:   \" + str(sol.trap(case[0])))\n",
    "    print(\"Expected: \" + str(case[1]) + \"\\n\")"
   ]
  }
 ],
 "metadata": {
  "kernelspec": {
   "display_name": "Python 3",
   "language": "python",
   "name": "python3"
  },
  "language_info": {
   "codemirror_mode": {
    "name": "ipython",
    "version": 3
   },
   "file_extension": ".py",
   "mimetype": "text/x-python",
   "name": "python",
   "nbconvert_exporter": "python",
   "pygments_lexer": "ipython3",
   "version": "3.7.3"
  }
 },
 "nbformat": 4,
 "nbformat_minor": 2
}
