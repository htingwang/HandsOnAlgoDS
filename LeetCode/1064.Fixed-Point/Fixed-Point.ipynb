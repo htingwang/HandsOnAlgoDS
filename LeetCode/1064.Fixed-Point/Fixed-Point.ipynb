{
 "cells": [
  {
   "cell_type": "markdown",
   "metadata": {},
   "source": [
    "# 1064. Fixed Point\n",
    "#### https://leetcode.com/problems/fixed-point/"
   ]
  },
  {
   "cell_type": "markdown",
   "metadata": {},
   "source": [
    "# Approach 1: Binary Search"
   ]
  },
  {
   "cell_type": "code",
   "execution_count": 1,
   "metadata": {},
   "outputs": [],
   "source": [
    "class Solution(object):\n",
    "    def fixedPoint(self, A):\n",
    "        \"\"\"\n",
    "        :type A: List[int]\n",
    "        :rtype: int\n",
    "        \"\"\"\n",
    "        left, right = 0,  len(A) - 1\n",
    "        while left < right:\n",
    "            mid = (left + right) // 2\n",
    "            if A[mid] >= mid:\n",
    "                right = mid\n",
    "            else:\n",
    "                left = mid + 1\n",
    "        if A[left] == left: return left\n",
    "        return -1"
   ]
  },
  {
   "cell_type": "markdown",
   "metadata": {},
   "source": [
    "# Verification"
   ]
  },
  {
   "cell_type": "code",
   "execution_count": 2,
   "metadata": {},
   "outputs": [
    {
     "name": "stdout",
     "output_type": "stream",
     "text": [
      "Input:    [-10, -5, 0, 3, 7]\n",
      "Output:   3\n",
      "Expected: 3\n",
      "\n",
      "Input:    [0, 2, 5, 8, 17]\n",
      "Output:   0\n",
      "Expected: 0\n",
      "\n",
      "Input:    [-10, -5, 3, 4, 7, 9]\n",
      "Output:   -1\n",
      "Expected: -1\n",
      "\n"
     ]
    }
   ],
   "source": [
    "testcases = [[-10,-5,0,3,7],[0,2,5,8,17],[-10,-5,3,4,7,9]]\n",
    "expected = [3,0,-1]\n",
    "\n",
    "outputs = []\n",
    "sol = Solution();\n",
    "\n",
    "for case in zip(testcases, expected):\n",
    "    print(\"Input:    \" + str(case[0]))\n",
    "    print(\"Output:   \" + str(sol.fixedPoint(case[0])))\n",
    "    print(\"Expected: \" + str(case[1]) + \"\\n\")"
   ]
  }
 ],
 "metadata": {
  "kernelspec": {
   "display_name": "Python 3",
   "language": "python",
   "name": "python3"
  },
  "language_info": {
   "codemirror_mode": {
    "name": "ipython",
    "version": 3
   },
   "file_extension": ".py",
   "mimetype": "text/x-python",
   "name": "python",
   "nbconvert_exporter": "python",
   "pygments_lexer": "ipython3",
   "version": "3.7.3"
  }
 },
 "nbformat": 4,
 "nbformat_minor": 2
}
