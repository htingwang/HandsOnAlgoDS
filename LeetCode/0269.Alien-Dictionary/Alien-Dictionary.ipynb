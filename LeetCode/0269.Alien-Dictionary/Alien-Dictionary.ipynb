{
 "cells": [
  {
   "cell_type": "markdown",
   "metadata": {},
   "source": [
    "# 269. Alien Dictionary\n",
    "#### https://leetcode.com/problems/alien-dictionary/"
   ]
  },
  {
   "cell_type": "markdown",
   "metadata": {},
   "source": [
    "# Approach 1"
   ]
  },
  {
   "cell_type": "code",
   "execution_count": 16,
   "metadata": {},
   "outputs": [],
   "source": [
    "import collections\n",
    "class Solution(object):\n",
    "    def alienOrder(self, words):\n",
    "        \"\"\"\n",
    "        :type words: List[str]\n",
    "        :rtype: str\n",
    "        \"\"\"\n",
    "        graph = {}\n",
    "        in_degree = {}\n",
    "        for word in words:\n",
    "            for c in word:\n",
    "                graph[c] = set()\n",
    "                in_degree[c] = 0\n",
    "                \n",
    "        for i in range(len(words) - 1):\n",
    "            for j in range(min(len(words[i]), len(words[i + 1]))):\n",
    "                if words[i][j] != words[i + 1][j]:\n",
    "                    graph[words[i][j]].add(words[i + 1][j])\n",
    "                    break\n",
    "                \n",
    "        for c in graph:\n",
    "            for neighbor in graph[c]:\n",
    "                in_degree[neighbor] += 1\n",
    "            \n",
    "        queue = collections.deque([node for node in in_degree if in_degree[node] == 0])\n",
    "        \n",
    "        print(in_degree)\n",
    "        \n",
    "        res = \"\"\n",
    "        while queue:\n",
    "            node = queue.popleft()\n",
    "            res += node\n",
    "            for neighbor in graph[node]:\n",
    "                in_degree[neighbor] -= 1\n",
    "                if in_degree[neighbor] == 0:\n",
    "                    queue.append(neighbor)\n",
    "        \n",
    "        print(res)\n",
    "        if len(res) == len(graph):\n",
    "            return res\n",
    "    \n",
    "        return \"\""
   ]
  },
  {
   "cell_type": "markdown",
   "metadata": {},
   "source": [
    "# Verification"
   ]
  },
  {
   "cell_type": "code",
   "execution_count": 17,
   "metadata": {},
   "outputs": [
    {
     "name": "stdout",
     "output_type": "stream",
     "text": [
      "Input:    ['wrt', 'wrf', 'er', 'ett', 'rftt']\n",
      "{'w': 0, 'r': 1, 't': 1, 'f': 1, 'e': 1}\n",
      "wertf\n",
      "Output:   wertf\n",
      "Expected: wertf\n",
      "\n",
      "Input:    ['z', 'x']\n",
      "{'z': 0, 'x': 1}\n",
      "zx\n",
      "Output:   zx\n",
      "Expected: zx\n",
      "\n",
      "Input:    ['z', 'x', 'z']\n",
      "{'z': 1, 'x': 1}\n",
      "\n",
      "Output:   \n",
      "Expected: \n",
      "\n",
      "Input:    ['za', 'zb', 'ca', 'cb']\n",
      "{'z': 0, 'a': 1, 'b': 1, 'c': 1}\n",
      "zc\n",
      "Output:   \n",
      "Expected: abzc\n",
      "\n"
     ]
    }
   ],
   "source": [
    "testcases = [[\n",
    "  \"wrt\",\n",
    "  \"wrf\",\n",
    "  \"er\",\n",
    "  \"ett\",\n",
    "  \"rftt\"\n",
    "],\n",
    "[\n",
    "  \"z\",\n",
    "  \"x\"\n",
    "]\n",
    ",\n",
    "[\n",
    "  \"z\",\n",
    "  \"x\",\n",
    "  \"z\"\n",
    "],\n",
    "[\"za\",\"zb\",\"ca\",\"cb\"]]\n",
    "expected = [\"wertf\",\"zx\",\"\",\"abzc\"]\n",
    "\n",
    "outputs = []\n",
    "sol = Solution();\n",
    "\n",
    "for case in zip(testcases, expected):\n",
    "    print(\"Input:    \" + str(case[0]))\n",
    "    print(\"Output:   \" + str(sol.alienOrder(case[0])))\n",
    "    print(\"Expected: \" + str(case[1]) + \"\\n\")"
   ]
  }
 ],
 "metadata": {
  "kernelspec": {
   "display_name": "Python 3",
   "language": "python",
   "name": "python3"
  },
  "language_info": {
   "codemirror_mode": {
    "name": "ipython",
    "version": 3
   },
   "file_extension": ".py",
   "mimetype": "text/x-python",
   "name": "python",
   "nbconvert_exporter": "python",
   "pygments_lexer": "ipython3",
   "version": "3.7.3"
  }
 },
 "nbformat": 4,
 "nbformat_minor": 2
}
