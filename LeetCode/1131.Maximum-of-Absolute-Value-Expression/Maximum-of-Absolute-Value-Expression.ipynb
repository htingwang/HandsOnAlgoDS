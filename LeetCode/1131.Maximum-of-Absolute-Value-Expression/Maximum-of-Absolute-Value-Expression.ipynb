{
 "cells": [
  {
   "cell_type": "markdown",
   "metadata": {},
   "source": [
    "# 1131. Maximum of Absolute Value Expression\n",
    "#### https://leetcode.com/problems/minimum-cost-tree-from-leaf-values/"
   ]
  },
  {
   "cell_type": "markdown",
   "metadata": {},
   "source": [
    "# Approach 1"
   ]
  },
  {
   "cell_type": "code",
   "execution_count": 1,
   "metadata": {},
   "outputs": [],
   "source": [
    "class Solution(object):\n",
    "    def maxAbsValExpr(self, arr1, arr2):\n",
    "        \"\"\"\n",
    "        :type arr1: List[int]\n",
    "        :type arr2: List[int]\n",
    "        :rtype: int\n",
    "        \"\"\"\n",
    "        res = 0\n",
    "        for p, q in [[1,1],[1,-1],[-1,1],[-1,-1]]:\n",
    "            closest = arr1[0] * p + arr2[0] * q + 0\n",
    "            for i in range(len(arr1)):\n",
    "                cur = arr1[i] * p + arr2[i] * q + i\n",
    "                res = max(res, cur - closest)\n",
    "                closest = min(closest, cur)\n",
    "        return res"
   ]
  },
  {
   "cell_type": "markdown",
   "metadata": {},
   "source": [
    "# Verification"
   ]
  },
  {
   "cell_type": "code",
   "execution_count": 2,
   "metadata": {},
   "outputs": [
    {
     "name": "stdout",
     "output_type": "stream",
     "text": [
      "Input:    ([1, 2, 3, 4], [-1, 4, 5, 6])\n",
      "Output:   13\n",
      "Expected: 13\n",
      "\n",
      "Input:    ([1, -2, -5, 0, 10], [0, -2, -1, -7, -4])\n",
      "Output:   20\n",
      "Expected: 20\n",
      "\n"
     ]
    }
   ],
   "source": [
    "testcases = [([1,2,3,4],[-1,4,5,6]),([1,-2,-5,0,10],[0,-2,-1,-7,-4])]\n",
    "expected = [13,20]\n",
    "\n",
    "outputs = []\n",
    "sol = Solution();\n",
    "\n",
    "for case in zip(testcases, expected):\n",
    "    print(\"Input:    \" + str(case[0]))\n",
    "    print(\"Output:   \" + str(sol.maxAbsValExpr(case[0][0],case[0][1])))\n",
    "    print(\"Expected: \" + str(case[1]) + \"\\n\")"
   ]
  }
 ],
 "metadata": {
  "kernelspec": {
   "display_name": "Python 3",
   "language": "python",
   "name": "python3"
  },
  "language_info": {
   "codemirror_mode": {
    "name": "ipython",
    "version": 3
   },
   "file_extension": ".py",
   "mimetype": "text/x-python",
   "name": "python",
   "nbconvert_exporter": "python",
   "pygments_lexer": "ipython3",
   "version": "3.7.3"
  }
 },
 "nbformat": 4,
 "nbformat_minor": 2
}
