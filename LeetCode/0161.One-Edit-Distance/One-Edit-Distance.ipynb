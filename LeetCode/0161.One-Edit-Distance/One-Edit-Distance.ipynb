{
 "cells": [
  {
   "cell_type": "markdown",
   "metadata": {},
   "source": [
    "# 161. One Edit Distance\n",
    "#### https://leetcode.com/problems/one-edit-distance/"
   ]
  },
  {
   "cell_type": "markdown",
   "metadata": {},
   "source": [
    "# Approach 1"
   ]
  },
  {
   "cell_type": "code",
   "execution_count": 5,
   "metadata": {},
   "outputs": [],
   "source": [
    "class Solution(object):\n",
    "    def isOneEditDistance(self, s, t):\n",
    "        \"\"\"\n",
    "        :type s: str\n",
    "        :type t: str\n",
    "        :rtype: bool\n",
    "        \"\"\"\n",
    "        if len(s) < len(t):\n",
    "            s, t = t, s\n",
    "        if len(s) - len(t) > 1:\n",
    "            return False\n",
    "        \n",
    "        for i in range(min(len(s), len(t))):\n",
    "            if s[i] != t[i]:\n",
    "                if len(s) == len(t):\n",
    "                    return s[i + 1 : ] == t[i + 1 : ]\n",
    "                else:\n",
    "                    return s[i + 1 :] == t[i : ]\n",
    "        return len(s) - len(t) == 1"
   ]
  },
  {
   "cell_type": "markdown",
   "metadata": {},
   "source": [
    "# Verification"
   ]
  },
  {
   "cell_type": "code",
   "execution_count": 6,
   "metadata": {},
   "outputs": [
    {
     "name": "stdout",
     "output_type": "stream",
     "text": [
      "Input: ('ab', 'acb')\n",
      "Output: True\n",
      "Expected: True\n",
      "\n",
      "Input: ('cab', 'ad')\n",
      "Output: False\n",
      "Expected: False\n",
      "\n",
      "Input: ('1203', '1213')\n",
      "Output: True\n",
      "Expected: True\n",
      "\n",
      "Input: ('a', 'ac')\n",
      "Output: True\n",
      "Expected: True\n",
      "\n"
     ]
    }
   ],
   "source": [
    "testcases = [(\"ab\",\"acb\"),(\"cab\",\"ad\"),(\"1203\",\"1213\"),(\"a\",\"ac\")]\n",
    "answers = [True,False,True,True]\n",
    "sol = Solution();\n",
    "for case in zip(testcases, answers):\n",
    "    print(\"Input: \" + str(case[0]))\n",
    "    print(\"Output: \" + str(sol.isOneEditDistance(case[0][0],case[0][1])))\n",
    "    print(\"Expected: \" + str(case[1]) + \"\\n\")"
   ]
  }
 ],
 "metadata": {
  "kernelspec": {
   "display_name": "Python 3",
   "language": "python",
   "name": "python3"
  },
  "language_info": {
   "codemirror_mode": {
    "name": "ipython",
    "version": 3
   },
   "file_extension": ".py",
   "mimetype": "text/x-python",
   "name": "python",
   "nbconvert_exporter": "python",
   "pygments_lexer": "ipython3",
   "version": "3.7.3"
  }
 },
 "nbformat": 4,
 "nbformat_minor": 2
}
