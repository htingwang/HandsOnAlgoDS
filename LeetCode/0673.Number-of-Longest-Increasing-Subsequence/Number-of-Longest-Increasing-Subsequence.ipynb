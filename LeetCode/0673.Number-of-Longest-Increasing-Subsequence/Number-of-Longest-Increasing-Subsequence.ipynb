{
 "cells": [
  {
   "cell_type": "markdown",
   "metadata": {},
   "source": [
    "# 673. Number of Longest Increasing Subsequence\n",
    "#### https://leetcode.com/problems/number-of-longest-increasing-subsequence/"
   ]
  },
  {
   "cell_type": "markdown",
   "metadata": {},
   "source": [
    "# Approach 1: Dynamic Programming"
   ]
  },
  {
   "cell_type": "code",
   "execution_count": 44,
   "metadata": {},
   "outputs": [],
   "source": [
    "class Solution(object):\n",
    "    def findNumberOfLIS(self, nums):\n",
    "        \"\"\"\n",
    "        :type nums: List[int]\n",
    "        :rtype: int\n",
    "        \"\"\"\n",
    "        if not nums: return 0\n",
    "        n = len(nums)\n",
    "        dp = [1] * n\n",
    "        cnt = [1] * n\n",
    "        res = 0\n",
    "        max_len= 0\n",
    "        for i in range(len(nums)):\n",
    "            for j in range(i):\n",
    "                if nums[j] < nums[i]:\n",
    "                    if dp[j] + 1 >= dp[i]:\n",
    "                        if dp[j] + 1 == dp[i]: cnt[i] += cnt[j]\n",
    "                        else: cnt[i] = cnt[j]\n",
    "                        dp[i] = dp[j] + 1\n",
    "            \n",
    "            if dp[i] >= max_len:\n",
    "                #print(i,dp[i], max_len, res, cnt)\n",
    "                if dp[i] == max_len: res += cnt[i]\n",
    "                else: res = cnt[i]\n",
    "                max_len = dp[i]\n",
    "        #print(dp)        \n",
    "        return res"
   ]
  },
  {
   "cell_type": "markdown",
   "metadata": {},
   "source": [
    "# Approach 2: Segment Tree"
   ]
  },
  {
   "cell_type": "code",
   "execution_count": 52,
   "metadata": {},
   "outputs": [],
   "source": [
    "from collections import deque\n",
    "class Node(object):\n",
    "    def __init__(self, start, end):\n",
    "        self.range_left, self.range_right = start, end\n",
    "        self._left = self._right = None\n",
    "        self.val = 0, 1 #length, count\n",
    "    @property\n",
    "    def range_mid(self):\n",
    "        return (self.range_left + self.range_right) // 2\n",
    "    @property\n",
    "    def left(self):\n",
    "        self._left = self._left or Node(self.range_left, self.range_mid)\n",
    "        return self._left\n",
    "    @property\n",
    "    def right(self):\n",
    "        self._right = self._right or Node(self.range_mid + 1, self.range_right)\n",
    "        return self._right\n",
    "\n",
    "def merge(v1, v2):\n",
    "    if v1[0] == v2[0]:\n",
    "        if v1[0] == 0: return (0, 1)\n",
    "        return v1[0], v1[1] + v2[1]\n",
    "    return max(v1, v2)\n",
    "\n",
    "def insert(node, key, val):\n",
    "    if node.range_left == node.range_right:\n",
    "        node.val = merge(val, node.val)\n",
    "        return\n",
    "    if key <= node.range_mid:\n",
    "        insert(node.left, key, val)\n",
    "    else:\n",
    "        insert(node.right, key, val)\n",
    "    node.val = merge(node.left.val, node.right.val)\n",
    "\n",
    "def query(node, key):\n",
    "    if node.range_right <= key:\n",
    "        return node.val\n",
    "    elif node.range_left > key:\n",
    "        return 0, 1\n",
    "    else:\n",
    "        return merge(query(node.left, key), query(node.right, key))\n",
    "\n",
    "class Solution(object):\n",
    "    def findNumberOfLIS(self, nums):\n",
    "        if not nums: return 0\n",
    "        root = Node(min(nums), max(nums))\n",
    "        for num in nums:\n",
    "            length, count = query(root, num-1)\n",
    "            print(num, length, count)\n",
    "            insert(root, num, (length+1, count))\n",
    "        queue = deque()\n",
    "        queue.append(root)\n",
    "        while queue:\n",
    "            node = queue.popleft()\n",
    "            print(node.range_left, node.range_right, node.val)\n",
    "            if node._left: queue.append(node._left)\n",
    "            if node._right: queue.append(node._right)\n",
    "        return root.val[1]"
   ]
  },
  {
   "cell_type": "markdown",
   "metadata": {},
   "source": [
    "# Verification"
   ]
  },
  {
   "cell_type": "code",
   "execution_count": 53,
   "metadata": {},
   "outputs": [
    {
     "name": "stdout",
     "output_type": "stream",
     "text": [
      "Input:    [1, 2, 4, 3, 5, 4, 7, 2]\n",
      "1 0 1\n",
      "2 1 1\n",
      "4 2 1\n",
      "3 2 1\n",
      "5 3 2\n",
      "4 3 1\n",
      "7 4 3\n",
      "2 1 1\n",
      "1 7 (5, 3)\n",
      "1 4 (4, 1)\n",
      "5 7 (5, 3)\n",
      "1 2 (2, 2)\n",
      "3 4 (4, 1)\n",
      "5 6 (4, 2)\n",
      "7 7 (5, 3)\n",
      "1 1 (1, 1)\n",
      "2 2 (2, 2)\n",
      "3 3 (3, 1)\n",
      "4 4 (4, 1)\n",
      "5 5 (4, 2)\n",
      "6 6 (0, 1)\n",
      "Output:   3\n",
      "Expected: 3\n",
      "\n"
     ]
    }
   ],
   "source": [
    "testcases = [[1,3,5,4,7],[2,2,2,2,2],[1,2,4,3,5,4,7,2]]\n",
    "expected = [2,5,3]\n",
    "\n",
    "testcases = testcases[-1:]\n",
    "expected = expected[-1:]\n",
    "\n",
    "outputs = []\n",
    "sol = Solution();\n",
    "\n",
    "for case in zip(testcases, expected):\n",
    "    print(\"Input:    \" + str(case[0]))\n",
    "    print(\"Output:   \" + str(sol.findNumberOfLIS(case[0])))\n",
    "    print(\"Expected: \" + str(case[1]) + \"\\n\")"
   ]
  }
 ],
 "metadata": {
  "kernelspec": {
   "display_name": "Python 3",
   "language": "python",
   "name": "python3"
  },
  "language_info": {
   "codemirror_mode": {
    "name": "ipython",
    "version": 3
   },
   "file_extension": ".py",
   "mimetype": "text/x-python",
   "name": "python",
   "nbconvert_exporter": "python",
   "pygments_lexer": "ipython3",
   "version": "3.7.3"
  }
 },
 "nbformat": 4,
 "nbformat_minor": 2
}
