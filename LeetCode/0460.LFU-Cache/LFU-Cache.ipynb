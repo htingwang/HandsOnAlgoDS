{
 "cells": [
  {
   "cell_type": "markdown",
   "metadata": {},
   "source": [
    "# 460. LFU Cache\n",
    "#### https://leetcode.com/problems/lfu-cache/"
   ]
  },
  {
   "cell_type": "markdown",
   "metadata": {},
   "source": [
    "# Approach 1: Hash Table + Double Linked List"
   ]
  },
  {
   "cell_type": "code",
   "execution_count": 7,
   "metadata": {},
   "outputs": [],
   "source": [
    "class DListNode(object):\n",
    "    def __init__(self, key, val, freq):\n",
    "        self.next = None\n",
    "        self.prev = None\n",
    "        self.key = key\n",
    "        self.val = val\n",
    "        self.freq = freq\n",
    "\n",
    "class LFUCache(object):\n",
    "\n",
    "    def __init__(self, capacity):\n",
    "        \"\"\"\n",
    "        :type capacity: int\n",
    "        \"\"\"\n",
    "        self.capacity = capacity\n",
    "        self.head = DListNode(-1, -1, 0)\n",
    "        self.tail = DListNode(-1, -1, 0)\n",
    "        self.head.next = self.tail\n",
    "        self.tail.prev = self.head\n",
    "        self.key_to_node = {}\n",
    "        self.freq_to_node = {0: self.tail}\n",
    "        \n",
    "    def remove(self, node):\n",
    "        if node.freq != node.prev.freq and node.freq != node.next.freq:\n",
    "            del self.freq_to_node[node.freq]\n",
    "        elif self.freq_to_node[node.freq] == node:\n",
    "            self.freq_to_node[node.freq] = node.prev\n",
    "        node.prev.next = node.next\n",
    "        node.next.prev = node.prev\n",
    "        \n",
    "    def insert(self, node_ref, node):\n",
    "        node.prev = node_ref\n",
    "        node.next = node_ref.next\n",
    "        node_ref.next = node\n",
    "        node.next.prev = node\n",
    "        \n",
    "    def update(self, node):\n",
    "        p = node.prev\n",
    "        self.remove(node)\n",
    "        node.freq += 1\n",
    "        if node.freq in self.freq_to_node:\n",
    "            self.insert(self.freq_to_node[node.freq], node)\n",
    "        elif node.freq - 1 in self.freq_to_node:\n",
    "            self.insert(self.freq_to_node[node.freq - 1], node)\n",
    "        else:\n",
    "            self.insert(p, node)    \n",
    "        self.freq_to_node[node.freq] = node \n",
    "        \n",
    "    def get(self, key):\n",
    "        \"\"\"\n",
    "        :type key: int\n",
    "        :rtype: int\n",
    "        \"\"\"\n",
    "        if self.capacity <= 0: return -1\n",
    "        if key not in self.key_to_node:\n",
    "            return -1\n",
    "        \n",
    "        node = self.key_to_node[key]\n",
    "        self.update(node)\n",
    "\n",
    "        return node.val\n",
    "        \n",
    "\n",
    "    def put(self, key, value):\n",
    "        \"\"\"\n",
    "        :type key: int\n",
    "        :type value: int\n",
    "        :rtype: None\n",
    "        \"\"\"\n",
    "        if self.capacity <= 0: return\n",
    "        if key not in self.key_to_node:\n",
    "            if len(self.key_to_node) == self.capacity:\n",
    "                node = self.head\n",
    "                del self.key_to_node[self.head.next.key]\n",
    "                self.remove(self.head.next)\n",
    "                \n",
    "            node = DListNode(key, value, 1)\n",
    "            node_ref = self.freq_to_node[1] if 1 in self.freq_to_node else self.head\n",
    "            self.insert(node_ref, node)\n",
    "            self.key_to_node[key] = node\n",
    "            self.freq_to_node[1] = node\n",
    "            return\n",
    "\n",
    "        node = self.key_to_node[key]\n",
    "        node.val = value\n",
    "        self.update(node)\n",
    "\n",
    "# Your LFUCache object will be instantiated and called as such:\n",
    "# obj = LFUCache(capacity)\n",
    "# param_1 = obj.get(key)\n",
    "# obj.put(key,value)"
   ]
  },
  {
   "cell_type": "markdown",
   "metadata": {},
   "source": [
    "# Verification"
   ]
  },
  {
   "cell_type": "code",
   "execution_count": 8,
   "metadata": {},
   "outputs": [
    {
     "name": "stdout",
     "output_type": "stream",
     "text": [
      "Input:    (['LFUCache', 'put', 'get', 'put', 'get', 'get'], [[1], [2, 1], [2], [3, 2], [2], [3]])\n",
      "Output:   [None, None, 1, None, -1, 2]\n",
      "Expected: [None, None, 1, None, -1, 2]\n",
      "\n"
     ]
    }
   ],
   "source": [
    "testcases = [([\"LFUCache\",\"put\",\"get\",\"put\",\"get\",\"get\"],[[1],[2,1],[2],[3,2],[2],[3]])]\n",
    "expected = [[None,None,1,None,-1,2]]\n",
    "\n",
    "for case in zip(testcases, expected):\n",
    "    outputs = [None]\n",
    "    sol = LFUCache(case[0][1][0][0])\n",
    "    print(\"Input:    \" + str(case[0]))\n",
    "    funcs = case[0][0]\n",
    "    params = case[0][1]\n",
    "    for i, func in enumerate(funcs):\n",
    "        if i: param = params[i]\n",
    "        if func == \"put\":\n",
    "            outputs.append(sol.put(param[0], param[1]))\n",
    "        if func == \"get\":\n",
    "            outputs.append(sol.get(param[0]))\n",
    "    print(\"Output:   \" + str(outputs))\n",
    "    print(\"Expected: \" + str(case[1]) + \"\\n\")"
   ]
  }
 ],
 "metadata": {
  "kernelspec": {
   "display_name": "Python 3",
   "language": "python",
   "name": "python3"
  },
  "language_info": {
   "codemirror_mode": {
    "name": "ipython",
    "version": 3
   },
   "file_extension": ".py",
   "mimetype": "text/x-python",
   "name": "python",
   "nbconvert_exporter": "python",
   "pygments_lexer": "ipython3",
   "version": "3.7.3"
  }
 },
 "nbformat": 4,
 "nbformat_minor": 2
}
