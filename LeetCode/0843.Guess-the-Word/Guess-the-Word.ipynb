{
 "cells": [
  {
   "cell_type": "markdown",
   "metadata": {},
   "source": [
    "# 843. Guess the Word\n",
    "#### https://leetcode.com/problems/guess-the-word/"
   ]
  },
  {
   "cell_type": "markdown",
   "metadata": {},
   "source": [
    "# Approach 1"
   ]
  },
  {
   "cell_type": "code",
   "execution_count": 3,
   "metadata": {},
   "outputs": [],
   "source": [
    "import collections\n",
    "class Solution(object):\n",
    "    def findSecretWord(self, wordlist, master):\n",
    "        \"\"\"\n",
    "        :type wordlist: List[Str]\n",
    "        :type master: Master\n",
    "        :rtype: None\n",
    "        \"\"\"\n",
    "        count = collections.defaultdict(int)\n",
    "        for word1 in wordlist:\n",
    "            for word2 in wordlist:\n",
    "                if self.match(word1, word2) == 0:\n",
    "                    count[word1] += 1\n",
    "                    \n",
    "        n = 0\n",
    "        while n < 6:\n",
    "            guess = min(wordlist, key = lambda w : count[w])\n",
    "            n = master.guess(guess)\n",
    "            wordlist = [w for w in wordlist if self.match(w, guess) == n]\n",
    "            \n",
    "    def match(self, word1, word2):\n",
    "        matches = 0\n",
    "        for i in range(len(word1)):\n",
    "            if word1[i] == word2[i]:\n",
    "                matches += 1\n",
    "        return matches"
   ]
  },
  {
   "cell_type": "markdown",
   "metadata": {},
   "source": [
    "# Verification"
   ]
  },
  {
   "cell_type": "code",
   "execution_count": 10,
   "metadata": {},
   "outputs": [
    {
     "name": "stdout",
     "output_type": "stream",
     "text": [
      "Input:    ('acckzz', ['acckzz', 'ccbazz', 'eiowzz', 'abcczz'], 10)\n",
      "Output:   Ok\n",
      "Expected: Ok\n",
      "\n"
     ]
    }
   ],
   "source": [
    "testcases = [(\"acckzz\",[\"acckzz\",\"ccbazz\",\"eiowzz\",\"abcczz\"],10)]\n",
    "expected = [\"Ok\"]\n",
    "\n",
    "class Master(object):\n",
    "    def __init__(self, secret):\n",
    "        self.secret = secret\n",
    "        self.count = 0\n",
    "        \n",
    "    def guess(self, word):\n",
    "        self.count += 1\n",
    "        matches = 0\n",
    "        for i in range(len(word)):\n",
    "            if self.secret[i] == word[i]:\n",
    "                matches += 1\n",
    "        return matches\n",
    "    \n",
    "    \n",
    "outputs = []\n",
    "sol = Solution();\n",
    "\n",
    "for case in zip(testcases, expected):\n",
    "    m = Master(case[0][0])\n",
    "    print(\"Input:    \" + str(case[0]))\n",
    "    sol.findSecretWord(case[0][1],m)\n",
    "    if m.count > case[0][2]:\n",
    "        print(\"Output:   Ng\")\n",
    "    else:\n",
    "        print(\"Output:   Ok\")\n",
    "    print(\"Expected: \" + str(case[1]) + \"\\n\")"
   ]
  }
 ],
 "metadata": {
  "kernelspec": {
   "display_name": "Python 3",
   "language": "python",
   "name": "python3"
  },
  "language_info": {
   "codemirror_mode": {
    "name": "ipython",
    "version": 3
   },
   "file_extension": ".py",
   "mimetype": "text/x-python",
   "name": "python",
   "nbconvert_exporter": "python",
   "pygments_lexer": "ipython3",
   "version": "3.7.3"
  }
 },
 "nbformat": 4,
 "nbformat_minor": 2
}
