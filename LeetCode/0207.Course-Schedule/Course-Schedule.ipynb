{
 "cells": [
  {
   "cell_type": "markdown",
   "metadata": {},
   "source": [
    "# 207. Course Schedule\n",
    "#### https://leetcode.com/problems/minimum-size-subarray-sum/"
   ]
  },
  {
   "cell_type": "markdown",
   "metadata": {},
   "source": [
    "# Approach 1: BFS"
   ]
  },
  {
   "cell_type": "code",
   "execution_count": 6,
   "metadata": {},
   "outputs": [],
   "source": [
    "from collections import deque, defaultdict\n",
    "\n",
    "class Solution(object):\n",
    "    def canFinish(self, numCourses, prerequisites):\n",
    "        \"\"\"\n",
    "        :type numCourses: int\n",
    "        :type prerequisites: List[List[int]]\n",
    "        :rtype: bool\n",
    "        \"\"\"\n",
    "        graph = defaultdict(list)\n",
    "        in_degree = [0] * numCourses\n",
    "        \n",
    "        for p in prerequisites:\n",
    "            graph[p[1]].append(p[0])\n",
    "            in_degree[p[0]] += 1\n",
    "            \n",
    "        queue = deque()\n",
    "        for i in range(numCourses):\n",
    "            if in_degree[i] == 0:\n",
    "                queue.append(i)\n",
    "        \n",
    "        count = 0\n",
    "        while queue:\n",
    "            count += 1\n",
    "            cur = queue.popleft()\n",
    "            for i in graph[cur]:\n",
    "                in_degree[i] -= 1\n",
    "                if in_degree[i] == 0:\n",
    "                    queue.append(i)\n",
    "                    \n",
    "        return count == numCourses"
   ]
  },
  {
   "cell_type": "markdown",
   "metadata": {},
   "source": [
    "# Approach 2: DFS"
   ]
  },
  {
   "cell_type": "code",
   "execution_count": 7,
   "metadata": {},
   "outputs": [],
   "source": [
    "from collections import defaultdict\n",
    "\n",
    "class Solution(object):\n",
    "    def canFinish(self, numCourses, prerequisites):\n",
    "        \"\"\"\n",
    "        :type numCourses: int\n",
    "        :type prerequisites: List[List[int]]\n",
    "        :rtype: bool\n",
    "        \"\"\"\n",
    "        graph = defaultdict(list)\n",
    "        visit = [0] * numCourses\n",
    "        \n",
    "        for p in prerequisites:\n",
    "            graph[p[1]].append(p[0])\n",
    "            \n",
    "        for i in range(numCourses):\n",
    "            if not self.dfs(graph, visit, i): return False\n",
    "            \n",
    "        return True\n",
    "            \n",
    "    def dfs(self, graph, visit, cur):\n",
    "        if visit[cur] == 1: return True\n",
    "        if visit[cur] == -1: return False\n",
    "        \n",
    "        visit[cur] = -1\n",
    "        for n in graph[cur]:\n",
    "            if not self.dfs(graph, visit, n): return False\n",
    "        visit[cur] = 1\n",
    "        \n",
    "        return True"
   ]
  },
  {
   "cell_type": "markdown",
   "metadata": {},
   "source": [
    "# Verification"
   ]
  },
  {
   "cell_type": "code",
   "execution_count": 8,
   "metadata": {},
   "outputs": [
    {
     "name": "stdout",
     "output_type": "stream",
     "text": [
      "Input:    (2, [[1, 0]])\n",
      "Output:   True\n",
      "Expected: True\n",
      "\n",
      "Input:    (2, [[1, 0], [0, 1]])\n",
      "Output:   False\n",
      "Expected: False\n",
      "\n",
      "Input:    (3, [[0, 1], [0, 2], [1, 2]])\n",
      "Output:   True\n",
      "Expected: True\n",
      "\n"
     ]
    }
   ],
   "source": [
    "testcases = [(2, [[1,0]]),(2, [[1,0],[0,1]]),(3,[[0,1],[0,2],[1,2]])]\n",
    "expected = [True, False, True]\n",
    "\n",
    "outputs = []\n",
    "sol = Solution();\n",
    "\n",
    "for case in zip(testcases, expected):\n",
    "    print(\"Input:    \" + str(case[0]))\n",
    "    print(\"Output:   \" + str(sol.canFinish(case[0][0], case[0][1])))\n",
    "    print(\"Expected: \" + str(case[1]) + \"\\n\")"
   ]
  }
 ],
 "metadata": {
  "kernelspec": {
   "display_name": "Python 3",
   "language": "python",
   "name": "python3"
  },
  "language_info": {
   "codemirror_mode": {
    "name": "ipython",
    "version": 3
   },
   "file_extension": ".py",
   "mimetype": "text/x-python",
   "name": "python",
   "nbconvert_exporter": "python",
   "pygments_lexer": "ipython3",
   "version": "3.7.3"
  }
 },
 "nbformat": 4,
 "nbformat_minor": 2
}
