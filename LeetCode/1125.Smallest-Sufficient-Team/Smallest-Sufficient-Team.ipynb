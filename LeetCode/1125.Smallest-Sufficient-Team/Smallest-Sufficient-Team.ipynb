{
 "cells": [
  {
   "cell_type": "markdown",
   "metadata": {},
   "source": [
    "# 1125. Smallest Sufficient Team\n",
    "#### https://leetcode.com/problems/longest-well-performing-interval/"
   ]
  },
  {
   "cell_type": "markdown",
   "metadata": {},
   "source": [
    "# Approach 1"
   ]
  },
  {
   "cell_type": "code",
   "execution_count": 9,
   "metadata": {},
   "outputs": [],
   "source": [
    "class Solution(object):\n",
    "    def smallestSufficientTeam(self, req_skills, people):\n",
    "        \"\"\"\n",
    "        :type req_skills: List[str]\n",
    "        :type people: List[List[str]]\n",
    "        :rtype: List[int]\n",
    "        \"\"\"\n",
    "        dp = {0 : []}\n",
    "        skills_to_idx = {skills : 1 << i for i, skills in enumerate(req_skills)}\n",
    "        \n",
    "        for i, p in enumerate(people):\n",
    "            cur_skills = 0\n",
    "            for s in p:\n",
    "                cur_skills |= skills_to_idx[s]\n",
    "\n",
    "            for skills, team in list(dp.items()):\n",
    "                comb_skills = skills | cur_skills\n",
    "                if comb_skills == skills: continue\n",
    "                if comb_skills not in dp or len(dp[comb_skills]) > len(team) + 1:\n",
    "                    dp[comb_skills] = team + [i]\n",
    "                    \n",
    "        return dp[(1 << len(req_skills)) - 1]"
   ]
  },
  {
   "cell_type": "markdown",
   "metadata": {},
   "source": [
    "# Verification"
   ]
  },
  {
   "cell_type": "code",
   "execution_count": 10,
   "metadata": {},
   "outputs": [
    {
     "name": "stdout",
     "output_type": "stream",
     "text": [
      "Input:    (['java', 'nodejs', 'reactjs'], [['java'], ['nodejs'], ['nodejs', 'reactjs']])\n",
      "Output:   [0, 2]\n",
      "Expected: [0, 2]\n",
      "\n",
      "Input:    (['hkyodbbhr', 'p', 'biflxurxdvb', 'x', 'qq', 'yhiwcn'], [['yhiwcn'], [], [], [], ['biflxurxdvb', 'yhiwcn'], ['hkyodbbhr'], ['hkyodbbhr', 'p'], ['hkyodbbhr'], [], ['yhiwcn'], ['hkyodbbhr', 'qq'], ['qq'], ['hkyodbbhr'], ['yhiwcn'], [], ['biflxurxdvb'], [], ['hkyodbbhr'], ['hkyodbbhr', 'yhiwcn'], ['yhiwcn'], ['hkyodbbhr'], ['hkyodbbhr', 'p'], [], [], ['hkyodbbhr'], ['biflxurxdvb'], ['qq', 'yhiwcn'], ['hkyodbbhr', 'yhiwcn'], ['hkyodbbhr'], [], [], ['hkyodbbhr'], [], ['yhiwcn'], [], ['hkyodbbhr'], ['yhiwcn'], ['yhiwcn'], [], [], ['hkyodbbhr', 'yhiwcn'], ['yhiwcn'], ['yhiwcn'], [], [], [], ['yhiwcn'], [], ['yhiwcn'], ['x'], ['hkyodbbhr'], [], [], ['yhiwcn'], [], ['biflxurxdvb'], [], [], ['hkyodbbhr', 'biflxurxdvb', 'yhiwcn'], []])\n",
      "Output:   [4, 6, 10, 49]\n",
      "Expected: [4, 6, 10, 49]\n",
      "\n",
      "Input:    (['gkgtfxpvxnxlbhxu', 'baayobms', 'yomqrposuurmvisx', 'vsftojpcp', 'pjovtkytubbouq', 'hlmvucyi', 'chpzrslbtd', 'uighcqpiteg'], [['pjovtkytubbouq'], ['baayobms'], ['baayobms', 'pjovtkytubbouq'], ['chpzrslbtd'], [], ['yomqrposuurmvisx'], ['uighcqpiteg'], [], ['gkgtfxpvxnxlbhxu', 'yomqrposuurmvisx', 'uighcqpiteg'], [], ['pjovtkytubbouq', 'uighcqpiteg'], ['yomqrposuurmvisx'], [], [], [], ['pjovtkytubbouq'], ['gkgtfxpvxnxlbhxu', 'yomqrposuurmvisx', 'pjovtkytubbouq', 'uighcqpiteg'], ['yomqrposuurmvisx', 'pjovtkytubbouq'], ['chpzrslbtd'], ['pjovtkytubbouq'], [], [], ['baayobms'], ['yomqrposuurmvisx', 'chpzrslbtd'], ['yomqrposuurmvisx', 'pjovtkytubbouq'], ['pjovtkytubbouq'], [], ['yomqrposuurmvisx'], [], ['yomqrposuurmvisx', 'pjovtkytubbouq'], [], [], [], ['yomqrposuurmvisx'], [], ['pjovtkytubbouq'], [], [], [], ['vsftojpcp'], [], ['yomqrposuurmvisx', 'pjovtkytubbouq'], [], [], ['gkgtfxpvxnxlbhxu'], ['yomqrposuurmvisx'], ['pjovtkytubbouq', 'chpzrslbtd'], ['uighcqpiteg'], ['pjovtkytubbouq'], ['yomqrposuurmvisx', 'pjovtkytubbouq', 'uighcqpiteg'], [], ['pjovtkytubbouq'], [], ['chpzrslbtd'], ['hlmvucyi'], ['yomqrposuurmvisx', 'pjovtkytubbouq'], ['pjovtkytubbouq'], [], ['yomqrposuurmvisx'], []])\n",
      "Output:   [2, 3, 8, 39, 54]\n",
      "Expected: [2, 3, 8, 39, 54]\n",
      "\n"
     ]
    }
   ],
   "source": [
    "testcases = [([\"java\",\"nodejs\",\"reactjs\"],[[\"java\"],[\"nodejs\"],[\"nodejs\",\"reactjs\"]]),([\"hkyodbbhr\",\"p\",\"biflxurxdvb\",\"x\",\"qq\",\"yhiwcn\"],[[\"yhiwcn\"],[],[],[],[\"biflxurxdvb\",\"yhiwcn\"],[\"hkyodbbhr\"],[\"hkyodbbhr\",\"p\"],[\"hkyodbbhr\"],[],[\"yhiwcn\"],[\"hkyodbbhr\",\"qq\"],[\"qq\"],[\"hkyodbbhr\"],[\"yhiwcn\"],[],[\"biflxurxdvb\"],[],[\"hkyodbbhr\"],[\"hkyodbbhr\",\"yhiwcn\"],[\"yhiwcn\"],[\"hkyodbbhr\"],[\"hkyodbbhr\",\"p\"],[],[],[\"hkyodbbhr\"],[\"biflxurxdvb\"],[\"qq\",\"yhiwcn\"],[\"hkyodbbhr\",\"yhiwcn\"],[\"hkyodbbhr\"],[],[],[\"hkyodbbhr\"],[],[\"yhiwcn\"],[],[\"hkyodbbhr\"],[\"yhiwcn\"],[\"yhiwcn\"],[],[],[\"hkyodbbhr\",\"yhiwcn\"],[\"yhiwcn\"],[\"yhiwcn\"],[],[],[],[\"yhiwcn\"],[],[\"yhiwcn\"],[\"x\"],[\"hkyodbbhr\"],[],[],[\"yhiwcn\"],[],[\"biflxurxdvb\"],[],[],[\"hkyodbbhr\",\"biflxurxdvb\",\"yhiwcn\"],[]]),([\"gkgtfxpvxnxlbhxu\",\"baayobms\",\"yomqrposuurmvisx\",\"vsftojpcp\",\"pjovtkytubbouq\",\"hlmvucyi\",\"chpzrslbtd\",\"uighcqpiteg\"],[[\"pjovtkytubbouq\"],[\"baayobms\"],[\"baayobms\",\"pjovtkytubbouq\"],[\"chpzrslbtd\"],[],[\"yomqrposuurmvisx\"],[\"uighcqpiteg\"],[],[\"gkgtfxpvxnxlbhxu\",\"yomqrposuurmvisx\",\"uighcqpiteg\"],[],[\"pjovtkytubbouq\",\"uighcqpiteg\"],[\"yomqrposuurmvisx\"],[],[],[],[\"pjovtkytubbouq\"],[\"gkgtfxpvxnxlbhxu\",\"yomqrposuurmvisx\",\"pjovtkytubbouq\",\"uighcqpiteg\"],[\"yomqrposuurmvisx\",\"pjovtkytubbouq\"],[\"chpzrslbtd\"],[\"pjovtkytubbouq\"],[],[],[\"baayobms\"],[\"yomqrposuurmvisx\",\"chpzrslbtd\"],[\"yomqrposuurmvisx\",\"pjovtkytubbouq\"],[\"pjovtkytubbouq\"],[],[\"yomqrposuurmvisx\"],[],[\"yomqrposuurmvisx\",\"pjovtkytubbouq\"],[],[],[],[\"yomqrposuurmvisx\"],[],[\"pjovtkytubbouq\"],[],[],[],[\"vsftojpcp\"],[],[\"yomqrposuurmvisx\",\"pjovtkytubbouq\"],[],[],[\"gkgtfxpvxnxlbhxu\"],[\"yomqrposuurmvisx\"],[\"pjovtkytubbouq\",\"chpzrslbtd\"],[\"uighcqpiteg\"],[\"pjovtkytubbouq\"],[\"yomqrposuurmvisx\",\"pjovtkytubbouq\",\"uighcqpiteg\"],[],[\"pjovtkytubbouq\"],[],[\"chpzrslbtd\"],[\"hlmvucyi\"],[\"yomqrposuurmvisx\",\"pjovtkytubbouq\"],[\"pjovtkytubbouq\"],[],[\"yomqrposuurmvisx\"],[]])]\n",
    "expected = [[0,2],[4,6,10,49],[2,3,8,39,54]]\n",
    "\n",
    "outputs = []\n",
    "sol = Solution();\n",
    "\n",
    "for case in zip(testcases, expected):\n",
    "    print(\"Input:    \" + str(case[0]))\n",
    "    print(\"Output:   \" + str(sol.smallestSufficientTeam(case[0][0],case[0][1])))\n",
    "    print(\"Expected: \" + str(case[1]) + \"\\n\")"
   ]
  }
 ],
 "metadata": {
  "kernelspec": {
   "display_name": "Python 3",
   "language": "python",
   "name": "python3"
  },
  "language_info": {
   "codemirror_mode": {
    "name": "ipython",
    "version": 3
   },
   "file_extension": ".py",
   "mimetype": "text/x-python",
   "name": "python",
   "nbconvert_exporter": "python",
   "pygments_lexer": "ipython3",
   "version": "3.7.3"
  }
 },
 "nbformat": 4,
 "nbformat_minor": 2
}
