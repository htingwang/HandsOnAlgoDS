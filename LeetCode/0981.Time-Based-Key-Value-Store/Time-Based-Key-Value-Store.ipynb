{
 "cells": [
  {
   "cell_type": "markdown",
   "metadata": {},
   "source": [
    "# 981. Time Based Key-Value Store\n",
    "#### https://leetcode.com/problems/time-based-key-value-store/"
   ]
  },
  {
   "cell_type": "markdown",
   "metadata": {},
   "source": [
    "# Approach 1: Hash + Binary Search"
   ]
  },
  {
   "cell_type": "code",
   "execution_count": 7,
   "metadata": {},
   "outputs": [],
   "source": [
    "import collections\n",
    "class TimeMap(object):\n",
    "\n",
    "    def __init__(self):\n",
    "        \"\"\"\n",
    "        Initialize your data structure here.\n",
    "        \"\"\"\n",
    "        self.maps = collections.defaultdict(list)\n",
    "        \n",
    "\n",
    "    def set(self, key, value, timestamp):\n",
    "        \"\"\"\n",
    "        :type key: str\n",
    "        :type value: str\n",
    "        :type timestamp: int\n",
    "        :rtype: None\n",
    "        \"\"\"\n",
    "        self.maps[key].append((value, timestamp))\n",
    "        \n",
    "\n",
    "    def get(self, key, timestamp):\n",
    "        \"\"\"\n",
    "        :type key: str\n",
    "        :type timestamp: int\n",
    "        :rtype: str\n",
    "        \"\"\"\n",
    "        if key in self.maps:\n",
    "            left, right = 0, len(self.maps[key]) - 1\n",
    "            while left < right:\n",
    "                mid = (left + right) // 2\n",
    "                if self.maps[key][mid][1] <= timestamp:\n",
    "                    left = mid + 1\n",
    "                else:\n",
    "                    right = mid\n",
    "            if self.maps[key][left][1] <= timestamp:\n",
    "                return self.maps[key][left][0]\n",
    "            elif left >= 1: return self.maps[key][left - 1][0]\n",
    "        return \"\"\n",
    "\n",
    "\n",
    "# Your TimeMap object will be instantiated and called as such:\n",
    "# obj = TimeMap()\n",
    "# obj.set(key,value,timestamp)\n",
    "# param_2 = obj.get(key,timestamp)"
   ]
  },
  {
   "cell_type": "markdown",
   "metadata": {},
   "source": [
    "# Verification"
   ]
  },
  {
   "cell_type": "code",
   "execution_count": 9,
   "metadata": {},
   "outputs": [
    {
     "name": "stdout",
     "output_type": "stream",
     "text": [
      "Input:    (['TimeMap', 'set', 'get', 'get', 'set', 'get', 'get'], [[], ['foo', 'bar', 1], ['foo', 1], ['foo', 3], ['foo', 'bar2', 4], ['foo', 4], ['foo', 5]])\n",
      "Output:   [None, None, 'bar', 'bar', None, 'bar2', 'bar2']\n",
      "Expected: [None, None, 'bar', 'bar', None, 'bar2', 'bar2']\n",
      "\n",
      "Input:    (['TimeMap', 'set', 'set', 'get', 'get', 'get', 'get', 'get'], [[], ['love', 'high', 10], ['love', 'low', 20], ['love', 5], ['love', 10], ['love', 15], ['love', 20], ['love', 25]])\n",
      "Output:   [None, None, 'bar', 'bar', None, 'bar2', 'bar2', None, None, '', 'high', 'high', 'low', 'low']\n",
      "Expected: [None, None, None, '', 'high', 'high', 'low', 'low']\n",
      "\n"
     ]
    }
   ],
   "source": [
    "testcases = [([\"TimeMap\",\"set\",\"get\",\"get\",\"set\",\"get\",\"get\"],[[],[\"foo\",\"bar\",1],[\"foo\",1],[\"foo\",3],[\"foo\",\"bar2\",4],[\"foo\",4],[\"foo\",5]]),([\"TimeMap\",\"set\",\"set\",\"get\",\"get\",\"get\",\"get\",\"get\"],[[],[\"love\",\"high\",10],[\"love\",\"low\",20],[\"love\",5],[\"love\",10],[\"love\",15],[\"love\",20],[\"love\",25]])]\n",
    "expected = [[None,None,\"bar\",\"bar\",None,\"bar2\",\"bar2\"],[None,None,None,\"\",\"high\",\"high\",\"low\",\"low\"]]\n",
    "\n",
    "#testcases = testcases[:1]\n",
    "#expected = expected[:1]\n",
    "\n",
    "outputs = [None]\n",
    "#sol = Solution();\n",
    "\n",
    "for case in zip(testcases, expected):\n",
    "    print(\"Input:    \" + str(case[0]))\n",
    "    tm = TimeMap()\n",
    "    for i in range(1, len(case[0][0])):\n",
    "        params = case[0][1][i]\n",
    "        if case[0][0][i] == \"set\":\n",
    "            outputs.append(tm.set(params[0], params[1], params[2]))\n",
    "        if case[0][0][i] == \"get\":\n",
    "            outputs.append(tm.get(params[0], params[1]))\n",
    "    print(\"Output:   \" + str(outputs))\n",
    "    print(\"Expected: \" + str(case[1]) + \"\\n\")"
   ]
  }
 ],
 "metadata": {
  "kernelspec": {
   "display_name": "Python 3",
   "language": "python",
   "name": "python3"
  },
  "language_info": {
   "codemirror_mode": {
    "name": "ipython",
    "version": 3
   },
   "file_extension": ".py",
   "mimetype": "text/x-python",
   "name": "python",
   "nbconvert_exporter": "python",
   "pygments_lexer": "ipython3",
   "version": "3.7.3"
  }
 },
 "nbformat": 4,
 "nbformat_minor": 2
}
