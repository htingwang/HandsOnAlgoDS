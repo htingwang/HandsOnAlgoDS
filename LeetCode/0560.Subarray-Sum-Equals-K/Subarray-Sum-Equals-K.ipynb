{
 "cells": [
  {
   "cell_type": "markdown",
   "metadata": {},
   "source": [
    "# 560. Subarray Sum Equals K\n",
    "#### https://leetcode.com/problems/subarray-sum-equals-k/"
   ]
  },
  {
   "cell_type": "markdown",
   "metadata": {},
   "source": [
    "# Approach 1: Hash Table + Prefix Sum"
   ]
  },
  {
   "cell_type": "code",
   "execution_count": 2,
   "metadata": {},
   "outputs": [],
   "source": [
    "import collections\n",
    "class Solution(object):\n",
    "    def subarraySum(self, nums, k):\n",
    "        \"\"\"\n",
    "        :type nums: List[int]\n",
    "        :type k: int\n",
    "        :rtype: int\n",
    "        \"\"\"\n",
    "        n = len(nums)\n",
    "        prefix_sum = [0] * (n + 1)\n",
    "        for i in range(n):\n",
    "            prefix_sum[i + 1] = prefix_sum[i] + nums[i]\n",
    "        res = 0    \n",
    "        count = collections.defaultdict(int) \n",
    "        for i in range(n + 1):\n",
    "            if prefix_sum[i] - k in count:\n",
    "                res += count[prefix_sum[i] - k]\n",
    "            count[prefix_sum[i]] += 1\n",
    "        return res"
   ]
  },
  {
   "cell_type": "markdown",
   "metadata": {},
   "source": [
    "# Verification"
   ]
  },
  {
   "cell_type": "code",
   "execution_count": 3,
   "metadata": {},
   "outputs": [
    {
     "name": "stdout",
     "output_type": "stream",
     "text": [
      "Input:    ([1, 1, 1], 2)\n",
      "Output:   2\n",
      "Expected: 2\n",
      "\n"
     ]
    }
   ],
   "source": [
    "testcases = [([1,1,1],2)]\n",
    "expected = [2]\n",
    "\n",
    "outputs = []\n",
    "sol = Solution();\n",
    "\n",
    "for case in zip(testcases, expected):\n",
    "    print(\"Input:    \" + str(case[0]))\n",
    "    print(\"Output:   \" + str(sol.subarraySum(case[0][0],case[0][1])))\n",
    "    print(\"Expected: \" + str(case[1]) + \"\\n\")"
   ]
  }
 ],
 "metadata": {
  "kernelspec": {
   "display_name": "Python 3",
   "language": "python",
   "name": "python3"
  },
  "language_info": {
   "codemirror_mode": {
    "name": "ipython",
    "version": 3
   },
   "file_extension": ".py",
   "mimetype": "text/x-python",
   "name": "python",
   "nbconvert_exporter": "python",
   "pygments_lexer": "ipython3",
   "version": "3.7.3"
  }
 },
 "nbformat": 4,
 "nbformat_minor": 2
}
