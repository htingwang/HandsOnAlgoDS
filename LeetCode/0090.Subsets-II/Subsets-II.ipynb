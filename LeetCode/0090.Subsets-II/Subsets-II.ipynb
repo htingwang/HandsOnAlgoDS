{
 "cells": [
  {
   "cell_type": "markdown",
   "metadata": {},
   "source": [
    "# 90. Subsets II\n",
    "#### https://leetcode.com/problems/subsets-ii/"
   ]
  },
  {
   "cell_type": "markdown",
   "metadata": {},
   "source": [
    "# Approach 1: Iteration"
   ]
  },
  {
   "cell_type": "code",
   "execution_count": 22,
   "metadata": {},
   "outputs": [],
   "source": [
    "class Solution(object):\n",
    "    def subsetsWithDup(self, nums):\n",
    "        \"\"\"\n",
    "        :type nums: List[int]\n",
    "        :rtype: List[List[int]]\n",
    "        \"\"\"\n",
    "        \n",
    "        res = [[]]\n",
    "        nums.sort()\n",
    "        last = nums[0]\n",
    "        last_count = 1\n",
    "        for num in nums:\n",
    "            if num != last:\n",
    "                last = num\n",
    "                last_count = len(res)\n",
    "            count = len(res)\n",
    "            for i in range(count - last_count, count):\n",
    "                cur = list(res[i])\n",
    "                cur.append(num)\n",
    "                res.append(cur)\n",
    "        return res"
   ]
  },
  {
   "cell_type": "markdown",
   "metadata": {},
   "source": [
    "# Approach 2: DFS"
   ]
  },
  {
   "cell_type": "code",
   "execution_count": 18,
   "metadata": {},
   "outputs": [],
   "source": [
    "class Solution(object):\n",
    "    def subsetsWithDup(self, nums):\n",
    "        \"\"\"\n",
    "        :type nums: List[int]\n",
    "        :rtype: List[List[int]]\n",
    "        \"\"\"\n",
    "        \n",
    "        res = []\n",
    "        cur = []\n",
    "        nums.sort()\n",
    "        self.dfs(nums, 0, cur, res)\n",
    "        return res\n",
    "    \n",
    "    def dfs(self, nums, start, cur, res):\n",
    "        res.append(list(cur))\n",
    "        i = start\n",
    "        while i < len(nums):\n",
    "            print(i, start)\n",
    "            cur.append(nums[i])\n",
    "            self.dfs(nums, i + 1, cur, res)\n",
    "            cur.pop()\n",
    "            while i + 1 < len(nums) and nums[i] == nums[i + 1]:\n",
    "                i += 1\n",
    "            i += 1"
   ]
  },
  {
   "cell_type": "markdown",
   "metadata": {},
   "source": [
    "# Verification"
   ]
  },
  {
   "cell_type": "code",
   "execution_count": 23,
   "metadata": {},
   "outputs": [
    {
     "name": "stdout",
     "output_type": "stream",
     "text": [
      "Input:    [1, 2, 2]\n",
      "Output:   [[], [1], [2], [1, 2], [2, 2], [1, 2, 2]]\n",
      "Expected: [[2], [1], [1, 2, 2], [2, 2], [1, 2], []]\n",
      "\n"
     ]
    }
   ],
   "source": [
    "testcases = [[1,2,2]]\n",
    "expected = [[\n",
    "  [2],\n",
    "  [1],\n",
    "  [1,2,2],\n",
    "  [2,2],\n",
    "  [1,2],\n",
    "  []\n",
    "]]\n",
    "\n",
    "outputs = []\n",
    "sol = Solution();\n",
    "\n",
    "for case in zip(testcases, expected):\n",
    "    print(\"Input:    \" + str(case[0]))\n",
    "    print(\"Output:   \" + str(sol.subsetsWithDup(case[0])))\n",
    "    print(\"Expected: \" + str(case[1]) + \"\\n\")"
   ]
  }
 ],
 "metadata": {
  "kernelspec": {
   "display_name": "Python 3",
   "language": "python",
   "name": "python3"
  },
  "language_info": {
   "codemirror_mode": {
    "name": "ipython",
    "version": 3
   },
   "file_extension": ".py",
   "mimetype": "text/x-python",
   "name": "python",
   "nbconvert_exporter": "python",
   "pygments_lexer": "ipython3",
   "version": "3.7.3"
  }
 },
 "nbformat": 4,
 "nbformat_minor": 2
}
