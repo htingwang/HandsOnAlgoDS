{
 "cells": [
  {
   "cell_type": "markdown",
   "metadata": {},
   "source": [
    "# 1218. Longest Arithmetic Subsequence of Given Difference\n",
    "#### https://leetcode.com/problems/longest-arithmetic-subsequence-of-given-difference/"
   ]
  },
  {
   "cell_type": "markdown",
   "metadata": {},
   "source": [
    "# Approach 1"
   ]
  },
  {
   "cell_type": "code",
   "execution_count": 3,
   "metadata": {},
   "outputs": [],
   "source": [
    "import collections\n",
    "class Solution(object):\n",
    "    def longestSubsequence(self, arr, difference):\n",
    "        \"\"\"\n",
    "        :type arr: List[int]\n",
    "        :type difference: int\n",
    "        :rtype: int\n",
    "        \"\"\"\n",
    "        num_to_idx = collections.defaultdict(list)\n",
    "        num_to_idx[arr[0]].append(0)\n",
    "        \n",
    "        res = 1\n",
    "        dp = [1] * (len(arr))\n",
    "        for i in range(1, len(arr)):\n",
    "            target = arr[i] - difference\n",
    "            if target in num_to_idx:    \n",
    "                dp[i] = dp[num_to_idx[target][-1]] + 1\n",
    "                res = max(res, dp[i])\n",
    "            num_to_idx[arr[i]].append(i)\n",
    "\n",
    "        return res"
   ]
  },
  {
   "cell_type": "markdown",
   "metadata": {},
   "source": [
    "# Verification"
   ]
  },
  {
   "cell_type": "code",
   "execution_count": 4,
   "metadata": {},
   "outputs": [
    {
     "name": "stdout",
     "output_type": "stream",
     "text": [
      "Input:    ([1, 2, 3, 4], 1)\n",
      "Output:   4\n",
      "Expected: 4\n",
      "\n",
      "Input:    ([1, 3, 5, 7], 1)\n",
      "Output:   1\n",
      "Expected: 1\n",
      "\n",
      "Input:    ([1, 5, 7, 8, 5, 3, 4, 2, 1], -2)\n",
      "Output:   4\n",
      "Expected: 4\n",
      "\n"
     ]
    }
   ],
   "source": [
    "testcases = [([1,2,3,4],1),([1,3,5,7],1),([1,5,7,8,5,3,4,2,1],-2)]\n",
    "expected = [4,1,4]\n",
    "\n",
    "outputs = []\n",
    "sol = Solution();\n",
    "\n",
    "for case in zip(testcases, expected):\n",
    "    print(\"Input:    \" + str(case[0]))\n",
    "    print(\"Output:   \" + str(sol.longestSubsequence(case[0][0],case[0][1])))\n",
    "    print(\"Expected: \" + str(case[1]) + \"\\n\")"
   ]
  }
 ],
 "metadata": {
  "kernelspec": {
   "display_name": "Python 3",
   "language": "python",
   "name": "python3"
  },
  "language_info": {
   "codemirror_mode": {
    "name": "ipython",
    "version": 3
   },
   "file_extension": ".py",
   "mimetype": "text/x-python",
   "name": "python",
   "nbconvert_exporter": "python",
   "pygments_lexer": "ipython3",
   "version": "3.7.3"
  }
 },
 "nbformat": 4,
 "nbformat_minor": 2
}
