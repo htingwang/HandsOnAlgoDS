{
 "cells": [
  {
   "cell_type": "markdown",
   "metadata": {},
   "source": [
    "# 1027. Longest Arithmetic Sequence\n",
    "#### https://leetcode.com/problems/longest-arithmetic-sequence/"
   ]
  },
  {
   "cell_type": "markdown",
   "metadata": {},
   "source": [
    "# Approach 1: Dynamic Programming"
   ]
  },
  {
   "cell_type": "code",
   "execution_count": 1,
   "metadata": {},
   "outputs": [],
   "source": [
    "import collections\n",
    "class Solution(object):\n",
    "    def longestArithSeqLength(self, A):\n",
    "        \"\"\"\n",
    "        :type A: List[int]\n",
    "        :rtype: int\n",
    "        \"\"\"\n",
    "        res = 0\n",
    "        dp = [collections.defaultdict(int) for _ in range(len(A))]\n",
    "        for i in range(len(A) - 1):\n",
    "            for j in range(i + 1, len(A)):\n",
    "                diff = A[j] - A[i]\n",
    "                dp[j][diff] = dp[i][diff] + 1\n",
    "                res = max(res, dp[j][diff] + 1)\n",
    "        return res"
   ]
  },
  {
   "cell_type": "markdown",
   "metadata": {},
   "source": [
    "# Verification"
   ]
  },
  {
   "cell_type": "code",
   "execution_count": 3,
   "metadata": {},
   "outputs": [
    {
     "name": "stdout",
     "output_type": "stream",
     "text": [
      "Input:    [3, 6, 9, 12]\n",
      "Output:   4\n",
      "Expected: 4\n",
      "\n",
      "Input:    [9, 4, 7, 2, 10]\n",
      "Output:   3\n",
      "Expected: 3\n",
      "\n",
      "Input:    [20, 1, 15, 3, 10, 5, 8]\n",
      "Output:   4\n",
      "Expected: 4\n",
      "\n"
     ]
    }
   ],
   "source": [
    "testcases = [[3,6,9,12],[9,4,7,2,10],[20,1,15,3,10,5,8]]\n",
    "expected = [4,3,4]\n",
    "\n",
    "outputs = []\n",
    "sol = Solution();\n",
    "\n",
    "for case in zip(testcases, expected):\n",
    "    print(\"Input:    \" + str(case[0]))\n",
    "    print(\"Output:   \" + str(sol.longestArithSeqLength(case[0])))\n",
    "    print(\"Expected: \" + str(case[1]) + \"\\n\")"
   ]
  }
 ],
 "metadata": {
  "kernelspec": {
   "display_name": "Python 3",
   "language": "python",
   "name": "python3"
  },
  "language_info": {
   "codemirror_mode": {
    "name": "ipython",
    "version": 3
   },
   "file_extension": ".py",
   "mimetype": "text/x-python",
   "name": "python",
   "nbconvert_exporter": "python",
   "pygments_lexer": "ipython3",
   "version": "3.7.3"
  }
 },
 "nbformat": 4,
 "nbformat_minor": 2
}
