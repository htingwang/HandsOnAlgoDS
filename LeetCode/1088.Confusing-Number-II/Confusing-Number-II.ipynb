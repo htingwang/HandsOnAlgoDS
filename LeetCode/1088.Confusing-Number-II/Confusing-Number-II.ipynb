{
 "cells": [
  {
   "cell_type": "markdown",
   "metadata": {},
   "source": [
    "# 1088. Confusing Number II\n",
    "#### https://leetcode.com/problems/confusing-number-ii/"
   ]
  },
  {
   "cell_type": "markdown",
   "metadata": {},
   "source": [
    "# Approach 1"
   ]
  },
  {
   "cell_type": "code",
   "execution_count": 1,
   "metadata": {},
   "outputs": [],
   "source": [
    "class Solution(object):\n",
    "    def confusingNumberII(self, N):\n",
    "        \"\"\"\n",
    "        :type N: int\n",
    "        :rtype: int\n",
    "        \"\"\"\n",
    "        maps = {\"0\":\"0\", \"1\":\"1\", \"6\":\"9\", \"8\":\"8\", \"9\":\"6\"}\n",
    "        res = options = [\"0\", \"1\", \"6\", \"8\", \"9\"]\n",
    "        digit = len(str(N)) - 1\n",
    "        for _ in range(min(digit, 8)):\n",
    "            res = [ j + i for j in res for i in options]\n",
    "        cnt = 0\n",
    "        if N == 1000000000: cnt = 1\n",
    "        \n",
    "        for num in res:\n",
    "            if int(num) > N: break\n",
    "            if self.check(num, maps): cnt += 1\n",
    "        return cnt\n",
    "    \n",
    "    def check(self, num, maps):\n",
    "        num = num.lstrip(\"0\")\n",
    "        left, right = 0, len(num) - 1\n",
    "        while left < right:\n",
    "            if maps[num[left]] != num[right]:\n",
    "                return True\n",
    "            left += 1\n",
    "            right -= 1\n",
    "        if left == right and (num[left] == \"6\" or num[right] == \"9\"):\n",
    "            return True\n",
    "        return False"
   ]
  },
  {
   "cell_type": "markdown",
   "metadata": {},
   "source": [
    "# Verification"
   ]
  },
  {
   "cell_type": "code",
   "execution_count": 2,
   "metadata": {},
   "outputs": [
    {
     "name": "stdout",
     "output_type": "stream",
     "text": [
      "Input:    20\n",
      "Output:   6\n",
      "Expected: 6\n",
      "\n",
      "Input:    100\n",
      "Output:   19\n",
      "Expected: 19\n",
      "\n",
      "Input:    1000000000\n",
      "Output:   1950627\n",
      "Expected: 1950627\n",
      "\n"
     ]
    }
   ],
   "source": [
    "testcases = [20,100,1000000000]\n",
    "expected = [6,19,1950627]\n",
    "\n",
    "outputs = []\n",
    "sol = Solution();\n",
    "\n",
    "for case in zip(testcases, expected):\n",
    "    print(\"Input:    \" + str(case[0]))\n",
    "    print(\"Output:   \" + str(sol.confusingNumberII(case[0])))\n",
    "    print(\"Expected: \" + str(case[1]) + \"\\n\")"
   ]
  }
 ],
 "metadata": {
  "kernelspec": {
   "display_name": "Python 3",
   "language": "python",
   "name": "python3"
  },
  "language_info": {
   "codemirror_mode": {
    "name": "ipython",
    "version": 3
   },
   "file_extension": ".py",
   "mimetype": "text/x-python",
   "name": "python",
   "nbconvert_exporter": "python",
   "pygments_lexer": "ipython3",
   "version": "3.7.3"
  }
 },
 "nbformat": 4,
 "nbformat_minor": 2
}
