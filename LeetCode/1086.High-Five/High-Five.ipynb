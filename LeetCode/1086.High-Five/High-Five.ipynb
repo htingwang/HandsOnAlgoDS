{
 "cells": [
  {
   "cell_type": "markdown",
   "metadata": {},
   "source": [
    "# 1086. High Five\n",
    "#### https://leetcode.com/problems/high-five/"
   ]
  },
  {
   "cell_type": "markdown",
   "metadata": {},
   "source": [
    "# Approach 1"
   ]
  },
  {
   "cell_type": "code",
   "execution_count": 1,
   "metadata": {},
   "outputs": [],
   "source": [
    "import functools\n",
    "class Solution(object):\n",
    "    def highFive(self, items):\n",
    "        \"\"\"\n",
    "        :type items: List[List[int]]\n",
    "        :rtype: List[List[int]]\n",
    "        \"\"\"\n",
    "        def comp(a, b):\n",
    "            if a[0] != b[0]: return a[0] - b[0]\n",
    "            return b[1] - a[1]\n",
    "        items.sort(key=functools.cmp_to_key(comp))\n",
    "        cnt = score = 0\n",
    "        pre_id = -1\n",
    "        res = []\n",
    "        for item in items:\n",
    "            if item[0] == pre_id: continue\n",
    "            cnt += 1\n",
    "            score += item[1]\n",
    "            if cnt == 5:\n",
    "                res.append([item[0], score // 5])\n",
    "                cnt = score = 0\n",
    "                pre_id = item[0]\n",
    "        return res"
   ]
  },
  {
   "cell_type": "markdown",
   "metadata": {},
   "source": [
    "# Verification"
   ]
  },
  {
   "cell_type": "code",
   "execution_count": 2,
   "metadata": {},
   "outputs": [
    {
     "name": "stdout",
     "output_type": "stream",
     "text": [
      "Input:    [[1, 91], [1, 92], [2, 93], [2, 97], [1, 60], [2, 77], [1, 65], [1, 87], [1, 100], [2, 100], [2, 76]]\n",
      "Output:   [[1, 87], [2, 88]]\n",
      "Expected: [[1, 87], [2, 88]]\n",
      "\n"
     ]
    }
   ],
   "source": [
    "testcases = [[[1,91],[1,92],[2,93],[2,97],[1,60],[2,77],[1,65],[1,87],[1,100],[2,100],[2,76]]]\n",
    "expected = [[[1,87],[2,88]]]\n",
    "\n",
    "outputs = []\n",
    "sol = Solution();\n",
    "\n",
    "for case in zip(testcases, expected):\n",
    "    print(\"Input:    \" + str(case[0]))\n",
    "    print(\"Output:   \" + str(sol.highFive(case[0])))\n",
    "    print(\"Expected: \" + str(case[1]) + \"\\n\")"
   ]
  }
 ],
 "metadata": {
  "kernelspec": {
   "display_name": "Python 3",
   "language": "python",
   "name": "python3"
  },
  "language_info": {
   "codemirror_mode": {
    "name": "ipython",
    "version": 3
   },
   "file_extension": ".py",
   "mimetype": "text/x-python",
   "name": "python",
   "nbconvert_exporter": "python",
   "pygments_lexer": "ipython3",
   "version": "3.7.3"
  }
 },
 "nbformat": 4,
 "nbformat_minor": 2
}
